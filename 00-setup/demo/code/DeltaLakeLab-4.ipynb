{
 "cells": [
  {
   "cell_type": "markdown",
   "id": "4529a790-8425-4600-841a-4b094b82eaa8",
   "metadata": {},
   "source": [
    "# Delta Lake Lab \n",
    "## Unit 4: CRUD Support\n",
    "\n",
    "This lab is powered by Dataproc Serverless Spark.\n",
    "\n",
    "In the previous unit, we -\n",
    "1. Create an unpartitioned delta table\n",
    "2. Created a partitioned delta table called loan_db.loans_by_state_delta\n",
    "3. Studied the files created & layout in the datalake\n",
    "4. Learned how to look at delta table details\n",
    "5. Looked at history (there was not any)\n",
    "6. Created a manifest file\n",
    "7. Reviewed entries in the Hive metastore\n",
    "\n",
    "In this unit, we will learn how to -\n",
    "1. Delete a record and study the delta log\n",
    "2. Insert a record and study the delta log\n",
    "3. Update a record and study the delta log\n",
    "4. Upsert and study the delta log"
   ]
  },
  {
   "cell_type": "markdown",
   "id": "1a31c4fd-d465-4f52-8e56-3775bf499abc",
   "metadata": {},
   "source": [
    "### 1. Imports"
   ]
  },
  {
   "cell_type": "code",
   "execution_count": 3,
   "id": "1321bce9-178c-4065-8187-0a5728c1a370",
   "metadata": {},
   "outputs": [],
   "source": [
    "import pandas as pd\n",
    "\n",
    "from pyspark.sql.functions import month, date_format\n",
    "from pyspark.sql.types import IntegerType\n",
    "from pyspark.sql import SparkSession\n",
    "\n",
    "from delta.tables import *\n",
    "\n",
    "import warnings\n",
    "warnings.filterwarnings('ignore')"
   ]
  },
  {
   "cell_type": "markdown",
   "id": "ed295a74-ed1d-4b5d-831a-1b5dcf73c36f",
   "metadata": {},
   "source": [
    "### 2. Create a Spark session powered by Cloud Dataproc "
   ]
  },
  {
   "cell_type": "code",
   "execution_count": 4,
   "id": "b383d5ab-a0b9-45ab-a232-34d88f2a0065",
   "metadata": {},
   "outputs": [
    {
     "name": "stderr",
     "output_type": "stream",
     "text": [
      "22/10/22 23:34:31 WARN SparkSession: Using an existing Spark session; only runtime SQL configurations will take effect.\n"
     ]
    },
    {
     "data": {
      "text/html": [
       "\n",
       "            <div>\n",
       "                <p><b>SparkSession - hive</b></p>\n",
       "                \n",
       "        <div>\n",
       "            <p><b>SparkContext</b></p>\n",
       "\n",
       "            <p><a href=\"http://gdpic-srvls-session-cb959c82-1002-4915-aed8-85c83d4e81f4-m.us-central1-a.c.delta-lake-lab.internal:4040\">Spark UI</a></p>\n",
       "\n",
       "            <dl>\n",
       "              <dt>Version</dt>\n",
       "                <dd><code>v3.3.0</code></dd>\n",
       "              <dt>Master</dt>\n",
       "                <dd><code>spark://gdpic-srvls-session-cb959c82-1002-4915-aed8-85c83d4e81f4-m:7077</code></dd>\n",
       "              <dt>AppName</dt>\n",
       "                <dd><code>PySparkShell</code></dd>\n",
       "            </dl>\n",
       "        </div>\n",
       "        \n",
       "            </div>\n",
       "        "
      ],
      "text/plain": [
       "<pyspark.sql.session.SparkSession at 0x7f8483638160>"
      ]
     },
     "execution_count": 4,
     "metadata": {},
     "output_type": "execute_result"
    }
   ],
   "source": [
    "spark = SparkSession.builder.appName('Loan Analysis').getOrCreate()\n",
    "spark"
   ]
  },
  {
   "cell_type": "markdown",
   "id": "63cd13e6-f3f5-4f2c-b4fc-d7e2660c6206",
   "metadata": {},
   "source": [
    "### 3. Declare variables"
   ]
  },
  {
   "cell_type": "code",
   "execution_count": 5,
   "id": "5596e31b-749a-4702-8879-6f05f9ff0c2d",
   "metadata": {},
   "outputs": [
    {
     "name": "stdout",
     "output_type": "stream",
     "text": [
      "PROJECT_ID:  delta-lake-lab\n"
     ]
    }
   ],
   "source": [
    "project_id_output = !gcloud config list --format \"value(core.project)\" 2>/dev/null\n",
    "PROJECT_ID = project_id_output[0]\n",
    "print(\"PROJECT_ID: \", PROJECT_ID)"
   ]
  },
  {
   "cell_type": "code",
   "execution_count": 6,
   "id": "471c6743-a058-462b-851a-f34323f36243",
   "metadata": {},
   "outputs": [
    {
     "name": "stdout",
     "output_type": "stream",
     "text": [
      "PROJECT_NAME:  delta-lake-lab\n"
     ]
    }
   ],
   "source": [
    "project_name_output = !gcloud projects describe $PROJECT_ID | grep name | cut -d':' -f2 | xargs\n",
    "PROJECT_NAME = project_name_output[0]\n",
    "print(\"PROJECT_NAME: \", PROJECT_NAME)"
   ]
  },
  {
   "cell_type": "code",
   "execution_count": 7,
   "id": "61929dc6-a083-433c-8a13-3d39d9c4a4a1",
   "metadata": {},
   "outputs": [
    {
     "name": "stdout",
     "output_type": "stream",
     "text": [
      "PROJECT_NUMBER:  885979867746\n"
     ]
    }
   ],
   "source": [
    "project_number_output = !gcloud projects describe $PROJECT_ID | grep projectNumber | cut -d':' -f2 | xargs\n",
    "PROJECT_NUMBER = project_number_output[0]\n",
    "print(\"PROJECT_NUMBER: \", PROJECT_NUMBER)"
   ]
  },
  {
   "cell_type": "code",
   "execution_count": 8,
   "id": "f8b79fd2-5243-41a4-ae87-e7f9dd87cf20",
   "metadata": {},
   "outputs": [],
   "source": [
    "DATA_LAKE_ROOT_PATH= f\"gs://dll-data-bucket-{PROJECT_NUMBER}\"\n",
    "DELTA_LAKE_DIR_ROOT = f\"{DATA_LAKE_ROOT_PATH}/delta-consumable\""
   ]
  },
  {
   "cell_type": "code",
   "execution_count": 9,
   "id": "97b70135-a0e3-4f5b-a917-086775bc2d49",
   "metadata": {},
   "outputs": [
    {
     "name": "stdout",
     "output_type": "stream",
     "text": [
      "gs://dll-data-bucket-885979867746/delta-consumable/:\n",
      "gs://dll-data-bucket-885979867746/delta-consumable/part-00000-595b5ba1-408f-404d-91ee-7bc396235870-c000.snappy.parquet\n",
      "\n",
      "gs://dll-data-bucket-885979867746/delta-consumable/_delta_log/:\n",
      "gs://dll-data-bucket-885979867746/delta-consumable/_delta_log/\n",
      "gs://dll-data-bucket-885979867746/delta-consumable/_delta_log/00000000000000000000.json\n",
      "\n",
      "gs://dll-data-bucket-885979867746/delta-consumable/_symlink_format_manifest/:\n",
      "gs://dll-data-bucket-885979867746/delta-consumable/_symlink_format_manifest/\n",
      "gs://dll-data-bucket-885979867746/delta-consumable/_symlink_format_manifest/manifest\n"
     ]
    }
   ],
   "source": [
    "!gsutil ls -r $DELTA_LAKE_DIR_ROOT"
   ]
  },
  {
   "cell_type": "markdown",
   "id": "ed74d358-e90b-46d0-b81c-1e29c25ccac5",
   "metadata": {},
   "source": [
    "### 4. Delete support"
   ]
  },
  {
   "cell_type": "code",
   "execution_count": 10,
   "id": "0bcc3cf8-6ecf-4efe-855d-b564401317bc",
   "metadata": {},
   "outputs": [
    {
     "name": "stderr",
     "output_type": "stream",
     "text": [
      "ivysettings.xml file not found in HIVE_HOME or HIVE_CONF_DIR,/etc/spark/conf/ivysettings.xml will be used\n",
      "[Stage 8:>                                                          (0 + 1) / 1]\r"
     ]
    },
    {
     "name": "stdout",
     "output_type": "stream",
     "text": [
      "+----------+-----+\n",
      "|addr_state|count|\n",
      "+----------+-----+\n",
      "|        IA|    1|\n",
      "+----------+-----+\n",
      "\n"
     ]
    },
    {
     "name": "stderr",
     "output_type": "stream",
     "text": [
      "                                                                                \r"
     ]
    }
   ],
   "source": [
    "spark.sql(\"SELECT * FROM loan_db.loans_by_state_delta WHERE addr_state='IA'\").show()"
   ]
  },
  {
   "cell_type": "code",
   "execution_count": 11,
   "id": "1f7f5fb8-70cc-4a36-be78-9158c74ff165",
   "metadata": {},
   "outputs": [
    {
     "name": "stderr",
     "output_type": "stream",
     "text": [
      "                                                                                \r"
     ]
    },
    {
     "data": {
      "text/plain": [
       "DataFrame[num_affected_rows: bigint]"
      ]
     },
     "execution_count": 11,
     "metadata": {},
     "output_type": "execute_result"
    }
   ],
   "source": [
    "spark.sql(\"DELETE FROM loan_db.loans_by_state_delta WHERE addr_state='IA'\")"
   ]
  },
  {
   "cell_type": "code",
   "execution_count": 12,
   "id": "fe5fe9c6-bcb7-4b28-b989-cd8dac4df38d",
   "metadata": {},
   "outputs": [
    {
     "name": "stdout",
     "output_type": "stream",
     "text": [
      "+----------+-----+\n",
      "|addr_state|count|\n",
      "+----------+-----+\n",
      "+----------+-----+\n",
      "\n"
     ]
    }
   ],
   "source": [
    "spark.sql(\"SELECT * FROM loan_db.loans_by_state_delta WHERE addr_state='IA'\").show()"
   ]
  },
  {
   "cell_type": "markdown",
   "id": "cf842fbf-a46f-45ad-9c38-5688c4433c90",
   "metadata": {},
   "source": [
    "Lets look at the data lake:"
   ]
  },
  {
   "cell_type": "code",
   "execution_count": 13,
   "id": "4acb8cb3-3843-46f5-89d7-986eb1f465a9",
   "metadata": {},
   "outputs": [
    {
     "name": "stdout",
     "output_type": "stream",
     "text": [
      "gs://dll-data-bucket-885979867746/delta-consumable/:\n",
      "gs://dll-data-bucket-885979867746/delta-consumable/part-00000-595b5ba1-408f-404d-91ee-7bc396235870-c000.snappy.parquet\n",
      "gs://dll-data-bucket-885979867746/delta-consumable/part-00000-8572a416-efe4-47bf-ab8b-755973ae5a7a-c000.snappy.parquet\n",
      "\n",
      "gs://dll-data-bucket-885979867746/delta-consumable/_delta_log/:\n",
      "gs://dll-data-bucket-885979867746/delta-consumable/_delta_log/\n",
      "gs://dll-data-bucket-885979867746/delta-consumable/_delta_log/00000000000000000000.json\n",
      "gs://dll-data-bucket-885979867746/delta-consumable/_delta_log/00000000000000000001.json\n",
      "\n",
      "gs://dll-data-bucket-885979867746/delta-consumable/_symlink_format_manifest/:\n",
      "gs://dll-data-bucket-885979867746/delta-consumable/_symlink_format_manifest/\n",
      "gs://dll-data-bucket-885979867746/delta-consumable/_symlink_format_manifest/manifest\n"
     ]
    }
   ],
   "source": [
    "# Note how the deleted created a json in the delta log directory\n",
    "!gsutil ls -r $DELTA_LAKE_DIR_ROOT "
   ]
  },
  {
   "cell_type": "markdown",
   "id": "ee8dcb5b-dd48-48c8-b074-198f2ed364e1",
   "metadata": {},
   "source": [
    "Lets look at the delta log:"
   ]
  },
  {
   "cell_type": "code",
   "execution_count": 14,
   "id": "c5a5ab84-29d6-4ffb-a59d-dd5d0b1a82f2",
   "metadata": {},
   "outputs": [
    {
     "name": "stdout",
     "output_type": "stream",
     "text": [
      "{\"protocol\":{\"minReaderVersion\":1,\"minWriterVersion\":2}}\n",
      "{\"metaData\":{\"id\":\"56ed94c0-271d-4a3f-b076-4a0aca50c945\",\"format\":{\"provider\":\"parquet\",\"options\":{}},\"schemaString\":\"{\\\"type\\\":\\\"struct\\\",\\\"fields\\\":[{\\\"name\\\":\\\"addr_state\\\",\\\"type\\\":\\\"string\\\",\\\"nullable\\\":true,\\\"metadata\\\":{}},{\\\"name\\\":\\\"count\\\",\\\"type\\\":\\\"long\\\",\\\"nullable\\\":true,\\\"metadata\\\":{}}]}\",\"partitionColumns\":[],\"configuration\":{},\"createdTime\":1666481414161}}\n",
      "{\"add\":{\"path\":\"part-00000-595b5ba1-408f-404d-91ee-7bc396235870-c000.snappy.parquet\",\"partitionValues\":{},\"size\":978,\"modificationTime\":1666481421062,\"dataChange\":true,\"stats\":\"{\\\"numRecords\\\":51,\\\"minValues\\\":{\\\"addr_state\\\":\\\"AK\\\",\\\"count\\\":1},\\\"maxValues\\\":{\\\"addr_state\\\":\\\"WY\\\",\\\"count\\\":1},\\\"nullCount\\\":{\\\"addr_state\\\":0,\\\"count\\\":0}}\"}}\n",
      "{\"commitInfo\":{\"timestamp\":1666481424546,\"operation\":\"WRITE\",\"operationParameters\":{\"mode\":\"Overwrite\",\"partitionBy\":\"[]\"},\"isolationLevel\":\"Serializable\",\"isBlindAppend\":false,\"operationMetrics\":{\"numFiles\":\"1\",\"numOutputRows\":\"51\",\"numOutputBytes\":\"978\"},\"engineInfo\":\"Apache-Spark/3.3.0 Delta-Lake/2.1.0\",\"txnId\":\"30f41e3f-3324-4d1b-afa7-27ce2209a038\"}}\n"
     ]
    }
   ],
   "source": [
    "# This is the original log\n",
    "!gsutil cat $DELTA_LAKE_DIR_ROOT/_delta_log/00000000000000000000.json "
   ]
  },
  {
   "cell_type": "code",
   "execution_count": 15,
   "id": "b20033b1-3de0-4ebc-abf2-80f60445db0d",
   "metadata": {},
   "outputs": [
    {
     "name": "stdout",
     "output_type": "stream",
     "text": [
      "{\"remove\":{\"path\":\"part-00000-595b5ba1-408f-404d-91ee-7bc396235870-c000.snappy.parquet\",\"deletionTimestamp\":1666481703134,\"dataChange\":true,\"extendedFileMetadata\":true,\"partitionValues\":{},\"size\":978}}\n",
      "{\"add\":{\"path\":\"part-00000-8572a416-efe4-47bf-ab8b-755973ae5a7a-c000.snappy.parquet\",\"partitionValues\":{},\"size\":973,\"modificationTime\":1666481702921,\"dataChange\":true,\"stats\":\"{\\\"numRecords\\\":50,\\\"minValues\\\":{\\\"addr_state\\\":\\\"AK\\\",\\\"count\\\":1},\\\"maxValues\\\":{\\\"addr_state\\\":\\\"WY\\\",\\\"count\\\":1},\\\"nullCount\\\":{\\\"addr_state\\\":0,\\\"count\\\":0}}\"}}\n",
      "{\"commitInfo\":{\"timestamp\":1666481703188,\"operation\":\"DELETE\",\"operationParameters\":{\"predicate\":\"[\\\"(spark_catalog.loan_db.loans_by_state_delta.addr_state = 'IA')\\\"]\"},\"readVersion\":0,\"isolationLevel\":\"Serializable\",\"isBlindAppend\":false,\"operationMetrics\":{\"numRemovedFiles\":\"1\",\"numCopiedRows\":\"50\",\"numAddedChangeFiles\":\"0\",\"executionTimeMs\":\"5049\",\"numAddedFiles\":\"1\",\"rewriteTimeMs\":\"1392\",\"numDeletedRows\":\"1\",\"scanTimeMs\":\"3656\"},\"engineInfo\":\"Apache-Spark/3.3.0 Delta-Lake/2.1.0\",\"txnId\":\"1fcef400-b38b-41e2-b3e4-9a1b692b67c8\"}}\n"
     ]
    }
   ],
   "source": [
    "# Note the delete in this log\n",
    "!gsutil cat $DELTA_LAKE_DIR_ROOT/_delta_log/00000000000000000001.json "
   ]
  },
  {
   "cell_type": "markdown",
   "id": "17581b81-035f-43b6-a4fa-48b55ce28c8c",
   "metadata": {},
   "source": [
    "### 5. Create (Insert) support"
   ]
  },
  {
   "cell_type": "code",
   "execution_count": 16,
   "id": "da4f7939-4668-4015-83eb-90209251ea03",
   "metadata": {},
   "outputs": [
    {
     "name": "stderr",
     "output_type": "stream",
     "text": [
      "                                                                                \r"
     ]
    },
    {
     "data": {
      "text/plain": [
       "DataFrame[]"
      ]
     },
     "execution_count": 16,
     "metadata": {},
     "output_type": "execute_result"
    }
   ],
   "source": [
    "spark.sql(\"INSERT INTO loan_db.loans_by_state_delta VALUES ('IA',222222)\")"
   ]
  },
  {
   "cell_type": "code",
   "execution_count": 17,
   "id": "e98a313e-98cf-43a6-b000-626c5f3672e1",
   "metadata": {},
   "outputs": [
    {
     "name": "stdout",
     "output_type": "stream",
     "text": [
      "+----------+------+\n",
      "|addr_state| count|\n",
      "+----------+------+\n",
      "|        IA|222222|\n",
      "+----------+------+\n",
      "\n"
     ]
    }
   ],
   "source": [
    "spark.sql(\"SELECT * FROM loan_db.loans_by_state_delta WHERE addr_state='IA'\").show()"
   ]
  },
  {
   "cell_type": "code",
   "execution_count": 18,
   "id": "90acbd73-975a-4911-8afc-50dec3e0d58a",
   "metadata": {},
   "outputs": [
    {
     "name": "stdout",
     "output_type": "stream",
     "text": [
      "gs://dll-data-bucket-885979867746/delta-consumable/:\n",
      "gs://dll-data-bucket-885979867746/delta-consumable/part-00000-293e9d10-a628-4cf0-b86c-f9f289913756-c000.snappy.parquet\n",
      "gs://dll-data-bucket-885979867746/delta-consumable/part-00000-595b5ba1-408f-404d-91ee-7bc396235870-c000.snappy.parquet\n",
      "gs://dll-data-bucket-885979867746/delta-consumable/part-00000-8572a416-efe4-47bf-ab8b-755973ae5a7a-c000.snappy.parquet\n",
      "\n",
      "gs://dll-data-bucket-885979867746/delta-consumable/_delta_log/:\n",
      "gs://dll-data-bucket-885979867746/delta-consumable/_delta_log/\n",
      "gs://dll-data-bucket-885979867746/delta-consumable/_delta_log/00000000000000000000.json\n",
      "gs://dll-data-bucket-885979867746/delta-consumable/_delta_log/00000000000000000001.json\n",
      "gs://dll-data-bucket-885979867746/delta-consumable/_delta_log/00000000000000000002.json\n",
      "\n",
      "gs://dll-data-bucket-885979867746/delta-consumable/_symlink_format_manifest/:\n",
      "gs://dll-data-bucket-885979867746/delta-consumable/_symlink_format_manifest/\n",
      "gs://dll-data-bucket-885979867746/delta-consumable/_symlink_format_manifest/manifest\n"
     ]
    }
   ],
   "source": [
    "# Note how the insert created a new parquet file and in the delta log, yet another json\n",
    "!gsutil ls -r $DELTA_LAKE_DIR_ROOT "
   ]
  },
  {
   "cell_type": "code",
   "execution_count": 19,
   "id": "61df7321-31bc-4705-a688-f0890908215c",
   "metadata": {},
   "outputs": [
    {
     "name": "stdout",
     "output_type": "stream",
     "text": [
      "{\"add\":{\"path\":\"part-00000-293e9d10-a628-4cf0-b86c-f9f289913756-c000.snappy.parquet\",\"partitionValues\":{},\"size\":725,\"modificationTime\":1666481715970,\"dataChange\":true,\"stats\":\"{\\\"numRecords\\\":1,\\\"minValues\\\":{\\\"addr_state\\\":\\\"IA\\\",\\\"count\\\":222222},\\\"maxValues\\\":{\\\"addr_state\\\":\\\"IA\\\",\\\"count\\\":222222},\\\"nullCount\\\":{\\\"addr_state\\\":0,\\\"count\\\":0}}\"}}\n",
      "{\"commitInfo\":{\"timestamp\":1666481716047,\"operation\":\"WRITE\",\"operationParameters\":{\"mode\":\"Append\",\"partitionBy\":\"[]\"},\"readVersion\":1,\"isolationLevel\":\"Serializable\",\"isBlindAppend\":true,\"operationMetrics\":{\"numFiles\":\"1\",\"numOutputRows\":\"1\",\"numOutputBytes\":\"725\"},\"engineInfo\":\"Apache-Spark/3.3.0 Delta-Lake/2.1.0\",\"txnId\":\"4bdefb3c-dcc0-43a7-bbd0-aecfa9e34468\"}}\n"
     ]
    }
   ],
   "source": [
    "# Lets check for the insert\n",
    "!gsutil cat $DELTA_LAKE_DIR_ROOT/_delta_log/00000000000000000002.json "
   ]
  },
  {
   "cell_type": "markdown",
   "id": "4b6cc873-426e-43e6-be17-545e667f2e87",
   "metadata": {},
   "source": [
    "### 6. Update support\n",
    "\n",
    "Lets update a record & see the changes in the delta log directory"
   ]
  },
  {
   "cell_type": "code",
   "execution_count": 20,
   "id": "16dcf766-cf76-4210-aa26-519fd91b9207",
   "metadata": {},
   "outputs": [
    {
     "name": "stderr",
     "output_type": "stream",
     "text": [
      "                                                                                \r"
     ]
    },
    {
     "data": {
      "text/plain": [
       "DataFrame[num_affected_rows: bigint]"
      ]
     },
     "execution_count": 20,
     "metadata": {},
     "output_type": "execute_result"
    }
   ],
   "source": [
    "spark.sql(\"UPDATE loan_db.loans_by_state_delta SET count = 11111 WHERE addr_state='IA'\")"
   ]
  },
  {
   "cell_type": "code",
   "execution_count": 21,
   "id": "9a56affe-a463-4835-a45a-51cbdeda8f20",
   "metadata": {},
   "outputs": [
    {
     "name": "stdout",
     "output_type": "stream",
     "text": [
      "+----------+-----+\n",
      "|addr_state|count|\n",
      "+----------+-----+\n",
      "|        IA|11111|\n",
      "+----------+-----+\n",
      "\n"
     ]
    }
   ],
   "source": [
    "spark.sql(\"SELECT * FROM loan_db.loans_by_state_delta WHERE addr_state='IA'\").show()"
   ]
  },
  {
   "cell_type": "code",
   "execution_count": 22,
   "id": "7c7a62c6-afdd-48ea-b99c-870098058395",
   "metadata": {},
   "outputs": [
    {
     "name": "stdout",
     "output_type": "stream",
     "text": [
      "gs://dll-data-bucket-885979867746/delta-consumable/:\n",
      "gs://dll-data-bucket-885979867746/delta-consumable/part-00000-293e9d10-a628-4cf0-b86c-f9f289913756-c000.snappy.parquet\n",
      "gs://dll-data-bucket-885979867746/delta-consumable/part-00000-33f34593-184c-40b8-adfe-73facf9f043f-c000.snappy.parquet\n",
      "gs://dll-data-bucket-885979867746/delta-consumable/part-00000-595b5ba1-408f-404d-91ee-7bc396235870-c000.snappy.parquet\n",
      "gs://dll-data-bucket-885979867746/delta-consumable/part-00000-8572a416-efe4-47bf-ab8b-755973ae5a7a-c000.snappy.parquet\n",
      "\n",
      "gs://dll-data-bucket-885979867746/delta-consumable/_delta_log/:\n",
      "gs://dll-data-bucket-885979867746/delta-consumable/_delta_log/\n",
      "gs://dll-data-bucket-885979867746/delta-consumable/_delta_log/00000000000000000000.json\n",
      "gs://dll-data-bucket-885979867746/delta-consumable/_delta_log/00000000000000000001.json\n",
      "gs://dll-data-bucket-885979867746/delta-consumable/_delta_log/00000000000000000002.json\n",
      "gs://dll-data-bucket-885979867746/delta-consumable/_delta_log/00000000000000000003.json\n",
      "\n",
      "gs://dll-data-bucket-885979867746/delta-consumable/_symlink_format_manifest/:\n",
      "gs://dll-data-bucket-885979867746/delta-consumable/_symlink_format_manifest/\n",
      "gs://dll-data-bucket-885979867746/delta-consumable/_symlink_format_manifest/manifest\n"
     ]
    }
   ],
   "source": [
    "# Note how the update created a new parquet file and in the delta log, yet another json\n",
    "!gsutil ls -r $DELTA_LAKE_DIR_ROOT "
   ]
  },
  {
   "cell_type": "code",
   "execution_count": 23,
   "id": "cb1066c2-e86f-4279-bf9a-84559140cda1",
   "metadata": {},
   "outputs": [
    {
     "name": "stdout",
     "output_type": "stream",
     "text": [
      "{\"remove\":{\"path\":\"part-00000-293e9d10-a628-4cf0-b86c-f9f289913756-c000.snappy.parquet\",\"deletionTimestamp\":1666481726390,\"dataChange\":true,\"extendedFileMetadata\":true,\"partitionValues\":{},\"size\":725}}\n",
      "{\"add\":{\"path\":\"part-00000-33f34593-184c-40b8-adfe-73facf9f043f-c000.snappy.parquet\",\"partitionValues\":{},\"size\":725,\"modificationTime\":1666481726323,\"dataChange\":true,\"stats\":\"{\\\"numRecords\\\":1,\\\"minValues\\\":{\\\"addr_state\\\":\\\"IA\\\",\\\"count\\\":11111},\\\"maxValues\\\":{\\\"addr_state\\\":\\\"IA\\\",\\\"count\\\":11111},\\\"nullCount\\\":{\\\"addr_state\\\":0,\\\"count\\\":0}}\"}}\n",
      "{\"commitInfo\":{\"timestamp\":1666481726391,\"operation\":\"UPDATE\",\"operationParameters\":{\"predicate\":\"(addr_state#1431 = IA)\"},\"readVersion\":2,\"isolationLevel\":\"Serializable\",\"isBlindAppend\":false,\"operationMetrics\":{\"numRemovedFiles\":\"1\",\"numCopiedRows\":\"0\",\"numAddedChangeFiles\":\"0\",\"executionTimeMs\":\"1463\",\"scanTimeMs\":\"808\",\"numAddedFiles\":\"1\",\"numUpdatedRows\":\"1\",\"rewriteTimeMs\":\"654\"},\"engineInfo\":\"Apache-Spark/3.3.0 Delta-Lake/2.1.0\",\"txnId\":\"6024f026-55de-4e5c-aee6-cba5d20590a8\"}}\n"
     ]
    }
   ],
   "source": [
    "# Lets check for the update\n",
    "!gsutil cat $DELTA_LAKE_DIR_ROOT/_delta_log/00000000000000000003.json "
   ]
  },
  {
   "cell_type": "markdown",
   "id": "b9631ffd-dc27-45ba-b629-cd91abd9fc24",
   "metadata": {},
   "source": [
    "### 7. Upsert support"
   ]
  },
  {
   "cell_type": "code",
   "execution_count": 24,
   "id": "3b37f749-51b6-4b0e-b1d9-37407383590f",
   "metadata": {},
   "outputs": [
    {
     "name": "stderr",
     "output_type": "stream",
     "text": [
      "[Stage 51:=============================>                            (4 + 4) / 8]\r"
     ]
    },
    {
     "name": "stdout",
     "output_type": "stream",
     "text": [
      "+----------+-----+\n",
      "|addr_state|count|\n",
      "+----------+-----+\n",
      "|        CA|12345|\n",
      "|        IA|  555|\n",
      "|        IN| 6666|\n",
      "+----------+-----+\n",
      "\n"
     ]
    },
    {
     "name": "stderr",
     "output_type": "stream",
     "text": [
      "                                                                                \r"
     ]
    }
   ],
   "source": [
    "toBeMergedRows = [('IA', 555), ('CA', 12345), ('IN', 6666)]\n",
    "toBeMergedColumns = ['addr_state', 'count']\n",
    "toBeMergedDF = spark.createDataFrame(toBeMergedRows, toBeMergedColumns)\n",
    "toBeMergedDF.createOrReplaceTempView(\"to_be_merged_table\")\n",
    "toBeMergedDF.orderBy(\"addr_state\").show(3)"
   ]
  },
  {
   "cell_type": "code",
   "execution_count": 25,
   "id": "2180365c-c172-489e-8cef-d04a9707e06e",
   "metadata": {},
   "outputs": [
    {
     "name": "stderr",
     "output_type": "stream",
     "text": [
      "                                                                                \r"
     ]
    },
    {
     "data": {
      "text/plain": [
       "DataFrame[num_affected_rows: bigint]"
      ]
     },
     "execution_count": 25,
     "metadata": {},
     "output_type": "execute_result"
    }
   ],
   "source": [
    "spark.sql(\"DELETE FROM loan_db.loans_by_state_delta WHERE addr_state='IA'\")"
   ]
  },
  {
   "cell_type": "code",
   "execution_count": 26,
   "id": "c8262dc4-cfe5-478e-af6a-b62cd6cd273a",
   "metadata": {},
   "outputs": [
    {
     "name": "stdout",
     "output_type": "stream",
     "text": [
      "+----------+-----+\n",
      "|addr_state|count|\n",
      "+----------+-----+\n",
      "|        CA|    1|\n",
      "|        IN|    1|\n",
      "+----------+-----+\n",
      "\n"
     ]
    }
   ],
   "source": [
    "spark.sql(\"SELECT addr_state,count FROM loan_db.loans_by_state_delta WHERE addr_state in ('IA','CA','IN') ORDER BY addr_state\").show()"
   ]
  },
  {
   "cell_type": "code",
   "execution_count": 27,
   "id": "c845dc15-f7dd-4c47-924f-cea130ba7c1d",
   "metadata": {},
   "outputs": [
    {
     "name": "stdout",
     "output_type": "stream",
     "text": [
      "MERGE INTO loan_db.loans_by_state_delta as d USING to_be_merged_table as m ON (d.addr_state = m.addr_state) WHEN MATCHED THEN UPDATE SET * WHEN NOT MATCHED THEN INSERT * \n"
     ]
    }
   ],
   "source": [
    "mergeSQLStatement = \"MERGE INTO loan_db.loans_by_state_delta as d USING to_be_merged_table as m ON (d.addr_state = m.addr_state) WHEN MATCHED THEN UPDATE SET * WHEN NOT MATCHED THEN INSERT * \"\n",
    "\n",
    "print(mergeSQLStatement)\n"
   ]
  },
  {
   "cell_type": "code",
   "execution_count": 28,
   "id": "23f73ea1-f822-49e7-97b1-9cfdfea0e878",
   "metadata": {},
   "outputs": [
    {
     "name": "stderr",
     "output_type": "stream",
     "text": [
      "22/10/22 23:35:47 ERROR ContextCleaner: Error cleaning shuffle 13\n",
      "java.lang.NullPointerException: Cannot invoke \"org.apache.spark.ShuffleStatus.invalidateSerializedMapOutputStatusCache()\" because \"shuffleStatus\" is null\n",
      "\tat org.apache.spark.MapOutputTrackerMaster.$anonfun$unregisterShuffle$1(MapOutputTracker.scala:882)\n",
      "\tat org.apache.spark.MapOutputTrackerMaster.$anonfun$unregisterShuffle$1$adapted(MapOutputTracker.scala:881)\n",
      "\tat scala.Option.foreach(Option.scala:437)\n",
      "\tat org.apache.spark.MapOutputTrackerMaster.unregisterShuffle(MapOutputTracker.scala:881)\n",
      "\tat org.apache.spark.ContextCleaner.doCleanupShuffle(ContextCleaner.scala:241)\n",
      "\tat org.apache.spark.ContextCleaner.$anonfun$keepCleaning$3(ContextCleaner.scala:202)\n",
      "\tat org.apache.spark.ContextCleaner.$anonfun$keepCleaning$3$adapted(ContextCleaner.scala:195)\n",
      "\tat scala.Option.foreach(Option.scala:437)\n",
      "\tat org.apache.spark.ContextCleaner.$anonfun$keepCleaning$1(ContextCleaner.scala:195)\n",
      "\tat org.apache.spark.util.Utils$.tryOrStopSparkContext(Utils.scala:1446)\n",
      "\tat org.apache.spark.ContextCleaner.org$apache$spark$ContextCleaner$$keepCleaning(ContextCleaner.scala:189)\n",
      "\tat org.apache.spark.ContextCleaner$$anon$1.run(ContextCleaner.scala:79)\n",
      "                                                                                \r"
     ]
    },
    {
     "data": {
      "text/plain": [
       "DataFrame[num_affected_rows: bigint, num_updated_rows: bigint, num_deleted_rows: bigint, num_inserted_rows: bigint]"
      ]
     },
     "execution_count": 28,
     "metadata": {},
     "output_type": "execute_result"
    }
   ],
   "source": [
    "spark.sql(mergeSQLStatement)"
   ]
  },
  {
   "cell_type": "code",
   "execution_count": 29,
   "id": "76acae37-2f19-4fbe-a17f-fd2ad8bbeed1",
   "metadata": {},
   "outputs": [
    {
     "name": "stdout",
     "output_type": "stream",
     "text": [
      "+----------+-----+\n",
      "|addr_state|count|\n",
      "+----------+-----+\n",
      "|        CA|12345|\n",
      "|        IA|  555|\n",
      "|        IN| 6666|\n",
      "+----------+-----+\n",
      "\n"
     ]
    }
   ],
   "source": [
    "spark.sql(\"SELECT addr_state,count FROM loan_db.loans_by_state_delta WHERE addr_state in ('IA','CA','IN') ORDER BY addr_state\").show()"
   ]
  },
  {
   "cell_type": "code",
   "execution_count": 30,
   "id": "aca0b5ad-b029-46da-82a6-bfce0d9d538e",
   "metadata": {},
   "outputs": [
    {
     "name": "stdout",
     "output_type": "stream",
     "text": [
      "gs://dll-data-bucket-885979867746/delta-consumable/:\n",
      "gs://dll-data-bucket-885979867746/delta-consumable/part-00000-293e9d10-a628-4cf0-b86c-f9f289913756-c000.snappy.parquet\n",
      "gs://dll-data-bucket-885979867746/delta-consumable/part-00000-33f34593-184c-40b8-adfe-73facf9f043f-c000.snappy.parquet\n",
      "gs://dll-data-bucket-885979867746/delta-consumable/part-00000-595b5ba1-408f-404d-91ee-7bc396235870-c000.snappy.parquet\n",
      "gs://dll-data-bucket-885979867746/delta-consumable/part-00000-8572a416-efe4-47bf-ab8b-755973ae5a7a-c000.snappy.parquet\n",
      "gs://dll-data-bucket-885979867746/delta-consumable/part-00000-9e3ca1ea-93a4-455a-9988-5e1250281ac0-c000.snappy.parquet\n",
      "gs://dll-data-bucket-885979867746/delta-consumable/part-00000-c2a74fad-c560-4efd-8b2e-5a8a7ddcc62e-c000.snappy.parquet\n",
      "\n",
      "gs://dll-data-bucket-885979867746/delta-consumable/_delta_log/:\n",
      "gs://dll-data-bucket-885979867746/delta-consumable/_delta_log/\n",
      "gs://dll-data-bucket-885979867746/delta-consumable/_delta_log/00000000000000000000.json\n",
      "gs://dll-data-bucket-885979867746/delta-consumable/_delta_log/00000000000000000001.json\n",
      "gs://dll-data-bucket-885979867746/delta-consumable/_delta_log/00000000000000000002.json\n",
      "gs://dll-data-bucket-885979867746/delta-consumable/_delta_log/00000000000000000003.json\n",
      "gs://dll-data-bucket-885979867746/delta-consumable/_delta_log/00000000000000000004.json\n",
      "gs://dll-data-bucket-885979867746/delta-consumable/_delta_log/00000000000000000005.json\n",
      "\n",
      "gs://dll-data-bucket-885979867746/delta-consumable/_symlink_format_manifest/:\n",
      "gs://dll-data-bucket-885979867746/delta-consumable/_symlink_format_manifest/\n",
      "gs://dll-data-bucket-885979867746/delta-consumable/_symlink_format_manifest/manifest\n"
     ]
    }
   ],
   "source": [
    "# Note how the update created a new parquet file and in the delta log, yet another json\n",
    "!gsutil ls -r $DELTA_LAKE_DIR_ROOT "
   ]
  },
  {
   "cell_type": "code",
   "execution_count": 31,
   "id": "90a4c8f2-9521-464e-90d2-fa58b04be098",
   "metadata": {},
   "outputs": [
    {
     "name": "stdout",
     "output_type": "stream",
     "text": [
      "{\"remove\":{\"path\":\"part-00000-33f34593-184c-40b8-adfe-73facf9f043f-c000.snappy.parquet\",\"deletionTimestamp\":1666481743150,\"dataChange\":true,\"extendedFileMetadata\":true,\"partitionValues\":{},\"size\":725}}\n",
      "{\"add\":{\"path\":\"part-00000-9e3ca1ea-93a4-455a-9988-5e1250281ac0-c000.snappy.parquet\",\"partitionValues\":{},\"size\":397,\"modificationTime\":1666481743030,\"dataChange\":true,\"stats\":\"{\\\"numRecords\\\":0,\\\"minValues\\\":{},\\\"maxValues\\\":{},\\\"nullCount\\\":{}}\"}}\n",
      "{\"commitInfo\":{\"timestamp\":1666481743150,\"operation\":\"DELETE\",\"operationParameters\":{\"predicate\":\"[\\\"(spark_catalog.loan_db.loans_by_state_delta.addr_state = 'IA')\\\"]\"},\"readVersion\":3,\"isolationLevel\":\"Serializable\",\"isBlindAppend\":false,\"operationMetrics\":{\"numRemovedFiles\":\"1\",\"numCopiedRows\":\"0\",\"numAddedChangeFiles\":\"0\",\"executionTimeMs\":\"1556\",\"numAddedFiles\":\"1\",\"rewriteTimeMs\":\"863\",\"numDeletedRows\":\"1\",\"scanTimeMs\":\"693\"},\"engineInfo\":\"Apache-Spark/3.3.0 Delta-Lake/2.1.0\",\"txnId\":\"e58e914e-ccbc-4a38-8499-28caff226c39\"}}\n"
     ]
    }
   ],
   "source": [
    "# Lets check for the upsert\n",
    "!gsutil cat $DELTA_LAKE_DIR_ROOT/_delta_log/00000000000000000004.json "
   ]
  },
  {
   "cell_type": "markdown",
   "id": "038d5201-b299-4ba7-b8e2-eb3dea090421",
   "metadata": {},
   "source": [
    "### THIS CONCLUDES THIS UNIT. PROCEED TO THE NEXT NOTEBOOK"
   ]
  }
 ],
 "metadata": {
  "language_info": {
   "codemirror_mode": {
    "name": "ipython",
    "version": 3
   },
   "file_extension": ".py",
   "mimetype": "text/x-python",
   "name": "python",
   "nbconvert_exporter": "python",
   "pygments_lexer": "ipython3",
   "version": "3.10.6"
  },
  "serverless_spark": "{\"name\":\"projects/delta-lake-lab/locations/us-central1/sessions/delta-lake-lab-17718\",\"uuid\":\"cb959c82-1002-4915-aed8-85c83d4e81f4\",\"createTime\":\"2022-10-22T17:30:32.565848Z\",\"jupyterSession\":{},\"spark\":{},\"runtimeInfo\":{\"endpoints\":{\"Spark History Server\":\"https://smmei2wdurb7nptroshcbbgeda-dot-us-central1.dataproc.googleusercontent.com/sparkhistory/\"}},\"state\":\"ACTIVE\",\"stateTime\":\"2022-10-22T17:32:38.942362Z\",\"creator\":\"admin@akhanolkar.altostrat.com\",\"runtimeConfig\":{\"version\":\"2.0\",\"properties\":{\"spark:spark.jars.packages\":\"io.delta:delta-core_2.13:2.1.0\",\"spark:spark.sql.catalog.spark_catalog\":\"org.apache.spark.sql.delta.catalog.DeltaCatalog\",\"spark:spark.sql.extensions\":\"io.delta.sql.DeltaSparkSessionExtension\",\"spark:spark.executor.instances\":\"2\",\"spark:spark.driver.cores\":\"4\",\"spark:spark.executor.cores\":\"4\",\"spark:spark.dynamicAllocation.executorAllocationRatio\":\"0.3\",\"spark:spark.eventLog.dir\":\"gs://dll-sphs-bucket-885979867746/cb959c82-1002-4915-aed8-85c83d4e81f4/spark-job-history\"}},\"environmentConfig\":{\"executionConfig\":{\"serviceAccount\":\"dll-lab-sa@delta-lake-lab.iam.gserviceaccount.com\",\"subnetworkUri\":\"spark-snet\",\"idleTtl\":\"14400s\"},\"peripheralsConfig\":{\"metastoreService\":\"projects/delta-lake-lab/locations/us-central1/services/dll-hms-885979867746\",\"sparkHistoryServerConfig\":{\"dataprocCluster\":\"projects/delta-lake-lab/regions/us-central1/clusters/dll-sphs-885979867746\"}}},\"stateHistory\":[{\"state\":\"CREATING\",\"stateStartTime\":\"2022-10-22T17:30:32.565848Z\"}]}",
  "serverless_spark_kernel_name": "remote-19c93264a411c8234417320a-pyspark",
  "vscode": {
   "interpreter": {
    "hash": "aee8b7b246df8f9039afb4144a1f6fd8d2ca17a180786b69acc140d282b71a49"
   }
  }
 },
 "nbformat": 4,
 "nbformat_minor": 5
}
