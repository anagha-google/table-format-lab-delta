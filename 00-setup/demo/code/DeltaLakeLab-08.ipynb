{
 "cells": [
  {
   "cell_type": "markdown",
   "id": "4529a790-8425-4600-841a-4b094b82eaa8",
   "metadata": {},
   "source": [
    "# Delta Lake Lab \n",
    "## Unit 8: Table Clone \n",
    "\n",
    "In the previous unit we-\n",
    "1. Learned about zordering and data skipping native to delta lake\n",
    "\n",
    "In this unit, we will learn about-\n",
    "1. Table cloning - shallow clone; creation, and understanding of what happens when a shallow clone is created and when updated\n",
    "2. Table cloning - deep clone; creation and understanding of what happens when a shallow clone is created and when updated "
   ]
  },
  {
   "cell_type": "markdown",
   "id": "1a31c4fd-d465-4f52-8e56-3775bf499abc",
   "metadata": {},
   "source": [
    "### 1. Imports"
   ]
  },
  {
   "cell_type": "code",
   "execution_count": 1,
   "id": "1321bce9-178c-4065-8187-0a5728c1a370",
   "metadata": {},
   "outputs": [],
   "source": [
    "import pandas as pd\n",
    "\n",
    "from pyspark.sql.functions import month, date_format\n",
    "from pyspark.sql.types import IntegerType\n",
    "from pyspark.sql import SparkSession\n",
    "\n",
    "from delta.tables import *\n",
    "\n",
    "import warnings\n",
    "warnings.filterwarnings('ignore')"
   ]
  },
  {
   "cell_type": "markdown",
   "id": "ed295a74-ed1d-4b5d-831a-1b5dcf73c36f",
   "metadata": {},
   "source": [
    "### 2. Create a Spark session powered by Cloud Dataproc "
   ]
  },
  {
   "cell_type": "code",
   "execution_count": 2,
   "id": "b383d5ab-a0b9-45ab-a232-34d88f2a0065",
   "metadata": {},
   "outputs": [
    {
     "name": "stderr",
     "output_type": "stream",
     "text": [
      "23/12/02 23:56:43 WARN SparkSession: Using an existing Spark session; only runtime SQL configurations will take effect.\n"
     ]
    },
    {
     "data": {
      "text/html": [
       "\n",
       "            <div>\n",
       "                <p><b>SparkSession - hive</b></p>\n",
       "                \n",
       "        <div>\n",
       "            <p><b>SparkContext</b></p>\n",
       "\n",
       "            <p><a href=\"http://gdpic-srvls-session-7496b9aa-c1b2-4af0-b19a-eed494ea3479-m.us-central1-c.c.delta-lake-diy-lab.internal:4040\">Spark UI</a></p>\n",
       "\n",
       "            <dl>\n",
       "              <dt>Version</dt>\n",
       "                <dd><code>v3.4.0</code></dd>\n",
       "              <dt>Master</dt>\n",
       "                <dd><code>spark://gdpic-srvls-session-7496b9aa-c1b2-4af0-b19a-eed494ea3479-m:7077</code></dd>\n",
       "              <dt>AppName</dt>\n",
       "                <dd><code>PySparkShell</code></dd>\n",
       "            </dl>\n",
       "        </div>\n",
       "        \n",
       "            </div>\n",
       "        "
      ],
      "text/plain": [
       "<pyspark.sql.session.SparkSession at 0x7f6498d0eed0>"
      ]
     },
     "execution_count": 2,
     "metadata": {},
     "output_type": "execute_result"
    }
   ],
   "source": [
    "spark = SparkSession.builder.appName('Loan Analysis').getOrCreate()\n",
    "spark"
   ]
  },
  {
   "cell_type": "markdown",
   "id": "63cd13e6-f3f5-4f2c-b4fc-d7e2660c6206",
   "metadata": {},
   "source": [
    "### 3. Declare variables"
   ]
  },
  {
   "cell_type": "code",
   "execution_count": 3,
   "id": "5596e31b-749a-4702-8879-6f05f9ff0c2d",
   "metadata": {},
   "outputs": [
    {
     "name": "stdout",
     "output_type": "stream",
     "text": [
      "PROJECT_ID:  delta-lake-diy-lab\n"
     ]
    }
   ],
   "source": [
    "project_id_output = !gcloud config list --format \"value(core.project)\" 2>/dev/null\n",
    "PROJECT_ID = project_id_output[0]\n",
    "print(\"PROJECT_ID: \", PROJECT_ID)"
   ]
  },
  {
   "cell_type": "code",
   "execution_count": 4,
   "id": "471c6743-a058-462b-851a-f34323f36243",
   "metadata": {},
   "outputs": [
    {
     "name": "stdout",
     "output_type": "stream",
     "text": [
      "PROJECT_NAME:  delta-lake-diy-lab\n"
     ]
    }
   ],
   "source": [
    "project_name_output = !gcloud projects describe $PROJECT_ID | grep name | cut -d':' -f2 | xargs\n",
    "PROJECT_NAME = project_name_output[0]\n",
    "print(\"PROJECT_NAME: \", PROJECT_NAME)"
   ]
  },
  {
   "cell_type": "code",
   "execution_count": 5,
   "id": "61929dc6-a083-433c-8a13-3d39d9c4a4a1",
   "metadata": {},
   "outputs": [
    {
     "name": "stdout",
     "output_type": "stream",
     "text": [
      "PROJECT_NUMBER:  11002190840\n"
     ]
    }
   ],
   "source": [
    "project_number_output = !gcloud projects describe $PROJECT_ID | grep projectNumber | cut -d':' -f2 | xargs\n",
    "PROJECT_NUMBER = project_number_output[0]\n",
    "print(\"PROJECT_NUMBER: \", PROJECT_NUMBER)"
   ]
  },
  {
   "cell_type": "code",
   "execution_count": 6,
   "id": "f8b79fd2-5243-41a4-ae87-e7f9dd87cf20",
   "metadata": {},
   "outputs": [
    {
     "name": "stdout",
     "output_type": "stream",
     "text": [
      "gs://dll-data-bucket-11002190840/delta-consumable\n"
     ]
    }
   ],
   "source": [
    "DATA_LAKE_ROOT_PATH= f\"gs://dll-data-bucket-{PROJECT_NUMBER}\"\n",
    "DELTA_LAKE_DIR_ROOT = f\"{DATA_LAKE_ROOT_PATH}/delta-consumable\"\n",
    "print(DELTA_LAKE_DIR_ROOT)"
   ]
  },
  {
   "cell_type": "markdown",
   "id": "ed74d358-e90b-46d0-b81c-1e29c25ccac5",
   "metadata": {},
   "source": [
    "### 4. File listing"
   ]
  },
  {
   "cell_type": "code",
   "execution_count": 7,
   "id": "97b70135-a0e3-4f5b-a917-086775bc2d49",
   "metadata": {},
   "outputs": [
    {
     "name": "stdout",
     "output_type": "stream",
     "text": [
      "gs://dll-data-bucket-11002190840/delta-consumable/:\n",
      "gs://dll-data-bucket-11002190840/delta-consumable/part-00000-0a06babc-6211-4fe4-ad01-3e1f9726830c-c000.snappy.parquet\n",
      "gs://dll-data-bucket-11002190840/delta-consumable/part-00000-18ffd7b0-964d-4f1e-a648-0892a1d4373d-c000.snappy.parquet\n",
      "gs://dll-data-bucket-11002190840/delta-consumable/part-00000-55d5ffb4-6b4a-4ead-8591-983dc631339f-c000.snappy.parquet\n",
      "gs://dll-data-bucket-11002190840/delta-consumable/part-00000-5afc31da-4141-4f21-93e5-0ee8635aee9f-c000.snappy.parquet\n",
      "gs://dll-data-bucket-11002190840/delta-consumable/part-00000-5f4a2030-2b43-4229-815a-55fca555d323-c000.snappy.parquet\n",
      "gs://dll-data-bucket-11002190840/delta-consumable/part-00000-6486345e-6c92-4216-b9ed-ffb413e41b4d-c000.snappy.parquet\n",
      "gs://dll-data-bucket-11002190840/delta-consumable/part-00000-687d9651-589c-4d6c-a8fd-df5d01770e85-c000.snappy.parquet\n",
      "gs://dll-data-bucket-11002190840/delta-consumable/part-00000-6dbd9c8a-28bb-48a7-b1a9-5304b8f16bc2-c000.snappy.parquet\n",
      "gs://dll-data-bucket-11002190840/delta-consumable/part-00000-83d6b120-d178-4ac4-8c8e-f8d590f5f050-c000.snappy.parquet\n",
      "gs://dll-data-bucket-11002190840/delta-consumable/part-00000-871f07ab-ad93-461d-babf-8fc80f0e9dc1-c000.snappy.parquet\n",
      "gs://dll-data-bucket-11002190840/delta-consumable/part-00000-af39e13d-1030-4881-965c-406884eb9420-c000.snappy.parquet\n",
      "gs://dll-data-bucket-11002190840/delta-consumable/part-00000-dc870c0d-50c0-48b3-9d4d-7c28af28813c-c000.snappy.parquet\n",
      "gs://dll-data-bucket-11002190840/delta-consumable/part-00000-fe2f9136-6d38-4d3e-8090-bd41da49fe18-c000.snappy.parquet\n",
      "gs://dll-data-bucket-11002190840/delta-consumable/part-00001-1b170e17-7fe4-454b-837d-b65afed1268a-c000.snappy.parquet\n",
      "gs://dll-data-bucket-11002190840/delta-consumable/part-00001-79e76c00-dc20-474f-bec7-a73259521925-c000.snappy.parquet\n",
      "gs://dll-data-bucket-11002190840/delta-consumable/part-00001-abea117a-284d-40ff-9531-4aa8a5af3a23-c000.snappy.parquet\n",
      "gs://dll-data-bucket-11002190840/delta-consumable/part-00001-af96fa63-d091-4bc6-9272-19d70a65e1f4-c000.snappy.parquet\n",
      "gs://dll-data-bucket-11002190840/delta-consumable/part-00001-f6f7eeb2-8a71-471c-b861-bf00a8dc1fd5-c000.snappy.parquet\n",
      "gs://dll-data-bucket-11002190840/delta-consumable/part-00002-54385b23-cd20-4af5-8fc1-e316a26ed49b-c000.snappy.parquet\n",
      "gs://dll-data-bucket-11002190840/delta-consumable/part-00002-96e5a961-02cd-469b-9c07-3ed6cc2c2676-c000.snappy.parquet\n",
      "gs://dll-data-bucket-11002190840/delta-consumable/part-00002-c863f818-d21f-42a5-8448-907a61b0b844-c000.snappy.parquet\n",
      "gs://dll-data-bucket-11002190840/delta-consumable/part-00002-e63a7035-7481-4a3d-ba0f-72a2cb3f1ccb-c000.snappy.parquet\n",
      "gs://dll-data-bucket-11002190840/delta-consumable/part-00003-06c35ac3-7eec-4bc2-8794-a6f5c8adeca5-c000.snappy.parquet\n",
      "gs://dll-data-bucket-11002190840/delta-consumable/part-00003-2cc84a3f-44aa-4ee2-8dde-211c0723d2cb-c000.snappy.parquet\n",
      "gs://dll-data-bucket-11002190840/delta-consumable/part-00003-bbda21aa-8c5a-408f-a60c-701f57bcc9dd-c000.snappy.parquet\n",
      "gs://dll-data-bucket-11002190840/delta-consumable/part-00003-d0a5f790-85b1-4ee4-8ea0-2a8befd8f6ea-c000.snappy.parquet\n",
      "gs://dll-data-bucket-11002190840/delta-consumable/part-00004-2e70a8f6-f0a2-4d1f-970f-c0ce1f12e469-c000.snappy.parquet\n",
      "gs://dll-data-bucket-11002190840/delta-consumable/part-00004-71398d98-5873-4edd-acb5-00c64f09a24a-c000.snappy.parquet\n",
      "gs://dll-data-bucket-11002190840/delta-consumable/part-00004-ed8398ad-e154-4c83-ba36-998f186da912-c000.snappy.parquet\n",
      "gs://dll-data-bucket-11002190840/delta-consumable/part-00005-21fe6e0d-a00a-4f76-b1f6-20a9d4ecde3c-c000.snappy.parquet\n",
      "gs://dll-data-bucket-11002190840/delta-consumable/part-00005-8b29d02d-4959-4590-a799-9acc7eec3f2c-c000.snappy.parquet\n",
      "gs://dll-data-bucket-11002190840/delta-consumable/part-00005-d0308dcc-bfe7-4a80-b4dd-a1ee85812b59-c000.snappy.parquet\n",
      "gs://dll-data-bucket-11002190840/delta-consumable/part-00006-a07e1338-ec6c-43d9-9480-302b49a7fbea-c000.snappy.parquet\n",
      "gs://dll-data-bucket-11002190840/delta-consumable/part-00006-c316eaa6-fcb1-4a1f-902f-08a8970ae79c-c000.snappy.parquet\n",
      "gs://dll-data-bucket-11002190840/delta-consumable/part-00006-dec77ebd-c9cd-4384-80d2-ede06aec3d6f-c000.snappy.parquet\n",
      "gs://dll-data-bucket-11002190840/delta-consumable/part-00007-263abe71-24ef-4a19-aef6-87fe728c9652-c000.snappy.parquet\n",
      "gs://dll-data-bucket-11002190840/delta-consumable/part-00007-6eccb64b-4fce-488c-8441-65e047e1d369-c000.snappy.parquet\n",
      "gs://dll-data-bucket-11002190840/delta-consumable/part-00007-c36aa917-de97-48fb-9166-b3e749db0f2a-c000.snappy.parquet\n",
      "\n",
      "gs://dll-data-bucket-11002190840/delta-consumable/_delta_log/:\n",
      "gs://dll-data-bucket-11002190840/delta-consumable/_delta_log/\n",
      "gs://dll-data-bucket-11002190840/delta-consumable/_delta_log/00000000000000000000.json\n",
      "gs://dll-data-bucket-11002190840/delta-consumable/_delta_log/00000000000000000001.json\n",
      "gs://dll-data-bucket-11002190840/delta-consumable/_delta_log/00000000000000000002.json\n",
      "gs://dll-data-bucket-11002190840/delta-consumable/_delta_log/00000000000000000003.json\n",
      "gs://dll-data-bucket-11002190840/delta-consumable/_delta_log/00000000000000000004.json\n",
      "gs://dll-data-bucket-11002190840/delta-consumable/_delta_log/00000000000000000005.json\n",
      "gs://dll-data-bucket-11002190840/delta-consumable/_delta_log/00000000000000000006.json\n",
      "gs://dll-data-bucket-11002190840/delta-consumable/_delta_log/00000000000000000007.json\n",
      "gs://dll-data-bucket-11002190840/delta-consumable/_delta_log/00000000000000000008.json\n",
      "gs://dll-data-bucket-11002190840/delta-consumable/_delta_log/00000000000000000009.json\n",
      "gs://dll-data-bucket-11002190840/delta-consumable/_delta_log/00000000000000000010.checkpoint.parquet\n",
      "gs://dll-data-bucket-11002190840/delta-consumable/_delta_log/00000000000000000010.json\n",
      "gs://dll-data-bucket-11002190840/delta-consumable/_delta_log/00000000000000000011.json\n",
      "gs://dll-data-bucket-11002190840/delta-consumable/_delta_log/00000000000000000012.json\n",
      "gs://dll-data-bucket-11002190840/delta-consumable/_delta_log/_last_checkpoint\n",
      "\n",
      "gs://dll-data-bucket-11002190840/delta-consumable/_symlink_format_manifest/:\n",
      "gs://dll-data-bucket-11002190840/delta-consumable/_symlink_format_manifest/\n",
      "gs://dll-data-bucket-11002190840/delta-consumable/_symlink_format_manifest/manifest\n"
     ]
    }
   ],
   "source": [
    "!gsutil ls -r $DELTA_LAKE_DIR_ROOT"
   ]
  },
  {
   "cell_type": "code",
   "execution_count": 8,
   "id": "4f9462d8-5f73-442d-b861-535d2123e427",
   "metadata": {},
   "outputs": [
    {
     "name": "stdout",
     "output_type": "stream",
     "text": [
      "38\n"
     ]
    }
   ],
   "source": [
    "!gsutil ls -r $DELTA_LAKE_DIR_ROOT/part* | wc -l"
   ]
  },
  {
   "cell_type": "code",
   "execution_count": 9,
   "id": "38ce2f6a-e015-481a-860c-4c7e4822f3b8",
   "metadata": {},
   "outputs": [
    {
     "name": "stdout",
     "output_type": "stream",
     "text": [
      "13\n"
     ]
    }
   ],
   "source": [
    "!gsutil ls -r $DELTA_LAKE_DIR_ROOT/_delta_log/*.json | wc -l"
   ]
  },
  {
   "cell_type": "markdown",
   "id": "17581b81-035f-43b6-a4fa-48b55ce28c8c",
   "metadata": {},
   "source": [
    "### 5. Create a shallow clone"
   ]
  },
  {
   "cell_type": "code",
   "execution_count": 10,
   "id": "66534c3e-cfea-4397-ac69-5886878318bf",
   "metadata": {},
   "outputs": [
    {
     "name": "stdout",
     "output_type": "stream",
     "text": [
      "gs://dll-data-bucket-11002190840/delta-consumable/shallow_clone/\n"
     ]
    }
   ],
   "source": [
    "SHALLOW_CLONE_DIR = f\"{DELTA_LAKE_DIR_ROOT}/shallow_clone/\"\n",
    "print(SHALLOW_CLONE_DIR)"
   ]
  },
  {
   "cell_type": "code",
   "execution_count": 11,
   "id": "bcf3242c-6af0-473b-9198-51ab24e951c8",
   "metadata": {},
   "outputs": [
    {
     "name": "stderr",
     "output_type": "stream",
     "text": [
      "ivysettings.xml file not found in HIVE_HOME or HIVE_CONF_DIR,/etc/spark/conf/ivysettings.xml will be used\n",
      "23/12/02 23:57:06 WARN package: Truncated the string representation of a plan since it was too large. This behavior can be adjusted by setting 'spark.sql.debug.maxToStringFields'.\n",
      "                                                                                \r"
     ]
    },
    {
     "name": "stdout",
     "output_type": "stream",
     "text": [
      "+----------+-----+------------------+\n",
      "|addr_state|count|collateral_value  |\n",
      "+----------+-----+------------------+\n",
      "|IA        |164  |1641533.0867176917|\n",
      "|IA        |262  |2628029.966480629 |\n",
      "+----------+-----+------------------+\n",
      "\n"
     ]
    }
   ],
   "source": [
    "spark.sql(\"SELECT * FROM loan_db.loans_by_state_delta WHERE addr_state='IA' LIMIT 2\").show(truncate=False)"
   ]
  },
  {
   "cell_type": "code",
   "execution_count": 12,
   "id": "18047cfc-cb17-43ee-89cd-ccb0cd45d633",
   "metadata": {},
   "outputs": [
    {
     "name": "stderr",
     "output_type": "stream",
     "text": [
      "23/12/02 23:57:25 WARN HiveExternalCatalog: Couldn't find corresponding Hive SerDe for data source provider delta. Persisting data source table `spark_catalog`.`loan_db`.`loans_by_state_delta_clone_shallow` into Hive metastore in Spark SQL specific format, which is NOT compatible with Hive.\n",
      "23/12/02 23:57:25 WARN SessionState: METASTORE_FILTER_HOOK will be ignored, since hive.security.authorization.manager is set to instance of HiveAuthorizerFactory.\n"
     ]
    },
    {
     "data": {
      "text/plain": [
       "DataFrame[source_table_size: bigint, source_num_of_files: bigint, num_removed_files: bigint, num_copied_files: bigint, removed_files_size: bigint, copied_files_size: bigint]"
      ]
     },
     "execution_count": 12,
     "metadata": {},
     "output_type": "execute_result"
    }
   ],
   "source": [
    "spark.sql(f\"CREATE TABLE IF NOT EXISTS loan_db.loans_by_state_delta_clone_shallow SHALLOW CLONE loan_db.loans_by_state_delta LOCATION \\\"{SHALLOW_CLONE_DIR}\\\"\")"
   ]
  },
  {
   "cell_type": "markdown",
   "id": "45435cb0-c56d-4341-862e-d39966b5985a",
   "metadata": {},
   "source": [
    "Shallow clone creation is a metadata operation until a CRUD operation is done against it, at which point, the data gets copy-persisted."
   ]
  },
  {
   "cell_type": "code",
   "execution_count": 13,
   "id": "e98a313e-98cf-43a6-b000-626c5f3672e1",
   "metadata": {},
   "outputs": [
    {
     "name": "stdout",
     "output_type": "stream",
     "text": [
      "gs://dll-data-bucket-11002190840/delta-consumable/:\n",
      "gs://dll-data-bucket-11002190840/delta-consumable/part-00000-0a06babc-6211-4fe4-ad01-3e1f9726830c-c000.snappy.parquet\n",
      "gs://dll-data-bucket-11002190840/delta-consumable/part-00000-18ffd7b0-964d-4f1e-a648-0892a1d4373d-c000.snappy.parquet\n",
      "gs://dll-data-bucket-11002190840/delta-consumable/part-00000-55d5ffb4-6b4a-4ead-8591-983dc631339f-c000.snappy.parquet\n",
      "gs://dll-data-bucket-11002190840/delta-consumable/part-00000-5afc31da-4141-4f21-93e5-0ee8635aee9f-c000.snappy.parquet\n",
      "gs://dll-data-bucket-11002190840/delta-consumable/part-00000-5f4a2030-2b43-4229-815a-55fca555d323-c000.snappy.parquet\n",
      "gs://dll-data-bucket-11002190840/delta-consumable/part-00000-6486345e-6c92-4216-b9ed-ffb413e41b4d-c000.snappy.parquet\n",
      "gs://dll-data-bucket-11002190840/delta-consumable/part-00000-687d9651-589c-4d6c-a8fd-df5d01770e85-c000.snappy.parquet\n",
      "gs://dll-data-bucket-11002190840/delta-consumable/part-00000-6dbd9c8a-28bb-48a7-b1a9-5304b8f16bc2-c000.snappy.parquet\n",
      "gs://dll-data-bucket-11002190840/delta-consumable/part-00000-83d6b120-d178-4ac4-8c8e-f8d590f5f050-c000.snappy.parquet\n",
      "gs://dll-data-bucket-11002190840/delta-consumable/part-00000-871f07ab-ad93-461d-babf-8fc80f0e9dc1-c000.snappy.parquet\n",
      "gs://dll-data-bucket-11002190840/delta-consumable/part-00000-af39e13d-1030-4881-965c-406884eb9420-c000.snappy.parquet\n",
      "gs://dll-data-bucket-11002190840/delta-consumable/part-00000-dc870c0d-50c0-48b3-9d4d-7c28af28813c-c000.snappy.parquet\n",
      "gs://dll-data-bucket-11002190840/delta-consumable/part-00000-fe2f9136-6d38-4d3e-8090-bd41da49fe18-c000.snappy.parquet\n",
      "gs://dll-data-bucket-11002190840/delta-consumable/part-00001-1b170e17-7fe4-454b-837d-b65afed1268a-c000.snappy.parquet\n",
      "gs://dll-data-bucket-11002190840/delta-consumable/part-00001-79e76c00-dc20-474f-bec7-a73259521925-c000.snappy.parquet\n",
      "gs://dll-data-bucket-11002190840/delta-consumable/part-00001-abea117a-284d-40ff-9531-4aa8a5af3a23-c000.snappy.parquet\n",
      "gs://dll-data-bucket-11002190840/delta-consumable/part-00001-af96fa63-d091-4bc6-9272-19d70a65e1f4-c000.snappy.parquet\n",
      "gs://dll-data-bucket-11002190840/delta-consumable/part-00001-f6f7eeb2-8a71-471c-b861-bf00a8dc1fd5-c000.snappy.parquet\n",
      "gs://dll-data-bucket-11002190840/delta-consumable/part-00002-54385b23-cd20-4af5-8fc1-e316a26ed49b-c000.snappy.parquet\n",
      "gs://dll-data-bucket-11002190840/delta-consumable/part-00002-96e5a961-02cd-469b-9c07-3ed6cc2c2676-c000.snappy.parquet\n",
      "gs://dll-data-bucket-11002190840/delta-consumable/part-00002-c863f818-d21f-42a5-8448-907a61b0b844-c000.snappy.parquet\n",
      "gs://dll-data-bucket-11002190840/delta-consumable/part-00002-e63a7035-7481-4a3d-ba0f-72a2cb3f1ccb-c000.snappy.parquet\n",
      "gs://dll-data-bucket-11002190840/delta-consumable/part-00003-06c35ac3-7eec-4bc2-8794-a6f5c8adeca5-c000.snappy.parquet\n",
      "gs://dll-data-bucket-11002190840/delta-consumable/part-00003-2cc84a3f-44aa-4ee2-8dde-211c0723d2cb-c000.snappy.parquet\n",
      "gs://dll-data-bucket-11002190840/delta-consumable/part-00003-bbda21aa-8c5a-408f-a60c-701f57bcc9dd-c000.snappy.parquet\n",
      "gs://dll-data-bucket-11002190840/delta-consumable/part-00003-d0a5f790-85b1-4ee4-8ea0-2a8befd8f6ea-c000.snappy.parquet\n",
      "gs://dll-data-bucket-11002190840/delta-consumable/part-00004-2e70a8f6-f0a2-4d1f-970f-c0ce1f12e469-c000.snappy.parquet\n",
      "gs://dll-data-bucket-11002190840/delta-consumable/part-00004-71398d98-5873-4edd-acb5-00c64f09a24a-c000.snappy.parquet\n",
      "gs://dll-data-bucket-11002190840/delta-consumable/part-00004-ed8398ad-e154-4c83-ba36-998f186da912-c000.snappy.parquet\n",
      "gs://dll-data-bucket-11002190840/delta-consumable/part-00005-21fe6e0d-a00a-4f76-b1f6-20a9d4ecde3c-c000.snappy.parquet\n",
      "gs://dll-data-bucket-11002190840/delta-consumable/part-00005-8b29d02d-4959-4590-a799-9acc7eec3f2c-c000.snappy.parquet\n",
      "gs://dll-data-bucket-11002190840/delta-consumable/part-00005-d0308dcc-bfe7-4a80-b4dd-a1ee85812b59-c000.snappy.parquet\n",
      "gs://dll-data-bucket-11002190840/delta-consumable/part-00006-a07e1338-ec6c-43d9-9480-302b49a7fbea-c000.snappy.parquet\n",
      "gs://dll-data-bucket-11002190840/delta-consumable/part-00006-c316eaa6-fcb1-4a1f-902f-08a8970ae79c-c000.snappy.parquet\n",
      "gs://dll-data-bucket-11002190840/delta-consumable/part-00006-dec77ebd-c9cd-4384-80d2-ede06aec3d6f-c000.snappy.parquet\n",
      "gs://dll-data-bucket-11002190840/delta-consumable/part-00007-263abe71-24ef-4a19-aef6-87fe728c9652-c000.snappy.parquet\n",
      "gs://dll-data-bucket-11002190840/delta-consumable/part-00007-6eccb64b-4fce-488c-8441-65e047e1d369-c000.snappy.parquet\n",
      "gs://dll-data-bucket-11002190840/delta-consumable/part-00007-c36aa917-de97-48fb-9166-b3e749db0f2a-c000.snappy.parquet\n",
      "\n",
      "gs://dll-data-bucket-11002190840/delta-consumable/_delta_log/:\n",
      "gs://dll-data-bucket-11002190840/delta-consumable/_delta_log/\n",
      "gs://dll-data-bucket-11002190840/delta-consumable/_delta_log/00000000000000000000.json\n",
      "gs://dll-data-bucket-11002190840/delta-consumable/_delta_log/00000000000000000001.json\n",
      "gs://dll-data-bucket-11002190840/delta-consumable/_delta_log/00000000000000000002.json\n",
      "gs://dll-data-bucket-11002190840/delta-consumable/_delta_log/00000000000000000003.json\n",
      "gs://dll-data-bucket-11002190840/delta-consumable/_delta_log/00000000000000000004.json\n",
      "gs://dll-data-bucket-11002190840/delta-consumable/_delta_log/00000000000000000005.json\n",
      "gs://dll-data-bucket-11002190840/delta-consumable/_delta_log/00000000000000000006.json\n",
      "gs://dll-data-bucket-11002190840/delta-consumable/_delta_log/00000000000000000007.json\n",
      "gs://dll-data-bucket-11002190840/delta-consumable/_delta_log/00000000000000000008.json\n",
      "gs://dll-data-bucket-11002190840/delta-consumable/_delta_log/00000000000000000009.json\n",
      "gs://dll-data-bucket-11002190840/delta-consumable/_delta_log/00000000000000000010.checkpoint.parquet\n",
      "gs://dll-data-bucket-11002190840/delta-consumable/_delta_log/00000000000000000010.json\n",
      "gs://dll-data-bucket-11002190840/delta-consumable/_delta_log/00000000000000000011.json\n",
      "gs://dll-data-bucket-11002190840/delta-consumable/_delta_log/00000000000000000012.json\n",
      "gs://dll-data-bucket-11002190840/delta-consumable/_delta_log/_last_checkpoint\n",
      "\n",
      "gs://dll-data-bucket-11002190840/delta-consumable/_symlink_format_manifest/:\n",
      "gs://dll-data-bucket-11002190840/delta-consumable/_symlink_format_manifest/\n",
      "gs://dll-data-bucket-11002190840/delta-consumable/_symlink_format_manifest/manifest\n",
      "\n",
      "gs://dll-data-bucket-11002190840/delta-consumable/shallow_clone/:\n",
      "\n",
      "gs://dll-data-bucket-11002190840/delta-consumable/shallow_clone/_delta_log/:\n",
      "gs://dll-data-bucket-11002190840/delta-consumable/shallow_clone/_delta_log/\n",
      "gs://dll-data-bucket-11002190840/delta-consumable/shallow_clone/_delta_log/00000000000000000000.checkpoint.parquet\n",
      "gs://dll-data-bucket-11002190840/delta-consumable/shallow_clone/_delta_log/00000000000000000000.json\n",
      "gs://dll-data-bucket-11002190840/delta-consumable/shallow_clone/_delta_log/_last_checkpoint\n"
     ]
    }
   ],
   "source": [
    "!gsutil ls -r $DELTA_LAKE_DIR_ROOT"
   ]
  },
  {
   "cell_type": "code",
   "execution_count": 14,
   "id": "5f0cf5a2-790b-4c9c-b2f1-73f0e7354a0f",
   "metadata": {},
   "outputs": [
    {
     "name": "stdout",
     "output_type": "stream",
     "text": [
      "38\n"
     ]
    }
   ],
   "source": [
    "!gsutil ls -r $DELTA_LAKE_DIR_ROOT/part* | wc -l"
   ]
  },
  {
   "cell_type": "code",
   "execution_count": 15,
   "id": "c16e3287-9fe0-4768-933f-e2b3364f800d",
   "metadata": {},
   "outputs": [
    {
     "name": "stderr",
     "output_type": "stream",
     "text": [
      "                                                                                \r"
     ]
    },
    {
     "data": {
      "text/plain": [
       "DataFrame[num_affected_rows: bigint]"
      ]
     },
     "execution_count": 15,
     "metadata": {},
     "output_type": "execute_result"
    }
   ],
   "source": [
    "spark.sql(\"UPDATE loan_db.loans_by_state_delta_clone_shallow SET count = 11111 WHERE addr_state='IL'\")"
   ]
  },
  {
   "cell_type": "code",
   "execution_count": 16,
   "id": "21c6b513-189c-4f96-a0ff-731e8dcf751f",
   "metadata": {},
   "outputs": [
    {
     "name": "stdout",
     "output_type": "stream",
     "text": [
      "gs://dll-data-bucket-11002190840/delta-consumable/:\n",
      "gs://dll-data-bucket-11002190840/delta-consumable/part-00000-0a06babc-6211-4fe4-ad01-3e1f9726830c-c000.snappy.parquet\n",
      "gs://dll-data-bucket-11002190840/delta-consumable/part-00000-18ffd7b0-964d-4f1e-a648-0892a1d4373d-c000.snappy.parquet\n",
      "gs://dll-data-bucket-11002190840/delta-consumable/part-00000-55d5ffb4-6b4a-4ead-8591-983dc631339f-c000.snappy.parquet\n",
      "gs://dll-data-bucket-11002190840/delta-consumable/part-00000-5afc31da-4141-4f21-93e5-0ee8635aee9f-c000.snappy.parquet\n",
      "gs://dll-data-bucket-11002190840/delta-consumable/part-00000-5f4a2030-2b43-4229-815a-55fca555d323-c000.snappy.parquet\n",
      "gs://dll-data-bucket-11002190840/delta-consumable/part-00000-6486345e-6c92-4216-b9ed-ffb413e41b4d-c000.snappy.parquet\n",
      "gs://dll-data-bucket-11002190840/delta-consumable/part-00000-687d9651-589c-4d6c-a8fd-df5d01770e85-c000.snappy.parquet\n",
      "gs://dll-data-bucket-11002190840/delta-consumable/part-00000-6dbd9c8a-28bb-48a7-b1a9-5304b8f16bc2-c000.snappy.parquet\n",
      "gs://dll-data-bucket-11002190840/delta-consumable/part-00000-83d6b120-d178-4ac4-8c8e-f8d590f5f050-c000.snappy.parquet\n",
      "gs://dll-data-bucket-11002190840/delta-consumable/part-00000-871f07ab-ad93-461d-babf-8fc80f0e9dc1-c000.snappy.parquet\n",
      "gs://dll-data-bucket-11002190840/delta-consumable/part-00000-af39e13d-1030-4881-965c-406884eb9420-c000.snappy.parquet\n",
      "gs://dll-data-bucket-11002190840/delta-consumable/part-00000-dc870c0d-50c0-48b3-9d4d-7c28af28813c-c000.snappy.parquet\n",
      "gs://dll-data-bucket-11002190840/delta-consumable/part-00000-fe2f9136-6d38-4d3e-8090-bd41da49fe18-c000.snappy.parquet\n",
      "gs://dll-data-bucket-11002190840/delta-consumable/part-00001-1b170e17-7fe4-454b-837d-b65afed1268a-c000.snappy.parquet\n",
      "gs://dll-data-bucket-11002190840/delta-consumable/part-00001-79e76c00-dc20-474f-bec7-a73259521925-c000.snappy.parquet\n",
      "gs://dll-data-bucket-11002190840/delta-consumable/part-00001-abea117a-284d-40ff-9531-4aa8a5af3a23-c000.snappy.parquet\n",
      "gs://dll-data-bucket-11002190840/delta-consumable/part-00001-af96fa63-d091-4bc6-9272-19d70a65e1f4-c000.snappy.parquet\n",
      "gs://dll-data-bucket-11002190840/delta-consumable/part-00001-f6f7eeb2-8a71-471c-b861-bf00a8dc1fd5-c000.snappy.parquet\n",
      "gs://dll-data-bucket-11002190840/delta-consumable/part-00002-54385b23-cd20-4af5-8fc1-e316a26ed49b-c000.snappy.parquet\n",
      "gs://dll-data-bucket-11002190840/delta-consumable/part-00002-96e5a961-02cd-469b-9c07-3ed6cc2c2676-c000.snappy.parquet\n",
      "gs://dll-data-bucket-11002190840/delta-consumable/part-00002-c863f818-d21f-42a5-8448-907a61b0b844-c000.snappy.parquet\n",
      "gs://dll-data-bucket-11002190840/delta-consumable/part-00002-e63a7035-7481-4a3d-ba0f-72a2cb3f1ccb-c000.snappy.parquet\n",
      "gs://dll-data-bucket-11002190840/delta-consumable/part-00003-06c35ac3-7eec-4bc2-8794-a6f5c8adeca5-c000.snappy.parquet\n",
      "gs://dll-data-bucket-11002190840/delta-consumable/part-00003-2cc84a3f-44aa-4ee2-8dde-211c0723d2cb-c000.snappy.parquet\n",
      "gs://dll-data-bucket-11002190840/delta-consumable/part-00003-bbda21aa-8c5a-408f-a60c-701f57bcc9dd-c000.snappy.parquet\n",
      "gs://dll-data-bucket-11002190840/delta-consumable/part-00003-d0a5f790-85b1-4ee4-8ea0-2a8befd8f6ea-c000.snappy.parquet\n",
      "gs://dll-data-bucket-11002190840/delta-consumable/part-00004-2e70a8f6-f0a2-4d1f-970f-c0ce1f12e469-c000.snappy.parquet\n",
      "gs://dll-data-bucket-11002190840/delta-consumable/part-00004-71398d98-5873-4edd-acb5-00c64f09a24a-c000.snappy.parquet\n",
      "gs://dll-data-bucket-11002190840/delta-consumable/part-00004-ed8398ad-e154-4c83-ba36-998f186da912-c000.snappy.parquet\n",
      "gs://dll-data-bucket-11002190840/delta-consumable/part-00005-21fe6e0d-a00a-4f76-b1f6-20a9d4ecde3c-c000.snappy.parquet\n",
      "gs://dll-data-bucket-11002190840/delta-consumable/part-00005-8b29d02d-4959-4590-a799-9acc7eec3f2c-c000.snappy.parquet\n",
      "gs://dll-data-bucket-11002190840/delta-consumable/part-00005-d0308dcc-bfe7-4a80-b4dd-a1ee85812b59-c000.snappy.parquet\n",
      "gs://dll-data-bucket-11002190840/delta-consumable/part-00006-a07e1338-ec6c-43d9-9480-302b49a7fbea-c000.snappy.parquet\n",
      "gs://dll-data-bucket-11002190840/delta-consumable/part-00006-c316eaa6-fcb1-4a1f-902f-08a8970ae79c-c000.snappy.parquet\n",
      "gs://dll-data-bucket-11002190840/delta-consumable/part-00006-dec77ebd-c9cd-4384-80d2-ede06aec3d6f-c000.snappy.parquet\n",
      "gs://dll-data-bucket-11002190840/delta-consumable/part-00007-263abe71-24ef-4a19-aef6-87fe728c9652-c000.snappy.parquet\n",
      "gs://dll-data-bucket-11002190840/delta-consumable/part-00007-6eccb64b-4fce-488c-8441-65e047e1d369-c000.snappy.parquet\n",
      "gs://dll-data-bucket-11002190840/delta-consumable/part-00007-c36aa917-de97-48fb-9166-b3e749db0f2a-c000.snappy.parquet\n",
      "\n",
      "gs://dll-data-bucket-11002190840/delta-consumable/_delta_log/:\n",
      "gs://dll-data-bucket-11002190840/delta-consumable/_delta_log/\n",
      "gs://dll-data-bucket-11002190840/delta-consumable/_delta_log/00000000000000000000.json\n",
      "gs://dll-data-bucket-11002190840/delta-consumable/_delta_log/00000000000000000001.json\n",
      "gs://dll-data-bucket-11002190840/delta-consumable/_delta_log/00000000000000000002.json\n",
      "gs://dll-data-bucket-11002190840/delta-consumable/_delta_log/00000000000000000003.json\n",
      "gs://dll-data-bucket-11002190840/delta-consumable/_delta_log/00000000000000000004.json\n",
      "gs://dll-data-bucket-11002190840/delta-consumable/_delta_log/00000000000000000005.json\n",
      "gs://dll-data-bucket-11002190840/delta-consumable/_delta_log/00000000000000000006.json\n",
      "gs://dll-data-bucket-11002190840/delta-consumable/_delta_log/00000000000000000007.json\n",
      "gs://dll-data-bucket-11002190840/delta-consumable/_delta_log/00000000000000000008.json\n",
      "gs://dll-data-bucket-11002190840/delta-consumable/_delta_log/00000000000000000009.json\n",
      "gs://dll-data-bucket-11002190840/delta-consumable/_delta_log/00000000000000000010.checkpoint.parquet\n",
      "gs://dll-data-bucket-11002190840/delta-consumable/_delta_log/00000000000000000010.json\n",
      "gs://dll-data-bucket-11002190840/delta-consumable/_delta_log/00000000000000000011.json\n",
      "gs://dll-data-bucket-11002190840/delta-consumable/_delta_log/00000000000000000012.json\n",
      "gs://dll-data-bucket-11002190840/delta-consumable/_delta_log/_last_checkpoint\n",
      "\n",
      "gs://dll-data-bucket-11002190840/delta-consumable/_symlink_format_manifest/:\n",
      "gs://dll-data-bucket-11002190840/delta-consumable/_symlink_format_manifest/\n",
      "gs://dll-data-bucket-11002190840/delta-consumable/_symlink_format_manifest/manifest\n",
      "\n",
      "gs://dll-data-bucket-11002190840/delta-consumable/shallow_clone/:\n",
      "gs://dll-data-bucket-11002190840/delta-consumable/shallow_clone/part-00000-18716629-866c-4b64-b950-79134779b6ef-c000.snappy.parquet\n",
      "\n",
      "gs://dll-data-bucket-11002190840/delta-consumable/shallow_clone/_delta_log/:\n",
      "gs://dll-data-bucket-11002190840/delta-consumable/shallow_clone/_delta_log/\n",
      "gs://dll-data-bucket-11002190840/delta-consumable/shallow_clone/_delta_log/00000000000000000000.checkpoint.parquet\n",
      "gs://dll-data-bucket-11002190840/delta-consumable/shallow_clone/_delta_log/00000000000000000000.json\n",
      "gs://dll-data-bucket-11002190840/delta-consumable/shallow_clone/_delta_log/00000000000000000001.json\n",
      "gs://dll-data-bucket-11002190840/delta-consumable/shallow_clone/_delta_log/_last_checkpoint\n"
     ]
    }
   ],
   "source": [
    "!gsutil ls -r $DELTA_LAKE_DIR_ROOT"
   ]
  },
  {
   "cell_type": "code",
   "execution_count": 17,
   "id": "e55e5aa3-735a-4ce2-a889-7b92369fea88",
   "metadata": {},
   "outputs": [
    {
     "name": "stdout",
     "output_type": "stream",
     "text": [
      "38\n"
     ]
    }
   ],
   "source": [
    "!gsutil ls -r $DELTA_LAKE_DIR_ROOT/part* | wc -l"
   ]
  },
  {
   "cell_type": "markdown",
   "id": "a99139af-af6f-4ac8-a690-fede3e3d34bd",
   "metadata": {},
   "source": [
    "Because of the update, the data got copied over"
   ]
  },
  {
   "cell_type": "markdown",
   "id": "62ca0564-1495-449f-a1ae-154ba68fd804",
   "metadata": {},
   "source": [
    "### 6. Create a deep clone\n",
    "A deep clone copies the data over."
   ]
  },
  {
   "cell_type": "code",
   "execution_count": 18,
   "id": "4fcff533-ca5d-40fc-a6ce-8f8d8ae28936",
   "metadata": {},
   "outputs": [
    {
     "name": "stdout",
     "output_type": "stream",
     "text": [
      "gs://dll-data-bucket-11002190840/delta-consumable/deep_clone/\n"
     ]
    }
   ],
   "source": [
    "DEEP_CLONE_DIR = f\"{DELTA_LAKE_DIR_ROOT}/deep_clone/\"\n",
    "print(DEEP_CLONE_DIR)"
   ]
  },
  {
   "cell_type": "code",
   "execution_count": null,
   "id": "11a0b04d-8da8-4fea-a7c1-f1b654eb948c",
   "metadata": {},
   "outputs": [],
   "source": [
    "# Not yet open sourced by Databricks\n",
    "spark.sql(f\"CREATE TABLE IF NOT EXISTS loan_db.loans_by_state_delta_clone_deep  CLONE loan_db.loans_by_state_delta LOCATION \\\"{DEEP_CLONE_DIR}\\\"\")"
   ]
  },
  {
   "cell_type": "code",
   "execution_count": null,
   "id": "d325312d-bf1b-4b10-b24b-8a443978c113",
   "metadata": {},
   "outputs": [],
   "source": [
    "!gsutil ls -r $DELTA_LAKE_DIR_ROOT"
   ]
  },
  {
   "cell_type": "code",
   "execution_count": null,
   "id": "9e43a902-4435-43f6-b566-392665139dc9",
   "metadata": {},
   "outputs": [],
   "source": [
    "!gsutil ls -r $DELTA_LAKE_DIR_ROOT/part* | wc -l"
   ]
  },
  {
   "cell_type": "markdown",
   "id": "b86593ab-c082-4067-8f45-4d7f1836fef4",
   "metadata": {},
   "source": [
    "### THIS CONCLUDES THIS UNIT. PROCEED TO THE NEXT NOTEBOOK."
   ]
  }
 ],
 "metadata": {
  "language_info": {
   "codemirror_mode": {
    "name": "ipython",
    "version": 3
   },
   "file_extension": ".py",
   "mimetype": "text/x-python",
   "name": "python",
   "nbconvert_exporter": "python",
   "pygments_lexer": "ipython3",
   "version": "3.11.0"
  },
  "serverless_spark": "{\"name\":\"projects/delta-lake-diy-lab/locations/us-central1/sessions/delta-lake-lab-17460\",\"uuid\":\"7496b9aa-c1b2-4af0-b19a-eed494ea3479\",\"createTime\":\"2023-12-02T23:10:14.351363Z\",\"jupyterSession\":{},\"runtimeInfo\":{\"endpoints\":{\"Spark History Server\":\"https://in7kggl6mfcxxdldiezehugb4i-dot-us-central1.dataproc.googleusercontent.com/sparkhistory/\",\"BYOID Spark History Server\":\"https://in7kggl6mfcxxdldiezehugb4i-dot-us-central1.dataproc.byoid.googleusercontent.com/sparkhistory/\"}},\"state\":\"ACTIVE\",\"stateTime\":\"2023-12-02T23:13:27.294546Z\",\"creator\":\"admin@akhanolkar.altostrat.com\",\"runtimeConfig\":{\"version\":\"2.1.27\",\"properties\":{\"spark:spark.jars.packages\":\"io.delta:delta-core_2.13:2.4.0\",\"spark:spark.sql.catalog.spark_catalog\":\"org.apache.spark.sql.delta.catalog.DeltaCatalog\",\"spark:spark.sql.extensions\":\"io.delta.sql.DeltaSparkSessionExtension\",\"spark:spark.executor.instances\":\"2\",\"spark:spark.driver.cores\":\"4\",\"spark:spark.driver.memory\":\"9600m\",\"spark:spark.executor.cores\":\"4\",\"spark:spark.executor.memory\":\"9600m\",\"spark:spark.dynamicAllocation.executorAllocationRatio\":\"0.3\",\"spark:spark.eventLog.dir\":\"gs://dll-sphs-bucket-11002190840/7496b9aa-c1b2-4af0-b19a-eed494ea3479/spark-job-history\"}},\"environmentConfig\":{\"executionConfig\":{\"serviceAccount\":\"dll-lab-sa@delta-lake-diy-lab.iam.gserviceaccount.com\",\"subnetworkUri\":\"spark-snet\",\"idleTtl\":\"3600s\",\"ttl\":\"86400s\"},\"peripheralsConfig\":{\"metastoreService\":\"projects/delta-lake-diy-lab/locations/us-central1/services/dll-hms-11002190840\",\"sparkHistoryServerConfig\":{\"dataprocCluster\":\"projects/delta-lake-diy-lab/regions/us-central1/clusters/dll-sphs-11002190840\"}}},\"stateHistory\":[{\"state\":\"CREATING\",\"stateStartTime\":\"2023-12-02T23:10:14.351363Z\"}]}",
  "serverless_spark_kernel_name": "remote-d973f900c0bcdc8a7fcee568-pyspark",
  "vscode": {
   "interpreter": {
    "hash": "aee8b7b246df8f9039afb4144a1f6fd8d2ca17a180786b69acc140d282b71a49"
   }
  }
 },
 "nbformat": 4,
 "nbformat_minor": 5
}
