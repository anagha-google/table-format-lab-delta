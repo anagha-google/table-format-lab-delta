{
 "cells": [
  {
   "cell_type": "markdown",
   "id": "4529a790-8425-4600-841a-4b094b82eaa8",
   "metadata": {},
   "source": [
    "# Delta Lake Lab \n",
    "## Unit 4: CRUD Support\n",
    "\n",
    "This lab is powered by Dataproc Serverless Spark.\n",
    "\n",
    "In the previous unit, we -\n",
    "1. Create an unpartitioned delta table\n",
    "2. Created a partitioned delta table called loan_db.loans_by_state_delta\n",
    "3. Studied the files created & layout in the datalake\n",
    "4. Learned how to look at delta table details\n",
    "5. Looked at history (there was not any)\n",
    "6. Created a manifest file\n",
    "7. Reviewed entries in the Hive metastore\n",
    "\n",
    "In this unit, we will learn how to -\n",
    "1. Delete a record and study the delta log\n",
    "2. Insert a record and study the delta log\n",
    "3. Update a record and study the delta log\n",
    "4. Upsert and study the delta log"
   ]
  },
  {
   "cell_type": "markdown",
   "id": "1a31c4fd-d465-4f52-8e56-3775bf499abc",
   "metadata": {},
   "source": [
    "### 1. Imports"
   ]
  },
  {
   "cell_type": "code",
   "execution_count": 1,
   "id": "1321bce9-178c-4065-8187-0a5728c1a370",
   "metadata": {},
   "outputs": [],
   "source": [
    "import pandas as pd\n",
    "\n",
    "from pyspark.sql.functions import month, date_format\n",
    "from pyspark.sql.types import IntegerType\n",
    "from pyspark.sql import SparkSession\n",
    "\n",
    "from delta.tables import *\n",
    "\n",
    "import warnings\n",
    "warnings.filterwarnings('ignore')"
   ]
  },
  {
   "cell_type": "markdown",
   "id": "ed295a74-ed1d-4b5d-831a-1b5dcf73c36f",
   "metadata": {},
   "source": [
    "### 2. Create a Spark session powered by Cloud Dataproc "
   ]
  },
  {
   "cell_type": "code",
   "execution_count": 2,
   "id": "b383d5ab-a0b9-45ab-a232-34d88f2a0065",
   "metadata": {},
   "outputs": [
    {
     "name": "stderr",
     "output_type": "stream",
     "text": [
      "23/12/02 23:38:52 WARN SparkSession: Using an existing Spark session; only runtime SQL configurations will take effect.\n"
     ]
    },
    {
     "data": {
      "text/html": [
       "\n",
       "            <div>\n",
       "                <p><b>SparkSession - hive</b></p>\n",
       "                \n",
       "        <div>\n",
       "            <p><b>SparkContext</b></p>\n",
       "\n",
       "            <p><a href=\"http://gdpic-srvls-session-7496b9aa-c1b2-4af0-b19a-eed494ea3479-m.us-central1-c.c.delta-lake-diy-lab.internal:4040\">Spark UI</a></p>\n",
       "\n",
       "            <dl>\n",
       "              <dt>Version</dt>\n",
       "                <dd><code>v3.4.0</code></dd>\n",
       "              <dt>Master</dt>\n",
       "                <dd><code>spark://gdpic-srvls-session-7496b9aa-c1b2-4af0-b19a-eed494ea3479-m:7077</code></dd>\n",
       "              <dt>AppName</dt>\n",
       "                <dd><code>PySparkShell</code></dd>\n",
       "            </dl>\n",
       "        </div>\n",
       "        \n",
       "            </div>\n",
       "        "
      ],
      "text/plain": [
       "<pyspark.sql.session.SparkSession at 0x7feca4ab3c10>"
      ]
     },
     "execution_count": 2,
     "metadata": {},
     "output_type": "execute_result"
    }
   ],
   "source": [
    "spark = SparkSession.builder.appName('Loan Analysis').getOrCreate()\n",
    "spark"
   ]
  },
  {
   "cell_type": "markdown",
   "id": "63cd13e6-f3f5-4f2c-b4fc-d7e2660c6206",
   "metadata": {},
   "source": [
    "### 3. Declare variables"
   ]
  },
  {
   "cell_type": "code",
   "execution_count": 3,
   "id": "5596e31b-749a-4702-8879-6f05f9ff0c2d",
   "metadata": {},
   "outputs": [
    {
     "name": "stdout",
     "output_type": "stream",
     "text": [
      "PROJECT_ID:  delta-lake-diy-lab\n"
     ]
    }
   ],
   "source": [
    "project_id_output = !gcloud config list --format \"value(core.project)\" 2>/dev/null\n",
    "PROJECT_ID = project_id_output[0]\n",
    "print(\"PROJECT_ID: \", PROJECT_ID)"
   ]
  },
  {
   "cell_type": "code",
   "execution_count": 4,
   "id": "471c6743-a058-462b-851a-f34323f36243",
   "metadata": {},
   "outputs": [
    {
     "name": "stdout",
     "output_type": "stream",
     "text": [
      "PROJECT_NAME:  delta-lake-diy-lab\n"
     ]
    }
   ],
   "source": [
    "project_name_output = !gcloud projects describe $PROJECT_ID | grep name | cut -d':' -f2 | xargs\n",
    "PROJECT_NAME = project_name_output[0]\n",
    "print(\"PROJECT_NAME: \", PROJECT_NAME)"
   ]
  },
  {
   "cell_type": "code",
   "execution_count": 5,
   "id": "61929dc6-a083-433c-8a13-3d39d9c4a4a1",
   "metadata": {},
   "outputs": [
    {
     "name": "stdout",
     "output_type": "stream",
     "text": [
      "PROJECT_NUMBER:  11002190840\n"
     ]
    }
   ],
   "source": [
    "project_number_output = !gcloud projects describe $PROJECT_ID | grep projectNumber | cut -d':' -f2 | xargs\n",
    "PROJECT_NUMBER = project_number_output[0]\n",
    "print(\"PROJECT_NUMBER: \", PROJECT_NUMBER)"
   ]
  },
  {
   "cell_type": "code",
   "execution_count": 6,
   "id": "f8b79fd2-5243-41a4-ae87-e7f9dd87cf20",
   "metadata": {},
   "outputs": [],
   "source": [
    "DATA_LAKE_ROOT_PATH= f\"gs://dll-data-bucket-{PROJECT_NUMBER}\"\n",
    "DELTA_LAKE_DIR_ROOT = f\"{DATA_LAKE_ROOT_PATH}/delta-consumable\""
   ]
  },
  {
   "cell_type": "code",
   "execution_count": 7,
   "id": "97b70135-a0e3-4f5b-a917-086775bc2d49",
   "metadata": {},
   "outputs": [
    {
     "name": "stdout",
     "output_type": "stream",
     "text": [
      "gs://dll-data-bucket-11002190840/delta-consumable/:\n",
      "gs://dll-data-bucket-11002190840/delta-consumable/part-00000-83d6b120-d178-4ac4-8c8e-f8d590f5f050-c000.snappy.parquet\n",
      "\n",
      "gs://dll-data-bucket-11002190840/delta-consumable/_delta_log/:\n",
      "gs://dll-data-bucket-11002190840/delta-consumable/_delta_log/\n",
      "gs://dll-data-bucket-11002190840/delta-consumable/_delta_log/00000000000000000000.json\n",
      "\n",
      "gs://dll-data-bucket-11002190840/delta-consumable/_symlink_format_manifest/:\n",
      "gs://dll-data-bucket-11002190840/delta-consumable/_symlink_format_manifest/\n",
      "gs://dll-data-bucket-11002190840/delta-consumable/_symlink_format_manifest/manifest\n"
     ]
    }
   ],
   "source": [
    "!gsutil ls -r $DELTA_LAKE_DIR_ROOT"
   ]
  },
  {
   "cell_type": "markdown",
   "id": "ed74d358-e90b-46d0-b81c-1e29c25ccac5",
   "metadata": {},
   "source": [
    "### 4. Delete support"
   ]
  },
  {
   "cell_type": "code",
   "execution_count": 8,
   "id": "9589abdd-d31b-44c0-a10c-49a436d65909",
   "metadata": {},
   "outputs": [
    {
     "name": "stdout",
     "output_type": "stream",
     "text": [
      "CommandException: One or more URLs matched no objects.\n",
      "0\n"
     ]
    }
   ],
   "source": [
    "# Get the file count\n",
    "!gsutil ls -r $DELTA_LAKE_DIR_ROOT/delta_consumable/part* | wc -l "
   ]
  },
  {
   "cell_type": "code",
   "execution_count": 9,
   "id": "0bcc3cf8-6ecf-4efe-855d-b564401317bc",
   "metadata": {},
   "outputs": [
    {
     "name": "stderr",
     "output_type": "stream",
     "text": [
      "ivysettings.xml file not found in HIVE_HOME or HIVE_CONF_DIR,/etc/spark/conf/ivysettings.xml will be used\n",
      "23/12/02 23:39:10 WARN package: Truncated the string representation of a plan since it was too large. This behavior can be adjusted by setting 'spark.sql.debug.maxToStringFields'.\n",
      "                                                                                \r"
     ]
    },
    {
     "name": "stdout",
     "output_type": "stream",
     "text": [
      "+----------+-----+\n",
      "|addr_state|count|\n",
      "+----------+-----+\n",
      "|IA        |1    |\n",
      "+----------+-----+\n",
      "\n"
     ]
    },
    {
     "name": "stderr",
     "output_type": "stream",
     "text": [
      "                                                                                \r"
     ]
    }
   ],
   "source": [
    "spark.sql(\"SELECT * FROM loan_db.loans_by_state_delta WHERE addr_state='IA'\").show(truncate=False)"
   ]
  },
  {
   "cell_type": "code",
   "execution_count": 10,
   "id": "1f7f5fb8-70cc-4a36-be78-9158c74ff165",
   "metadata": {},
   "outputs": [
    {
     "name": "stderr",
     "output_type": "stream",
     "text": [
      "[Stage 19:===================================================>    (46 + 4) / 50]\r"
     ]
    },
    {
     "name": "stdout",
     "output_type": "stream",
     "text": [
      "+-----------------+\n",
      "|num_affected_rows|\n",
      "+-----------------+\n",
      "|1                |\n",
      "+-----------------+\n",
      "\n"
     ]
    },
    {
     "name": "stderr",
     "output_type": "stream",
     "text": [
      "                                                                                \r"
     ]
    }
   ],
   "source": [
    "spark.sql(\"DELETE FROM loan_db.loans_by_state_delta WHERE addr_state='IA'\").show(truncate=False)"
   ]
  },
  {
   "cell_type": "code",
   "execution_count": 11,
   "id": "98f13764-d150-46fe-ad8d-beb3f7267029",
   "metadata": {},
   "outputs": [
    {
     "name": "stdout",
     "output_type": "stream",
     "text": [
      "CommandException: One or more URLs matched no objects.\n",
      "0\n"
     ]
    }
   ],
   "source": [
    "# Get the file count\n",
    "!gsutil ls -r $DELTA_LAKE_DIR_ROOT/delta_consumable/part* | wc -l "
   ]
  },
  {
   "cell_type": "code",
   "execution_count": 12,
   "id": "fe5fe9c6-bcb7-4b28-b989-cd8dac4df38d",
   "metadata": {},
   "outputs": [
    {
     "name": "stdout",
     "output_type": "stream",
     "text": [
      "+----------+-----+\n",
      "|addr_state|count|\n",
      "+----------+-----+\n",
      "+----------+-----+\n",
      "\n"
     ]
    }
   ],
   "source": [
    "spark.sql(\"SELECT * FROM loan_db.loans_by_state_delta WHERE addr_state='IA'\").show(truncate=False)"
   ]
  },
  {
   "cell_type": "markdown",
   "id": "cf842fbf-a46f-45ad-9c38-5688c4433c90",
   "metadata": {},
   "source": [
    "Lets look at the data lake:"
   ]
  },
  {
   "cell_type": "code",
   "execution_count": 13,
   "id": "4acb8cb3-3843-46f5-89d7-986eb1f465a9",
   "metadata": {},
   "outputs": [
    {
     "name": "stdout",
     "output_type": "stream",
     "text": [
      "gs://dll-data-bucket-11002190840/delta-consumable/_delta_log/\n",
      "gs://dll-data-bucket-11002190840/delta-consumable/_delta_log/00000000000000000000.json\n",
      "gs://dll-data-bucket-11002190840/delta-consumable/_delta_log/00000000000000000001.json\n"
     ]
    }
   ],
   "source": [
    "# Note how the deleted created a json in the delta log directory\n",
    "!gsutil ls -r $DELTA_LAKE_DIR_ROOT/_delta_log/* "
   ]
  },
  {
   "cell_type": "markdown",
   "id": "ee8dcb5b-dd48-48c8-b074-198f2ed364e1",
   "metadata": {},
   "source": [
    "Lets look at the delta log:"
   ]
  },
  {
   "cell_type": "code",
   "execution_count": 14,
   "id": "c5a5ab84-29d6-4ffb-a59d-dd5d0b1a82f2",
   "metadata": {},
   "outputs": [
    {
     "name": "stdout",
     "output_type": "stream",
     "text": [
      "{\"commitInfo\":{\"timestamp\":1701559198463,\"operation\":\"WRITE\",\"operationParameters\":{\"mode\":\"Overwrite\",\"partitionBy\":\"[]\"},\"isolationLevel\":\"Serializable\",\"isBlindAppend\":false,\"operationMetrics\":{\"numFiles\":\"1\",\"numOutputRows\":\"51\",\"numOutputBytes\":\"978\"},\"engineInfo\":\"Apache-Spark/3.4.0 Delta-Lake/2.4.0\",\"txnId\":\"ef45b4d8-1b6b-4e35-8d69-658760b727e5\"}}\n",
      "{\"protocol\":{\"minReaderVersion\":1,\"minWriterVersion\":2}}\n",
      "{\"metaData\":{\"id\":\"347aa570-3d50-4d3a-8aba-02dcf5b8bcee\",\"format\":{\"provider\":\"parquet\",\"options\":{}},\"schemaString\":\"{\\\"type\\\":\\\"struct\\\",\\\"fields\\\":[{\\\"name\\\":\\\"addr_state\\\",\\\"type\\\":\\\"string\\\",\\\"nullable\\\":true,\\\"metadata\\\":{}},{\\\"name\\\":\\\"count\\\",\\\"type\\\":\\\"long\\\",\\\"nullable\\\":true,\\\"metadata\\\":{}}]}\",\"partitionColumns\":[],\"configuration\":{},\"createdTime\":1701559185896}}\n",
      "{\"add\":{\"path\":\"part-00000-83d6b120-d178-4ac4-8c8e-f8d590f5f050-c000.snappy.parquet\",\"partitionValues\":{},\"size\":978,\"modificationTime\":1701559194480,\"dataChange\":true,\"stats\":\"{\\\"numRecords\\\":51,\\\"minValues\\\":{\\\"addr_state\\\":\\\"AK\\\",\\\"count\\\":1},\\\"maxValues\\\":{\\\"addr_state\\\":\\\"WY\\\",\\\"count\\\":1},\\\"nullCount\\\":{\\\"addr_state\\\":0,\\\"count\\\":0}}\"}}\n"
     ]
    }
   ],
   "source": [
    "# This is the original log\n",
    "!gsutil cat $DELTA_LAKE_DIR_ROOT/_delta_log/00000000000000000000.json "
   ]
  },
  {
   "cell_type": "code",
   "execution_count": 15,
   "id": "b20033b1-3de0-4ebc-abf2-80f60445db0d",
   "metadata": {},
   "outputs": [
    {
     "name": "stdout",
     "output_type": "stream",
     "text": [
      "{\"commitInfo\":{\"timestamp\":1701560368300,\"operation\":\"DELETE\",\"operationParameters\":{\"predicate\":\"[\\\"(addr_state#361 = IA)\\\"]\"},\"readVersion\":0,\"isolationLevel\":\"Serializable\",\"isBlindAppend\":false,\"operationMetrics\":{\"numRemovedFiles\":\"1\",\"numRemovedBytes\":\"978\",\"numCopiedRows\":\"50\",\"numAddedChangeFiles\":\"0\",\"executionTimeMs\":\"7057\",\"numAddedFiles\":\"1\",\"numDeletedRows\":\"1\",\"scanTimeMs\":\"5699\",\"numAddedBytes\":\"973\",\"rewriteTimeMs\":\"1355\"},\"engineInfo\":\"Apache-Spark/3.4.0 Delta-Lake/2.4.0\",\"txnId\":\"d8cc6548-51b4-4524-afa6-2eddb101be40\"}}\n",
      "{\"remove\":{\"path\":\"part-00000-83d6b120-d178-4ac4-8c8e-f8d590f5f050-c000.snappy.parquet\",\"deletionTimestamp\":1701560368230,\"dataChange\":true,\"extendedFileMetadata\":true,\"partitionValues\":{},\"size\":978}}\n",
      "{\"add\":{\"path\":\"part-00000-55d5ffb4-6b4a-4ead-8591-983dc631339f-c000.snappy.parquet\",\"partitionValues\":{},\"size\":973,\"modificationTime\":1701560368094,\"dataChange\":true,\"stats\":\"{\\\"numRecords\\\":50,\\\"minValues\\\":{\\\"addr_state\\\":\\\"AK\\\",\\\"count\\\":1},\\\"maxValues\\\":{\\\"addr_state\\\":\\\"WY\\\",\\\"count\\\":1},\\\"nullCount\\\":{\\\"addr_state\\\":0,\\\"count\\\":0}}\"}}\n"
     ]
    }
   ],
   "source": [
    "# Note the delete in this log\n",
    "!gsutil cat $DELTA_LAKE_DIR_ROOT/_delta_log/00000000000000000001.json "
   ]
  },
  {
   "cell_type": "markdown",
   "id": "17581b81-035f-43b6-a4fa-48b55ce28c8c",
   "metadata": {},
   "source": [
    "### 5. Create (Insert) support"
   ]
  },
  {
   "cell_type": "code",
   "execution_count": 16,
   "id": "b35234d8-a09b-4b81-8af4-89a6406dc659",
   "metadata": {},
   "outputs": [
    {
     "name": "stdout",
     "output_type": "stream",
     "text": [
      "CommandException: One or more URLs matched no objects.\n",
      "0\n"
     ]
    }
   ],
   "source": [
    "# Get the file count\n",
    "!gsutil ls -r $DELTA_LAKE_DIR_ROOT/delta_consumable/part* | wc -l "
   ]
  },
  {
   "cell_type": "code",
   "execution_count": 17,
   "id": "da4f7939-4668-4015-83eb-90209251ea03",
   "metadata": {},
   "outputs": [
    {
     "name": "stderr",
     "output_type": "stream",
     "text": [
      "                                                                                \r"
     ]
    },
    {
     "data": {
      "text/plain": [
       "DataFrame[]"
      ]
     },
     "execution_count": 17,
     "metadata": {},
     "output_type": "execute_result"
    }
   ],
   "source": [
    "spark.sql(\"INSERT INTO loan_db.loans_by_state_delta VALUES ('IA',222222)\")"
   ]
  },
  {
   "cell_type": "code",
   "execution_count": 18,
   "id": "e98a313e-98cf-43a6-b000-626c5f3672e1",
   "metadata": {},
   "outputs": [
    {
     "name": "stdout",
     "output_type": "stream",
     "text": [
      "+----------+------+\n",
      "|addr_state|count |\n",
      "+----------+------+\n",
      "|IA        |222222|\n",
      "+----------+------+\n",
      "\n"
     ]
    }
   ],
   "source": [
    "spark.sql(\"SELECT * FROM loan_db.loans_by_state_delta WHERE addr_state='IA'\").show(truncate=False)"
   ]
  },
  {
   "cell_type": "code",
   "execution_count": 19,
   "id": "dec7d79a-db52-422d-9d1b-6bebb5eb4fb3",
   "metadata": {},
   "outputs": [
    {
     "name": "stdout",
     "output_type": "stream",
     "text": [
      "CommandException: One or more URLs matched no objects.\n",
      "0\n"
     ]
    }
   ],
   "source": [
    "# Get the file count\n",
    "!gsutil ls -r $DELTA_LAKE_DIR_ROOT/delta_consumable/part* | wc -l "
   ]
  },
  {
   "cell_type": "code",
   "execution_count": 20,
   "id": "90acbd73-975a-4911-8afc-50dec3e0d58a",
   "metadata": {},
   "outputs": [
    {
     "name": "stdout",
     "output_type": "stream",
     "text": [
      "gs://dll-data-bucket-11002190840/delta-consumable/:\n",
      "gs://dll-data-bucket-11002190840/delta-consumable/part-00000-55d5ffb4-6b4a-4ead-8591-983dc631339f-c000.snappy.parquet\n",
      "gs://dll-data-bucket-11002190840/delta-consumable/part-00000-83d6b120-d178-4ac4-8c8e-f8d590f5f050-c000.snappy.parquet\n",
      "gs://dll-data-bucket-11002190840/delta-consumable/part-00000-fe2f9136-6d38-4d3e-8090-bd41da49fe18-c000.snappy.parquet\n",
      "\n",
      "gs://dll-data-bucket-11002190840/delta-consumable/_delta_log/:\n",
      "gs://dll-data-bucket-11002190840/delta-consumable/_delta_log/\n",
      "gs://dll-data-bucket-11002190840/delta-consumable/_delta_log/00000000000000000000.json\n",
      "gs://dll-data-bucket-11002190840/delta-consumable/_delta_log/00000000000000000001.json\n",
      "gs://dll-data-bucket-11002190840/delta-consumable/_delta_log/00000000000000000002.json\n",
      "\n",
      "gs://dll-data-bucket-11002190840/delta-consumable/_symlink_format_manifest/:\n",
      "gs://dll-data-bucket-11002190840/delta-consumable/_symlink_format_manifest/\n",
      "gs://dll-data-bucket-11002190840/delta-consumable/_symlink_format_manifest/manifest\n"
     ]
    }
   ],
   "source": [
    "# Note how the insert created a new parquet file and in the delta log, yet another json\n",
    "!gsutil ls -r $DELTA_LAKE_DIR_ROOT "
   ]
  },
  {
   "cell_type": "code",
   "execution_count": 21,
   "id": "c97ea3e1-7178-48bc-bb2a-fa4e15cf21e5",
   "metadata": {},
   "outputs": [
    {
     "name": "stdout",
     "output_type": "stream",
     "text": [
      "CommandException: One or more URLs matched no objects.\n",
      "0\n"
     ]
    }
   ],
   "source": [
    "# Get the file count\n",
    "!gsutil ls -r $DELTA_LAKE_DIR_ROOT/delta_consumable/part* | wc -l "
   ]
  },
  {
   "cell_type": "code",
   "execution_count": 22,
   "id": "61df7321-31bc-4705-a688-f0890908215c",
   "metadata": {},
   "outputs": [
    {
     "name": "stdout",
     "output_type": "stream",
     "text": [
      "{\"commitInfo\":{\"timestamp\":1701560388412,\"operation\":\"WRITE\",\"operationParameters\":{\"mode\":\"Append\",\"partitionBy\":\"[]\"},\"readVersion\":1,\"isolationLevel\":\"Serializable\",\"isBlindAppend\":true,\"operationMetrics\":{\"numFiles\":\"1\",\"numOutputRows\":\"1\",\"numOutputBytes\":\"725\"},\"engineInfo\":\"Apache-Spark/3.4.0 Delta-Lake/2.4.0\",\"txnId\":\"5c356223-389e-45dc-8819-d623f260ad9d\"}}\n",
      "{\"add\":{\"path\":\"part-00000-fe2f9136-6d38-4d3e-8090-bd41da49fe18-c000.snappy.parquet\",\"partitionValues\":{},\"size\":725,\"modificationTime\":1701560388335,\"dataChange\":true,\"stats\":\"{\\\"numRecords\\\":1,\\\"minValues\\\":{\\\"addr_state\\\":\\\"IA\\\",\\\"count\\\":222222},\\\"maxValues\\\":{\\\"addr_state\\\":\\\"IA\\\",\\\"count\\\":222222},\\\"nullCount\\\":{\\\"addr_state\\\":0,\\\"count\\\":0}}\"}}\n"
     ]
    }
   ],
   "source": [
    "# Lets check for the insert\n",
    "!gsutil cat $DELTA_LAKE_DIR_ROOT/_delta_log/00000000000000000002.json "
   ]
  },
  {
   "cell_type": "markdown",
   "id": "4b6cc873-426e-43e6-be17-545e667f2e87",
   "metadata": {},
   "source": [
    "### 6. Update support\n",
    "\n",
    "Lets update a record & see the changes in the delta log directory"
   ]
  },
  {
   "cell_type": "code",
   "execution_count": 23,
   "id": "7f386109-5142-4b18-be0d-836f45c4c745",
   "metadata": {},
   "outputs": [
    {
     "name": "stdout",
     "output_type": "stream",
     "text": [
      "CommandException: One or more URLs matched no objects.\n",
      "0\n"
     ]
    }
   ],
   "source": [
    "# Get the file count\n",
    "!gsutil ls -r $DELTA_LAKE_DIR_ROOT/delta_consumable/part* | wc -l "
   ]
  },
  {
   "cell_type": "code",
   "execution_count": 24,
   "id": "16dcf766-cf76-4210-aa26-519fd91b9207",
   "metadata": {},
   "outputs": [
    {
     "name": "stderr",
     "output_type": "stream",
     "text": [
      "[Stage 48:============================================>           (40 + 8) / 50]\r"
     ]
    },
    {
     "name": "stdout",
     "output_type": "stream",
     "text": [
      "+-----------------+\n",
      "|num_affected_rows|\n",
      "+-----------------+\n",
      "|1                |\n",
      "+-----------------+\n",
      "\n"
     ]
    },
    {
     "name": "stderr",
     "output_type": "stream",
     "text": [
      "                                                                                \r"
     ]
    }
   ],
   "source": [
    "spark.sql(\"UPDATE loan_db.loans_by_state_delta SET count = 11111 WHERE addr_state='IA'\").show(truncate=False)"
   ]
  },
  {
   "cell_type": "code",
   "execution_count": 25,
   "id": "9a56affe-a463-4835-a45a-51cbdeda8f20",
   "metadata": {},
   "outputs": [
    {
     "name": "stdout",
     "output_type": "stream",
     "text": [
      "+----------+-----+\n",
      "|addr_state|count|\n",
      "+----------+-----+\n",
      "|IA        |11111|\n",
      "+----------+-----+\n",
      "\n"
     ]
    }
   ],
   "source": [
    "spark.sql(\"SELECT * FROM loan_db.loans_by_state_delta WHERE addr_state='IA'\").show(truncate=False)"
   ]
  },
  {
   "cell_type": "code",
   "execution_count": 26,
   "id": "40e4e0d8-1321-457b-90e5-7a57144e66c5",
   "metadata": {},
   "outputs": [
    {
     "name": "stdout",
     "output_type": "stream",
     "text": [
      "CommandException: One or more URLs matched no objects.\n",
      "0\n"
     ]
    }
   ],
   "source": [
    "# Get the file count\n",
    "!gsutil ls -r $DELTA_LAKE_DIR_ROOT/delta_consumable/part* | wc -l "
   ]
  },
  {
   "cell_type": "code",
   "execution_count": 27,
   "id": "7c7a62c6-afdd-48ea-b99c-870098058395",
   "metadata": {},
   "outputs": [
    {
     "name": "stdout",
     "output_type": "stream",
     "text": [
      "gs://dll-data-bucket-11002190840/delta-consumable/:\n",
      "gs://dll-data-bucket-11002190840/delta-consumable/part-00000-55d5ffb4-6b4a-4ead-8591-983dc631339f-c000.snappy.parquet\n",
      "gs://dll-data-bucket-11002190840/delta-consumable/part-00000-83d6b120-d178-4ac4-8c8e-f8d590f5f050-c000.snappy.parquet\n",
      "gs://dll-data-bucket-11002190840/delta-consumable/part-00000-af39e13d-1030-4881-965c-406884eb9420-c000.snappy.parquet\n",
      "gs://dll-data-bucket-11002190840/delta-consumable/part-00000-fe2f9136-6d38-4d3e-8090-bd41da49fe18-c000.snappy.parquet\n",
      "\n",
      "gs://dll-data-bucket-11002190840/delta-consumable/_delta_log/:\n",
      "gs://dll-data-bucket-11002190840/delta-consumable/_delta_log/\n",
      "gs://dll-data-bucket-11002190840/delta-consumable/_delta_log/00000000000000000000.json\n",
      "gs://dll-data-bucket-11002190840/delta-consumable/_delta_log/00000000000000000001.json\n",
      "gs://dll-data-bucket-11002190840/delta-consumable/_delta_log/00000000000000000002.json\n",
      "gs://dll-data-bucket-11002190840/delta-consumable/_delta_log/00000000000000000003.json\n",
      "\n",
      "gs://dll-data-bucket-11002190840/delta-consumable/_symlink_format_manifest/:\n",
      "gs://dll-data-bucket-11002190840/delta-consumable/_symlink_format_manifest/\n",
      "gs://dll-data-bucket-11002190840/delta-consumable/_symlink_format_manifest/manifest\n"
     ]
    }
   ],
   "source": [
    "# Note how the update created a new parquet file and in the delta log, yet another json\n",
    "!gsutil ls -r $DELTA_LAKE_DIR_ROOT "
   ]
  },
  {
   "cell_type": "code",
   "execution_count": 28,
   "id": "cb1066c2-e86f-4279-bf9a-84559140cda1",
   "metadata": {},
   "outputs": [
    {
     "name": "stdout",
     "output_type": "stream",
     "text": [
      "{\"commitInfo\":{\"timestamp\":1701560408822,\"operation\":\"UPDATE\",\"operationParameters\":{\"predicate\":\"[\\\"(addr_state#1624 = IA)\\\"]\"},\"readVersion\":2,\"isolationLevel\":\"Serializable\",\"isBlindAppend\":false,\"operationMetrics\":{\"numRemovedFiles\":\"1\",\"numRemovedBytes\":\"725\",\"numCopiedRows\":\"0\",\"numAddedChangeFiles\":\"0\",\"executionTimeMs\":\"1597\",\"scanTimeMs\":\"979\",\"numAddedFiles\":\"1\",\"numUpdatedRows\":\"1\",\"numAddedBytes\":\"725\",\"rewriteTimeMs\":\"616\"},\"engineInfo\":\"Apache-Spark/3.4.0 Delta-Lake/2.4.0\",\"txnId\":\"c1be248e-6e17-4d27-913a-d3480e25ee17\"}}\n",
      "{\"remove\":{\"path\":\"part-00000-fe2f9136-6d38-4d3e-8090-bd41da49fe18-c000.snappy.parquet\",\"deletionTimestamp\":1701560408820,\"dataChange\":true,\"extendedFileMetadata\":true,\"partitionValues\":{},\"size\":725}}\n",
      "{\"add\":{\"path\":\"part-00000-af39e13d-1030-4881-965c-406884eb9420-c000.snappy.parquet\",\"partitionValues\":{},\"size\":725,\"modificationTime\":1701560408750,\"dataChange\":true,\"stats\":\"{\\\"numRecords\\\":1,\\\"minValues\\\":{\\\"addr_state\\\":\\\"IA\\\",\\\"count\\\":11111},\\\"maxValues\\\":{\\\"addr_state\\\":\\\"IA\\\",\\\"count\\\":11111},\\\"nullCount\\\":{\\\"addr_state\\\":0,\\\"count\\\":0}}\"}}\n"
     ]
    }
   ],
   "source": [
    "# Lets check for the update\n",
    "!gsutil cat $DELTA_LAKE_DIR_ROOT/_delta_log/00000000000000000003.json "
   ]
  },
  {
   "cell_type": "markdown",
   "id": "b9631ffd-dc27-45ba-b629-cd91abd9fc24",
   "metadata": {},
   "source": [
    "### 7. Upsert support"
   ]
  },
  {
   "cell_type": "code",
   "execution_count": 29,
   "id": "3b37f749-51b6-4b0e-b1d9-37407383590f",
   "metadata": {},
   "outputs": [
    {
     "name": "stderr",
     "output_type": "stream",
     "text": [
      "[Stage 57:=============================>                            (4 + 4) / 8]\r"
     ]
    },
    {
     "name": "stdout",
     "output_type": "stream",
     "text": [
      "+----------+-----+\n",
      "|addr_state|count|\n",
      "+----------+-----+\n",
      "|        CA|12345|\n",
      "|        IA|  555|\n",
      "|        IN| 6666|\n",
      "+----------+-----+\n",
      "\n"
     ]
    },
    {
     "name": "stderr",
     "output_type": "stream",
     "text": [
      "                                                                                \r"
     ]
    }
   ],
   "source": [
    "toBeMergedRows = [('IA', 555), ('CA', 12345), ('IN', 6666)]\n",
    "toBeMergedColumns = ['addr_state', 'count']\n",
    "toBeMergedDF = spark.createDataFrame(toBeMergedRows, toBeMergedColumns)\n",
    "toBeMergedDF.createOrReplaceTempView(\"to_be_merged_table\")\n",
    "toBeMergedDF.orderBy(\"addr_state\").show(3)"
   ]
  },
  {
   "cell_type": "code",
   "execution_count": 30,
   "id": "8e5e3ab0-b6da-437f-8661-9d81dc76184e",
   "metadata": {},
   "outputs": [
    {
     "name": "stdout",
     "output_type": "stream",
     "text": [
      "CommandException: One or more URLs matched no objects.\n",
      "0\n"
     ]
    }
   ],
   "source": [
    "# Get the file count\n",
    "!gsutil ls -r $DELTA_LAKE_DIR_ROOT/delta_consumable/part* | wc -l "
   ]
  },
  {
   "cell_type": "code",
   "execution_count": 31,
   "id": "2180365c-c172-489e-8cef-d04a9707e06e",
   "metadata": {},
   "outputs": [
    {
     "name": "stderr",
     "output_type": "stream",
     "text": [
      "                                                                                \r"
     ]
    },
    {
     "name": "stdout",
     "output_type": "stream",
     "text": [
      "+-----------------+\n",
      "|num_affected_rows|\n",
      "+-----------------+\n",
      "|1                |\n",
      "+-----------------+\n",
      "\n"
     ]
    }
   ],
   "source": [
    "spark.sql(\"DELETE FROM loan_db.loans_by_state_delta WHERE addr_state='IA'\").show(truncate=False)"
   ]
  },
  {
   "cell_type": "code",
   "execution_count": 32,
   "id": "c8262dc4-cfe5-478e-af6a-b62cd6cd273a",
   "metadata": {},
   "outputs": [
    {
     "name": "stdout",
     "output_type": "stream",
     "text": [
      "+----------+-----+\n",
      "|addr_state|count|\n",
      "+----------+-----+\n",
      "|CA        |1    |\n",
      "|IN        |1    |\n",
      "+----------+-----+\n",
      "\n"
     ]
    }
   ],
   "source": [
    "spark.sql(\"SELECT addr_state,count FROM loan_db.loans_by_state_delta WHERE addr_state in ('IA','CA','IN') ORDER BY addr_state\").show(truncate=False)"
   ]
  },
  {
   "cell_type": "code",
   "execution_count": 33,
   "id": "c845dc15-f7dd-4c47-924f-cea130ba7c1d",
   "metadata": {},
   "outputs": [
    {
     "name": "stdout",
     "output_type": "stream",
     "text": [
      "MERGE INTO loan_db.loans_by_state_delta as d USING to_be_merged_table as m ON (d.addr_state = m.addr_state) WHEN MATCHED THEN UPDATE SET * WHEN NOT MATCHED THEN INSERT * \n"
     ]
    }
   ],
   "source": [
    "mergeSQLStatement = \"MERGE INTO loan_db.loans_by_state_delta as d USING to_be_merged_table as m ON (d.addr_state = m.addr_state) WHEN MATCHED THEN UPDATE SET * WHEN NOT MATCHED THEN INSERT * \"\n",
    "\n",
    "print(mergeSQLStatement)"
   ]
  },
  {
   "cell_type": "code",
   "execution_count": 34,
   "id": "23f73ea1-f822-49e7-97b1-9cfdfea0e878",
   "metadata": {},
   "outputs": [
    {
     "name": "stderr",
     "output_type": "stream",
     "text": [
      "                                                                                \r"
     ]
    },
    {
     "name": "stdout",
     "output_type": "stream",
     "text": [
      "+-----------------+----------------+----------------+-----------------+\n",
      "|num_affected_rows|num_updated_rows|num_deleted_rows|num_inserted_rows|\n",
      "+-----------------+----------------+----------------+-----------------+\n",
      "|3                |2               |0               |1                |\n",
      "+-----------------+----------------+----------------+-----------------+\n",
      "\n"
     ]
    }
   ],
   "source": [
    "spark.sql(mergeSQLStatement).show(truncate=False)"
   ]
  },
  {
   "cell_type": "code",
   "execution_count": 35,
   "id": "76acae37-2f19-4fbe-a17f-fd2ad8bbeed1",
   "metadata": {},
   "outputs": [
    {
     "name": "stdout",
     "output_type": "stream",
     "text": [
      "+----------+-----+\n",
      "|addr_state|count|\n",
      "+----------+-----+\n",
      "|CA        |12345|\n",
      "|IA        |555  |\n",
      "|IN        |6666 |\n",
      "+----------+-----+\n",
      "\n"
     ]
    }
   ],
   "source": [
    "spark.sql(\"SELECT addr_state,count FROM loan_db.loans_by_state_delta WHERE addr_state in ('IA','CA','IN') ORDER BY addr_state\").show(truncate=False)"
   ]
  },
  {
   "cell_type": "code",
   "execution_count": 36,
   "id": "22825289-7af6-4cf5-9345-d45aad8a3596",
   "metadata": {},
   "outputs": [
    {
     "name": "stdout",
     "output_type": "stream",
     "text": [
      "6\n"
     ]
    }
   ],
   "source": [
    "# Get the file count\n",
    "!gsutil ls -r $DELTA_LAKE_DIR_ROOT/part* | wc -l"
   ]
  },
  {
   "cell_type": "code",
   "execution_count": 37,
   "id": "aca0b5ad-b029-46da-82a6-bfce0d9d538e",
   "metadata": {},
   "outputs": [
    {
     "name": "stdout",
     "output_type": "stream",
     "text": [
      "gs://dll-data-bucket-11002190840/delta-consumable/:\n",
      "gs://dll-data-bucket-11002190840/delta-consumable/part-00000-18ffd7b0-964d-4f1e-a648-0892a1d4373d-c000.snappy.parquet\n",
      "gs://dll-data-bucket-11002190840/delta-consumable/part-00000-55d5ffb4-6b4a-4ead-8591-983dc631339f-c000.snappy.parquet\n",
      "gs://dll-data-bucket-11002190840/delta-consumable/part-00000-6486345e-6c92-4216-b9ed-ffb413e41b4d-c000.snappy.parquet\n",
      "gs://dll-data-bucket-11002190840/delta-consumable/part-00000-83d6b120-d178-4ac4-8c8e-f8d590f5f050-c000.snappy.parquet\n",
      "gs://dll-data-bucket-11002190840/delta-consumable/part-00000-af39e13d-1030-4881-965c-406884eb9420-c000.snappy.parquet\n",
      "gs://dll-data-bucket-11002190840/delta-consumable/part-00000-fe2f9136-6d38-4d3e-8090-bd41da49fe18-c000.snappy.parquet\n",
      "\n",
      "gs://dll-data-bucket-11002190840/delta-consumable/_delta_log/:\n",
      "gs://dll-data-bucket-11002190840/delta-consumable/_delta_log/\n",
      "gs://dll-data-bucket-11002190840/delta-consumable/_delta_log/00000000000000000000.json\n",
      "gs://dll-data-bucket-11002190840/delta-consumable/_delta_log/00000000000000000001.json\n",
      "gs://dll-data-bucket-11002190840/delta-consumable/_delta_log/00000000000000000002.json\n",
      "gs://dll-data-bucket-11002190840/delta-consumable/_delta_log/00000000000000000003.json\n",
      "gs://dll-data-bucket-11002190840/delta-consumable/_delta_log/00000000000000000004.json\n",
      "gs://dll-data-bucket-11002190840/delta-consumable/_delta_log/00000000000000000005.json\n",
      "\n",
      "gs://dll-data-bucket-11002190840/delta-consumable/_symlink_format_manifest/:\n",
      "gs://dll-data-bucket-11002190840/delta-consumable/_symlink_format_manifest/\n",
      "gs://dll-data-bucket-11002190840/delta-consumable/_symlink_format_manifest/manifest\n"
     ]
    }
   ],
   "source": [
    "# Note how the update created a new parquet file and in the delta log, yet another json\n",
    "!gsutil ls -r $DELTA_LAKE_DIR_ROOT "
   ]
  },
  {
   "cell_type": "code",
   "execution_count": 38,
   "id": "90a4c8f2-9521-464e-90d2-fa58b04be098",
   "metadata": {},
   "outputs": [
    {
     "name": "stdout",
     "output_type": "stream",
     "text": [
      "{\"commitInfo\":{\"timestamp\":1701560433284,\"operation\":\"DELETE\",\"operationParameters\":{\"predicate\":\"[\\\"(addr_state#2311 = IA)\\\"]\"},\"readVersion\":3,\"isolationLevel\":\"Serializable\",\"isBlindAppend\":false,\"operationMetrics\":{\"numRemovedFiles\":\"1\",\"numRemovedBytes\":\"725\",\"numCopiedRows\":\"0\",\"numAddedChangeFiles\":\"0\",\"executionTimeMs\":\"1814\",\"numAddedFiles\":\"0\",\"numDeletedRows\":\"1\",\"scanTimeMs\":\"772\",\"numAddedBytes\":\"0\",\"rewriteTimeMs\":\"1042\"},\"engineInfo\":\"Apache-Spark/3.4.0 Delta-Lake/2.4.0\",\"txnId\":\"5a96443a-661a-4149-9444-9ebbcf721608\"}}\n",
      "{\"remove\":{\"path\":\"part-00000-af39e13d-1030-4881-965c-406884eb9420-c000.snappy.parquet\",\"deletionTimestamp\":1701560433283,\"dataChange\":true,\"extendedFileMetadata\":true,\"partitionValues\":{},\"size\":725}}\n"
     ]
    }
   ],
   "source": [
    "# Lets check for the upsert\n",
    "!gsutil cat $DELTA_LAKE_DIR_ROOT/_delta_log/00000000000000000004.json "
   ]
  },
  {
   "cell_type": "markdown",
   "id": "f20dfd72-3854-40c8-8c51-0ec81857edfb",
   "metadata": {},
   "source": [
    "### 8. Review table history"
   ]
  },
  {
   "cell_type": "code",
   "execution_count": 39,
   "id": "22725bff-ed79-42a6-8296-368e8b8fa2b0",
   "metadata": {},
   "outputs": [
    {
     "name": "stderr",
     "output_type": "stream",
     "text": [
      "                                                                                \r"
     ]
    },
    {
     "name": "stdout",
     "output_type": "stream",
     "text": [
      "+-------+-----------------------+------+--------+---------+---------------------------------------------------------------------------------------------------------------------------------------------------------------------------------------------+----+--------+---------+-----------+--------------+-------------+----------------------------------------------------------------------------------------------------------------------------------------------------------------------------------------------------------------------------------------------------------------------------------------------------------------------------------------------------------------------------------------------------------------------------------------------------------------------------------------------------------------------------------------+------------+-----------------------------------+\n",
      "|version|timestamp              |userId|userName|operation|operationParameters                                                                                                                                                                          |job |notebook|clusterId|readVersion|isolationLevel|isBlindAppend|operationMetrics                                                                                                                                                                                                                                                                                                                                                                                                                                                                                                                        |userMetadata|engineInfo                         |\n",
      "+-------+-----------------------+------+--------+---------+---------------------------------------------------------------------------------------------------------------------------------------------------------------------------------------------+----+--------+---------+-----------+--------------+-------------+----------------------------------------------------------------------------------------------------------------------------------------------------------------------------------------------------------------------------------------------------------------------------------------------------------------------------------------------------------------------------------------------------------------------------------------------------------------------------------------------------------------------------------------+------------+-----------------------------------+\n",
      "|5      |2023-12-02 23:40:40.534|null  |null    |MERGE    |{predicate -> [\"(addr_state#2974 = addr_state#2298)\"], matchedPredicates -> [{\"actionType\":\"update\"}], notMatchedPredicates -> [{\"actionType\":\"insert\"}], notMatchedBySourcePredicates -> []}|null|null    |null     |4          |Serializable  |false        |{numTargetRowsCopied -> 48, numTargetRowsDeleted -> 0, numTargetBytesRemoved -> 973, numTargetRowsMatchedUpdated -> 2, numTargetRowsMatchedDeleted -> 0, scanTimeMs -> 2297, numTargetRowsUpdated -> 2, numTargetChangeFilesAdded -> 0, numTargetRowsNotMatchedBySourceDeleted -> 0, rewriteTimeMs -> 1086, numTargetFilesAdded -> 1, numTargetBytesAdded -> 993, executionTimeMs -> 3468, numTargetRowsInserted -> 1, numOutputRows -> 51, numTargetRowsNotMatchedBySourceUpdated -> 0, numSourceRows -> 3, numTargetFilesRemoved -> 1}|null        |Apache-Spark/3.4.0 Delta-Lake/2.4.0|\n",
      "|4      |2023-12-02 23:40:33.473|null  |null    |DELETE   |{predicate -> [\"(addr_state#2311 = IA)\"]}                                                                                                                                                    |null|null    |null     |3          |Serializable  |false        |{numRemovedFiles -> 1, numRemovedBytes -> 725, numCopiedRows -> 0, numAddedChangeFiles -> 0, executionTimeMs -> 1814, numAddedFiles -> 0, numDeletedRows -> 1, scanTimeMs -> 772, numAddedBytes -> 0, rewriteTimeMs -> 1042}                                                                                                                                                                                                                                                                                                            |null        |Apache-Spark/3.4.0 Delta-Lake/2.4.0|\n",
      "|3      |2023-12-02 23:40:09.02 |null  |null    |UPDATE   |{predicate -> [\"(addr_state#1624 = IA)\"]}                                                                                                                                                    |null|null    |null     |2          |Serializable  |false        |{numRemovedFiles -> 1, numRemovedBytes -> 725, numCopiedRows -> 0, numAddedChangeFiles -> 0, executionTimeMs -> 1597, scanTimeMs -> 979, numAddedFiles -> 1, numUpdatedRows -> 1, numAddedBytes -> 725, rewriteTimeMs -> 616}                                                                                                                                                                                                                                                                                                           |null        |Apache-Spark/3.4.0 Delta-Lake/2.4.0|\n",
      "|2      |2023-12-02 23:39:48.661|null  |null    |WRITE    |{mode -> Append, partitionBy -> []}                                                                                                                                                          |null|null    |null     |1          |Serializable  |true         |{numFiles -> 1, numOutputRows -> 1, numOutputBytes -> 725}                                                                                                                                                                                                                                                                                                                                                                                                                                                                              |null        |Apache-Spark/3.4.0 Delta-Lake/2.4.0|\n",
      "|1      |2023-12-02 23:39:28.674|null  |null    |DELETE   |{predicate -> [\"(addr_state#361 = IA)\"]}                                                                                                                                                     |null|null    |null     |0          |Serializable  |false        |{numRemovedFiles -> 1, numRemovedBytes -> 978, numCopiedRows -> 50, numAddedChangeFiles -> 0, executionTimeMs -> 7057, numAddedFiles -> 1, numDeletedRows -> 1, scanTimeMs -> 5699, numAddedBytes -> 973, rewriteTimeMs -> 1355}                                                                                                                                                                                                                                                                                                        |null        |Apache-Spark/3.4.0 Delta-Lake/2.4.0|\n",
      "|0      |2023-12-02 23:19:58.873|null  |null    |WRITE    |{mode -> Overwrite, partitionBy -> []}                                                                                                                                                       |null|null    |null     |null       |Serializable  |false        |{numFiles -> 1, numOutputRows -> 51, numOutputBytes -> 978}                                                                                                                                                                                                                                                                                                                                                                                                                                                                             |null        |Apache-Spark/3.4.0 Delta-Lake/2.4.0|\n",
      "+-------+-----------------------+------+--------+---------+---------------------------------------------------------------------------------------------------------------------------------------------------------------------------------------------+----+--------+---------+-----------+--------------+-------------+----------------------------------------------------------------------------------------------------------------------------------------------------------------------------------------------------------------------------------------------------------------------------------------------------------------------------------------------------------------------------------------------------------------------------------------------------------------------------------------------------------------------------------------+------------+-----------------------------------+\n",
      "\n"
     ]
    }
   ],
   "source": [
    "deltaTable = DeltaTable.forPath(spark, DELTA_LAKE_DIR_ROOT)\n",
    "fullHistoryDF = deltaTable.history()\n",
    "fullHistoryDF.show(truncate=False)"
   ]
  },
  {
   "cell_type": "markdown",
   "id": "038d5201-b299-4ba7-b8e2-eb3dea090421",
   "metadata": {},
   "source": [
    "### THIS CONCLUDES THIS UNIT. PROCEED TO THE NEXT NOTEBOOK"
   ]
  }
 ],
 "metadata": {
  "language_info": {
   "codemirror_mode": {
    "name": "ipython",
    "version": 3
   },
   "file_extension": ".py",
   "mimetype": "text/x-python",
   "name": "python",
   "nbconvert_exporter": "python",
   "pygments_lexer": "ipython3",
   "version": "3.11.0"
  },
  "serverless_spark": "{\"name\":\"projects/delta-lake-diy-lab/locations/us-central1/sessions/delta-lake-lab-17460\",\"uuid\":\"7496b9aa-c1b2-4af0-b19a-eed494ea3479\",\"createTime\":\"2023-12-02T23:10:14.351363Z\",\"jupyterSession\":{},\"runtimeInfo\":{\"endpoints\":{\"Spark History Server\":\"https://in7kggl6mfcxxdldiezehugb4i-dot-us-central1.dataproc.googleusercontent.com/sparkhistory/\",\"BYOID Spark History Server\":\"https://in7kggl6mfcxxdldiezehugb4i-dot-us-central1.dataproc.byoid.googleusercontent.com/sparkhistory/\"}},\"state\":\"ACTIVE\",\"stateTime\":\"2023-12-02T23:13:27.294546Z\",\"creator\":\"admin@akhanolkar.altostrat.com\",\"runtimeConfig\":{\"version\":\"2.1.27\",\"properties\":{\"spark:spark.jars.packages\":\"io.delta:delta-core_2.13:2.4.0\",\"spark:spark.sql.catalog.spark_catalog\":\"org.apache.spark.sql.delta.catalog.DeltaCatalog\",\"spark:spark.sql.extensions\":\"io.delta.sql.DeltaSparkSessionExtension\",\"spark:spark.executor.instances\":\"2\",\"spark:spark.driver.cores\":\"4\",\"spark:spark.driver.memory\":\"9600m\",\"spark:spark.executor.cores\":\"4\",\"spark:spark.executor.memory\":\"9600m\",\"spark:spark.dynamicAllocation.executorAllocationRatio\":\"0.3\",\"spark:spark.eventLog.dir\":\"gs://dll-sphs-bucket-11002190840/7496b9aa-c1b2-4af0-b19a-eed494ea3479/spark-job-history\"}},\"environmentConfig\":{\"executionConfig\":{\"serviceAccount\":\"dll-lab-sa@delta-lake-diy-lab.iam.gserviceaccount.com\",\"subnetworkUri\":\"spark-snet\",\"idleTtl\":\"3600s\",\"ttl\":\"86400s\"},\"peripheralsConfig\":{\"metastoreService\":\"projects/delta-lake-diy-lab/locations/us-central1/services/dll-hms-11002190840\",\"sparkHistoryServerConfig\":{\"dataprocCluster\":\"projects/delta-lake-diy-lab/regions/us-central1/clusters/dll-sphs-11002190840\"}}},\"stateHistory\":[{\"state\":\"CREATING\",\"stateStartTime\":\"2023-12-02T23:10:14.351363Z\"}]}",
  "serverless_spark_kernel_name": "remote-d973f900c0bcdc8a7fcee568-pyspark",
  "vscode": {
   "interpreter": {
    "hash": "aee8b7b246df8f9039afb4144a1f6fd8d2ca17a180786b69acc140d282b71a49"
   }
  }
 },
 "nbformat": 4,
 "nbformat_minor": 5
}
