{
 "cells": [
  {
   "cell_type": "markdown",
   "id": "4529a790-8425-4600-841a-4b094b82eaa8",
   "metadata": {},
   "source": [
    "# Delta Lake Lab \n",
    "## Unit 7: ZORDER & DATA SKIPPING\n",
    "\n",
    "In the previous unit, we -\n",
    "1. Learned how to time travel\n",
    "\n",
    "In this unit, we will-\n",
    "1. Learn about Z-Ordering and how it further optimizes data skipping\n",
    "\n",
    "Z-Ordering is a (multi-dimensional clustering) technique to colocate related information in the same set of files. This co-locality is automatically used by Delta Lake in data-skipping algorithms. This behavior dramatically reduces the amount of data that Delta Lake on Apache Spark needs to read. To Z-Order data, you specify the columns to order on in the ZORDER BY clause.\n",
    "\n",
    "Data skipping information is collected automatically when you write data into a Delta Lake table. Delta Lake takes advantage of this information (minimum and maximum values for each column) at query time to provide faster queries. You do not need to configure data skipping; the feature is activated whenever applicable. However, its effectiveness depends on the layout of your data. For best results, apply Z-Ordering."
   ]
  },
  {
   "cell_type": "markdown",
   "id": "1a31c4fd-d465-4f52-8e56-3775bf499abc",
   "metadata": {},
   "source": [
    "### 1. Imports"
   ]
  },
  {
   "cell_type": "code",
   "execution_count": 1,
   "id": "1321bce9-178c-4065-8187-0a5728c1a370",
   "metadata": {},
   "outputs": [],
   "source": [
    "import pandas as pd\n",
    "\n",
    "from pyspark.sql.functions import month, date_format\n",
    "from pyspark.sql.types import IntegerType\n",
    "from pyspark.sql import SparkSession\n",
    "\n",
    "from delta.tables import *\n",
    "\n",
    "import warnings\n",
    "warnings.filterwarnings('ignore')"
   ]
  },
  {
   "cell_type": "markdown",
   "id": "ed295a74-ed1d-4b5d-831a-1b5dcf73c36f",
   "metadata": {},
   "source": [
    "### 2. Create a Spark session powered by Cloud Dataproc "
   ]
  },
  {
   "cell_type": "code",
   "execution_count": 2,
   "id": "b383d5ab-a0b9-45ab-a232-34d88f2a0065",
   "metadata": {},
   "outputs": [
    {
     "name": "stderr",
     "output_type": "stream",
     "text": [
      "23/12/02 23:54:43 WARN SparkSession: Using an existing Spark session; only runtime SQL configurations will take effect.\n"
     ]
    },
    {
     "data": {
      "text/html": [
       "\n",
       "            <div>\n",
       "                <p><b>SparkSession - hive</b></p>\n",
       "                \n",
       "        <div>\n",
       "            <p><b>SparkContext</b></p>\n",
       "\n",
       "            <p><a href=\"http://gdpic-srvls-session-7496b9aa-c1b2-4af0-b19a-eed494ea3479-m.us-central1-c.c.delta-lake-diy-lab.internal:4040\">Spark UI</a></p>\n",
       "\n",
       "            <dl>\n",
       "              <dt>Version</dt>\n",
       "                <dd><code>v3.4.0</code></dd>\n",
       "              <dt>Master</dt>\n",
       "                <dd><code>spark://gdpic-srvls-session-7496b9aa-c1b2-4af0-b19a-eed494ea3479-m:7077</code></dd>\n",
       "              <dt>AppName</dt>\n",
       "                <dd><code>PySparkShell</code></dd>\n",
       "            </dl>\n",
       "        </div>\n",
       "        \n",
       "            </div>\n",
       "        "
      ],
      "text/plain": [
       "<pyspark.sql.session.SparkSession at 0x7f9825d06b50>"
      ]
     },
     "execution_count": 2,
     "metadata": {},
     "output_type": "execute_result"
    }
   ],
   "source": [
    "spark = SparkSession.builder.appName('Loan Analysis').getOrCreate()\n",
    "spark"
   ]
  },
  {
   "cell_type": "markdown",
   "id": "63cd13e6-f3f5-4f2c-b4fc-d7e2660c6206",
   "metadata": {},
   "source": [
    "### 3. Declare variables"
   ]
  },
  {
   "cell_type": "code",
   "execution_count": 3,
   "id": "5596e31b-749a-4702-8879-6f05f9ff0c2d",
   "metadata": {},
   "outputs": [
    {
     "name": "stdout",
     "output_type": "stream",
     "text": [
      "PROJECT_ID:  delta-lake-diy-lab\n"
     ]
    }
   ],
   "source": [
    "project_id_output = !gcloud config list --format \"value(core.project)\" 2>/dev/null\n",
    "PROJECT_ID = project_id_output[0]\n",
    "print(\"PROJECT_ID: \", PROJECT_ID)"
   ]
  },
  {
   "cell_type": "code",
   "execution_count": 4,
   "id": "471c6743-a058-462b-851a-f34323f36243",
   "metadata": {},
   "outputs": [
    {
     "name": "stdout",
     "output_type": "stream",
     "text": [
      "PROJECT_NAME:  delta-lake-diy-lab\n"
     ]
    }
   ],
   "source": [
    "project_name_output = !gcloud projects describe $PROJECT_ID | grep name | cut -d':' -f2 | xargs\n",
    "PROJECT_NAME = project_name_output[0]\n",
    "print(\"PROJECT_NAME: \", PROJECT_NAME)"
   ]
  },
  {
   "cell_type": "code",
   "execution_count": 5,
   "id": "61929dc6-a083-433c-8a13-3d39d9c4a4a1",
   "metadata": {},
   "outputs": [
    {
     "name": "stdout",
     "output_type": "stream",
     "text": [
      "PROJECT_NUMBER:  11002190840\n"
     ]
    }
   ],
   "source": [
    "project_number_output = !gcloud projects describe $PROJECT_ID | grep projectNumber | cut -d':' -f2 | xargs\n",
    "PROJECT_NUMBER = project_number_output[0]\n",
    "print(\"PROJECT_NUMBER: \", PROJECT_NUMBER)"
   ]
  },
  {
   "cell_type": "code",
   "execution_count": 6,
   "id": "f8b79fd2-5243-41a4-ae87-e7f9dd87cf20",
   "metadata": {},
   "outputs": [
    {
     "name": "stdout",
     "output_type": "stream",
     "text": [
      "gs://dll-data-bucket-11002190840/delta-consumable\n"
     ]
    }
   ],
   "source": [
    "DATA_LAKE_ROOT_PATH= f\"gs://dll-data-bucket-{PROJECT_NUMBER}\"\n",
    "DELTA_LAKE_DIR_ROOT = f\"{DATA_LAKE_ROOT_PATH}/delta-consumable\"\n",
    "print(DELTA_LAKE_DIR_ROOT)"
   ]
  },
  {
   "cell_type": "code",
   "execution_count": 7,
   "id": "236ba666-5daf-4a40-bdfd-51764c26c7e1",
   "metadata": {},
   "outputs": [
    {
     "name": "stdout",
     "output_type": "stream",
     "text": [
      "gs://dll-data-bucket-11002190840/delta-consumable/part-00000-18ffd7b0-964d-4f1e-a648-0892a1d4373d-c000.snappy.parquet\n",
      "gs://dll-data-bucket-11002190840/delta-consumable/part-00000-55d5ffb4-6b4a-4ead-8591-983dc631339f-c000.snappy.parquet\n",
      "gs://dll-data-bucket-11002190840/delta-consumable/part-00000-5afc31da-4141-4f21-93e5-0ee8635aee9f-c000.snappy.parquet\n",
      "gs://dll-data-bucket-11002190840/delta-consumable/part-00000-5f4a2030-2b43-4229-815a-55fca555d323-c000.snappy.parquet\n",
      "gs://dll-data-bucket-11002190840/delta-consumable/part-00000-6486345e-6c92-4216-b9ed-ffb413e41b4d-c000.snappy.parquet\n",
      "gs://dll-data-bucket-11002190840/delta-consumable/part-00000-687d9651-589c-4d6c-a8fd-df5d01770e85-c000.snappy.parquet\n",
      "gs://dll-data-bucket-11002190840/delta-consumable/part-00000-6dbd9c8a-28bb-48a7-b1a9-5304b8f16bc2-c000.snappy.parquet\n",
      "gs://dll-data-bucket-11002190840/delta-consumable/part-00000-83d6b120-d178-4ac4-8c8e-f8d590f5f050-c000.snappy.parquet\n",
      "gs://dll-data-bucket-11002190840/delta-consumable/part-00000-871f07ab-ad93-461d-babf-8fc80f0e9dc1-c000.snappy.parquet\n",
      "gs://dll-data-bucket-11002190840/delta-consumable/part-00000-af39e13d-1030-4881-965c-406884eb9420-c000.snappy.parquet\n",
      "gs://dll-data-bucket-11002190840/delta-consumable/part-00000-dc870c0d-50c0-48b3-9d4d-7c28af28813c-c000.snappy.parquet\n",
      "gs://dll-data-bucket-11002190840/delta-consumable/part-00000-fe2f9136-6d38-4d3e-8090-bd41da49fe18-c000.snappy.parquet\n",
      "gs://dll-data-bucket-11002190840/delta-consumable/part-00001-1b170e17-7fe4-454b-837d-b65afed1268a-c000.snappy.parquet\n",
      "gs://dll-data-bucket-11002190840/delta-consumable/part-00001-79e76c00-dc20-474f-bec7-a73259521925-c000.snappy.parquet\n",
      "gs://dll-data-bucket-11002190840/delta-consumable/part-00001-abea117a-284d-40ff-9531-4aa8a5af3a23-c000.snappy.parquet\n",
      "gs://dll-data-bucket-11002190840/delta-consumable/part-00001-af96fa63-d091-4bc6-9272-19d70a65e1f4-c000.snappy.parquet\n",
      "gs://dll-data-bucket-11002190840/delta-consumable/part-00001-f6f7eeb2-8a71-471c-b861-bf00a8dc1fd5-c000.snappy.parquet\n",
      "gs://dll-data-bucket-11002190840/delta-consumable/part-00002-54385b23-cd20-4af5-8fc1-e316a26ed49b-c000.snappy.parquet\n",
      "gs://dll-data-bucket-11002190840/delta-consumable/part-00002-96e5a961-02cd-469b-9c07-3ed6cc2c2676-c000.snappy.parquet\n",
      "gs://dll-data-bucket-11002190840/delta-consumable/part-00002-c863f818-d21f-42a5-8448-907a61b0b844-c000.snappy.parquet\n",
      "gs://dll-data-bucket-11002190840/delta-consumable/part-00002-e63a7035-7481-4a3d-ba0f-72a2cb3f1ccb-c000.snappy.parquet\n",
      "gs://dll-data-bucket-11002190840/delta-consumable/part-00003-06c35ac3-7eec-4bc2-8794-a6f5c8adeca5-c000.snappy.parquet\n",
      "gs://dll-data-bucket-11002190840/delta-consumable/part-00003-2cc84a3f-44aa-4ee2-8dde-211c0723d2cb-c000.snappy.parquet\n",
      "gs://dll-data-bucket-11002190840/delta-consumable/part-00003-bbda21aa-8c5a-408f-a60c-701f57bcc9dd-c000.snappy.parquet\n",
      "gs://dll-data-bucket-11002190840/delta-consumable/part-00003-d0a5f790-85b1-4ee4-8ea0-2a8befd8f6ea-c000.snappy.parquet\n",
      "gs://dll-data-bucket-11002190840/delta-consumable/part-00004-2e70a8f6-f0a2-4d1f-970f-c0ce1f12e469-c000.snappy.parquet\n",
      "gs://dll-data-bucket-11002190840/delta-consumable/part-00004-71398d98-5873-4edd-acb5-00c64f09a24a-c000.snappy.parquet\n",
      "gs://dll-data-bucket-11002190840/delta-consumable/part-00004-ed8398ad-e154-4c83-ba36-998f186da912-c000.snappy.parquet\n",
      "gs://dll-data-bucket-11002190840/delta-consumable/part-00005-21fe6e0d-a00a-4f76-b1f6-20a9d4ecde3c-c000.snappy.parquet\n",
      "gs://dll-data-bucket-11002190840/delta-consumable/part-00005-8b29d02d-4959-4590-a799-9acc7eec3f2c-c000.snappy.parquet\n",
      "gs://dll-data-bucket-11002190840/delta-consumable/part-00005-d0308dcc-bfe7-4a80-b4dd-a1ee85812b59-c000.snappy.parquet\n",
      "gs://dll-data-bucket-11002190840/delta-consumable/part-00006-a07e1338-ec6c-43d9-9480-302b49a7fbea-c000.snappy.parquet\n",
      "gs://dll-data-bucket-11002190840/delta-consumable/part-00006-c316eaa6-fcb1-4a1f-902f-08a8970ae79c-c000.snappy.parquet\n",
      "gs://dll-data-bucket-11002190840/delta-consumable/part-00006-dec77ebd-c9cd-4384-80d2-ede06aec3d6f-c000.snappy.parquet\n",
      "gs://dll-data-bucket-11002190840/delta-consumable/part-00007-263abe71-24ef-4a19-aef6-87fe728c9652-c000.snappy.parquet\n",
      "gs://dll-data-bucket-11002190840/delta-consumable/part-00007-6eccb64b-4fce-488c-8441-65e047e1d369-c000.snappy.parquet\n",
      "gs://dll-data-bucket-11002190840/delta-consumable/part-00007-c36aa917-de97-48fb-9166-b3e749db0f2a-c000.snappy.parquet\n"
     ]
    }
   ],
   "source": [
    "# Lets take a look at the data lake before the zordering \n",
    "!gsutil ls -r $DELTA_LAKE_DIR_ROOT/part*"
   ]
  },
  {
   "cell_type": "markdown",
   "id": "dc922496-0676-4551-b04d-1b9167abe8ed",
   "metadata": {},
   "source": [
    "The author's output was-\n",
    "```\n",
    "gs://dll-data-bucket-885979867746/delta-consumable/:\n",
    "gs://dll-data-bucket-885979867746/delta-consumable/part-00000-228eb829-1144-4a6d-a0e2-4fd39d9e9f57-c000.snappy.parquet\n",
    "gs://dll-data-bucket-885979867746/delta-consumable/part-00000-29d7051f-ea28-4bd9-a8fd-8d9f8e38f163-c000.snappy.parquet\n",
    "gs://dll-data-bucket-885979867746/delta-consumable/part-00000-3eb98e04-4353-4e5f-a8a2-17a570111981-c000.snappy.parquet\n",
    "gs://dll-data-bucket-885979867746/delta-consumable/part-00000-47c79787-64f2-453c-8474-52cbcaeef3c2-c000.snappy.parquet\n",
    "gs://dll-data-bucket-885979867746/delta-consumable/part-00000-48902d8f-0572-4735-b0d7-95b1927cb294-c000.snappy.parquet\n",
    "gs://dll-data-bucket-885979867746/delta-consumable/part-00000-598882f5-6a6b-489f-a551-6e782e67702f-c000.snappy.parquet\n",
    "gs://dll-data-bucket-885979867746/delta-consumable/part-00000-61eebddf-adb1-4088-9520-6a953e6d3fff-c000.snappy.parquet\n",
    "gs://dll-data-bucket-885979867746/delta-consumable/part-00000-7b773887-eac1-481b-aa71-e57bd469f977-c000.snappy.parquet\n",
    "gs://dll-data-bucket-885979867746/delta-consumable/part-00000-89dfe8e5-2d40-49f6-b0a0-4b320db62d14-c000.snappy.parquet\n",
    "gs://dll-data-bucket-885979867746/delta-consumable/part-00000-b5620589-f197-4417-8fcb-ce013d82deb9-c000.snappy.parquet\n",
    "gs://dll-data-bucket-885979867746/delta-consumable/part-00000-c36f0527-e995-41d2-a8ea-776cc865f816-c000.snappy.parquet\n",
    "gs://dll-data-bucket-885979867746/delta-consumable/part-00001-487147d6-23f9-4a07-ae73-7cddbe8dfd06-c000.snappy.parquet\n",
    "gs://dll-data-bucket-885979867746/delta-consumable/part-00001-8d9a7ec0-3a4d-43e4-8e33-379ffb2e4a3a-c000.snappy.parquet\n",
    "gs://dll-data-bucket-885979867746/delta-consumable/part-00001-91311981-1505-4747-a8c9-6b3616efb4c0-c000.snappy.parquet\n",
    "gs://dll-data-bucket-885979867746/delta-consumable/part-00001-ad3ddbfe-cec8-4877-8b05-3d40da1079ba-c000.snappy.parquet\n",
    "gs://dll-data-bucket-885979867746/delta-consumable/part-00002-15ea05a6-24a6-41e3-b9d1-7073429eda5f-c000.snappy.parquet\n",
    "gs://dll-data-bucket-885979867746/delta-consumable/part-00002-1717bbe6-6038-404c-aea4-e83d93eb0fa8-c000.snappy.parquet\n",
    "gs://dll-data-bucket-885979867746/delta-consumable/part-00002-d43dcdd6-5fb8-4b31-baa2-5458bf321285-c000.snappy.parquet\n",
    "gs://dll-data-bucket-885979867746/delta-consumable/part-00003-4c2e181f-c1eb-458f-aa08-9be435e56bb5-c000.snappy.parquet\n",
    "gs://dll-data-bucket-885979867746/delta-consumable/part-00003-c15a6560-6d08-41f9-9ff8-546a02d4fca7-c000.snappy.parquet\n",
    "gs://dll-data-bucket-885979867746/delta-consumable/part-00003-e6f811e0-d076-4619-bb1f-4e1ffd7caeb0-c000.snappy.parquet\n",
    "gs://dll-data-bucket-885979867746/delta-consumable/part-00004-7663ab3e-1fbb-4ef9-bb08-80d4e6e3d9f4-c000.snappy.parquet\n",
    "gs://dll-data-bucket-885979867746/delta-consumable/part-00005-c9b6ff00-72cb-4264-8f2a-d01f6c27b759-c000.snappy.parquet\n",
    "```"
   ]
  },
  {
   "cell_type": "code",
   "execution_count": 8,
   "id": "950f5f4a-3466-476c-bde4-316e422d5665",
   "metadata": {},
   "outputs": [
    {
     "name": "stdout",
     "output_type": "stream",
     "text": [
      "37\n"
     ]
    }
   ],
   "source": [
    "!gsutil ls -r $DELTA_LAKE_DIR_ROOT/part* | wc -l"
   ]
  },
  {
   "cell_type": "markdown",
   "id": "ed74d358-e90b-46d0-b81c-1e29c25ccac5",
   "metadata": {},
   "source": [
    "### 4. ZORDER"
   ]
  },
  {
   "cell_type": "code",
   "execution_count": 9,
   "id": "234fcd71-7b34-4553-a84d-3ab3abbcf3b4",
   "metadata": {},
   "outputs": [
    {
     "name": "stderr",
     "output_type": "stream",
     "text": [
      "ivysettings.xml file not found in HIVE_HOME or HIVE_CONF_DIR,/etc/spark/conf/ivysettings.xml will be used\n",
      "23/12/02 23:55:04 WARN package: Truncated the string representation of a plan since it was too large. This behavior can be adjusted by setting 'spark.sql.debug.maxToStringFields'.\n",
      "                                                                                \r"
     ]
    },
    {
     "name": "stdout",
     "output_type": "stream",
     "text": [
      "+-------------------------------------------------+-------------------------------------------------------------------------------------------------------------------------------------------------------------------------------------------------+\n",
      "|path                                             |metrics                                                                                                                                                                                          |\n",
      "+-------------------------------------------------+-------------------------------------------------------------------------------------------------------------------------------------------------------------------------------------------------+\n",
      "|gs://dll-data-bucket-11002190840/delta-consumable|{1, 32, {7688, 7688, 7688.0, 1, 7688}, {993, 2048, 1539.625, 32, 49268}, 1, {all, {0, 0}, {32, 49268}, 0, {32, 49268}, 1, null}, 1, 32, 0, false, 0, 0, 1701561321279, 0, 8, 0, null, null, 3, 3}|\n",
      "+-------------------------------------------------+-------------------------------------------------------------------------------------------------------------------------------------------------------------------------------------------------+\n",
      "\n"
     ]
    }
   ],
   "source": [
    "spark.sql(\"OPTIMIZE loan_db.loans_by_state_delta ZORDER BY (addr_state)\").show(truncate=False)"
   ]
  },
  {
   "cell_type": "code",
   "execution_count": 10,
   "id": "97b70135-a0e3-4f5b-a917-086775bc2d49",
   "metadata": {},
   "outputs": [
    {
     "name": "stdout",
     "output_type": "stream",
     "text": [
      "     2 KiB  2023-12-02T23:51:00Z  gs://dll-data-bucket-11002190840/delta-consumable/part-00007-263abe71-24ef-4a19-aef6-87fe728c9652-c000.snappy.parquet\n",
      "     397 B  2023-12-02T23:40:33Z  gs://dll-data-bucket-11002190840/delta-consumable/part-00000-6486345e-6c92-4216-b9ed-ffb413e41b4d-c000.snappy.parquet\n",
      "     725 B  2023-12-02T23:39:48Z  gs://dll-data-bucket-11002190840/delta-consumable/part-00000-fe2f9136-6d38-4d3e-8090-bd41da49fe18-c000.snappy.parquet\n",
      "     725 B  2023-12-02T23:40:08Z  gs://dll-data-bucket-11002190840/delta-consumable/part-00000-af39e13d-1030-4881-965c-406884eb9420-c000.snappy.parquet\n",
      "     973 B  2023-12-02T23:39:28Z  gs://dll-data-bucket-11002190840/delta-consumable/part-00000-55d5ffb4-6b4a-4ead-8591-983dc631339f-c000.snappy.parquet\n",
      "     978 B  2023-12-02T23:19:54Z  gs://dll-data-bucket-11002190840/delta-consumable/part-00000-83d6b120-d178-4ac4-8c8e-f8d590f5f050-c000.snappy.parquet\n",
      "     993 B  2023-12-02T23:40:40Z  gs://dll-data-bucket-11002190840/delta-consumable/part-00000-18ffd7b0-964d-4f1e-a648-0892a1d4373d-c000.snappy.parquet\n",
      "   1.3 KiB  2023-12-02T23:50:30Z  gs://dll-data-bucket-11002190840/delta-consumable/part-00006-dec77ebd-c9cd-4384-80d2-ede06aec3d6f-c000.snappy.parquet\n",
      "   1.6 KiB  2023-12-02T23:51:00Z  gs://dll-data-bucket-11002190840/delta-consumable/part-00006-c316eaa6-fcb1-4a1f-902f-08a8970ae79c-c000.snappy.parquet\n",
      "   1.7 KiB  2023-12-02T23:51:00Z  gs://dll-data-bucket-11002190840/delta-consumable/part-00001-af96fa63-d091-4bc6-9272-19d70a65e1f4-c000.snappy.parquet\n",
      "   1.9 KiB  2023-12-02T23:50:42Z  gs://dll-data-bucket-11002190840/delta-consumable/part-00007-c36aa917-de97-48fb-9166-b3e749db0f2a-c000.snappy.parquet\n",
      "  1.31 KiB  2023-12-02T23:50:01Z  gs://dll-data-bucket-11002190840/delta-consumable/part-00000-dc870c0d-50c0-48b3-9d4d-7c28af28813c-c000.snappy.parquet\n",
      "  1.31 KiB  2023-12-02T23:50:14Z  gs://dll-data-bucket-11002190840/delta-consumable/part-00000-687d9651-589c-4d6c-a8fd-df5d01770e85-c000.snappy.parquet\n",
      "  1.31 KiB  2023-12-02T23:50:14Z  gs://dll-data-bucket-11002190840/delta-consumable/part-00001-f6f7eeb2-8a71-471c-b861-bf00a8dc1fd5-c000.snappy.parquet\n",
      "  1.31 KiB  2023-12-02T23:50:14Z  gs://dll-data-bucket-11002190840/delta-consumable/part-00002-c863f818-d21f-42a5-8448-907a61b0b844-c000.snappy.parquet\n",
      "  1.31 KiB  2023-12-02T23:50:29Z  gs://dll-data-bucket-11002190840/delta-consumable/part-00000-871f07ab-ad93-461d-babf-8fc80f0e9dc1-c000.snappy.parquet\n",
      "  1.31 KiB  2023-12-02T23:50:29Z  gs://dll-data-bucket-11002190840/delta-consumable/part-00005-21fe6e0d-a00a-4f76-b1f6-20a9d4ecde3c-c000.snappy.parquet\n",
      "  1.31 KiB  2023-12-02T23:50:30Z  gs://dll-data-bucket-11002190840/delta-consumable/part-00001-1b170e17-7fe4-454b-837d-b65afed1268a-c000.snappy.parquet\n",
      "  1.31 KiB  2023-12-02T23:50:30Z  gs://dll-data-bucket-11002190840/delta-consumable/part-00002-54385b23-cd20-4af5-8fc1-e316a26ed49b-c000.snappy.parquet\n",
      "  1.31 KiB  2023-12-02T23:50:30Z  gs://dll-data-bucket-11002190840/delta-consumable/part-00003-2cc84a3f-44aa-4ee2-8dde-211c0723d2cb-c000.snappy.parquet\n",
      "  1.31 KiB  2023-12-02T23:50:30Z  gs://dll-data-bucket-11002190840/delta-consumable/part-00004-71398d98-5873-4edd-acb5-00c64f09a24a-c000.snappy.parquet\n",
      "  1.49 KiB  2023-12-02T23:50:42Z  gs://dll-data-bucket-11002190840/delta-consumable/part-00000-5f4a2030-2b43-4229-815a-55fca555d323-c000.snappy.parquet\n",
      "  1.49 KiB  2023-12-02T23:50:42Z  gs://dll-data-bucket-11002190840/delta-consumable/part-00001-abea117a-284d-40ff-9531-4aa8a5af3a23-c000.snappy.parquet\n",
      "  1.49 KiB  2023-12-02T23:50:42Z  gs://dll-data-bucket-11002190840/delta-consumable/part-00003-bbda21aa-8c5a-408f-a60c-701f57bcc9dd-c000.snappy.parquet\n",
      "  1.49 KiB  2023-12-02T23:50:42Z  gs://dll-data-bucket-11002190840/delta-consumable/part-00005-8b29d02d-4959-4590-a799-9acc7eec3f2c-c000.snappy.parquet\n",
      "  1.49 KiB  2023-12-02T23:50:43Z  gs://dll-data-bucket-11002190840/delta-consumable/part-00002-e63a7035-7481-4a3d-ba0f-72a2cb3f1ccb-c000.snappy.parquet\n",
      "  1.49 KiB  2023-12-02T23:50:43Z  gs://dll-data-bucket-11002190840/delta-consumable/part-00004-2e70a8f6-f0a2-4d1f-970f-c0ce1f12e469-c000.snappy.parquet\n",
      "  1.49 KiB  2023-12-02T23:50:43Z  gs://dll-data-bucket-11002190840/delta-consumable/part-00006-a07e1338-ec6c-43d9-9480-302b49a7fbea-c000.snappy.parquet\n",
      "  1.61 KiB  2023-12-02T23:51:00Z  gs://dll-data-bucket-11002190840/delta-consumable/part-00004-ed8398ad-e154-4c83-ba36-998f186da912-c000.snappy.parquet\n",
      "  1.61 KiB  2023-12-02T23:51:00Z  gs://dll-data-bucket-11002190840/delta-consumable/part-00005-d0308dcc-bfe7-4a80-b4dd-a1ee85812b59-c000.snappy.parquet\n",
      "  1.65 KiB  2023-12-02T23:49:43Z  gs://dll-data-bucket-11002190840/delta-consumable/part-00000-6dbd9c8a-28bb-48a7-b1a9-5304b8f16bc2-c000.snappy.parquet\n",
      "  1.65 KiB  2023-12-02T23:50:02Z  gs://dll-data-bucket-11002190840/delta-consumable/part-00001-79e76c00-dc20-474f-bec7-a73259521925-c000.snappy.parquet\n",
      "  1.65 KiB  2023-12-02T23:50:14Z  gs://dll-data-bucket-11002190840/delta-consumable/part-00003-06c35ac3-7eec-4bc2-8794-a6f5c8adeca5-c000.snappy.parquet\n",
      "  1.65 KiB  2023-12-02T23:50:29Z  gs://dll-data-bucket-11002190840/delta-consumable/part-00007-6eccb64b-4fce-488c-8441-65e047e1d369-c000.snappy.parquet\n",
      "  1.68 KiB  2023-12-02T23:51:00Z  gs://dll-data-bucket-11002190840/delta-consumable/part-00000-5afc31da-4141-4f21-93e5-0ee8635aee9f-c000.snappy.parquet\n",
      "  1.81 KiB  2023-12-02T23:51:00Z  gs://dll-data-bucket-11002190840/delta-consumable/part-00003-d0a5f790-85b1-4ee4-8ea0-2a8befd8f6ea-c000.snappy.parquet\n",
      "  1.83 KiB  2023-12-02T23:51:00Z  gs://dll-data-bucket-11002190840/delta-consumable/part-00002-96e5a961-02cd-469b-9c07-3ed6cc2c2676-c000.snappy.parquet\n",
      "  7.51 KiB  2023-12-02T23:55:17Z  gs://dll-data-bucket-11002190840/delta-consumable/part-00000-0a06babc-6211-4fe4-ad01-3e1f9726830c-c000.snappy.parquet\n",
      "TOTAL: 38 objects, 60754 bytes (59.33 KiB)\n"
     ]
    }
   ],
   "source": [
    "# Lets take a look at the data lake post the zordering. There is one extra file, that appears to be a file that has all the data in it.  \n",
    "!gsutil ls -lh $DELTA_LAKE_DIR_ROOT/part* | sort"
   ]
  },
  {
   "cell_type": "code",
   "execution_count": 11,
   "id": "3985f4e3-87bc-40dc-95c1-5364be50664d",
   "metadata": {},
   "outputs": [
    {
     "name": "stdout",
     "output_type": "stream",
     "text": [
      "38\n"
     ]
    }
   ],
   "source": [
    "!gsutil ls -r $DELTA_LAKE_DIR_ROOT/part* | wc -l"
   ]
  },
  {
   "cell_type": "code",
   "execution_count": 12,
   "id": "0491e7ba-4fd4-46b2-9e6f-b7143c6d873e",
   "metadata": {},
   "outputs": [
    {
     "name": "stdout",
     "output_type": "stream",
     "text": [
      "gs://dll-data-bucket-11002190840/delta-consumable/_delta_log/:\n",
      "gs://dll-data-bucket-11002190840/delta-consumable/_delta_log/\n",
      "gs://dll-data-bucket-11002190840/delta-consumable/_delta_log/00000000000000000000.json\n",
      "gs://dll-data-bucket-11002190840/delta-consumable/_delta_log/00000000000000000001.json\n",
      "gs://dll-data-bucket-11002190840/delta-consumable/_delta_log/00000000000000000002.json\n",
      "gs://dll-data-bucket-11002190840/delta-consumable/_delta_log/00000000000000000003.json\n",
      "gs://dll-data-bucket-11002190840/delta-consumable/_delta_log/00000000000000000004.json\n",
      "gs://dll-data-bucket-11002190840/delta-consumable/_delta_log/00000000000000000005.json\n",
      "gs://dll-data-bucket-11002190840/delta-consumable/_delta_log/00000000000000000006.json\n",
      "gs://dll-data-bucket-11002190840/delta-consumable/_delta_log/00000000000000000007.json\n",
      "gs://dll-data-bucket-11002190840/delta-consumable/_delta_log/00000000000000000008.json\n",
      "gs://dll-data-bucket-11002190840/delta-consumable/_delta_log/00000000000000000009.json\n",
      "gs://dll-data-bucket-11002190840/delta-consumable/_delta_log/00000000000000000010.checkpoint.parquet\n",
      "gs://dll-data-bucket-11002190840/delta-consumable/_delta_log/00000000000000000010.json\n",
      "gs://dll-data-bucket-11002190840/delta-consumable/_delta_log/00000000000000000011.json\n",
      "gs://dll-data-bucket-11002190840/delta-consumable/_delta_log/00000000000000000012.json\n",
      "gs://dll-data-bucket-11002190840/delta-consumable/_delta_log/_last_checkpoint\n"
     ]
    }
   ],
   "source": [
    "# Lets take a look at the transaction log post the zordering \n",
    "!gsutil ls -r $DELTA_LAKE_DIR_ROOT/_delta_log"
   ]
  },
  {
   "cell_type": "code",
   "execution_count": 13,
   "id": "536da94c-836d-4e30-89f4-78f597177b03",
   "metadata": {},
   "outputs": [
    {
     "name": "stdout",
     "output_type": "stream",
     "text": [
      "{\"commitInfo\":{\"timestamp\":1701561060973,\"operation\":\"WRITE\",\"operationParameters\":{\"mode\":\"Append\",\"partitionBy\":\"[]\"},\"readVersion\":10,\"isolationLevel\":\"Serializable\",\"isBlindAppend\":false,\"operationMetrics\":{\"numFiles\":\"8\",\"numOutputRows\":\"1632\",\"numOutputBytes\":\"14163\"},\"engineInfo\":\"Apache-Spark/3.4.0 Delta-Lake/2.4.0\",\"txnId\":\"5498c9c4-eeb1-4e4f-94f6-8f8d35ea1bc1\"}}\n",
      "{\"add\":{\"path\":\"part-00000-5afc31da-4141-4f21-93e5-0ee8635aee9f-c000.snappy.parquet\",\"partitionValues\":{},\"size\":1717,\"modificationTime\":1701561060788,\"dataChange\":true,\"stats\":\"{\\\"numRecords\\\":204,\\\"minValues\\\":{\\\"addr_state\\\":\\\"AK\\\",\\\"count\\\":0,\\\"collateral_value\\\":0.0},\\\"maxValues\\\":{\\\"addr_state\\\":\\\"WY\\\",\\\"count\\\":8942,\\\"collateral_value\\\":8.94202385061306E7},\\\"nullCount\\\":{\\\"addr_state\\\":0,\\\"count\\\":0,\\\"collateral_value\\\":0}}\"}}\n",
      "{\"add\":{\"path\":\"part-00001-af96fa63-d091-4bc6-9272-19d70a65e1f4-c000.snappy.parquet\",\"partitionValues\":{},\"size\":1742,\"modificationTime\":1701561060786,\"dataChange\":true,\"stats\":\"{\\\"numRecords\\\":204,\\\"minValues\\\":{\\\"addr_state\\\":\\\"AK\\\",\\\"count\\\":0,\\\"collateral_value\\\":0.0},\\\"maxValues\\\":{\\\"addr_state\\\":\\\"WY\\\",\\\"count\\\":2871,\\\"collateral_value\\\":2.8717038456031956E7},\\\"nullCount\\\":{\\\"addr_state\\\":0,\\\"count\\\":0,\\\"collateral_value\\\":0}}\"}}\n",
      "{\"add\":{\"path\":\"part-00002-96e5a961-02cd-469b-9c07-3ed6cc2c2676-c000.snappy.parquet\",\"partitionValues\":{},\"size\":1872,\"modificationTime\":1701561060787,\"dataChange\":true,\"stats\":\"{\\\"numRecords\\\":306,\\\"minValues\\\":{\\\"addr_state\\\":\\\"AK\\\",\\\"count\\\":0,\\\"collateral_value\\\":0.0},\\\"maxValues\\\":{\\\"addr_state\\\":\\\"WY\\\",\\\"count\\\":495,\\\"collateral_value\\\":4959554.7322138725},\\\"nullCount\\\":{\\\"addr_state\\\":0,\\\"count\\\":0,\\\"collateral_value\\\":0}}\"}}\n",
      "{\"add\":{\"path\":\"part-00003-d0a5f790-85b1-4ee4-8ea0-2a8befd8f6ea-c000.snappy.parquet\",\"partitionValues\":{},\"size\":1851,\"modificationTime\":1701561060817,\"dataChange\":true,\"stats\":\"{\\\"numRecords\\\":306,\\\"minValues\\\":{\\\"addr_state\\\":\\\"AK\\\",\\\"count\\\":0,\\\"collateral_value\\\":0.0},\\\"maxValues\\\":{\\\"addr_state\\\":\\\"WY\\\",\\\"count\\\":481,\\\"collateral_value\\\":4814206.403152706},\\\"nullCount\\\":{\\\"addr_state\\\":0,\\\"count\\\":0,\\\"collateral_value\\\":0}}\"}}\n",
      "{\"add\":{\"path\":\"part-00004-ed8398ad-e154-4c83-ba36-998f186da912-c000.snappy.parquet\",\"partitionValues\":{},\"size\":1647,\"modificationTime\":1701561060752,\"dataChange\":true,\"stats\":\"{\\\"numRecords\\\":153,\\\"minValues\\\":{\\\"addr_state\\\":\\\"AK\\\",\\\"count\\\":0,\\\"collateral_value\\\":0.0},\\\"maxValues\\\":{\\\"addr_state\\\":\\\"WY\\\",\\\"count\\\":1294,\\\"collateral_value\\\":1.2948166543442843E7},\\\"nullCount\\\":{\\\"addr_state\\\":0,\\\"count\\\":0,\\\"collateral_value\\\":0}}\"}}\n",
      "{\"add\":{\"path\":\"part-00005-d0308dcc-bfe7-4a80-b4dd-a1ee85812b59-c000.snappy.parquet\",\"partitionValues\":{},\"size\":1644,\"modificationTime\":1701561060903,\"dataChange\":true,\"stats\":\"{\\\"numRecords\\\":153,\\\"minValues\\\":{\\\"addr_state\\\":\\\"AK\\\",\\\"count\\\":0,\\\"collateral_value\\\":0.0},\\\"maxValues\\\":{\\\"addr_state\\\":\\\"WY\\\",\\\"count\\\":588,\\\"collateral_value\\\":5887933.710199478},\\\"nullCount\\\":{\\\"addr_state\\\":0,\\\"count\\\":0,\\\"collateral_value\\\":0}}\"}}\n",
      "{\"add\":{\"path\":\"part-00006-c316eaa6-fcb1-4a1f-902f-08a8970ae79c-c000.snappy.parquet\",\"partitionValues\":{},\"size\":1642,\"modificationTime\":1701561060688,\"dataChange\":true,\"stats\":\"{\\\"numRecords\\\":153,\\\"minValues\\\":{\\\"addr_state\\\":\\\"AK\\\",\\\"count\\\":0,\\\"collateral_value\\\":0.0},\\\"maxValues\\\":{\\\"addr_state\\\":\\\"WY\\\",\\\"count\\\":624,\\\"collateral_value\\\":6244332.390103304},\\\"nullCount\\\":{\\\"addr_state\\\":0,\\\"count\\\":0,\\\"collateral_value\\\":0}}\"}}\n",
      "{\"add\":{\"path\":\"part-00007-263abe71-24ef-4a19-aef6-87fe728c9652-c000.snappy.parquet\",\"partitionValues\":{},\"size\":2048,\"modificationTime\":1701561060847,\"dataChange\":true,\"stats\":\"{\\\"numRecords\\\":153,\\\"minValues\\\":{\\\"addr_state\\\":\\\"AK\\\",\\\"count\\\":0,\\\"collateral_value\\\":0.0},\\\"maxValues\\\":{\\\"addr_state\\\":\\\"WY\\\",\\\"count\\\":11893,\\\"collateral_value\\\":1.1893883920118132E8},\\\"nullCount\\\":{\\\"addr_state\\\":0,\\\"count\\\":0,\\\"collateral_value\\\":0}}\"}}\n"
     ]
    }
   ],
   "source": [
    "# And review what is in the delta log\n",
    "!gsutil cat $DELTA_LAKE_DIR_ROOT/_delta_log/00000000000000000011.json"
   ]
  },
  {
   "cell_type": "markdown",
   "id": "b86593ab-c082-4067-8f45-4d7f1836fef4",
   "metadata": {},
   "source": [
    "### THIS CONCLUDES THIS LAB. PROCEED TO THE NEXT NOTEBOOK."
   ]
  }
 ],
 "metadata": {
  "language_info": {
   "codemirror_mode": {
    "name": "ipython",
    "version": 3
   },
   "file_extension": ".py",
   "mimetype": "text/x-python",
   "name": "python",
   "nbconvert_exporter": "python",
   "pygments_lexer": "ipython3",
   "version": "3.11.0"
  },
  "serverless_spark": "{\"name\":\"projects/delta-lake-diy-lab/locations/us-central1/sessions/delta-lake-lab-17460\",\"uuid\":\"7496b9aa-c1b2-4af0-b19a-eed494ea3479\",\"createTime\":\"2023-12-02T23:10:14.351363Z\",\"jupyterSession\":{},\"runtimeInfo\":{\"endpoints\":{\"Spark History Server\":\"https://in7kggl6mfcxxdldiezehugb4i-dot-us-central1.dataproc.googleusercontent.com/sparkhistory/\",\"BYOID Spark History Server\":\"https://in7kggl6mfcxxdldiezehugb4i-dot-us-central1.dataproc.byoid.googleusercontent.com/sparkhistory/\"}},\"state\":\"ACTIVE\",\"stateTime\":\"2023-12-02T23:13:27.294546Z\",\"creator\":\"admin@akhanolkar.altostrat.com\",\"runtimeConfig\":{\"version\":\"2.1.27\",\"properties\":{\"spark:spark.jars.packages\":\"io.delta:delta-core_2.13:2.4.0\",\"spark:spark.sql.catalog.spark_catalog\":\"org.apache.spark.sql.delta.catalog.DeltaCatalog\",\"spark:spark.sql.extensions\":\"io.delta.sql.DeltaSparkSessionExtension\",\"spark:spark.executor.instances\":\"2\",\"spark:spark.driver.cores\":\"4\",\"spark:spark.driver.memory\":\"9600m\",\"spark:spark.executor.cores\":\"4\",\"spark:spark.executor.memory\":\"9600m\",\"spark:spark.dynamicAllocation.executorAllocationRatio\":\"0.3\",\"spark:spark.eventLog.dir\":\"gs://dll-sphs-bucket-11002190840/7496b9aa-c1b2-4af0-b19a-eed494ea3479/spark-job-history\"}},\"environmentConfig\":{\"executionConfig\":{\"serviceAccount\":\"dll-lab-sa@delta-lake-diy-lab.iam.gserviceaccount.com\",\"subnetworkUri\":\"spark-snet\",\"idleTtl\":\"3600s\",\"ttl\":\"86400s\"},\"peripheralsConfig\":{\"metastoreService\":\"projects/delta-lake-diy-lab/locations/us-central1/services/dll-hms-11002190840\",\"sparkHistoryServerConfig\":{\"dataprocCluster\":\"projects/delta-lake-diy-lab/regions/us-central1/clusters/dll-sphs-11002190840\"}}},\"stateHistory\":[{\"state\":\"CREATING\",\"stateStartTime\":\"2023-12-02T23:10:14.351363Z\"}]}",
  "serverless_spark_kernel_name": "remote-d973f900c0bcdc8a7fcee568-pyspark",
  "vscode": {
   "interpreter": {
    "hash": "aee8b7b246df8f9039afb4144a1f6fd8d2ca17a180786b69acc140d282b71a49"
   }
  }
 },
 "nbformat": 4,
 "nbformat_minor": 5
}
