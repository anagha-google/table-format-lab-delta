{
 "cells": [
  {
   "cell_type": "markdown",
   "id": "4529a790-8425-4600-841a-4b094b82eaa8",
   "metadata": {},
   "source": [
    "# Delta Lake Lab \n",
    "## Unit 2: Create a Delta Lake table\n",
    "In the previous unit -\n",
    "1. We read parquet data in the datalake\n",
    "2. Cleansed it, subset it and persisted it as parquet to the datalake parquet-consumable directory\n",
    "3. We crated a database called loan_db and defined an external table on the data in parquet-consumable\n",
    "\n",
    "In this unit you will learn to -\n",
    "1. Create a base table in Delta off of the Parquet table in the prior notebook.\n",
    "2. Create a partitioned Delta table off of the Parquet table in the prior notebook."
   ]
  },
  {
   "cell_type": "markdown",
   "id": "1a31c4fd-d465-4f52-8e56-3775bf499abc",
   "metadata": {},
   "source": [
    "### 1. Imports"
   ]
  },
  {
   "cell_type": "code",
   "execution_count": 1,
   "id": "1321bce9-178c-4065-8187-0a5728c1a370",
   "metadata": {},
   "outputs": [],
   "source": [
    "import pandas as pd\n",
    "\n",
    "from pyspark.sql.functions import month, date_format\n",
    "from pyspark.sql.types import IntegerType\n",
    "from pyspark.sql import SparkSession\n",
    "\n",
    "from delta.tables import *\n",
    "\n",
    "import warnings\n",
    "warnings.filterwarnings('ignore')"
   ]
  },
  {
   "cell_type": "markdown",
   "id": "ed295a74-ed1d-4b5d-831a-1b5dcf73c36f",
   "metadata": {},
   "source": [
    "### 2. Create a Spark session powered by Cloud Dataproc "
   ]
  },
  {
   "cell_type": "code",
   "execution_count": 2,
   "id": "b383d5ab-a0b9-45ab-a232-34d88f2a0065",
   "metadata": {},
   "outputs": [
    {
     "name": "stderr",
     "output_type": "stream",
     "text": [
      "23/12/02 23:19:38 WARN SparkSession: Using an existing Spark session; only runtime SQL configurations will take effect.\n"
     ]
    },
    {
     "data": {
      "text/html": [
       "\n",
       "            <div>\n",
       "                <p><b>SparkSession - hive</b></p>\n",
       "                \n",
       "        <div>\n",
       "            <p><b>SparkContext</b></p>\n",
       "\n",
       "            <p><a href=\"http://gdpic-srvls-session-7496b9aa-c1b2-4af0-b19a-eed494ea3479-m.us-central1-c.c.delta-lake-diy-lab.internal:4040\">Spark UI</a></p>\n",
       "\n",
       "            <dl>\n",
       "              <dt>Version</dt>\n",
       "                <dd><code>v3.4.0</code></dd>\n",
       "              <dt>Master</dt>\n",
       "                <dd><code>spark://gdpic-srvls-session-7496b9aa-c1b2-4af0-b19a-eed494ea3479-m:7077</code></dd>\n",
       "              <dt>AppName</dt>\n",
       "                <dd><code>PySparkShell</code></dd>\n",
       "            </dl>\n",
       "        </div>\n",
       "        \n",
       "            </div>\n",
       "        "
      ],
      "text/plain": [
       "<pyspark.sql.session.SparkSession at 0x7f30d0bc3fd0>"
      ]
     },
     "execution_count": 2,
     "metadata": {},
     "output_type": "execute_result"
    }
   ],
   "source": [
    "spark = SparkSession.builder.appName('Loan Analysis').getOrCreate()\n",
    "spark"
   ]
  },
  {
   "cell_type": "markdown",
   "id": "63cd13e6-f3f5-4f2c-b4fc-d7e2660c6206",
   "metadata": {},
   "source": [
    "### 3. Declare variables"
   ]
  },
  {
   "cell_type": "code",
   "execution_count": 3,
   "id": "5596e31b-749a-4702-8879-6f05f9ff0c2d",
   "metadata": {},
   "outputs": [
    {
     "name": "stdout",
     "output_type": "stream",
     "text": [
      "PROJECT_ID:  delta-lake-diy-lab\n"
     ]
    }
   ],
   "source": [
    "project_id_output = !gcloud config list --format \"value(core.project)\" 2>/dev/null\n",
    "PROJECT_ID = project_id_output[0]\n",
    "print(\"PROJECT_ID: \", PROJECT_ID)"
   ]
  },
  {
   "cell_type": "code",
   "execution_count": 4,
   "id": "471c6743-a058-462b-851a-f34323f36243",
   "metadata": {},
   "outputs": [
    {
     "name": "stdout",
     "output_type": "stream",
     "text": [
      "PROJECT_NAME:  delta-lake-diy-lab\n"
     ]
    }
   ],
   "source": [
    "project_name_output = !gcloud projects describe $PROJECT_ID | grep name | cut -d':' -f2 | xargs\n",
    "PROJECT_NAME = project_name_output[0]\n",
    "print(\"PROJECT_NAME: \", PROJECT_NAME)"
   ]
  },
  {
   "cell_type": "code",
   "execution_count": 5,
   "id": "61929dc6-a083-433c-8a13-3d39d9c4a4a1",
   "metadata": {},
   "outputs": [
    {
     "name": "stdout",
     "output_type": "stream",
     "text": [
      "PROJECT_NUMBER:  11002190840\n"
     ]
    }
   ],
   "source": [
    "project_number_output = !gcloud projects describe $PROJECT_ID | grep projectNumber | cut -d':' -f2 | xargs\n",
    "PROJECT_NUMBER = project_number_output[0]\n",
    "print(\"PROJECT_NUMBER: \", PROJECT_NUMBER)"
   ]
  },
  {
   "cell_type": "code",
   "execution_count": 6,
   "id": "f8b79fd2-5243-41a4-ae87-e7f9dd87cf20",
   "metadata": {},
   "outputs": [],
   "source": [
    "DATA_LAKE_ROOT_PATH= f\"gs://dll-data-bucket-{PROJECT_NUMBER}\""
   ]
  },
  {
   "cell_type": "markdown",
   "id": "d4e87d5b-2b61-4ee7-9595-7aa5857a613d",
   "metadata": {},
   "source": [
    "### 4. Create an unpartitioned Delta table\n",
    "We will use this for the test of the lab"
   ]
  },
  {
   "cell_type": "code",
   "execution_count": 7,
   "id": "1fa7c08d-a9e2-4992-8de4-15c6b8039f61",
   "metadata": {},
   "outputs": [],
   "source": [
    "DELTA_LAKE_DIR_ROOT = f\"{DATA_LAKE_ROOT_PATH}/delta-consumable\""
   ]
  },
  {
   "cell_type": "code",
   "execution_count": 8,
   "id": "75af85d5-27a5-4307-8778-d7c3594e5836",
   "metadata": {},
   "outputs": [
    {
     "name": "stderr",
     "output_type": "stream",
     "text": [
      "ivysettings.xml file not found in HIVE_HOME or HIVE_CONF_DIR,/etc/spark/conf/ivysettings.xml will be used\n",
      "23/12/02 23:20:00 WARN package: Truncated the string representation of a plan since it was too large. This behavior can be adjusted by setting 'spark.sql.debug.maxToStringFields'.\n",
      "                                                                                \r"
     ]
    }
   ],
   "source": [
    "# Create delta dataset from the Parquet table\n",
    "spark.sql(\"SELECT addr_state,count(*) as count FROM loan_db.loans_by_state_parquet group by addr_state\").write.mode(\"overwrite\").format(\"delta\").save(f\"{DELTA_LAKE_DIR_ROOT}\")"
   ]
  },
  {
   "cell_type": "code",
   "execution_count": 9,
   "id": "01f9b9ce-0e71-4e9e-b8dd-8377c0ae7494",
   "metadata": {},
   "outputs": [
    {
     "name": "stdout",
     "output_type": "stream",
     "text": [
      "++\n",
      "||\n",
      "++\n",
      "++\n",
      "\n"
     ]
    },
    {
     "name": "stderr",
     "output_type": "stream",
     "text": [
      "23/12/02 23:20:09 WARN HiveExternalCatalog: Couldn't find corresponding Hive SerDe for data source provider delta. Persisting data source table `spark_catalog`.`loan_db`.`loans_by_state_delta` into Hive metastore in Spark SQL specific format, which is NOT compatible with Hive.\n",
      "23/12/02 23:20:09 WARN SessionState: METASTORE_FILTER_HOOK will be ignored, since hive.security.authorization.manager is set to instance of HiveAuthorizerFactory.\n"
     ]
    },
    {
     "data": {
      "text/plain": [
       "DataFrame[]"
      ]
     },
     "execution_count": 9,
     "metadata": {},
     "output_type": "execute_result"
    }
   ],
   "source": [
    "# Define external delta table definition\n",
    "spark.sql(\"DROP TABLE IF EXISTS loan_db.loans_by_state_delta;\").show(truncate=False)\n",
    "spark.sql(f\"CREATE TABLE loan_db.loans_by_state_delta USING delta LOCATION \\\"{DELTA_LAKE_DIR_ROOT}\\\"\")"
   ]
  },
  {
   "cell_type": "code",
   "execution_count": 10,
   "id": "f630f3b9-1333-450b-a6fc-7c6c4d2a7e58",
   "metadata": {},
   "outputs": [
    {
     "name": "stdout",
     "output_type": "stream",
     "text": [
      "+---------+--------------------+-----------+\n",
      "|namespace|           tableName|isTemporary|\n",
      "+---------+--------------------+-----------+\n",
      "|  loan_db|loans_by_state_delta|      false|\n",
      "|  loan_db|loans_by_state_pa...|      false|\n",
      "|  loan_db|loans_cleansed_pa...|      false|\n",
      "+---------+--------------------+-----------+\n",
      "\n"
     ]
    }
   ],
   "source": [
    "spark.sql(\"show tables from loan_db;\").show()"
   ]
  },
  {
   "cell_type": "code",
   "execution_count": 11,
   "id": "54ce6b8c-b366-457c-a870-68f336d95f55",
   "metadata": {},
   "outputs": [
    {
     "name": "stderr",
     "output_type": "stream",
     "text": [
      "                                                                                \r"
     ]
    },
    {
     "name": "stdout",
     "output_type": "stream",
     "text": [
      "+----------+-----+\n",
      "|addr_state|count|\n",
      "+----------+-----+\n",
      "|        AZ|    1|\n",
      "|        SC|    1|\n",
      "+----------+-----+\n",
      "\n"
     ]
    }
   ],
   "source": [
    "spark.sql(\"select * from loan_db.loans_by_state_delta limit 2\").show()"
   ]
  },
  {
   "cell_type": "code",
   "execution_count": 12,
   "id": "734e1bc2-d0e9-4f7b-b4b0-25082cbe7afa",
   "metadata": {},
   "outputs": [
    {
     "name": "stdout",
     "output_type": "stream",
     "text": [
      "+--------------------+--------------------+-------+\n",
      "|            col_name|           data_type|comment|\n",
      "+--------------------+--------------------+-------+\n",
      "|          addr_state|              string|   null|\n",
      "|               count|              bigint|   null|\n",
      "|                    |                    |       |\n",
      "|# Detailed Table ...|                    |       |\n",
      "|                Name|spark_catalog.loa...|       |\n",
      "|                Type|            EXTERNAL|       |\n",
      "|            Location|gs://dll-data-buc...|       |\n",
      "|            Provider|               delta|       |\n",
      "|               Owner|               spark|       |\n",
      "|    Table Properties|[delta.minReaderV...|       |\n",
      "+--------------------+--------------------+-------+\n",
      "\n"
     ]
    }
   ],
   "source": [
    "spark.sql(\"DESCRIBE FORMATTED loan_db.loans_by_state_delta\").show()"
   ]
  },
  {
   "cell_type": "code",
   "execution_count": 13,
   "id": "dbaa4248-2cd4-415c-a690-5b4f627d557f",
   "metadata": {},
   "outputs": [
    {
     "name": "stdout",
     "output_type": "stream",
     "text": [
      "+--------------------+--------------------+-------+\n",
      "|            col_name|           data_type|comment|\n",
      "+--------------------+--------------------+-------+\n",
      "|          addr_state|              string|   null|\n",
      "|               count|              bigint|   null|\n",
      "|                    |                    |       |\n",
      "|# Detailed Table ...|                    |       |\n",
      "|                Name|spark_catalog.loa...|       |\n",
      "|                Type|            EXTERNAL|       |\n",
      "|            Location|gs://dll-data-buc...|       |\n",
      "|            Provider|               delta|       |\n",
      "|               Owner|               spark|       |\n",
      "|    Table Properties|[delta.minReaderV...|       |\n",
      "+--------------------+--------------------+-------+\n",
      "\n"
     ]
    }
   ],
   "source": [
    "spark.sql(\"DESCRIBE EXTENDED loan_db.loans_by_state_delta\").show()"
   ]
  },
  {
   "cell_type": "markdown",
   "id": "5a7b2095-91c7-41d5-9fc0-092c3511d0c4",
   "metadata": {},
   "source": [
    "### 5. Create a partitioned Delta Lake table"
   ]
  },
  {
   "cell_type": "code",
   "execution_count": 14,
   "id": "d1e6e4ba-742b-44ce-b58a-590dcf42eaf0",
   "metadata": {},
   "outputs": [],
   "source": [
    "DELTA_LAKE_DIR_ROOT = f\"{DATA_LAKE_ROOT_PATH}/delta-sample-partitioned\""
   ]
  },
  {
   "cell_type": "code",
   "execution_count": 15,
   "id": "5fe8230a-609a-4ae3-a990-17498ae6144a",
   "metadata": {},
   "outputs": [
    {
     "name": "stderr",
     "output_type": "stream",
     "text": [
      "                                                                                \r"
     ]
    }
   ],
   "source": [
    "# Create delta dataset from the Parquet table\n",
    "spark.sql(\"SELECT addr_state,count(*) as count FROM loan_db.loans_by_state_parquet group by addr_state\").write.mode(\"overwrite\").partitionBy(\"addr_state\").format(\"delta\").save(f\"{DELTA_LAKE_DIR_ROOT}\")"
   ]
  },
  {
   "cell_type": "markdown",
   "id": "a0468c88-4f56-48af-9165-d4f1bbcbbda3",
   "metadata": {},
   "source": [
    "### 6. A quick peek at the data lake layout\n",
    "Compare this to the last cell of the prior notebook."
   ]
  },
  {
   "cell_type": "code",
   "execution_count": 16,
   "id": "d417104e-973f-422a-9bf1-e484a65b9f65",
   "metadata": {},
   "outputs": [
    {
     "name": "stdout",
     "output_type": "stream",
     "text": [
      "gs://dll-data-bucket-11002190840/loans_raw_1.snappy.parquet\n",
      "gs://dll-data-bucket-11002190840/loans_raw_2.snappy.parquet\n",
      "gs://dll-data-bucket-11002190840/loans_raw_3.snappy.parquet\n",
      "gs://dll-data-bucket-11002190840/loans_raw_4.snappy.parquet\n",
      "gs://dll-data-bucket-11002190840/delta-consumable/:\n",
      "gs://dll-data-bucket-11002190840/delta-consumable/part-00000-83d6b120-d178-4ac4-8c8e-f8d590f5f050-c000.snappy.parquet\n",
      "\n",
      "gs://dll-data-bucket-11002190840/delta-consumable/_delta_log/:\n",
      "gs://dll-data-bucket-11002190840/delta-consumable/_delta_log/\n",
      "gs://dll-data-bucket-11002190840/delta-consumable/_delta_log/00000000000000000000.json\n",
      "\n",
      "gs://dll-data-bucket-11002190840/delta-sample-partitioned/:\n",
      "\n",
      "gs://dll-data-bucket-11002190840/delta-sample-partitioned/_delta_log/:\n",
      "gs://dll-data-bucket-11002190840/delta-sample-partitioned/_delta_log/\n",
      "gs://dll-data-bucket-11002190840/delta-sample-partitioned/_delta_log/00000000000000000000.json\n",
      "\n",
      "gs://dll-data-bucket-11002190840/delta-sample-partitioned/addr_state=AK/:\n",
      "gs://dll-data-bucket-11002190840/delta-sample-partitioned/addr_state=AK/part-00000-c1ca7d3e-1a6f-40f7-87da-3ca1b8240dcc.c000.snappy.parquet\n",
      "\n",
      "gs://dll-data-bucket-11002190840/delta-sample-partitioned/addr_state=AL/:\n",
      "gs://dll-data-bucket-11002190840/delta-sample-partitioned/addr_state=AL/part-00000-6fef5045-3421-47c2-b805-a208a79ff853.c000.snappy.parquet\n",
      "\n",
      "gs://dll-data-bucket-11002190840/delta-sample-partitioned/addr_state=AR/:\n",
      "gs://dll-data-bucket-11002190840/delta-sample-partitioned/addr_state=AR/part-00000-197a8154-a92c-4230-88b8-a5ff3a149918.c000.snappy.parquet\n",
      "\n",
      "gs://dll-data-bucket-11002190840/delta-sample-partitioned/addr_state=AZ/:\n",
      "gs://dll-data-bucket-11002190840/delta-sample-partitioned/addr_state=AZ/part-00000-e71609fd-5310-483c-b468-53290d8d2845.c000.snappy.parquet\n",
      "\n",
      "gs://dll-data-bucket-11002190840/delta-sample-partitioned/addr_state=CA/:\n",
      "gs://dll-data-bucket-11002190840/delta-sample-partitioned/addr_state=CA/part-00000-7a19514c-324b-440b-8c21-553c3d80c992.c000.snappy.parquet\n",
      "\n",
      "gs://dll-data-bucket-11002190840/delta-sample-partitioned/addr_state=CO/:\n",
      "gs://dll-data-bucket-11002190840/delta-sample-partitioned/addr_state=CO/part-00000-4e352b67-bac2-4965-b1f7-b60507c7cb6c.c000.snappy.parquet\n",
      "\n",
      "gs://dll-data-bucket-11002190840/delta-sample-partitioned/addr_state=CT/:\n",
      "gs://dll-data-bucket-11002190840/delta-sample-partitioned/addr_state=CT/part-00000-2f0c670f-8285-48b9-8cd9-c17466908c7f.c000.snappy.parquet\n",
      "\n",
      "gs://dll-data-bucket-11002190840/delta-sample-partitioned/addr_state=DC/:\n",
      "gs://dll-data-bucket-11002190840/delta-sample-partitioned/addr_state=DC/part-00000-523e1993-0516-4cb1-88fa-a42f04cda51e.c000.snappy.parquet\n",
      "\n",
      "gs://dll-data-bucket-11002190840/delta-sample-partitioned/addr_state=DE/:\n",
      "gs://dll-data-bucket-11002190840/delta-sample-partitioned/addr_state=DE/part-00000-49bbb6cb-47db-4da9-a8a0-6292adf4ef6c.c000.snappy.parquet\n",
      "\n",
      "gs://dll-data-bucket-11002190840/delta-sample-partitioned/addr_state=FL/:\n",
      "gs://dll-data-bucket-11002190840/delta-sample-partitioned/addr_state=FL/part-00000-b190b161-6515-4990-b8ac-cf2b1f98aaa7.c000.snappy.parquet\n",
      "\n",
      "gs://dll-data-bucket-11002190840/delta-sample-partitioned/addr_state=GA/:\n",
      "gs://dll-data-bucket-11002190840/delta-sample-partitioned/addr_state=GA/part-00000-45794799-c686-4bb2-8978-62f47cee9209.c000.snappy.parquet\n",
      "\n",
      "gs://dll-data-bucket-11002190840/delta-sample-partitioned/addr_state=HI/:\n",
      "gs://dll-data-bucket-11002190840/delta-sample-partitioned/addr_state=HI/part-00000-305d6f7f-290a-46c0-acf4-d15862377052.c000.snappy.parquet\n",
      "\n",
      "gs://dll-data-bucket-11002190840/delta-sample-partitioned/addr_state=IA/:\n",
      "gs://dll-data-bucket-11002190840/delta-sample-partitioned/addr_state=IA/part-00000-159fe104-3b67-4ad6-82a3-60b92b157b38.c000.snappy.parquet\n",
      "\n",
      "gs://dll-data-bucket-11002190840/delta-sample-partitioned/addr_state=ID/:\n",
      "gs://dll-data-bucket-11002190840/delta-sample-partitioned/addr_state=ID/part-00000-1dee7fe3-86b3-427a-8e7a-351d94d357d9.c000.snappy.parquet\n",
      "\n",
      "gs://dll-data-bucket-11002190840/delta-sample-partitioned/addr_state=IL/:\n",
      "gs://dll-data-bucket-11002190840/delta-sample-partitioned/addr_state=IL/part-00000-57b250ad-e6c4-4fe0-a6ee-d50d1e4c1044.c000.snappy.parquet\n",
      "\n",
      "gs://dll-data-bucket-11002190840/delta-sample-partitioned/addr_state=IN/:\n",
      "gs://dll-data-bucket-11002190840/delta-sample-partitioned/addr_state=IN/part-00000-9c1ee1c6-cc36-48a3-8546-8c9a750b9fe6.c000.snappy.parquet\n",
      "\n",
      "gs://dll-data-bucket-11002190840/delta-sample-partitioned/addr_state=KS/:\n",
      "gs://dll-data-bucket-11002190840/delta-sample-partitioned/addr_state=KS/part-00000-19ceac6f-c786-45c4-be99-bcdee6fbf347.c000.snappy.parquet\n",
      "\n",
      "gs://dll-data-bucket-11002190840/delta-sample-partitioned/addr_state=KY/:\n",
      "gs://dll-data-bucket-11002190840/delta-sample-partitioned/addr_state=KY/part-00000-89c20e5d-459e-4f8c-837c-5301c807f36a.c000.snappy.parquet\n",
      "\n",
      "gs://dll-data-bucket-11002190840/delta-sample-partitioned/addr_state=LA/:\n",
      "gs://dll-data-bucket-11002190840/delta-sample-partitioned/addr_state=LA/part-00000-46d76a57-c932-4e10-9592-6ef970514cec.c000.snappy.parquet\n",
      "\n",
      "gs://dll-data-bucket-11002190840/delta-sample-partitioned/addr_state=MA/:\n",
      "gs://dll-data-bucket-11002190840/delta-sample-partitioned/addr_state=MA/part-00000-acc9d235-476f-43f1-80b6-92ef64c601da.c000.snappy.parquet\n",
      "\n",
      "gs://dll-data-bucket-11002190840/delta-sample-partitioned/addr_state=MD/:\n",
      "gs://dll-data-bucket-11002190840/delta-sample-partitioned/addr_state=MD/part-00000-99c6c6c5-6259-4745-8a3f-2bc79aa9ef51.c000.snappy.parquet\n",
      "\n",
      "gs://dll-data-bucket-11002190840/delta-sample-partitioned/addr_state=ME/:\n",
      "gs://dll-data-bucket-11002190840/delta-sample-partitioned/addr_state=ME/part-00000-020ccc40-d592-4ef5-9d8a-de2431d01096.c000.snappy.parquet\n",
      "\n",
      "gs://dll-data-bucket-11002190840/delta-sample-partitioned/addr_state=MI/:\n",
      "gs://dll-data-bucket-11002190840/delta-sample-partitioned/addr_state=MI/part-00000-b12c4cf0-b1b7-4221-bdba-2063a98d71db.c000.snappy.parquet\n",
      "\n",
      "gs://dll-data-bucket-11002190840/delta-sample-partitioned/addr_state=MN/:\n",
      "gs://dll-data-bucket-11002190840/delta-sample-partitioned/addr_state=MN/part-00000-e5508966-0c5d-4a47-bb22-4782576e9c82.c000.snappy.parquet\n",
      "\n",
      "gs://dll-data-bucket-11002190840/delta-sample-partitioned/addr_state=MO/:\n",
      "gs://dll-data-bucket-11002190840/delta-sample-partitioned/addr_state=MO/part-00000-8b31fe3d-8bd4-4d9c-a344-8deaa730e106.c000.snappy.parquet\n",
      "\n",
      "gs://dll-data-bucket-11002190840/delta-sample-partitioned/addr_state=MS/:\n",
      "gs://dll-data-bucket-11002190840/delta-sample-partitioned/addr_state=MS/part-00000-eb47dd5d-1e52-4e94-82e7-f83e56e6ef1e.c000.snappy.parquet\n",
      "\n",
      "gs://dll-data-bucket-11002190840/delta-sample-partitioned/addr_state=MT/:\n",
      "gs://dll-data-bucket-11002190840/delta-sample-partitioned/addr_state=MT/part-00000-94803240-8152-49ed-94bc-cb762312e3b0.c000.snappy.parquet\n",
      "\n",
      "gs://dll-data-bucket-11002190840/delta-sample-partitioned/addr_state=NC/:\n",
      "gs://dll-data-bucket-11002190840/delta-sample-partitioned/addr_state=NC/part-00000-430624b5-f8a0-4924-9b79-7d51527199f2.c000.snappy.parquet\n",
      "\n",
      "gs://dll-data-bucket-11002190840/delta-sample-partitioned/addr_state=ND/:\n",
      "gs://dll-data-bucket-11002190840/delta-sample-partitioned/addr_state=ND/part-00000-7380341d-66ec-443e-a954-4d8616f9192f.c000.snappy.parquet\n",
      "\n",
      "gs://dll-data-bucket-11002190840/delta-sample-partitioned/addr_state=NE/:\n",
      "gs://dll-data-bucket-11002190840/delta-sample-partitioned/addr_state=NE/part-00000-6067e847-3fe1-4369-8ed6-d0767318b025.c000.snappy.parquet\n",
      "\n",
      "gs://dll-data-bucket-11002190840/delta-sample-partitioned/addr_state=NH/:\n",
      "gs://dll-data-bucket-11002190840/delta-sample-partitioned/addr_state=NH/part-00000-449d4968-82bc-4459-8f55-decc1664fbb7.c000.snappy.parquet\n",
      "\n",
      "gs://dll-data-bucket-11002190840/delta-sample-partitioned/addr_state=NJ/:\n",
      "gs://dll-data-bucket-11002190840/delta-sample-partitioned/addr_state=NJ/part-00000-e89ac64d-7802-49ec-8d9b-5de3cf67f7f2.c000.snappy.parquet\n",
      "\n",
      "gs://dll-data-bucket-11002190840/delta-sample-partitioned/addr_state=NM/:\n",
      "gs://dll-data-bucket-11002190840/delta-sample-partitioned/addr_state=NM/part-00000-d6ef360e-88bb-4907-930e-c435e48445d0.c000.snappy.parquet\n",
      "\n",
      "gs://dll-data-bucket-11002190840/delta-sample-partitioned/addr_state=NV/:\n",
      "gs://dll-data-bucket-11002190840/delta-sample-partitioned/addr_state=NV/part-00000-b75d3aae-af49-4d0e-b4d6-16023a87dec1.c000.snappy.parquet\n",
      "\n",
      "gs://dll-data-bucket-11002190840/delta-sample-partitioned/addr_state=NY/:\n",
      "gs://dll-data-bucket-11002190840/delta-sample-partitioned/addr_state=NY/part-00000-a7dbf3a4-f2d0-4b47-8c0a-a5429edcc169.c000.snappy.parquet\n",
      "\n",
      "gs://dll-data-bucket-11002190840/delta-sample-partitioned/addr_state=OH/:\n",
      "gs://dll-data-bucket-11002190840/delta-sample-partitioned/addr_state=OH/part-00000-d8d8da3f-d9c7-46c5-a963-5e66c20f13a3.c000.snappy.parquet\n",
      "\n",
      "gs://dll-data-bucket-11002190840/delta-sample-partitioned/addr_state=OK/:\n",
      "gs://dll-data-bucket-11002190840/delta-sample-partitioned/addr_state=OK/part-00000-948c8baa-3400-41dd-9606-02caf2031927.c000.snappy.parquet\n",
      "\n",
      "gs://dll-data-bucket-11002190840/delta-sample-partitioned/addr_state=OR/:\n",
      "gs://dll-data-bucket-11002190840/delta-sample-partitioned/addr_state=OR/part-00000-af7ed5bf-c363-47af-b2cb-8bad624cd278.c000.snappy.parquet\n",
      "\n",
      "gs://dll-data-bucket-11002190840/delta-sample-partitioned/addr_state=PA/:\n",
      "gs://dll-data-bucket-11002190840/delta-sample-partitioned/addr_state=PA/part-00000-e0e6b7aa-3ff3-4cf8-9129-079cd03850a4.c000.snappy.parquet\n",
      "\n",
      "gs://dll-data-bucket-11002190840/delta-sample-partitioned/addr_state=RI/:\n",
      "gs://dll-data-bucket-11002190840/delta-sample-partitioned/addr_state=RI/part-00000-acf3ad9a-210e-4422-8900-e4860adc706e.c000.snappy.parquet\n",
      "\n",
      "gs://dll-data-bucket-11002190840/delta-sample-partitioned/addr_state=SC/:\n",
      "gs://dll-data-bucket-11002190840/delta-sample-partitioned/addr_state=SC/part-00000-48176018-92fd-45fa-a28f-acb2fbdfe8e0.c000.snappy.parquet\n",
      "\n",
      "gs://dll-data-bucket-11002190840/delta-sample-partitioned/addr_state=SD/:\n",
      "gs://dll-data-bucket-11002190840/delta-sample-partitioned/addr_state=SD/part-00000-fb020f7a-1e97-45d4-944a-83f1bd23fb56.c000.snappy.parquet\n",
      "\n",
      "gs://dll-data-bucket-11002190840/delta-sample-partitioned/addr_state=TN/:\n",
      "gs://dll-data-bucket-11002190840/delta-sample-partitioned/addr_state=TN/part-00000-37f28e51-97ca-4e02-8559-86a36ef873f8.c000.snappy.parquet\n",
      "\n",
      "gs://dll-data-bucket-11002190840/delta-sample-partitioned/addr_state=TX/:\n",
      "gs://dll-data-bucket-11002190840/delta-sample-partitioned/addr_state=TX/part-00000-d10c65b0-3ea3-4be3-b8f7-099d781c629d.c000.snappy.parquet\n",
      "\n",
      "gs://dll-data-bucket-11002190840/delta-sample-partitioned/addr_state=UT/:\n",
      "gs://dll-data-bucket-11002190840/delta-sample-partitioned/addr_state=UT/part-00000-31495613-9a2c-4eaa-99b1-9986e1889af2.c000.snappy.parquet\n",
      "\n",
      "gs://dll-data-bucket-11002190840/delta-sample-partitioned/addr_state=VA/:\n",
      "gs://dll-data-bucket-11002190840/delta-sample-partitioned/addr_state=VA/part-00000-c03f19da-b1cc-4afa-96c5-b97a2700f0aa.c000.snappy.parquet\n",
      "\n",
      "gs://dll-data-bucket-11002190840/delta-sample-partitioned/addr_state=VT/:\n",
      "gs://dll-data-bucket-11002190840/delta-sample-partitioned/addr_state=VT/part-00000-f154e79e-eb48-4f4e-a978-9a5c9cce3de5.c000.snappy.parquet\n",
      "\n",
      "gs://dll-data-bucket-11002190840/delta-sample-partitioned/addr_state=WA/:\n",
      "gs://dll-data-bucket-11002190840/delta-sample-partitioned/addr_state=WA/part-00000-ba101355-852b-429e-a09f-dd1936c1670e.c000.snappy.parquet\n",
      "\n",
      "gs://dll-data-bucket-11002190840/delta-sample-partitioned/addr_state=WI/:\n",
      "gs://dll-data-bucket-11002190840/delta-sample-partitioned/addr_state=WI/part-00000-9b3104ac-73b0-4864-a6ce-33b0fa1bbafd.c000.snappy.parquet\n",
      "\n",
      "gs://dll-data-bucket-11002190840/delta-sample-partitioned/addr_state=WV/:\n",
      "gs://dll-data-bucket-11002190840/delta-sample-partitioned/addr_state=WV/part-00000-5c3c5e7b-aa55-48e7-8879-c7ad8af2a754.c000.snappy.parquet\n",
      "\n",
      "gs://dll-data-bucket-11002190840/delta-sample-partitioned/addr_state=WY/:\n",
      "gs://dll-data-bucket-11002190840/delta-sample-partitioned/addr_state=WY/part-00000-87222acb-335f-46d5-9d63-4d821b2804f2.c000.snappy.parquet\n",
      "\n",
      "gs://dll-data-bucket-11002190840/parquet-cleansed/:\n",
      "gs://dll-data-bucket-11002190840/parquet-cleansed/\n",
      "gs://dll-data-bucket-11002190840/parquet-cleansed/_SUCCESS\n",
      "gs://dll-data-bucket-11002190840/parquet-cleansed/part-00000-01791524-0c26-45d9-a1ef-aab3218715c1-c000.snappy.parquet\n",
      "gs://dll-data-bucket-11002190840/parquet-cleansed/part-00001-01791524-0c26-45d9-a1ef-aab3218715c1-c000.snappy.parquet\n",
      "gs://dll-data-bucket-11002190840/parquet-cleansed/part-00002-01791524-0c26-45d9-a1ef-aab3218715c1-c000.snappy.parquet\n",
      "\n",
      "gs://dll-data-bucket-11002190840/parquet-consumable/:\n",
      "gs://dll-data-bucket-11002190840/parquet-consumable/\n",
      "gs://dll-data-bucket-11002190840/parquet-consumable/_SUCCESS\n",
      "gs://dll-data-bucket-11002190840/parquet-consumable/part-00000-55859c5b-2267-4359-a1f0-0177e553d8dc-c000.snappy.parquet\n",
      "\n",
      "gs://dll-data-bucket-11002190840/parquet-source/:\n",
      "gs://dll-data-bucket-11002190840/parquet-source/loans_raw_1.snappy.parquet\n",
      "gs://dll-data-bucket-11002190840/parquet-source/loans_raw_2.snappy.parquet\n",
      "gs://dll-data-bucket-11002190840/parquet-source/loans_raw_3.snappy.parquet\n",
      "gs://dll-data-bucket-11002190840/parquet-source/loans_raw_4.snappy.parquet\n"
     ]
    }
   ],
   "source": [
    "!gsutil ls -r $DATA_LAKE_ROOT_PATH"
   ]
  },
  {
   "cell_type": "code",
   "execution_count": 17,
   "id": "a2148014-f271-4c7b-86ec-f925ede3a582",
   "metadata": {},
   "outputs": [
    {
     "name": "stdout",
     "output_type": "stream",
     "text": [
      "1\n"
     ]
    }
   ],
   "source": [
    "!gsutil ls -r $DATA_LAKE_ROOT_PATH/delta-consumable/part* | wc -l"
   ]
  },
  {
   "cell_type": "markdown",
   "id": "6c4df240-5ff1-433b-92ed-cf311dbef082",
   "metadata": {},
   "source": [
    "### THIS CONCLUDES THIS UNIT. PROCEED TO THE NEXT NOTEBOOK"
   ]
  }
 ],
 "metadata": {
  "language_info": {
   "codemirror_mode": {
    "name": "ipython",
    "version": 3
   },
   "file_extension": ".py",
   "mimetype": "text/x-python",
   "name": "python",
   "nbconvert_exporter": "python",
   "pygments_lexer": "ipython3",
   "version": "3.11.0"
  },
  "serverless_spark": "{\"name\":\"projects/delta-lake-diy-lab/locations/us-central1/sessions/delta-lake-lab-17460\",\"uuid\":\"7496b9aa-c1b2-4af0-b19a-eed494ea3479\",\"createTime\":\"2023-12-02T23:10:14.351363Z\",\"jupyterSession\":{},\"runtimeInfo\":{\"endpoints\":{\"Spark History Server\":\"https://in7kggl6mfcxxdldiezehugb4i-dot-us-central1.dataproc.googleusercontent.com/sparkhistory/\",\"BYOID Spark History Server\":\"https://in7kggl6mfcxxdldiezehugb4i-dot-us-central1.dataproc.byoid.googleusercontent.com/sparkhistory/\"}},\"state\":\"ACTIVE\",\"stateTime\":\"2023-12-02T23:13:27.294546Z\",\"creator\":\"admin@akhanolkar.altostrat.com\",\"runtimeConfig\":{\"version\":\"2.1.27\",\"properties\":{\"spark:spark.jars.packages\":\"io.delta:delta-core_2.13:2.4.0\",\"spark:spark.sql.catalog.spark_catalog\":\"org.apache.spark.sql.delta.catalog.DeltaCatalog\",\"spark:spark.sql.extensions\":\"io.delta.sql.DeltaSparkSessionExtension\",\"spark:spark.executor.instances\":\"2\",\"spark:spark.driver.cores\":\"4\",\"spark:spark.driver.memory\":\"9600m\",\"spark:spark.executor.cores\":\"4\",\"spark:spark.executor.memory\":\"9600m\",\"spark:spark.dynamicAllocation.executorAllocationRatio\":\"0.3\",\"spark:spark.eventLog.dir\":\"gs://dll-sphs-bucket-11002190840/7496b9aa-c1b2-4af0-b19a-eed494ea3479/spark-job-history\"}},\"environmentConfig\":{\"executionConfig\":{\"serviceAccount\":\"dll-lab-sa@delta-lake-diy-lab.iam.gserviceaccount.com\",\"subnetworkUri\":\"spark-snet\",\"idleTtl\":\"3600s\",\"ttl\":\"86400s\"},\"peripheralsConfig\":{\"metastoreService\":\"projects/delta-lake-diy-lab/locations/us-central1/services/dll-hms-11002190840\",\"sparkHistoryServerConfig\":{\"dataprocCluster\":\"projects/delta-lake-diy-lab/regions/us-central1/clusters/dll-sphs-11002190840\"}}},\"stateHistory\":[{\"state\":\"CREATING\",\"stateStartTime\":\"2023-12-02T23:10:14.351363Z\"}]}",
  "serverless_spark_kernel_name": "remote-d973f900c0bcdc8a7fcee568-pyspark",
  "vscode": {
   "interpreter": {
    "hash": "aee8b7b246df8f9039afb4144a1f6fd8d2ca17a180786b69acc140d282b71a49"
   }
  }
 },
 "nbformat": 4,
 "nbformat_minor": 5
}
