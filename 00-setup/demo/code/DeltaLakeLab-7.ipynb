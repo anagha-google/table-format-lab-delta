{
 "cells": [
  {
   "cell_type": "markdown",
   "id": "4529a790-8425-4600-841a-4b094b82eaa8",
   "metadata": {},
   "source": [
    "# Delta Lake Lab \n",
    "## Unit 7: ZORDER & DATA SKIPPING\n",
    "\n",
    "In the previous unit, we -\n",
    "1. Learned how to time travel\n",
    "\n",
    "In this unit, we will-\n",
    "1. Learn about Z-Ordering and how it further optimizes data skipping\n",
    "\n",
    "Z-Ordering is a (multi-dimensional clustering) technique to colocate related information in the same set of files. This co-locality is automatically used by Delta Lake in data-skipping algorithms. This behavior dramatically reduces the amount of data that Delta Lake on Apache Spark needs to read. To Z-Order data, you specify the columns to order on in the ZORDER BY clause.\n",
    "\n",
    "Data skipping information is collected automatically when you write data into a Delta Lake table. Delta Lake takes advantage of this information (minimum and maximum values for each column) at query time to provide faster queries. You do not need to configure data skipping; the feature is activated whenever applicable. However, its effectiveness depends on the layout of your data. For best results, apply Z-Ordering."
   ]
  },
  {
   "cell_type": "markdown",
   "id": "1a31c4fd-d465-4f52-8e56-3775bf499abc",
   "metadata": {},
   "source": [
    "### 1. Imports"
   ]
  },
  {
   "cell_type": "code",
   "execution_count": 1,
   "id": "1321bce9-178c-4065-8187-0a5728c1a370",
   "metadata": {},
   "outputs": [],
   "source": [
    "import pandas as pd\n",
    "\n",
    "from pyspark.sql.functions import month, date_format\n",
    "from pyspark.sql.types import IntegerType\n",
    "from pyspark.sql import SparkSession\n",
    "\n",
    "from delta.tables import *\n",
    "\n",
    "import warnings\n",
    "warnings.filterwarnings('ignore')"
   ]
  },
  {
   "cell_type": "markdown",
   "id": "ed295a74-ed1d-4b5d-831a-1b5dcf73c36f",
   "metadata": {},
   "source": [
    "### 2. Create a Spark session powered by Cloud Dataproc "
   ]
  },
  {
   "cell_type": "code",
   "execution_count": 2,
   "id": "b383d5ab-a0b9-45ab-a232-34d88f2a0065",
   "metadata": {},
   "outputs": [
    {
     "name": "stderr",
     "output_type": "stream",
     "text": [
      "22/10/22 23:41:44 WARN SparkSession: Using an existing Spark session; only runtime SQL configurations will take effect.\n"
     ]
    },
    {
     "data": {
      "text/html": [
       "\n",
       "            <div>\n",
       "                <p><b>SparkSession - hive</b></p>\n",
       "                \n",
       "        <div>\n",
       "            <p><b>SparkContext</b></p>\n",
       "\n",
       "            <p><a href=\"http://gdpic-srvls-session-cb959c82-1002-4915-aed8-85c83d4e81f4-m.us-central1-a.c.delta-lake-lab.internal:4040\">Spark UI</a></p>\n",
       "\n",
       "            <dl>\n",
       "              <dt>Version</dt>\n",
       "                <dd><code>v3.3.0</code></dd>\n",
       "              <dt>Master</dt>\n",
       "                <dd><code>spark://gdpic-srvls-session-cb959c82-1002-4915-aed8-85c83d4e81f4-m:7077</code></dd>\n",
       "              <dt>AppName</dt>\n",
       "                <dd><code>PySparkShell</code></dd>\n",
       "            </dl>\n",
       "        </div>\n",
       "        \n",
       "            </div>\n",
       "        "
      ],
      "text/plain": [
       "<pyspark.sql.session.SparkSession at 0x7f0ca939a710>"
      ]
     },
     "execution_count": 2,
     "metadata": {},
     "output_type": "execute_result"
    }
   ],
   "source": [
    "spark = SparkSession.builder.appName('Loan Analysis').getOrCreate()\n",
    "spark"
   ]
  },
  {
   "cell_type": "markdown",
   "id": "63cd13e6-f3f5-4f2c-b4fc-d7e2660c6206",
   "metadata": {},
   "source": [
    "### 3. Declare variables"
   ]
  },
  {
   "cell_type": "code",
   "execution_count": 3,
   "id": "5596e31b-749a-4702-8879-6f05f9ff0c2d",
   "metadata": {},
   "outputs": [
    {
     "name": "stdout",
     "output_type": "stream",
     "text": [
      "PROJECT_ID:  delta-lake-lab\n"
     ]
    }
   ],
   "source": [
    "project_id_output = !gcloud config list --format \"value(core.project)\" 2>/dev/null\n",
    "PROJECT_ID = project_id_output[0]\n",
    "print(\"PROJECT_ID: \", PROJECT_ID)"
   ]
  },
  {
   "cell_type": "code",
   "execution_count": 4,
   "id": "471c6743-a058-462b-851a-f34323f36243",
   "metadata": {},
   "outputs": [
    {
     "name": "stdout",
     "output_type": "stream",
     "text": [
      "PROJECT_NAME:  delta-lake-lab\n"
     ]
    }
   ],
   "source": [
    "project_name_output = !gcloud projects describe $PROJECT_ID | grep name | cut -d':' -f2 | xargs\n",
    "PROJECT_NAME = project_name_output[0]\n",
    "print(\"PROJECT_NAME: \", PROJECT_NAME)"
   ]
  },
  {
   "cell_type": "code",
   "execution_count": 5,
   "id": "61929dc6-a083-433c-8a13-3d39d9c4a4a1",
   "metadata": {},
   "outputs": [
    {
     "name": "stdout",
     "output_type": "stream",
     "text": [
      "PROJECT_NUMBER:  885979867746\n"
     ]
    }
   ],
   "source": [
    "project_number_output = !gcloud projects describe $PROJECT_ID | grep projectNumber | cut -d':' -f2 | xargs\n",
    "PROJECT_NUMBER = project_number_output[0]\n",
    "print(\"PROJECT_NUMBER: \", PROJECT_NUMBER)"
   ]
  },
  {
   "cell_type": "code",
   "execution_count": 6,
   "id": "f8b79fd2-5243-41a4-ae87-e7f9dd87cf20",
   "metadata": {},
   "outputs": [
    {
     "name": "stdout",
     "output_type": "stream",
     "text": [
      "gs://dll-data-bucket-885979867746/delta-consumable\n"
     ]
    }
   ],
   "source": [
    "DATA_LAKE_ROOT_PATH= f\"gs://dll-data-bucket-{PROJECT_NUMBER}\"\n",
    "DELTA_LAKE_DIR_ROOT = f\"{DATA_LAKE_ROOT_PATH}/delta-consumable\"\n",
    "print(DELTA_LAKE_DIR_ROOT)"
   ]
  },
  {
   "cell_type": "code",
   "execution_count": 7,
   "id": "236ba666-5daf-4a40-bdfd-51764c26c7e1",
   "metadata": {},
   "outputs": [
    {
     "name": "stdout",
     "output_type": "stream",
     "text": [
      "gs://dll-data-bucket-885979867746/delta-consumable/part-00000-0d0c8ea0-982f-4f67-ab9d-62f94e57db11-c000.snappy.parquet\n",
      "gs://dll-data-bucket-885979867746/delta-consumable/part-00000-27993337-bc5b-4c93-9ab0-b77f48ac9160-c000.snappy.parquet\n",
      "gs://dll-data-bucket-885979867746/delta-consumable/part-00000-293e9d10-a628-4cf0-b86c-f9f289913756-c000.snappy.parquet\n",
      "gs://dll-data-bucket-885979867746/delta-consumable/part-00000-33f34593-184c-40b8-adfe-73facf9f043f-c000.snappy.parquet\n",
      "gs://dll-data-bucket-885979867746/delta-consumable/part-00000-595b5ba1-408f-404d-91ee-7bc396235870-c000.snappy.parquet\n",
      "gs://dll-data-bucket-885979867746/delta-consumable/part-00000-5c57d030-c1f7-4f7b-b5d8-2100c4426482-c000.snappy.parquet\n",
      "gs://dll-data-bucket-885979867746/delta-consumable/part-00000-670d672a-c41d-4391-a47e-90d45e589ac2-c000.snappy.parquet\n",
      "gs://dll-data-bucket-885979867746/delta-consumable/part-00000-8572a416-efe4-47bf-ab8b-755973ae5a7a-c000.snappy.parquet\n",
      "gs://dll-data-bucket-885979867746/delta-consumable/part-00000-87c9eb32-b09f-438c-84ee-3bd37fc01fb4-c000.snappy.parquet\n",
      "gs://dll-data-bucket-885979867746/delta-consumable/part-00000-9e3ca1ea-93a4-455a-9988-5e1250281ac0-c000.snappy.parquet\n",
      "gs://dll-data-bucket-885979867746/delta-consumable/part-00000-b77f8967-b01f-4604-a3f3-3074163693e4-c000.snappy.parquet\n",
      "gs://dll-data-bucket-885979867746/delta-consumable/part-00000-c2a74fad-c560-4efd-8b2e-5a8a7ddcc62e-c000.snappy.parquet\n",
      "gs://dll-data-bucket-885979867746/delta-consumable/part-00001-02e1912c-5a9a-4513-975e-bee0dbfc6074-c000.snappy.parquet\n",
      "gs://dll-data-bucket-885979867746/delta-consumable/part-00001-3b7fbc64-5d70-4ea7-833e-783a2022ba14-c000.snappy.parquet\n",
      "gs://dll-data-bucket-885979867746/delta-consumable/part-00001-507070b7-0126-42de-96b9-1569f40f2a9d-c000.snappy.parquet\n",
      "gs://dll-data-bucket-885979867746/delta-consumable/part-00001-6b666243-9918-4e4a-9de1-dc024e1f1ccb-c000.snappy.parquet\n",
      "gs://dll-data-bucket-885979867746/delta-consumable/part-00001-802cf333-7729-48c0-ba04-83f994889805-c000.snappy.parquet\n",
      "gs://dll-data-bucket-885979867746/delta-consumable/part-00002-4a0bacc0-eadb-4ebf-9a2c-003a3869e100-c000.snappy.parquet\n",
      "gs://dll-data-bucket-885979867746/delta-consumable/part-00002-570c06cd-732f-494f-ab81-2732881e654f-c000.snappy.parquet\n",
      "gs://dll-data-bucket-885979867746/delta-consumable/part-00002-639ad7ad-9a0e-484a-84b9-fc29a9ce5dc0-c000.snappy.parquet\n",
      "gs://dll-data-bucket-885979867746/delta-consumable/part-00002-d5954153-cb49-4365-89fa-12a9c468ca42-c000.snappy.parquet\n",
      "gs://dll-data-bucket-885979867746/delta-consumable/part-00003-07e1d0de-f6ba-4f9b-8389-1f5c8029f974-c000.snappy.parquet\n",
      "gs://dll-data-bucket-885979867746/delta-consumable/part-00003-1fa442f2-dcf0-4939-900e-a20f7e0cf473-c000.snappy.parquet\n",
      "gs://dll-data-bucket-885979867746/delta-consumable/part-00003-673e58d6-d7d3-42df-adef-c089ca235619-c000.snappy.parquet\n",
      "gs://dll-data-bucket-885979867746/delta-consumable/part-00003-e7773bde-ec22-4511-a9bf-4b11ba923113-c000.snappy.parquet\n",
      "gs://dll-data-bucket-885979867746/delta-consumable/part-00004-7cab9918-31a5-4d07-9ce5-08e96aa10b64-c000.snappy.parquet\n",
      "gs://dll-data-bucket-885979867746/delta-consumable/part-00004-8cb50719-40b0-4b60-9845-037f6cc454f0-c000.snappy.parquet\n",
      "gs://dll-data-bucket-885979867746/delta-consumable/part-00005-62047667-10b5-49e1-9741-5197b75d58a4-c000.snappy.parquet\n",
      "gs://dll-data-bucket-885979867746/delta-consumable/part-00005-68864e73-c67c-4255-b94f-a6b710c74037-c000.snappy.parquet\n"
     ]
    }
   ],
   "source": [
    "# Lets take a look at the data lake before the zordering \n",
    "!gsutil ls -r $DELTA_LAKE_DIR_ROOT/part*"
   ]
  },
  {
   "cell_type": "markdown",
   "id": "dc922496-0676-4551-b04d-1b9167abe8ed",
   "metadata": {},
   "source": [
    "The author's output was-\n",
    "```\n",
    "gs://dll-data-bucket-885979867746/delta-consumable/:\n",
    "gs://dll-data-bucket-885979867746/delta-consumable/part-00000-228eb829-1144-4a6d-a0e2-4fd39d9e9f57-c000.snappy.parquet\n",
    "gs://dll-data-bucket-885979867746/delta-consumable/part-00000-29d7051f-ea28-4bd9-a8fd-8d9f8e38f163-c000.snappy.parquet\n",
    "gs://dll-data-bucket-885979867746/delta-consumable/part-00000-3eb98e04-4353-4e5f-a8a2-17a570111981-c000.snappy.parquet\n",
    "gs://dll-data-bucket-885979867746/delta-consumable/part-00000-47c79787-64f2-453c-8474-52cbcaeef3c2-c000.snappy.parquet\n",
    "gs://dll-data-bucket-885979867746/delta-consumable/part-00000-48902d8f-0572-4735-b0d7-95b1927cb294-c000.snappy.parquet\n",
    "gs://dll-data-bucket-885979867746/delta-consumable/part-00000-598882f5-6a6b-489f-a551-6e782e67702f-c000.snappy.parquet\n",
    "gs://dll-data-bucket-885979867746/delta-consumable/part-00000-61eebddf-adb1-4088-9520-6a953e6d3fff-c000.snappy.parquet\n",
    "gs://dll-data-bucket-885979867746/delta-consumable/part-00000-7b773887-eac1-481b-aa71-e57bd469f977-c000.snappy.parquet\n",
    "gs://dll-data-bucket-885979867746/delta-consumable/part-00000-89dfe8e5-2d40-49f6-b0a0-4b320db62d14-c000.snappy.parquet\n",
    "gs://dll-data-bucket-885979867746/delta-consumable/part-00000-b5620589-f197-4417-8fcb-ce013d82deb9-c000.snappy.parquet\n",
    "gs://dll-data-bucket-885979867746/delta-consumable/part-00000-c36f0527-e995-41d2-a8ea-776cc865f816-c000.snappy.parquet\n",
    "gs://dll-data-bucket-885979867746/delta-consumable/part-00001-487147d6-23f9-4a07-ae73-7cddbe8dfd06-c000.snappy.parquet\n",
    "gs://dll-data-bucket-885979867746/delta-consumable/part-00001-8d9a7ec0-3a4d-43e4-8e33-379ffb2e4a3a-c000.snappy.parquet\n",
    "gs://dll-data-bucket-885979867746/delta-consumable/part-00001-91311981-1505-4747-a8c9-6b3616efb4c0-c000.snappy.parquet\n",
    "gs://dll-data-bucket-885979867746/delta-consumable/part-00001-ad3ddbfe-cec8-4877-8b05-3d40da1079ba-c000.snappy.parquet\n",
    "gs://dll-data-bucket-885979867746/delta-consumable/part-00002-15ea05a6-24a6-41e3-b9d1-7073429eda5f-c000.snappy.parquet\n",
    "gs://dll-data-bucket-885979867746/delta-consumable/part-00002-1717bbe6-6038-404c-aea4-e83d93eb0fa8-c000.snappy.parquet\n",
    "gs://dll-data-bucket-885979867746/delta-consumable/part-00002-d43dcdd6-5fb8-4b31-baa2-5458bf321285-c000.snappy.parquet\n",
    "gs://dll-data-bucket-885979867746/delta-consumable/part-00003-4c2e181f-c1eb-458f-aa08-9be435e56bb5-c000.snappy.parquet\n",
    "gs://dll-data-bucket-885979867746/delta-consumable/part-00003-c15a6560-6d08-41f9-9ff8-546a02d4fca7-c000.snappy.parquet\n",
    "gs://dll-data-bucket-885979867746/delta-consumable/part-00003-e6f811e0-d076-4619-bb1f-4e1ffd7caeb0-c000.snappy.parquet\n",
    "gs://dll-data-bucket-885979867746/delta-consumable/part-00004-7663ab3e-1fbb-4ef9-bb08-80d4e6e3d9f4-c000.snappy.parquet\n",
    "gs://dll-data-bucket-885979867746/delta-consumable/part-00005-c9b6ff00-72cb-4264-8f2a-d01f6c27b759-c000.snappy.parquet\n",
    "```"
   ]
  },
  {
   "cell_type": "code",
   "execution_count": 8,
   "id": "950f5f4a-3466-476c-bde4-316e422d5665",
   "metadata": {},
   "outputs": [
    {
     "name": "stdout",
     "output_type": "stream",
     "text": [
      "29\n"
     ]
    }
   ],
   "source": [
    "!gsutil ls -r $DELTA_LAKE_DIR_ROOT/part* | wc -l"
   ]
  },
  {
   "cell_type": "markdown",
   "id": "ed74d358-e90b-46d0-b81c-1e29c25ccac5",
   "metadata": {},
   "source": [
    "### 4. ZORDER"
   ]
  },
  {
   "cell_type": "code",
   "execution_count": 9,
   "id": "234fcd71-7b34-4553-a84d-3ab3abbcf3b4",
   "metadata": {},
   "outputs": [
    {
     "name": "stderr",
     "output_type": "stream",
     "text": [
      "ivysettings.xml file not found in HIVE_HOME or HIVE_CONF_DIR,/etc/spark/conf/ivysettings.xml will be used\n",
      "                                                                                \r"
     ]
    },
    {
     "name": "stdout",
     "output_type": "stream",
     "text": [
      "+--------------------------------------------------+------------------------------------------------------------------------------------------------------------------------------------------------------------------------------------+\n",
      "|path                                              |metrics                                                                                                                                                                             |\n",
      "+--------------------------------------------------+------------------------------------------------------------------------------------------------------------------------------------------------------------------------------------+\n",
      "|gs://dll-data-bucket-885979867746/delta-consumable|{1, 25, {8066, 8066, 8066.0, 1, 8066}, {397, 2069, 1585.48, 25, 39637}, 1, {all, {0, 0}, {25, 39637}, 0, {25, 39637}, 1, null}, 1, 25, 0, false, 0, 0, 1666482138456, 0, 8, 0, null}|\n",
      "+--------------------------------------------------+------------------------------------------------------------------------------------------------------------------------------------------------------------------------------------+\n",
      "\n"
     ]
    }
   ],
   "source": [
    "spark.sql(\"OPTIMIZE loan_db.loans_by_state_delta ZORDER BY (addr_state)\").show(truncate=False)"
   ]
  },
  {
   "cell_type": "code",
   "execution_count": 10,
   "id": "97b70135-a0e3-4f5b-a917-086775bc2d49",
   "metadata": {},
   "outputs": [
    {
     "name": "stdout",
     "output_type": "stream",
     "text": [
      "gs://dll-data-bucket-885979867746/delta-consumable/part-00000-0d0c8ea0-982f-4f67-ab9d-62f94e57db11-c000.snappy.parquet\n",
      "gs://dll-data-bucket-885979867746/delta-consumable/part-00000-27993337-bc5b-4c93-9ab0-b77f48ac9160-c000.snappy.parquet\n",
      "gs://dll-data-bucket-885979867746/delta-consumable/part-00000-293e9d10-a628-4cf0-b86c-f9f289913756-c000.snappy.parquet\n",
      "gs://dll-data-bucket-885979867746/delta-consumable/part-00000-33f34593-184c-40b8-adfe-73facf9f043f-c000.snappy.parquet\n",
      "gs://dll-data-bucket-885979867746/delta-consumable/part-00000-595b5ba1-408f-404d-91ee-7bc396235870-c000.snappy.parquet\n",
      "gs://dll-data-bucket-885979867746/delta-consumable/part-00000-5c57d030-c1f7-4f7b-b5d8-2100c4426482-c000.snappy.parquet\n",
      "gs://dll-data-bucket-885979867746/delta-consumable/part-00000-670d672a-c41d-4391-a47e-90d45e589ac2-c000.snappy.parquet\n",
      "gs://dll-data-bucket-885979867746/delta-consumable/part-00000-8572a416-efe4-47bf-ab8b-755973ae5a7a-c000.snappy.parquet\n",
      "gs://dll-data-bucket-885979867746/delta-consumable/part-00000-87c9eb32-b09f-438c-84ee-3bd37fc01fb4-c000.snappy.parquet\n",
      "gs://dll-data-bucket-885979867746/delta-consumable/part-00000-9e3ca1ea-93a4-455a-9988-5e1250281ac0-c000.snappy.parquet\n",
      "gs://dll-data-bucket-885979867746/delta-consumable/part-00000-b11e7e93-f44f-4d92-8613-c20f22858111-c000.snappy.parquet\n",
      "gs://dll-data-bucket-885979867746/delta-consumable/part-00000-b77f8967-b01f-4604-a3f3-3074163693e4-c000.snappy.parquet\n",
      "gs://dll-data-bucket-885979867746/delta-consumable/part-00000-c2a74fad-c560-4efd-8b2e-5a8a7ddcc62e-c000.snappy.parquet\n",
      "gs://dll-data-bucket-885979867746/delta-consumable/part-00001-02e1912c-5a9a-4513-975e-bee0dbfc6074-c000.snappy.parquet\n",
      "gs://dll-data-bucket-885979867746/delta-consumable/part-00001-3b7fbc64-5d70-4ea7-833e-783a2022ba14-c000.snappy.parquet\n",
      "gs://dll-data-bucket-885979867746/delta-consumable/part-00001-507070b7-0126-42de-96b9-1569f40f2a9d-c000.snappy.parquet\n",
      "gs://dll-data-bucket-885979867746/delta-consumable/part-00001-6b666243-9918-4e4a-9de1-dc024e1f1ccb-c000.snappy.parquet\n",
      "gs://dll-data-bucket-885979867746/delta-consumable/part-00001-802cf333-7729-48c0-ba04-83f994889805-c000.snappy.parquet\n",
      "gs://dll-data-bucket-885979867746/delta-consumable/part-00002-4a0bacc0-eadb-4ebf-9a2c-003a3869e100-c000.snappy.parquet\n",
      "gs://dll-data-bucket-885979867746/delta-consumable/part-00002-570c06cd-732f-494f-ab81-2732881e654f-c000.snappy.parquet\n",
      "gs://dll-data-bucket-885979867746/delta-consumable/part-00002-639ad7ad-9a0e-484a-84b9-fc29a9ce5dc0-c000.snappy.parquet\n",
      "gs://dll-data-bucket-885979867746/delta-consumable/part-00002-d5954153-cb49-4365-89fa-12a9c468ca42-c000.snappy.parquet\n",
      "gs://dll-data-bucket-885979867746/delta-consumable/part-00003-07e1d0de-f6ba-4f9b-8389-1f5c8029f974-c000.snappy.parquet\n",
      "gs://dll-data-bucket-885979867746/delta-consumable/part-00003-1fa442f2-dcf0-4939-900e-a20f7e0cf473-c000.snappy.parquet\n",
      "gs://dll-data-bucket-885979867746/delta-consumable/part-00003-673e58d6-d7d3-42df-adef-c089ca235619-c000.snappy.parquet\n",
      "gs://dll-data-bucket-885979867746/delta-consumable/part-00003-e7773bde-ec22-4511-a9bf-4b11ba923113-c000.snappy.parquet\n",
      "gs://dll-data-bucket-885979867746/delta-consumable/part-00004-7cab9918-31a5-4d07-9ce5-08e96aa10b64-c000.snappy.parquet\n",
      "gs://dll-data-bucket-885979867746/delta-consumable/part-00004-8cb50719-40b0-4b60-9845-037f6cc454f0-c000.snappy.parquet\n",
      "gs://dll-data-bucket-885979867746/delta-consumable/part-00005-62047667-10b5-49e1-9741-5197b75d58a4-c000.snappy.parquet\n",
      "gs://dll-data-bucket-885979867746/delta-consumable/part-00005-68864e73-c67c-4255-b94f-a6b710c74037-c000.snappy.parquet\n"
     ]
    }
   ],
   "source": [
    "# Lets take a look at the data lake post the zordering. There is one extra file.  \n",
    "!gsutil ls -r $DELTA_LAKE_DIR_ROOT/part*"
   ]
  },
  {
   "cell_type": "code",
   "execution_count": 11,
   "id": "3985f4e3-87bc-40dc-95c1-5364be50664d",
   "metadata": {},
   "outputs": [
    {
     "name": "stdout",
     "output_type": "stream",
     "text": [
      "30\n"
     ]
    }
   ],
   "source": [
    "!gsutil ls -r $DELTA_LAKE_DIR_ROOT/part* | wc -l"
   ]
  },
  {
   "cell_type": "code",
   "execution_count": 12,
   "id": "0491e7ba-4fd4-46b2-9e6f-b7143c6d873e",
   "metadata": {},
   "outputs": [
    {
     "name": "stdout",
     "output_type": "stream",
     "text": [
      "gs://dll-data-bucket-885979867746/delta-consumable/_delta_log/:\n",
      "gs://dll-data-bucket-885979867746/delta-consumable/_delta_log/\n",
      "gs://dll-data-bucket-885979867746/delta-consumable/_delta_log/00000000000000000000.json\n",
      "gs://dll-data-bucket-885979867746/delta-consumable/_delta_log/00000000000000000001.json\n",
      "gs://dll-data-bucket-885979867746/delta-consumable/_delta_log/00000000000000000002.json\n",
      "gs://dll-data-bucket-885979867746/delta-consumable/_delta_log/00000000000000000003.json\n",
      "gs://dll-data-bucket-885979867746/delta-consumable/_delta_log/00000000000000000004.json\n",
      "gs://dll-data-bucket-885979867746/delta-consumable/_delta_log/00000000000000000005.json\n",
      "gs://dll-data-bucket-885979867746/delta-consumable/_delta_log/00000000000000000006.json\n",
      "gs://dll-data-bucket-885979867746/delta-consumable/_delta_log/00000000000000000007.json\n",
      "gs://dll-data-bucket-885979867746/delta-consumable/_delta_log/00000000000000000008.json\n",
      "gs://dll-data-bucket-885979867746/delta-consumable/_delta_log/00000000000000000009.json\n",
      "gs://dll-data-bucket-885979867746/delta-consumable/_delta_log/00000000000000000010.checkpoint.parquet\n",
      "gs://dll-data-bucket-885979867746/delta-consumable/_delta_log/00000000000000000010.json\n",
      "gs://dll-data-bucket-885979867746/delta-consumable/_delta_log/00000000000000000011.json\n",
      "gs://dll-data-bucket-885979867746/delta-consumable/_delta_log/00000000000000000012.json\n",
      "gs://dll-data-bucket-885979867746/delta-consumable/_delta_log/_last_checkpoint\n"
     ]
    }
   ],
   "source": [
    "# Lets take a look at the transaction log post the zordering \n",
    "!gsutil ls -r $DELTA_LAKE_DIR_ROOT/_delta_log"
   ]
  },
  {
   "cell_type": "code",
   "execution_count": 13,
   "id": "536da94c-836d-4e30-89f4-78f597177b03",
   "metadata": {},
   "outputs": [
    {
     "name": "stdout",
     "output_type": "stream",
     "text": [
      "{\"add\":{\"path\":\"part-00000-b77f8967-b01f-4604-a3f3-3074163693e4-c000.snappy.parquet\",\"partitionValues\":{},\"size\":1967,\"modificationTime\":1666481881462,\"dataChange\":true,\"stats\":\"{\\\"numRecords\\\":408,\\\"minValues\\\":{\\\"addr_state\\\":\\\"AK\\\",\\\"count\\\":0,\\\"collateral_value\\\":0.0},\\\"maxValues\\\":{\\\"addr_state\\\":\\\"WY\\\",\\\"count\\\":10134,\\\"collateral_value\\\":1.0134172359090886E8},\\\"nullCount\\\":{\\\"addr_state\\\":0,\\\"count\\\":0,\\\"collateral_value\\\":0}}\"}}\n",
      "{\"add\":{\"path\":\"part-00001-3b7fbc64-5d70-4ea7-833e-783a2022ba14-c000.snappy.parquet\",\"partitionValues\":{},\"size\":1645,\"modificationTime\":1666481881554,\"dataChange\":true,\"stats\":\"{\\\"numRecords\\\":153,\\\"minValues\\\":{\\\"addr_state\\\":\\\"AK\\\",\\\"count\\\":0,\\\"collateral_value\\\":0.0},\\\"maxValues\\\":{\\\"addr_state\\\":\\\"WY\\\",\\\"count\\\":3168,\\\"collateral_value\\\":3.1680389069416154E7},\\\"nullCount\\\":{\\\"addr_state\\\":0,\\\"count\\\":0,\\\"collateral_value\\\":0}}\"}}\n",
      "{\"add\":{\"path\":\"part-00002-570c06cd-732f-494f-ab81-2732881e654f-c000.snappy.parquet\",\"partitionValues\":{},\"size\":1959,\"modificationTime\":1666481881426,\"dataChange\":true,\"stats\":\"{\\\"numRecords\\\":408,\\\"minValues\\\":{\\\"addr_state\\\":\\\"AK\\\",\\\"count\\\":0,\\\"collateral_value\\\":0.0},\\\"maxValues\\\":{\\\"addr_state\\\":\\\"WY\\\",\\\"count\\\":1802,\\\"collateral_value\\\":1.8021588237779684E7},\\\"nullCount\\\":{\\\"addr_state\\\":0,\\\"count\\\":0,\\\"collateral_value\\\":0}}\"}}\n",
      "{\"add\":{\"path\":\"part-00003-673e58d6-d7d3-42df-adef-c089ca235619-c000.snappy.parquet\",\"partitionValues\":{},\"size\":1878,\"modificationTime\":1666481881523,\"dataChange\":true,\"stats\":\"{\\\"numRecords\\\":306,\\\"minValues\\\":{\\\"addr_state\\\":\\\"AK\\\",\\\"count\\\":0,\\\"collateral_value\\\":0.0},\\\"maxValues\\\":{\\\"addr_state\\\":\\\"WY\\\",\\\"count\\\":1338,\\\"collateral_value\\\":1.3388580724709662E7},\\\"nullCount\\\":{\\\"addr_state\\\":0,\\\"count\\\":0,\\\"collateral_value\\\":0}}\"}}\n",
      "{\"add\":{\"path\":\"part-00004-8cb50719-40b0-4b60-9845-037f6cc454f0-c000.snappy.parquet\",\"partitionValues\":{},\"size\":1738,\"modificationTime\":1666481881486,\"dataChange\":true,\"stats\":\"{\\\"numRecords\\\":204,\\\"minValues\\\":{\\\"addr_state\\\":\\\"AK\\\",\\\"count\\\":0,\\\"collateral_value\\\":0.0},\\\"maxValues\\\":{\\\"addr_state\\\":\\\"WY\\\",\\\"count\\\":1652,\\\"collateral_value\\\":1.6529323052921893E7},\\\"nullCount\\\":{\\\"addr_state\\\":0,\\\"count\\\":0,\\\"collateral_value\\\":0}}\"}}\n",
      "{\"add\":{\"path\":\"part-00005-68864e73-c67c-4255-b94f-a6b710c74037-c000.snappy.parquet\",\"partitionValues\":{},\"size\":2069,\"modificationTime\":1666481881499,\"dataChange\":true,\"stats\":\"{\\\"numRecords\\\":153,\\\"minValues\\\":{\\\"addr_state\\\":\\\"AK\\\",\\\"count\\\":0,\\\"collateral_value\\\":0.0},\\\"maxValues\\\":{\\\"addr_state\\\":\\\"WY\\\",\\\"count\\\":5718,\\\"collateral_value\\\":5.718774597467037E7},\\\"nullCount\\\":{\\\"addr_state\\\":0,\\\"count\\\":0,\\\"collateral_value\\\":0}}\"}}\n",
      "{\"commitInfo\":{\"timestamp\":1666481881620,\"operation\":\"WRITE\",\"operationParameters\":{\"mode\":\"Append\",\"partitionBy\":\"[]\"},\"readVersion\":10,\"isolationLevel\":\"Serializable\",\"isBlindAppend\":false,\"operationMetrics\":{\"numFiles\":\"6\",\"numOutputRows\":\"1632\",\"numOutputBytes\":\"11256\"},\"engineInfo\":\"Apache-Spark/3.3.0 Delta-Lake/2.1.0\",\"txnId\":\"4c6f3fa4-20bf-4bc8-9186-5e1db77f7c9e\"}}\n"
     ]
    }
   ],
   "source": [
    "# And review what is in the delta log\n",
    "!gsutil cat $DELTA_LAKE_DIR_ROOT/_delta_log/00000000000000000011.json"
   ]
  },
  {
   "cell_type": "markdown",
   "id": "b86593ab-c082-4067-8f45-4d7f1836fef4",
   "metadata": {},
   "source": [
    "### THIS CONCLUDES THIS LAB. PROCEED TO THE NEXT NOTEBOOK."
   ]
  }
 ],
 "metadata": {
  "language_info": {
   "codemirror_mode": {
    "name": "ipython",
    "version": 3
   },
   "file_extension": ".py",
   "mimetype": "text/x-python",
   "name": "python",
   "nbconvert_exporter": "python",
   "pygments_lexer": "ipython3",
   "version": "3.10.6"
  },
  "serverless_spark": "{\"name\":\"projects/delta-lake-lab/locations/us-central1/sessions/delta-lake-lab-17718\",\"uuid\":\"cb959c82-1002-4915-aed8-85c83d4e81f4\",\"createTime\":\"2022-10-22T17:30:32.565848Z\",\"jupyterSession\":{},\"spark\":{},\"runtimeInfo\":{\"endpoints\":{\"Spark History Server\":\"https://smmei2wdurb7nptroshcbbgeda-dot-us-central1.dataproc.googleusercontent.com/sparkhistory/\"}},\"state\":\"ACTIVE\",\"stateTime\":\"2022-10-22T17:32:38.942362Z\",\"creator\":\"admin@akhanolkar.altostrat.com\",\"runtimeConfig\":{\"version\":\"2.0\",\"properties\":{\"spark:spark.jars.packages\":\"io.delta:delta-core_2.13:2.1.0\",\"spark:spark.sql.catalog.spark_catalog\":\"org.apache.spark.sql.delta.catalog.DeltaCatalog\",\"spark:spark.sql.extensions\":\"io.delta.sql.DeltaSparkSessionExtension\",\"spark:spark.executor.instances\":\"2\",\"spark:spark.driver.cores\":\"4\",\"spark:spark.executor.cores\":\"4\",\"spark:spark.dynamicAllocation.executorAllocationRatio\":\"0.3\",\"spark:spark.eventLog.dir\":\"gs://dll-sphs-bucket-885979867746/cb959c82-1002-4915-aed8-85c83d4e81f4/spark-job-history\"}},\"environmentConfig\":{\"executionConfig\":{\"serviceAccount\":\"dll-lab-sa@delta-lake-lab.iam.gserviceaccount.com\",\"subnetworkUri\":\"spark-snet\",\"idleTtl\":\"14400s\"},\"peripheralsConfig\":{\"metastoreService\":\"projects/delta-lake-lab/locations/us-central1/services/dll-hms-885979867746\",\"sparkHistoryServerConfig\":{\"dataprocCluster\":\"projects/delta-lake-lab/regions/us-central1/clusters/dll-sphs-885979867746\"}}},\"stateHistory\":[{\"state\":\"CREATING\",\"stateStartTime\":\"2022-10-22T17:30:32.565848Z\"}]}",
  "serverless_spark_kernel_name": "remote-19c93264a411c8234417320a-pyspark",
  "vscode": {
   "interpreter": {
    "hash": "aee8b7b246df8f9039afb4144a1f6fd8d2ca17a180786b69acc140d282b71a49"
   }
  }
 },
 "nbformat": 4,
 "nbformat_minor": 5
}
