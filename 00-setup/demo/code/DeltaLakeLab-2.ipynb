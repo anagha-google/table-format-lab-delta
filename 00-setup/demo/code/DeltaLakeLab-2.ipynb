{
 "cells": [
  {
   "cell_type": "markdown",
   "id": "4529a790-8425-4600-841a-4b094b82eaa8",
   "metadata": {},
   "source": [
    "# Delta Lake Lab \n",
    "## Unit 2: Create a Delta Lake table\n",
    "In the previous unit -\n",
    "1. We read parquet data in the datalake\n",
    "2. Cleansed it, subset it and persisted it as parquet to the datalake parquet-consumable directory\n",
    "3. We crated a database called loan_db and defined an external table on the data in parquet-consumable\n",
    "\n",
    "In this unit you will learn to -\n",
    "1. Create a base table in Delta off of the Parquet table in the prior notebook.\n",
    "2. Create a partitioned Delta table off of the Parquet table in the prior notebook."
   ]
  },
  {
   "cell_type": "markdown",
   "id": "1a31c4fd-d465-4f52-8e56-3775bf499abc",
   "metadata": {},
   "source": [
    "### 1. Imports"
   ]
  },
  {
   "cell_type": "code",
   "execution_count": 1,
   "id": "1321bce9-178c-4065-8187-0a5728c1a370",
   "metadata": {},
   "outputs": [],
   "source": [
    "import pandas as pd\n",
    "\n",
    "from pyspark.sql.functions import month, date_format\n",
    "from pyspark.sql.types import IntegerType\n",
    "from pyspark.sql import SparkSession\n",
    "\n",
    "from delta.tables import *\n",
    "\n",
    "import warnings\n",
    "warnings.filterwarnings('ignore')"
   ]
  },
  {
   "cell_type": "markdown",
   "id": "ed295a74-ed1d-4b5d-831a-1b5dcf73c36f",
   "metadata": {},
   "source": [
    "### 2. Create a Spark session powered by Cloud Dataproc "
   ]
  },
  {
   "cell_type": "code",
   "execution_count": 2,
   "id": "b383d5ab-a0b9-45ab-a232-34d88f2a0065",
   "metadata": {},
   "outputs": [
    {
     "name": "stderr",
     "output_type": "stream",
     "text": [
      "22/10/22 18:33:41 WARN SparkSession: Using an existing Spark session; only runtime SQL configurations will take effect.\n"
     ]
    },
    {
     "data": {
      "text/html": [
       "\n",
       "            <div>\n",
       "                <p><b>SparkSession - hive</b></p>\n",
       "                \n",
       "        <div>\n",
       "            <p><b>SparkContext</b></p>\n",
       "\n",
       "            <p><a href=\"http://gdpic-srvls-session-3354cd79-4066-4b1f-b737-7eaeae9c5008-m.us-central1-b.c.delta-lake-lab.internal:4040\">Spark UI</a></p>\n",
       "\n",
       "            <dl>\n",
       "              <dt>Version</dt>\n",
       "                <dd><code>v3.3.0</code></dd>\n",
       "              <dt>Master</dt>\n",
       "                <dd><code>spark://gdpic-srvls-session-3354cd79-4066-4b1f-b737-7eaeae9c5008-m:7077</code></dd>\n",
       "              <dt>AppName</dt>\n",
       "                <dd><code>PySparkShell</code></dd>\n",
       "            </dl>\n",
       "        </div>\n",
       "        \n",
       "            </div>\n",
       "        "
      ],
      "text/plain": [
       "<pyspark.sql.session.SparkSession at 0x7fcbb6d68160>"
      ]
     },
     "execution_count": 2,
     "metadata": {},
     "output_type": "execute_result"
    }
   ],
   "source": [
    "spark = SparkSession.builder.appName('Loan Analysis').getOrCreate()\n",
    "spark"
   ]
  },
  {
   "cell_type": "markdown",
   "id": "63cd13e6-f3f5-4f2c-b4fc-d7e2660c6206",
   "metadata": {},
   "source": [
    "### 3. Declare variables"
   ]
  },
  {
   "cell_type": "code",
   "execution_count": 3,
   "id": "5596e31b-749a-4702-8879-6f05f9ff0c2d",
   "metadata": {},
   "outputs": [
    {
     "name": "stdout",
     "output_type": "stream",
     "text": [
      "PROJECT_ID:  delta-lake-lab\n"
     ]
    }
   ],
   "source": [
    "project_id_output = !gcloud config list --format \"value(core.project)\" 2>/dev/null\n",
    "PROJECT_ID = project_id_output[0]\n",
    "print(\"PROJECT_ID: \", PROJECT_ID)"
   ]
  },
  {
   "cell_type": "code",
   "execution_count": 4,
   "id": "471c6743-a058-462b-851a-f34323f36243",
   "metadata": {},
   "outputs": [
    {
     "name": "stdout",
     "output_type": "stream",
     "text": [
      "PROJECT_NAME:  delta-lake-lab\n"
     ]
    }
   ],
   "source": [
    "project_name_output = !gcloud projects describe $PROJECT_ID | grep name | cut -d':' -f2 | xargs\n",
    "PROJECT_NAME = project_name_output[0]\n",
    "print(\"PROJECT_NAME: \", PROJECT_NAME)"
   ]
  },
  {
   "cell_type": "code",
   "execution_count": 5,
   "id": "61929dc6-a083-433c-8a13-3d39d9c4a4a1",
   "metadata": {},
   "outputs": [
    {
     "name": "stdout",
     "output_type": "stream",
     "text": [
      "PROJECT_NUMBER:  885979867746\n"
     ]
    }
   ],
   "source": [
    "project_number_output = !gcloud projects describe $PROJECT_ID | grep projectNumber | cut -d':' -f2 | xargs\n",
    "PROJECT_NUMBER = project_number_output[0]\n",
    "print(\"PROJECT_NUMBER: \", PROJECT_NUMBER)"
   ]
  },
  {
   "cell_type": "code",
   "execution_count": 6,
   "id": "f8b79fd2-5243-41a4-ae87-e7f9dd87cf20",
   "metadata": {},
   "outputs": [],
   "source": [
    "DATA_LAKE_ROOT_PATH= f\"gs://dll-data-bucket-{PROJECT_NUMBER}\""
   ]
  },
  {
   "cell_type": "markdown",
   "id": "d4e87d5b-2b61-4ee7-9595-7aa5857a613d",
   "metadata": {},
   "source": [
    "### 4. Create an unpartitioned Delta table\n",
    "We will use this for the test of the lab"
   ]
  },
  {
   "cell_type": "code",
   "execution_count": 7,
   "id": "1fa7c08d-a9e2-4992-8de4-15c6b8039f61",
   "metadata": {},
   "outputs": [],
   "source": [
    "DELTA_LAKE_DIR_ROOT = f\"{DATA_LAKE_ROOT_PATH}/delta-consumable\""
   ]
  },
  {
   "cell_type": "code",
   "execution_count": 8,
   "id": "75af85d5-27a5-4307-8778-d7c3594e5836",
   "metadata": {},
   "outputs": [
    {
     "name": "stderr",
     "output_type": "stream",
     "text": [
      "ivysettings.xml file not found in HIVE_HOME or HIVE_CONF_DIR,/etc/spark/conf/ivysettings.xml will be used\n",
      "                                                                                \r"
     ]
    }
   ],
   "source": [
    "# Create delta dataset from the Parquet table\n",
    "spark.sql(\"SELECT addr_state,count(*) as count FROM loan_db.loans_by_state_parquet group by addr_state\").write.mode(\"overwrite\").format(\"delta\").save(f\"{DELTA_LAKE_DIR_ROOT}\")"
   ]
  },
  {
   "cell_type": "code",
   "execution_count": 9,
   "id": "01f9b9ce-0e71-4e9e-b8dd-8377c0ae7494",
   "metadata": {},
   "outputs": [
    {
     "name": "stderr",
     "output_type": "stream",
     "text": [
      "22/10/22 18:34:09 WARN HiveExternalCatalog: Couldn't find corresponding Hive SerDe for data source provider delta. Persisting data source table `loan_db`.`loans_by_state_delta` into Hive metastore in Spark SQL specific format, which is NOT compatible with Hive.\n",
      "22/10/22 18:34:09 WARN SessionState: METASTORE_FILTER_HOOK will be ignored, since hive.security.authorization.manager is set to instance of HiveAuthorizerFactory.\n"
     ]
    },
    {
     "data": {
      "text/plain": [
       "DataFrame[]"
      ]
     },
     "execution_count": 9,
     "metadata": {},
     "output_type": "execute_result"
    }
   ],
   "source": [
    "# Define external delta table definition\n",
    "spark.sql(\"DROP TABLE IF EXISTS loan_db.loans_by_state_delta;\")\n",
    "spark.sql(f\"CREATE TABLE loan_db.loans_by_state_delta USING delta LOCATION \\\"{DELTA_LAKE_DIR_ROOT}\\\"\")"
   ]
  },
  {
   "cell_type": "code",
   "execution_count": 10,
   "id": "f630f3b9-1333-450b-a6fc-7c6c4d2a7e58",
   "metadata": {},
   "outputs": [
    {
     "name": "stdout",
     "output_type": "stream",
     "text": [
      "+---------+--------------------+-----------+\n",
      "|namespace|           tableName|isTemporary|\n",
      "+---------+--------------------+-----------+\n",
      "|  loan_db|loans_by_state_delta|      false|\n",
      "|  loan_db|loans_by_state_pa...|      false|\n",
      "|  loan_db|loans_cleansed_pa...|      false|\n",
      "+---------+--------------------+-----------+\n",
      "\n"
     ]
    }
   ],
   "source": [
    "spark.sql(\"show tables from loan_db;\").show()"
   ]
  },
  {
   "cell_type": "code",
   "execution_count": 11,
   "id": "54ce6b8c-b366-457c-a870-68f336d95f55",
   "metadata": {},
   "outputs": [
    {
     "name": "stderr",
     "output_type": "stream",
     "text": [
      "[Stage 13:>                                                         (0 + 1) / 1]\r"
     ]
    },
    {
     "name": "stdout",
     "output_type": "stream",
     "text": [
      "+----------+-----+\n",
      "|addr_state|count|\n",
      "+----------+-----+\n",
      "|        AZ|    1|\n",
      "|        SC|    1|\n",
      "+----------+-----+\n",
      "\n"
     ]
    },
    {
     "name": "stderr",
     "output_type": "stream",
     "text": [
      "                                                                                \r"
     ]
    }
   ],
   "source": [
    "spark.sql(\"select * from loan_db.loans_by_state_delta limit 2\").show()"
   ]
  },
  {
   "cell_type": "code",
   "execution_count": 12,
   "id": "734e1bc2-d0e9-4f7b-b4b0-25082cbe7afa",
   "metadata": {},
   "outputs": [
    {
     "name": "stdout",
     "output_type": "stream",
     "text": [
      "+--------------------+--------------------+-------+\n",
      "|            col_name|           data_type|comment|\n",
      "+--------------------+--------------------+-------+\n",
      "|          addr_state|              string|       |\n",
      "|               count|              bigint|       |\n",
      "|                    |                    |       |\n",
      "|      # Partitioning|                    |       |\n",
      "|     Not partitioned|                    |       |\n",
      "|                    |                    |       |\n",
      "|# Detailed Table ...|                    |       |\n",
      "|                Name|loan_db.loans_by_...|       |\n",
      "|            Location|gs://dll-data-buc...|       |\n",
      "|            Provider|               delta|       |\n",
      "|               Owner|               spark|       |\n",
      "|            External|                true|       |\n",
      "|    Table Properties|[delta.minReaderV...|       |\n",
      "+--------------------+--------------------+-------+\n",
      "\n"
     ]
    }
   ],
   "source": [
    "spark.sql(\"DESCRIBE FORMATTED loan_db.loans_by_state_delta\").show()"
   ]
  },
  {
   "cell_type": "code",
   "execution_count": 13,
   "id": "dbaa4248-2cd4-415c-a690-5b4f627d557f",
   "metadata": {},
   "outputs": [
    {
     "name": "stdout",
     "output_type": "stream",
     "text": [
      "+--------------------+--------------------+-------+\n",
      "|            col_name|           data_type|comment|\n",
      "+--------------------+--------------------+-------+\n",
      "|          addr_state|              string|       |\n",
      "|               count|              bigint|       |\n",
      "|                    |                    |       |\n",
      "|      # Partitioning|                    |       |\n",
      "|     Not partitioned|                    |       |\n",
      "|                    |                    |       |\n",
      "|# Detailed Table ...|                    |       |\n",
      "|                Name|loan_db.loans_by_...|       |\n",
      "|            Location|gs://dll-data-buc...|       |\n",
      "|            Provider|               delta|       |\n",
      "|               Owner|               spark|       |\n",
      "|            External|                true|       |\n",
      "|    Table Properties|[delta.minReaderV...|       |\n",
      "+--------------------+--------------------+-------+\n",
      "\n"
     ]
    }
   ],
   "source": [
    "spark.sql(\"DESCRIBE EXTENDED loan_db.loans_by_state_delta\").show()"
   ]
  },
  {
   "cell_type": "markdown",
   "id": "5a7b2095-91c7-41d5-9fc0-092c3511d0c4",
   "metadata": {},
   "source": [
    "### 5. Create a partitioned Delta Lake table"
   ]
  },
  {
   "cell_type": "code",
   "execution_count": 14,
   "id": "d1e6e4ba-742b-44ce-b58a-590dcf42eaf0",
   "metadata": {},
   "outputs": [],
   "source": [
    "DELTA_LAKE_DIR_ROOT = f\"{DATA_LAKE_ROOT_PATH}/delta-sample-partitioned\""
   ]
  },
  {
   "cell_type": "code",
   "execution_count": 15,
   "id": "5fe8230a-609a-4ae3-a990-17498ae6144a",
   "metadata": {},
   "outputs": [
    {
     "name": "stderr",
     "output_type": "stream",
     "text": [
      "                                                                                \r"
     ]
    }
   ],
   "source": [
    "# Create delta dataset from the Parquet table\n",
    "spark.sql(\"SELECT addr_state,count(*) as count FROM loan_db.loans_by_state_parquet group by addr_state\").write.mode(\"overwrite\").partitionBy(\"addr_state\").format(\"delta\").save(f\"{DELTA_LAKE_DIR_ROOT}\")"
   ]
  },
  {
   "cell_type": "markdown",
   "id": "a0468c88-4f56-48af-9165-d4f1bbcbbda3",
   "metadata": {},
   "source": [
    "### 6. A quick peek at the data lake layout\n",
    "Compare this to the last cell of the prior notebook."
   ]
  },
  {
   "cell_type": "code",
   "execution_count": 16,
   "id": "d417104e-973f-422a-9bf1-e484a65b9f65",
   "metadata": {},
   "outputs": [
    {
     "name": "stdout",
     "output_type": "stream",
     "text": [
      "gs://dll-data-bucket-885979867746/delta-consumable/:\n",
      "gs://dll-data-bucket-885979867746/delta-consumable/part-00000-48902d8f-0572-4735-b0d7-95b1927cb294-c000.snappy.parquet\n",
      "\n",
      "gs://dll-data-bucket-885979867746/delta-consumable/_delta_log/:\n",
      "gs://dll-data-bucket-885979867746/delta-consumable/_delta_log/\n",
      "gs://dll-data-bucket-885979867746/delta-consumable/_delta_log/00000000000000000000.json\n",
      "\n",
      "gs://dll-data-bucket-885979867746/delta-sample-partitioned/:\n",
      "\n",
      "gs://dll-data-bucket-885979867746/delta-sample-partitioned/_delta_log/:\n",
      "gs://dll-data-bucket-885979867746/delta-sample-partitioned/_delta_log/\n",
      "gs://dll-data-bucket-885979867746/delta-sample-partitioned/_delta_log/00000000000000000000.json\n",
      "\n",
      "gs://dll-data-bucket-885979867746/delta-sample-partitioned/addr_state=AK/:\n",
      "gs://dll-data-bucket-885979867746/delta-sample-partitioned/addr_state=AK/part-00000-841d61f7-8b83-44f2-925b-395ae4e83c91.c000.snappy.parquet\n",
      "\n",
      "gs://dll-data-bucket-885979867746/delta-sample-partitioned/addr_state=AL/:\n",
      "gs://dll-data-bucket-885979867746/delta-sample-partitioned/addr_state=AL/part-00000-94892c2d-f199-46f4-aee3-431cc9b4e1d4.c000.snappy.parquet\n",
      "\n",
      "gs://dll-data-bucket-885979867746/delta-sample-partitioned/addr_state=AR/:\n",
      "gs://dll-data-bucket-885979867746/delta-sample-partitioned/addr_state=AR/part-00000-0aaf8300-2b3a-416a-a5d8-d68f636857ea.c000.snappy.parquet\n",
      "\n",
      "gs://dll-data-bucket-885979867746/delta-sample-partitioned/addr_state=AZ/:\n",
      "gs://dll-data-bucket-885979867746/delta-sample-partitioned/addr_state=AZ/part-00000-219a8894-f985-4f08-8d74-29d1d4d45dd3.c000.snappy.parquet\n",
      "\n",
      "gs://dll-data-bucket-885979867746/delta-sample-partitioned/addr_state=CA/:\n",
      "gs://dll-data-bucket-885979867746/delta-sample-partitioned/addr_state=CA/part-00000-1f310c63-622d-4ed9-a1fd-88683ebc8139.c000.snappy.parquet\n",
      "\n",
      "gs://dll-data-bucket-885979867746/delta-sample-partitioned/addr_state=CO/:\n",
      "gs://dll-data-bucket-885979867746/delta-sample-partitioned/addr_state=CO/part-00000-26a6a5a9-1fa8-4117-b616-ce209baa57c1.c000.snappy.parquet\n",
      "\n",
      "gs://dll-data-bucket-885979867746/delta-sample-partitioned/addr_state=CT/:\n",
      "gs://dll-data-bucket-885979867746/delta-sample-partitioned/addr_state=CT/part-00000-d9afa2a1-4996-4689-a492-9173a7b46b09.c000.snappy.parquet\n",
      "\n",
      "gs://dll-data-bucket-885979867746/delta-sample-partitioned/addr_state=DC/:\n",
      "gs://dll-data-bucket-885979867746/delta-sample-partitioned/addr_state=DC/part-00000-ffa05c42-5c62-41e3-b9a9-c2b7e76cc91e.c000.snappy.parquet\n",
      "\n",
      "gs://dll-data-bucket-885979867746/delta-sample-partitioned/addr_state=DE/:\n",
      "gs://dll-data-bucket-885979867746/delta-sample-partitioned/addr_state=DE/part-00000-dceceeaf-855f-4ec1-8b0d-8f54c229d40a.c000.snappy.parquet\n",
      "\n",
      "gs://dll-data-bucket-885979867746/delta-sample-partitioned/addr_state=FL/:\n",
      "gs://dll-data-bucket-885979867746/delta-sample-partitioned/addr_state=FL/part-00000-f0215a10-ad2c-4230-b95b-05eb0d8bea51.c000.snappy.parquet\n",
      "\n",
      "gs://dll-data-bucket-885979867746/delta-sample-partitioned/addr_state=GA/:\n",
      "gs://dll-data-bucket-885979867746/delta-sample-partitioned/addr_state=GA/part-00000-8a8c485d-f88e-4b4f-bee8-13c549d06117.c000.snappy.parquet\n",
      "\n",
      "gs://dll-data-bucket-885979867746/delta-sample-partitioned/addr_state=HI/:\n",
      "gs://dll-data-bucket-885979867746/delta-sample-partitioned/addr_state=HI/part-00000-49c156f0-9587-458a-873a-f52b4693f6d1.c000.snappy.parquet\n",
      "\n",
      "gs://dll-data-bucket-885979867746/delta-sample-partitioned/addr_state=IA/:\n",
      "gs://dll-data-bucket-885979867746/delta-sample-partitioned/addr_state=IA/part-00000-016e9953-a54b-4b6a-a11a-2124e177a872.c000.snappy.parquet\n",
      "\n",
      "gs://dll-data-bucket-885979867746/delta-sample-partitioned/addr_state=ID/:\n",
      "gs://dll-data-bucket-885979867746/delta-sample-partitioned/addr_state=ID/part-00000-c088da4c-1cc5-4606-9859-85bea85c89d9.c000.snappy.parquet\n",
      "\n",
      "gs://dll-data-bucket-885979867746/delta-sample-partitioned/addr_state=IL/:\n",
      "gs://dll-data-bucket-885979867746/delta-sample-partitioned/addr_state=IL/part-00000-c3287229-67f9-4ecd-babc-b5a66f4dd484.c000.snappy.parquet\n",
      "\n",
      "gs://dll-data-bucket-885979867746/delta-sample-partitioned/addr_state=IN/:\n",
      "gs://dll-data-bucket-885979867746/delta-sample-partitioned/addr_state=IN/part-00000-4243de96-b322-4b67-a630-eafeafc71a34.c000.snappy.parquet\n",
      "\n",
      "gs://dll-data-bucket-885979867746/delta-sample-partitioned/addr_state=KS/:\n",
      "gs://dll-data-bucket-885979867746/delta-sample-partitioned/addr_state=KS/part-00000-f9e64eeb-86cc-4d0e-aee7-aa437dc1ee60.c000.snappy.parquet\n",
      "\n",
      "gs://dll-data-bucket-885979867746/delta-sample-partitioned/addr_state=KY/:\n",
      "gs://dll-data-bucket-885979867746/delta-sample-partitioned/addr_state=KY/part-00000-706b9414-81ff-4437-9247-25140b18bc40.c000.snappy.parquet\n",
      "\n",
      "gs://dll-data-bucket-885979867746/delta-sample-partitioned/addr_state=LA/:\n",
      "gs://dll-data-bucket-885979867746/delta-sample-partitioned/addr_state=LA/part-00000-47bc9cc5-bdf1-48fe-8c05-8eaf0f2700f9.c000.snappy.parquet\n",
      "\n",
      "gs://dll-data-bucket-885979867746/delta-sample-partitioned/addr_state=MA/:\n",
      "gs://dll-data-bucket-885979867746/delta-sample-partitioned/addr_state=MA/part-00000-95c921e9-bbe4-4d3e-baa5-e21574417d43.c000.snappy.parquet\n",
      "\n",
      "gs://dll-data-bucket-885979867746/delta-sample-partitioned/addr_state=MD/:\n",
      "gs://dll-data-bucket-885979867746/delta-sample-partitioned/addr_state=MD/part-00000-44d1ddaa-cb86-4eb7-aa9d-f8b9ee1195f0.c000.snappy.parquet\n",
      "\n",
      "gs://dll-data-bucket-885979867746/delta-sample-partitioned/addr_state=ME/:\n",
      "gs://dll-data-bucket-885979867746/delta-sample-partitioned/addr_state=ME/part-00000-39819ca8-26f1-48e8-aecc-f456608537db.c000.snappy.parquet\n",
      "\n",
      "gs://dll-data-bucket-885979867746/delta-sample-partitioned/addr_state=MI/:\n",
      "gs://dll-data-bucket-885979867746/delta-sample-partitioned/addr_state=MI/part-00000-1b42c687-2551-4634-bcdc-aa0c94fa8165.c000.snappy.parquet\n",
      "\n",
      "gs://dll-data-bucket-885979867746/delta-sample-partitioned/addr_state=MN/:\n",
      "gs://dll-data-bucket-885979867746/delta-sample-partitioned/addr_state=MN/part-00000-f8aca69e-268f-48c8-acc9-cf7328b65c7b.c000.snappy.parquet\n",
      "\n",
      "gs://dll-data-bucket-885979867746/delta-sample-partitioned/addr_state=MO/:\n",
      "gs://dll-data-bucket-885979867746/delta-sample-partitioned/addr_state=MO/part-00000-c475c16b-0a40-4c74-af40-b6f1b7268865.c000.snappy.parquet\n",
      "\n",
      "gs://dll-data-bucket-885979867746/delta-sample-partitioned/addr_state=MS/:\n",
      "gs://dll-data-bucket-885979867746/delta-sample-partitioned/addr_state=MS/part-00000-a85ef3d9-ce86-427c-a42a-4c3f67834403.c000.snappy.parquet\n",
      "\n",
      "gs://dll-data-bucket-885979867746/delta-sample-partitioned/addr_state=MT/:\n",
      "gs://dll-data-bucket-885979867746/delta-sample-partitioned/addr_state=MT/part-00000-0cedbf9a-ba90-4adb-b2b2-f2ef533e7b70.c000.snappy.parquet\n",
      "\n",
      "gs://dll-data-bucket-885979867746/delta-sample-partitioned/addr_state=NC/:\n",
      "gs://dll-data-bucket-885979867746/delta-sample-partitioned/addr_state=NC/part-00000-a36ca775-42a3-40d3-9dd1-f66152b37e54.c000.snappy.parquet\n",
      "\n",
      "gs://dll-data-bucket-885979867746/delta-sample-partitioned/addr_state=ND/:\n",
      "gs://dll-data-bucket-885979867746/delta-sample-partitioned/addr_state=ND/part-00000-ff8d2fc7-5bb5-4692-9073-fd90e5848f04.c000.snappy.parquet\n",
      "\n",
      "gs://dll-data-bucket-885979867746/delta-sample-partitioned/addr_state=NE/:\n",
      "gs://dll-data-bucket-885979867746/delta-sample-partitioned/addr_state=NE/part-00000-cbd5f14f-c687-4728-9aaa-b906d29bcb41.c000.snappy.parquet\n",
      "\n",
      "gs://dll-data-bucket-885979867746/delta-sample-partitioned/addr_state=NH/:\n",
      "gs://dll-data-bucket-885979867746/delta-sample-partitioned/addr_state=NH/part-00000-7992e4dc-03e5-42d0-a38f-b2d00336ef3a.c000.snappy.parquet\n",
      "\n",
      "gs://dll-data-bucket-885979867746/delta-sample-partitioned/addr_state=NJ/:\n",
      "gs://dll-data-bucket-885979867746/delta-sample-partitioned/addr_state=NJ/part-00000-45dee9fb-6763-4f0a-806a-f8134348bb11.c000.snappy.parquet\n",
      "\n",
      "gs://dll-data-bucket-885979867746/delta-sample-partitioned/addr_state=NM/:\n",
      "gs://dll-data-bucket-885979867746/delta-sample-partitioned/addr_state=NM/part-00000-44d463c2-4ae1-4be1-a67f-43425815d481.c000.snappy.parquet\n",
      "\n",
      "gs://dll-data-bucket-885979867746/delta-sample-partitioned/addr_state=NV/:\n",
      "gs://dll-data-bucket-885979867746/delta-sample-partitioned/addr_state=NV/part-00000-58e020e9-8b46-4cd8-b301-a2daf0dc4dcf.c000.snappy.parquet\n",
      "\n",
      "gs://dll-data-bucket-885979867746/delta-sample-partitioned/addr_state=NY/:\n",
      "gs://dll-data-bucket-885979867746/delta-sample-partitioned/addr_state=NY/part-00000-713c0d32-3bd4-486e-bce5-0d7120a1d59b.c000.snappy.parquet\n",
      "\n",
      "gs://dll-data-bucket-885979867746/delta-sample-partitioned/addr_state=OH/:\n",
      "gs://dll-data-bucket-885979867746/delta-sample-partitioned/addr_state=OH/part-00000-da3585b5-4bba-4b77-af35-5e020d99fcac.c000.snappy.parquet\n",
      "\n",
      "gs://dll-data-bucket-885979867746/delta-sample-partitioned/addr_state=OK/:\n",
      "gs://dll-data-bucket-885979867746/delta-sample-partitioned/addr_state=OK/part-00000-f407ba9a-0ae2-4057-8a58-a43c6123ce6d.c000.snappy.parquet\n",
      "\n",
      "gs://dll-data-bucket-885979867746/delta-sample-partitioned/addr_state=OR/:\n",
      "gs://dll-data-bucket-885979867746/delta-sample-partitioned/addr_state=OR/part-00000-3ffadc86-2c8a-466d-bf4c-bc505d946a3c.c000.snappy.parquet\n",
      "\n",
      "gs://dll-data-bucket-885979867746/delta-sample-partitioned/addr_state=PA/:\n",
      "gs://dll-data-bucket-885979867746/delta-sample-partitioned/addr_state=PA/part-00000-5fd4dbd1-26e7-488a-ae8c-d09a7d110096.c000.snappy.parquet\n",
      "\n",
      "gs://dll-data-bucket-885979867746/delta-sample-partitioned/addr_state=RI/:\n",
      "gs://dll-data-bucket-885979867746/delta-sample-partitioned/addr_state=RI/part-00000-ca3c34da-788e-4284-b7fc-711fbfd2557e.c000.snappy.parquet\n",
      "\n",
      "gs://dll-data-bucket-885979867746/delta-sample-partitioned/addr_state=SC/:\n",
      "gs://dll-data-bucket-885979867746/delta-sample-partitioned/addr_state=SC/part-00000-7d864de4-f132-4b7e-a440-ef9f1b7e42ce.c000.snappy.parquet\n",
      "\n",
      "gs://dll-data-bucket-885979867746/delta-sample-partitioned/addr_state=SD/:\n",
      "gs://dll-data-bucket-885979867746/delta-sample-partitioned/addr_state=SD/part-00000-73af1e10-49de-462b-9398-444d9a1b6289.c000.snappy.parquet\n",
      "\n",
      "gs://dll-data-bucket-885979867746/delta-sample-partitioned/addr_state=TN/:\n",
      "gs://dll-data-bucket-885979867746/delta-sample-partitioned/addr_state=TN/part-00000-528de08c-0aef-486f-9e6c-095af292ed23.c000.snappy.parquet\n",
      "\n",
      "gs://dll-data-bucket-885979867746/delta-sample-partitioned/addr_state=TX/:\n",
      "gs://dll-data-bucket-885979867746/delta-sample-partitioned/addr_state=TX/part-00000-c215d87e-c333-46f7-a86a-650c5ed90cd8.c000.snappy.parquet\n",
      "\n",
      "gs://dll-data-bucket-885979867746/delta-sample-partitioned/addr_state=UT/:\n",
      "gs://dll-data-bucket-885979867746/delta-sample-partitioned/addr_state=UT/part-00000-78e5a4f2-f9c6-4964-aefd-8d9375f8069c.c000.snappy.parquet\n",
      "\n",
      "gs://dll-data-bucket-885979867746/delta-sample-partitioned/addr_state=VA/:\n",
      "gs://dll-data-bucket-885979867746/delta-sample-partitioned/addr_state=VA/part-00000-e8b0c2ed-4608-4cf4-bea6-3a903c7e6446.c000.snappy.parquet\n",
      "\n",
      "gs://dll-data-bucket-885979867746/delta-sample-partitioned/addr_state=VT/:\n",
      "gs://dll-data-bucket-885979867746/delta-sample-partitioned/addr_state=VT/part-00000-b46a5ba9-8235-4974-8327-4b151c1ddf37.c000.snappy.parquet\n",
      "\n",
      "gs://dll-data-bucket-885979867746/delta-sample-partitioned/addr_state=WA/:\n",
      "gs://dll-data-bucket-885979867746/delta-sample-partitioned/addr_state=WA/part-00000-dfa97b6c-2094-4262-b905-192c992341b4.c000.snappy.parquet\n",
      "\n",
      "gs://dll-data-bucket-885979867746/delta-sample-partitioned/addr_state=WI/:\n",
      "gs://dll-data-bucket-885979867746/delta-sample-partitioned/addr_state=WI/part-00000-23cd009c-5867-4137-a950-10841bc06806.c000.snappy.parquet\n",
      "\n",
      "gs://dll-data-bucket-885979867746/delta-sample-partitioned/addr_state=WV/:\n",
      "gs://dll-data-bucket-885979867746/delta-sample-partitioned/addr_state=WV/part-00000-d16ca33f-abeb-4fae-b649-3695a3bd499d.c000.snappy.parquet\n",
      "\n",
      "gs://dll-data-bucket-885979867746/delta-sample-partitioned/addr_state=WY/:\n",
      "gs://dll-data-bucket-885979867746/delta-sample-partitioned/addr_state=WY/part-00000-1d939349-f311-4b4d-ae64-4f1c321973c9.c000.snappy.parquet\n",
      "\n",
      "gs://dll-data-bucket-885979867746/parquet-cleansed/:\n",
      "gs://dll-data-bucket-885979867746/parquet-cleansed/\n",
      "gs://dll-data-bucket-885979867746/parquet-cleansed/_SUCCESS\n",
      "gs://dll-data-bucket-885979867746/parquet-cleansed/part-00000-592c712b-7186-4097-9929-6d12b11f3875-c000.snappy.parquet\n",
      "gs://dll-data-bucket-885979867746/parquet-cleansed/part-00001-592c712b-7186-4097-9929-6d12b11f3875-c000.snappy.parquet\n",
      "\n",
      "gs://dll-data-bucket-885979867746/parquet-consumable/:\n",
      "gs://dll-data-bucket-885979867746/parquet-consumable/\n",
      "gs://dll-data-bucket-885979867746/parquet-consumable/_SUCCESS\n",
      "gs://dll-data-bucket-885979867746/parquet-consumable/part-00000-df86c89b-0b31-4626-8cf2-c19300e7bb0d-c000.snappy.parquet\n",
      "\n",
      "gs://dll-data-bucket-885979867746/parquet-source/:\n",
      "gs://dll-data-bucket-885979867746/parquet-source/loans_raw_1.snappy.parquet\n",
      "gs://dll-data-bucket-885979867746/parquet-source/loans_raw_2.snappy.parquet\n",
      "gs://dll-data-bucket-885979867746/parquet-source/loans_raw_3.snappy.parquet\n",
      "\n",
      "gs://dll-data-bucket-885979867746/temp/:\n",
      "gs://dll-data-bucket-885979867746/temp/\n",
      "gs://dll-data-bucket-885979867746/temp/_SUCCESS\n",
      "gs://dll-data-bucket-885979867746/temp/part-00000-f95fc8fa-ddf3-423e-85e0-fba6dabf477c-c000.snappy.parquet\n",
      "gs://dll-data-bucket-885979867746/temp/part-00001-f95fc8fa-ddf3-423e-85e0-fba6dabf477c-c000.snappy.parquet\n",
      "gs://dll-data-bucket-885979867746/temp/part-00002-f95fc8fa-ddf3-423e-85e0-fba6dabf477c-c000.snappy.parquet\n"
     ]
    }
   ],
   "source": [
    "!gsutil ls -r $DATA_LAKE_ROOT_PATH"
   ]
  },
  {
   "cell_type": "markdown",
   "id": "6c4df240-5ff1-433b-92ed-cf311dbef082",
   "metadata": {},
   "source": [
    "### THIS CONCLUDES THIS UNIT. PROCEED TO THE NEXT NOTEBOOK"
   ]
  }
 ],
 "metadata": {
  "language_info": {
   "codemirror_mode": {
    "name": "ipython",
    "version": 3
   },
   "file_extension": ".py",
   "mimetype": "text/x-python",
   "name": "python",
   "nbconvert_exporter": "python",
   "pygments_lexer": "ipython3",
   "version": "3.10.6"
  },
  "serverless_spark": "{\"name\":\"projects/delta-lake-lab/locations/us-central1/sessions/delta-lake-lab-14332\",\"uuid\":\"3354cd79-4066-4b1f-b737-7eaeae9c5008\",\"createTime\":\"2022-10-22T03:51:08.507145Z\",\"jupyterSession\":{},\"spark\":{},\"runtimeInfo\":{\"endpoints\":{\"Spark History Server\":\"https://smmei2wdurb7nptroshcbbgeda-dot-us-central1.dataproc.googleusercontent.com/sparkhistory/\"}},\"state\":\"ACTIVE\",\"stateTime\":\"2022-10-22T03:52:51.548221Z\",\"creator\":\"admin@akhanolkar.altostrat.com\",\"runtimeConfig\":{\"version\":\"2.0\",\"properties\":{\"spark:spark.jars.packages\":\"io.delta:delta-core_2.13:2.1.0\",\"spark:spark.sql.catalog.spark_catalog\":\"org.apache.spark.sql.delta.catalog.DeltaCatalog\",\"spark:spark.sql.extensions\":\"io.delta.sql.DeltaSparkSessionExtension\",\"spark:spark.executor.instances\":\"2\",\"spark:spark.driver.cores\":\"4\",\"spark:spark.executor.cores\":\"4\",\"spark:spark.dynamicAllocation.executorAllocationRatio\":\"0.3\",\"spark:spark.eventLog.dir\":\"gs://dll-sphs-bucket-885979867746/3354cd79-4066-4b1f-b737-7eaeae9c5008/spark-job-history\"}},\"environmentConfig\":{\"executionConfig\":{\"serviceAccount\":\"dll-lab-sa@delta-lake-lab.iam.gserviceaccount.com\",\"subnetworkUri\":\"spark-snet\",\"idleTtl\":\"14400s\"},\"peripheralsConfig\":{\"metastoreService\":\"projects/delta-lake-lab/locations/us-central1/services/dll-hms-885979867746\",\"sparkHistoryServerConfig\":{\"dataprocCluster\":\"projects/delta-lake-lab/regions/us-central1/clusters/dll-sphs-885979867746\"}}},\"stateHistory\":[{\"state\":\"CREATING\",\"stateStartTime\":\"2022-10-22T03:51:08.507145Z\"}]}",
  "serverless_spark_kernel_name": "remote-6a972fe8db157addb9253675-pyspark",
  "vscode": {
   "interpreter": {
    "hash": "aee8b7b246df8f9039afb4144a1f6fd8d2ca17a180786b69acc140d282b71a49"
   }
  }
 },
 "nbformat": 4,
 "nbformat_minor": 5
}
