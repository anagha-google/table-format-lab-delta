{
 "cells": [
  {
   "cell_type": "markdown",
   "id": "4529a790-8425-4600-841a-4b094b82eaa8",
   "metadata": {},
   "source": [
    "# Delta Lake Lab \n",
    "## Unit 2: Create a Delta Lake table\n",
    "In the previous unit -\n",
    "1. We read parquet data in the datalake\n",
    "2. Cleansed it, subset it and persisted it as parquet to the datalake parquet-consumable directory\n",
    "3. We crated a database called loan_db and defined an external table on the data in parquet-consumable\n",
    "\n",
    "In this unit you will learn to -\n",
    "1. Create a base table in Delta off of the Parquet table in the prior notebook.\n",
    "2. Create a partitioned Delta table off of the Parquet table in the prior notebook."
   ]
  },
  {
   "cell_type": "markdown",
   "id": "1a31c4fd-d465-4f52-8e56-3775bf499abc",
   "metadata": {},
   "source": [
    "### 1. Imports"
   ]
  },
  {
   "cell_type": "code",
   "execution_count": 1,
   "id": "1321bce9-178c-4065-8187-0a5728c1a370",
   "metadata": {},
   "outputs": [],
   "source": [
    "import pandas as pd\n",
    "\n",
    "from pyspark.sql.functions import month, date_format\n",
    "from pyspark.sql.types import IntegerType\n",
    "from pyspark.sql import SparkSession\n",
    "\n",
    "from delta.tables import *\n",
    "\n",
    "import warnings\n",
    "warnings.filterwarnings('ignore')"
   ]
  },
  {
   "cell_type": "markdown",
   "id": "ed295a74-ed1d-4b5d-831a-1b5dcf73c36f",
   "metadata": {},
   "source": [
    "### 2. Create a Spark session powered by Cloud Dataproc "
   ]
  },
  {
   "cell_type": "code",
   "execution_count": 2,
   "id": "b383d5ab-a0b9-45ab-a232-34d88f2a0065",
   "metadata": {},
   "outputs": [
    {
     "name": "stderr",
     "output_type": "stream",
     "text": [
      "22/10/22 23:30:06 WARN SparkSession: Using an existing Spark session; only runtime SQL configurations will take effect.\n"
     ]
    },
    {
     "data": {
      "text/html": [
       "\n",
       "            <div>\n",
       "                <p><b>SparkSession - hive</b></p>\n",
       "                \n",
       "        <div>\n",
       "            <p><b>SparkContext</b></p>\n",
       "\n",
       "            <p><a href=\"http://gdpic-srvls-session-cb959c82-1002-4915-aed8-85c83d4e81f4-m.us-central1-a.c.delta-lake-lab.internal:4040\">Spark UI</a></p>\n",
       "\n",
       "            <dl>\n",
       "              <dt>Version</dt>\n",
       "                <dd><code>v3.3.0</code></dd>\n",
       "              <dt>Master</dt>\n",
       "                <dd><code>spark://gdpic-srvls-session-cb959c82-1002-4915-aed8-85c83d4e81f4-m:7077</code></dd>\n",
       "              <dt>AppName</dt>\n",
       "                <dd><code>PySparkShell</code></dd>\n",
       "            </dl>\n",
       "        </div>\n",
       "        \n",
       "            </div>\n",
       "        "
      ],
      "text/plain": [
       "<pyspark.sql.session.SparkSession at 0x7f65789126e0>"
      ]
     },
     "execution_count": 2,
     "metadata": {},
     "output_type": "execute_result"
    }
   ],
   "source": [
    "spark = SparkSession.builder.appName('Loan Analysis').getOrCreate()\n",
    "spark"
   ]
  },
  {
   "cell_type": "markdown",
   "id": "63cd13e6-f3f5-4f2c-b4fc-d7e2660c6206",
   "metadata": {},
   "source": [
    "### 3. Declare variables"
   ]
  },
  {
   "cell_type": "code",
   "execution_count": 3,
   "id": "5596e31b-749a-4702-8879-6f05f9ff0c2d",
   "metadata": {},
   "outputs": [
    {
     "name": "stdout",
     "output_type": "stream",
     "text": [
      "PROJECT_ID:  delta-lake-lab\n"
     ]
    }
   ],
   "source": [
    "project_id_output = !gcloud config list --format \"value(core.project)\" 2>/dev/null\n",
    "PROJECT_ID = project_id_output[0]\n",
    "print(\"PROJECT_ID: \", PROJECT_ID)"
   ]
  },
  {
   "cell_type": "code",
   "execution_count": 4,
   "id": "471c6743-a058-462b-851a-f34323f36243",
   "metadata": {},
   "outputs": [
    {
     "name": "stdout",
     "output_type": "stream",
     "text": [
      "PROJECT_NAME:  delta-lake-lab\n"
     ]
    }
   ],
   "source": [
    "project_name_output = !gcloud projects describe $PROJECT_ID | grep name | cut -d':' -f2 | xargs\n",
    "PROJECT_NAME = project_name_output[0]\n",
    "print(\"PROJECT_NAME: \", PROJECT_NAME)"
   ]
  },
  {
   "cell_type": "code",
   "execution_count": 5,
   "id": "61929dc6-a083-433c-8a13-3d39d9c4a4a1",
   "metadata": {},
   "outputs": [
    {
     "name": "stdout",
     "output_type": "stream",
     "text": [
      "PROJECT_NUMBER:  885979867746\n"
     ]
    }
   ],
   "source": [
    "project_number_output = !gcloud projects describe $PROJECT_ID | grep projectNumber | cut -d':' -f2 | xargs\n",
    "PROJECT_NUMBER = project_number_output[0]\n",
    "print(\"PROJECT_NUMBER: \", PROJECT_NUMBER)"
   ]
  },
  {
   "cell_type": "code",
   "execution_count": 6,
   "id": "f8b79fd2-5243-41a4-ae87-e7f9dd87cf20",
   "metadata": {},
   "outputs": [],
   "source": [
    "DATA_LAKE_ROOT_PATH= f\"gs://dll-data-bucket-{PROJECT_NUMBER}\""
   ]
  },
  {
   "cell_type": "markdown",
   "id": "d4e87d5b-2b61-4ee7-9595-7aa5857a613d",
   "metadata": {},
   "source": [
    "### 4. Create an unpartitioned Delta table\n",
    "We will use this for the test of the lab"
   ]
  },
  {
   "cell_type": "code",
   "execution_count": 7,
   "id": "1fa7c08d-a9e2-4992-8de4-15c6b8039f61",
   "metadata": {},
   "outputs": [],
   "source": [
    "DELTA_LAKE_DIR_ROOT = f\"{DATA_LAKE_ROOT_PATH}/delta-consumable\""
   ]
  },
  {
   "cell_type": "code",
   "execution_count": 8,
   "id": "75af85d5-27a5-4307-8778-d7c3594e5836",
   "metadata": {},
   "outputs": [
    {
     "name": "stderr",
     "output_type": "stream",
     "text": [
      "ivysettings.xml file not found in HIVE_HOME or HIVE_CONF_DIR,/etc/spark/conf/ivysettings.xml will be used\n",
      "                                                                                \r"
     ]
    }
   ],
   "source": [
    "# Create delta dataset from the Parquet table\n",
    "spark.sql(\"SELECT addr_state,count(*) as count FROM loan_db.loans_by_state_parquet group by addr_state\").write.mode(\"overwrite\").format(\"delta\").save(f\"{DELTA_LAKE_DIR_ROOT}\")"
   ]
  },
  {
   "cell_type": "code",
   "execution_count": 9,
   "id": "01f9b9ce-0e71-4e9e-b8dd-8377c0ae7494",
   "metadata": {},
   "outputs": [
    {
     "name": "stderr",
     "output_type": "stream",
     "text": [
      "22/10/22 23:30:32 WARN HiveExternalCatalog: Couldn't find corresponding Hive SerDe for data source provider delta. Persisting data source table `loan_db`.`loans_by_state_delta` into Hive metastore in Spark SQL specific format, which is NOT compatible with Hive.\n",
      "22/10/22 23:30:33 WARN SessionState: METASTORE_FILTER_HOOK will be ignored, since hive.security.authorization.manager is set to instance of HiveAuthorizerFactory.\n"
     ]
    },
    {
     "data": {
      "text/plain": [
       "DataFrame[]"
      ]
     },
     "execution_count": 9,
     "metadata": {},
     "output_type": "execute_result"
    }
   ],
   "source": [
    "# Define external delta table definition\n",
    "spark.sql(\"DROP TABLE IF EXISTS loan_db.loans_by_state_delta;\")\n",
    "spark.sql(f\"CREATE TABLE loan_db.loans_by_state_delta USING delta LOCATION \\\"{DELTA_LAKE_DIR_ROOT}\\\"\")"
   ]
  },
  {
   "cell_type": "code",
   "execution_count": 10,
   "id": "f630f3b9-1333-450b-a6fc-7c6c4d2a7e58",
   "metadata": {},
   "outputs": [
    {
     "name": "stdout",
     "output_type": "stream",
     "text": [
      "+---------+--------------------+-----------+\n",
      "|namespace|           tableName|isTemporary|\n",
      "+---------+--------------------+-----------+\n",
      "|  loan_db|loans_by_state_delta|      false|\n",
      "|  loan_db|loans_by_state_pa...|      false|\n",
      "|  loan_db|loans_cleansed_pa...|      false|\n",
      "+---------+--------------------+-----------+\n",
      "\n"
     ]
    }
   ],
   "source": [
    "spark.sql(\"show tables from loan_db;\").show()"
   ]
  },
  {
   "cell_type": "code",
   "execution_count": 11,
   "id": "54ce6b8c-b366-457c-a870-68f336d95f55",
   "metadata": {},
   "outputs": [
    {
     "name": "stdout",
     "output_type": "stream",
     "text": [
      "+----------+-----+\n",
      "|addr_state|count|\n",
      "+----------+-----+\n",
      "|        AZ|    1|\n",
      "|        SC|    1|\n",
      "+----------+-----+\n",
      "\n"
     ]
    }
   ],
   "source": [
    "spark.sql(\"select * from loan_db.loans_by_state_delta limit 2\").show()"
   ]
  },
  {
   "cell_type": "code",
   "execution_count": 12,
   "id": "734e1bc2-d0e9-4f7b-b4b0-25082cbe7afa",
   "metadata": {},
   "outputs": [
    {
     "name": "stdout",
     "output_type": "stream",
     "text": [
      "+--------------------+--------------------+-------+\n",
      "|            col_name|           data_type|comment|\n",
      "+--------------------+--------------------+-------+\n",
      "|          addr_state|              string|       |\n",
      "|               count|              bigint|       |\n",
      "|                    |                    |       |\n",
      "|      # Partitioning|                    |       |\n",
      "|     Not partitioned|                    |       |\n",
      "|                    |                    |       |\n",
      "|# Detailed Table ...|                    |       |\n",
      "|                Name|loan_db.loans_by_...|       |\n",
      "|            Location|gs://dll-data-buc...|       |\n",
      "|            Provider|               delta|       |\n",
      "|               Owner|               spark|       |\n",
      "|            External|                true|       |\n",
      "|    Table Properties|[delta.minReaderV...|       |\n",
      "+--------------------+--------------------+-------+\n",
      "\n"
     ]
    }
   ],
   "source": [
    "spark.sql(\"DESCRIBE FORMATTED loan_db.loans_by_state_delta\").show()"
   ]
  },
  {
   "cell_type": "code",
   "execution_count": 13,
   "id": "dbaa4248-2cd4-415c-a690-5b4f627d557f",
   "metadata": {},
   "outputs": [
    {
     "name": "stdout",
     "output_type": "stream",
     "text": [
      "+--------------------+--------------------+-------+\n",
      "|            col_name|           data_type|comment|\n",
      "+--------------------+--------------------+-------+\n",
      "|          addr_state|              string|       |\n",
      "|               count|              bigint|       |\n",
      "|                    |                    |       |\n",
      "|      # Partitioning|                    |       |\n",
      "|     Not partitioned|                    |       |\n",
      "|                    |                    |       |\n",
      "|# Detailed Table ...|                    |       |\n",
      "|                Name|loan_db.loans_by_...|       |\n",
      "|            Location|gs://dll-data-buc...|       |\n",
      "|            Provider|               delta|       |\n",
      "|               Owner|               spark|       |\n",
      "|            External|                true|       |\n",
      "|    Table Properties|[delta.minReaderV...|       |\n",
      "+--------------------+--------------------+-------+\n",
      "\n"
     ]
    }
   ],
   "source": [
    "spark.sql(\"DESCRIBE EXTENDED loan_db.loans_by_state_delta\").show()"
   ]
  },
  {
   "cell_type": "markdown",
   "id": "5a7b2095-91c7-41d5-9fc0-092c3511d0c4",
   "metadata": {},
   "source": [
    "### 5. Create a partitioned Delta Lake table"
   ]
  },
  {
   "cell_type": "code",
   "execution_count": 14,
   "id": "d1e6e4ba-742b-44ce-b58a-590dcf42eaf0",
   "metadata": {},
   "outputs": [],
   "source": [
    "DELTA_LAKE_DIR_ROOT = f\"{DATA_LAKE_ROOT_PATH}/delta-sample-partitioned\""
   ]
  },
  {
   "cell_type": "code",
   "execution_count": 15,
   "id": "5fe8230a-609a-4ae3-a990-17498ae6144a",
   "metadata": {},
   "outputs": [
    {
     "name": "stderr",
     "output_type": "stream",
     "text": [
      "                                                                                \r"
     ]
    }
   ],
   "source": [
    "# Create delta dataset from the Parquet table\n",
    "spark.sql(\"SELECT addr_state,count(*) as count FROM loan_db.loans_by_state_parquet group by addr_state\").write.mode(\"overwrite\").partitionBy(\"addr_state\").format(\"delta\").save(f\"{DELTA_LAKE_DIR_ROOT}\")"
   ]
  },
  {
   "cell_type": "markdown",
   "id": "a0468c88-4f56-48af-9165-d4f1bbcbbda3",
   "metadata": {},
   "source": [
    "### 6. A quick peek at the data lake layout\n",
    "Compare this to the last cell of the prior notebook."
   ]
  },
  {
   "cell_type": "code",
   "execution_count": 16,
   "id": "d417104e-973f-422a-9bf1-e484a65b9f65",
   "metadata": {},
   "outputs": [
    {
     "name": "stdout",
     "output_type": "stream",
     "text": [
      "gs://dll-data-bucket-885979867746/delta-consumable/:\n",
      "gs://dll-data-bucket-885979867746/delta-consumable/part-00000-595b5ba1-408f-404d-91ee-7bc396235870-c000.snappy.parquet\n",
      "\n",
      "gs://dll-data-bucket-885979867746/delta-consumable/_delta_log/:\n",
      "gs://dll-data-bucket-885979867746/delta-consumable/_delta_log/\n",
      "gs://dll-data-bucket-885979867746/delta-consumable/_delta_log/00000000000000000000.json\n",
      "\n",
      "gs://dll-data-bucket-885979867746/delta-sample-partitioned/:\n",
      "\n",
      "gs://dll-data-bucket-885979867746/delta-sample-partitioned/_delta_log/:\n",
      "gs://dll-data-bucket-885979867746/delta-sample-partitioned/_delta_log/\n",
      "gs://dll-data-bucket-885979867746/delta-sample-partitioned/_delta_log/00000000000000000000.json\n",
      "\n",
      "gs://dll-data-bucket-885979867746/delta-sample-partitioned/addr_state=AK/:\n",
      "gs://dll-data-bucket-885979867746/delta-sample-partitioned/addr_state=AK/part-00000-c641080d-5d27-4dfb-86ab-f49416353093.c000.snappy.parquet\n",
      "\n",
      "gs://dll-data-bucket-885979867746/delta-sample-partitioned/addr_state=AL/:\n",
      "gs://dll-data-bucket-885979867746/delta-sample-partitioned/addr_state=AL/part-00000-4bbeb870-66b3-49f6-9559-295ac8ceffcf.c000.snappy.parquet\n",
      "\n",
      "gs://dll-data-bucket-885979867746/delta-sample-partitioned/addr_state=AR/:\n",
      "gs://dll-data-bucket-885979867746/delta-sample-partitioned/addr_state=AR/part-00000-deda5fa7-82ec-4fc5-859e-dd15804fea6a.c000.snappy.parquet\n",
      "\n",
      "gs://dll-data-bucket-885979867746/delta-sample-partitioned/addr_state=AZ/:\n",
      "gs://dll-data-bucket-885979867746/delta-sample-partitioned/addr_state=AZ/part-00000-ea5afc97-8c1d-4874-956d-32d034e607f3.c000.snappy.parquet\n",
      "\n",
      "gs://dll-data-bucket-885979867746/delta-sample-partitioned/addr_state=CA/:\n",
      "gs://dll-data-bucket-885979867746/delta-sample-partitioned/addr_state=CA/part-00000-ebc47f7d-f7c0-46ed-a035-032258265a27.c000.snappy.parquet\n",
      "\n",
      "gs://dll-data-bucket-885979867746/delta-sample-partitioned/addr_state=CO/:\n",
      "gs://dll-data-bucket-885979867746/delta-sample-partitioned/addr_state=CO/part-00000-95460722-869b-4b3b-b3df-222816c90cef.c000.snappy.parquet\n",
      "\n",
      "gs://dll-data-bucket-885979867746/delta-sample-partitioned/addr_state=CT/:\n",
      "gs://dll-data-bucket-885979867746/delta-sample-partitioned/addr_state=CT/part-00000-a005753b-9fca-4df3-963c-e8d10c144ec9.c000.snappy.parquet\n",
      "\n",
      "gs://dll-data-bucket-885979867746/delta-sample-partitioned/addr_state=DC/:\n",
      "gs://dll-data-bucket-885979867746/delta-sample-partitioned/addr_state=DC/part-00000-a85d40b6-6585-484f-b577-c5888ff1c5c9.c000.snappy.parquet\n",
      "\n",
      "gs://dll-data-bucket-885979867746/delta-sample-partitioned/addr_state=DE/:\n",
      "gs://dll-data-bucket-885979867746/delta-sample-partitioned/addr_state=DE/part-00000-19d61605-c8a1-4131-b6a5-ae48e8a42d80.c000.snappy.parquet\n",
      "\n",
      "gs://dll-data-bucket-885979867746/delta-sample-partitioned/addr_state=FL/:\n",
      "gs://dll-data-bucket-885979867746/delta-sample-partitioned/addr_state=FL/part-00000-0f3394f2-253c-4d44-b56e-e463235d5dc8.c000.snappy.parquet\n",
      "\n",
      "gs://dll-data-bucket-885979867746/delta-sample-partitioned/addr_state=GA/:\n",
      "gs://dll-data-bucket-885979867746/delta-sample-partitioned/addr_state=GA/part-00000-3c284660-bd6b-4def-99e8-e8454e1cb362.c000.snappy.parquet\n",
      "\n",
      "gs://dll-data-bucket-885979867746/delta-sample-partitioned/addr_state=HI/:\n",
      "gs://dll-data-bucket-885979867746/delta-sample-partitioned/addr_state=HI/part-00000-9c666b82-e05f-4fa6-89ab-a8f8ff870dcd.c000.snappy.parquet\n",
      "\n",
      "gs://dll-data-bucket-885979867746/delta-sample-partitioned/addr_state=IA/:\n",
      "gs://dll-data-bucket-885979867746/delta-sample-partitioned/addr_state=IA/part-00000-a547acb0-37d0-48e0-a377-9413cb7dbabd.c000.snappy.parquet\n",
      "\n",
      "gs://dll-data-bucket-885979867746/delta-sample-partitioned/addr_state=ID/:\n",
      "gs://dll-data-bucket-885979867746/delta-sample-partitioned/addr_state=ID/part-00000-3c59faf2-3342-4e05-b03f-b9bb3bc2f718.c000.snappy.parquet\n",
      "\n",
      "gs://dll-data-bucket-885979867746/delta-sample-partitioned/addr_state=IL/:\n",
      "gs://dll-data-bucket-885979867746/delta-sample-partitioned/addr_state=IL/part-00000-a45fdfa2-3b30-49c9-9cb0-a45d960b686f.c000.snappy.parquet\n",
      "\n",
      "gs://dll-data-bucket-885979867746/delta-sample-partitioned/addr_state=IN/:\n",
      "gs://dll-data-bucket-885979867746/delta-sample-partitioned/addr_state=IN/part-00000-e050c6f4-5c93-44c0-8211-4ca9e212f545.c000.snappy.parquet\n",
      "\n",
      "gs://dll-data-bucket-885979867746/delta-sample-partitioned/addr_state=KS/:\n",
      "gs://dll-data-bucket-885979867746/delta-sample-partitioned/addr_state=KS/part-00000-2993b52c-f5b6-4001-a3f5-5a50f91dfbbd.c000.snappy.parquet\n",
      "\n",
      "gs://dll-data-bucket-885979867746/delta-sample-partitioned/addr_state=KY/:\n",
      "gs://dll-data-bucket-885979867746/delta-sample-partitioned/addr_state=KY/part-00000-a9cf5c93-8098-4519-8bf4-709fd2619cec.c000.snappy.parquet\n",
      "\n",
      "gs://dll-data-bucket-885979867746/delta-sample-partitioned/addr_state=LA/:\n",
      "gs://dll-data-bucket-885979867746/delta-sample-partitioned/addr_state=LA/part-00000-8916e4a3-b9a6-4e04-80d5-b9b9197938a7.c000.snappy.parquet\n",
      "\n",
      "gs://dll-data-bucket-885979867746/delta-sample-partitioned/addr_state=MA/:\n",
      "gs://dll-data-bucket-885979867746/delta-sample-partitioned/addr_state=MA/part-00000-40cc4094-6cd2-421d-987f-b94847a38a5b.c000.snappy.parquet\n",
      "\n",
      "gs://dll-data-bucket-885979867746/delta-sample-partitioned/addr_state=MD/:\n",
      "gs://dll-data-bucket-885979867746/delta-sample-partitioned/addr_state=MD/part-00000-140bc352-dca5-4b34-a2df-3bf0ad71a89b.c000.snappy.parquet\n",
      "\n",
      "gs://dll-data-bucket-885979867746/delta-sample-partitioned/addr_state=ME/:\n",
      "gs://dll-data-bucket-885979867746/delta-sample-partitioned/addr_state=ME/part-00000-403f858a-94b7-4afa-bf27-3218557bb8c9.c000.snappy.parquet\n",
      "\n",
      "gs://dll-data-bucket-885979867746/delta-sample-partitioned/addr_state=MI/:\n",
      "gs://dll-data-bucket-885979867746/delta-sample-partitioned/addr_state=MI/part-00000-69431a6b-7c2c-4dbe-b474-0cbc8e13ca1c.c000.snappy.parquet\n",
      "\n",
      "gs://dll-data-bucket-885979867746/delta-sample-partitioned/addr_state=MN/:\n",
      "gs://dll-data-bucket-885979867746/delta-sample-partitioned/addr_state=MN/part-00000-3a1e6045-95fc-460e-8ed8-7806d35b87a9.c000.snappy.parquet\n",
      "\n",
      "gs://dll-data-bucket-885979867746/delta-sample-partitioned/addr_state=MO/:\n",
      "gs://dll-data-bucket-885979867746/delta-sample-partitioned/addr_state=MO/part-00000-e971c7ba-2bf0-43f8-9796-cc100fb5c997.c000.snappy.parquet\n",
      "\n",
      "gs://dll-data-bucket-885979867746/delta-sample-partitioned/addr_state=MS/:\n",
      "gs://dll-data-bucket-885979867746/delta-sample-partitioned/addr_state=MS/part-00000-226bbe3e-e8eb-4dc1-89aa-566489baf469.c000.snappy.parquet\n",
      "\n",
      "gs://dll-data-bucket-885979867746/delta-sample-partitioned/addr_state=MT/:\n",
      "gs://dll-data-bucket-885979867746/delta-sample-partitioned/addr_state=MT/part-00000-9162364a-3715-474e-83e3-ee468dba3d22.c000.snappy.parquet\n",
      "\n",
      "gs://dll-data-bucket-885979867746/delta-sample-partitioned/addr_state=NC/:\n",
      "gs://dll-data-bucket-885979867746/delta-sample-partitioned/addr_state=NC/part-00000-799d7c30-98db-40ab-8a03-c94b5a9f1449.c000.snappy.parquet\n",
      "\n",
      "gs://dll-data-bucket-885979867746/delta-sample-partitioned/addr_state=ND/:\n",
      "gs://dll-data-bucket-885979867746/delta-sample-partitioned/addr_state=ND/part-00000-141be1b8-cfbd-453b-bd78-f67262146416.c000.snappy.parquet\n",
      "\n",
      "gs://dll-data-bucket-885979867746/delta-sample-partitioned/addr_state=NE/:\n",
      "gs://dll-data-bucket-885979867746/delta-sample-partitioned/addr_state=NE/part-00000-fba0d5d0-67f8-4686-8556-02400a68d692.c000.snappy.parquet\n",
      "\n",
      "gs://dll-data-bucket-885979867746/delta-sample-partitioned/addr_state=NH/:\n",
      "gs://dll-data-bucket-885979867746/delta-sample-partitioned/addr_state=NH/part-00000-6ae0f8db-1fb9-407a-a1c7-495adb9128f9.c000.snappy.parquet\n",
      "\n",
      "gs://dll-data-bucket-885979867746/delta-sample-partitioned/addr_state=NJ/:\n",
      "gs://dll-data-bucket-885979867746/delta-sample-partitioned/addr_state=NJ/part-00000-32233f51-546b-4f64-978d-45bef12557d6.c000.snappy.parquet\n",
      "\n",
      "gs://dll-data-bucket-885979867746/delta-sample-partitioned/addr_state=NM/:\n",
      "gs://dll-data-bucket-885979867746/delta-sample-partitioned/addr_state=NM/part-00000-850a7b68-5187-4172-89f9-edbd8a0664bc.c000.snappy.parquet\n",
      "\n",
      "gs://dll-data-bucket-885979867746/delta-sample-partitioned/addr_state=NV/:\n",
      "gs://dll-data-bucket-885979867746/delta-sample-partitioned/addr_state=NV/part-00000-de3e3ede-9a34-431a-ba43-224f9a16215b.c000.snappy.parquet\n",
      "\n",
      "gs://dll-data-bucket-885979867746/delta-sample-partitioned/addr_state=NY/:\n",
      "gs://dll-data-bucket-885979867746/delta-sample-partitioned/addr_state=NY/part-00000-f65afdbf-3bde-4784-a0f2-abacd1d8beea.c000.snappy.parquet\n",
      "\n",
      "gs://dll-data-bucket-885979867746/delta-sample-partitioned/addr_state=OH/:\n",
      "gs://dll-data-bucket-885979867746/delta-sample-partitioned/addr_state=OH/part-00000-c164d509-65ee-4fce-89b7-1d7113de87b3.c000.snappy.parquet\n",
      "\n",
      "gs://dll-data-bucket-885979867746/delta-sample-partitioned/addr_state=OK/:\n",
      "gs://dll-data-bucket-885979867746/delta-sample-partitioned/addr_state=OK/part-00000-2fa61161-bf12-4cec-9d7c-f5e204c76901.c000.snappy.parquet\n",
      "\n",
      "gs://dll-data-bucket-885979867746/delta-sample-partitioned/addr_state=OR/:\n",
      "gs://dll-data-bucket-885979867746/delta-sample-partitioned/addr_state=OR/part-00000-68dc2415-9d5b-475a-9cba-5297ed1a0615.c000.snappy.parquet\n",
      "\n",
      "gs://dll-data-bucket-885979867746/delta-sample-partitioned/addr_state=PA/:\n",
      "gs://dll-data-bucket-885979867746/delta-sample-partitioned/addr_state=PA/part-00000-d1abe8c6-bbfe-49e7-b012-c3e229f06ba6.c000.snappy.parquet\n",
      "\n",
      "gs://dll-data-bucket-885979867746/delta-sample-partitioned/addr_state=RI/:\n",
      "gs://dll-data-bucket-885979867746/delta-sample-partitioned/addr_state=RI/part-00000-e597f5c1-e3fd-4b27-a314-89fe8a005d24.c000.snappy.parquet\n",
      "\n",
      "gs://dll-data-bucket-885979867746/delta-sample-partitioned/addr_state=SC/:\n",
      "gs://dll-data-bucket-885979867746/delta-sample-partitioned/addr_state=SC/part-00000-14068088-345c-4fa8-ab90-7c89a9d145ef.c000.snappy.parquet\n",
      "\n",
      "gs://dll-data-bucket-885979867746/delta-sample-partitioned/addr_state=SD/:\n",
      "gs://dll-data-bucket-885979867746/delta-sample-partitioned/addr_state=SD/part-00000-16594f64-6cd0-4e16-98d5-fc82298574bb.c000.snappy.parquet\n",
      "\n",
      "gs://dll-data-bucket-885979867746/delta-sample-partitioned/addr_state=TN/:\n",
      "gs://dll-data-bucket-885979867746/delta-sample-partitioned/addr_state=TN/part-00000-04d5b9db-f289-4e33-b182-948e44e0c747.c000.snappy.parquet\n",
      "\n",
      "gs://dll-data-bucket-885979867746/delta-sample-partitioned/addr_state=TX/:\n",
      "gs://dll-data-bucket-885979867746/delta-sample-partitioned/addr_state=TX/part-00000-3f2d20bd-abe0-43ea-a1ad-b2e80ee58048.c000.snappy.parquet\n",
      "\n",
      "gs://dll-data-bucket-885979867746/delta-sample-partitioned/addr_state=UT/:\n",
      "gs://dll-data-bucket-885979867746/delta-sample-partitioned/addr_state=UT/part-00000-f79df671-c700-4f9b-a649-6cb7c9c014fe.c000.snappy.parquet\n",
      "\n",
      "gs://dll-data-bucket-885979867746/delta-sample-partitioned/addr_state=VA/:\n",
      "gs://dll-data-bucket-885979867746/delta-sample-partitioned/addr_state=VA/part-00000-790eebac-f0da-42fb-8787-34c3f05fb96a.c000.snappy.parquet\n",
      "\n",
      "gs://dll-data-bucket-885979867746/delta-sample-partitioned/addr_state=VT/:\n",
      "gs://dll-data-bucket-885979867746/delta-sample-partitioned/addr_state=VT/part-00000-1924d4e5-139f-4c17-aacc-5c1d8e6e2bf4.c000.snappy.parquet\n",
      "\n",
      "gs://dll-data-bucket-885979867746/delta-sample-partitioned/addr_state=WA/:\n",
      "gs://dll-data-bucket-885979867746/delta-sample-partitioned/addr_state=WA/part-00000-8a3225f0-7501-474c-90f5-bd0303249684.c000.snappy.parquet\n",
      "\n",
      "gs://dll-data-bucket-885979867746/delta-sample-partitioned/addr_state=WI/:\n",
      "gs://dll-data-bucket-885979867746/delta-sample-partitioned/addr_state=WI/part-00000-4fced397-f05d-4d51-8b5a-7aaa2e849506.c000.snappy.parquet\n",
      "\n",
      "gs://dll-data-bucket-885979867746/delta-sample-partitioned/addr_state=WV/:\n",
      "gs://dll-data-bucket-885979867746/delta-sample-partitioned/addr_state=WV/part-00000-0a401193-d19e-4506-b170-4be200444960.c000.snappy.parquet\n",
      "\n",
      "gs://dll-data-bucket-885979867746/delta-sample-partitioned/addr_state=WY/:\n",
      "gs://dll-data-bucket-885979867746/delta-sample-partitioned/addr_state=WY/part-00000-5ce5b515-aab5-4e8e-98c4-fa33c2ee16b1.c000.snappy.parquet\n",
      "\n",
      "gs://dll-data-bucket-885979867746/parquet-cleansed/:\n",
      "gs://dll-data-bucket-885979867746/parquet-cleansed/\n",
      "gs://dll-data-bucket-885979867746/parquet-cleansed/_SUCCESS\n",
      "gs://dll-data-bucket-885979867746/parquet-cleansed/part-00000-8bcf9116-1cdb-4434-bdf7-4b9d35bcc2d1-c000.snappy.parquet\n",
      "gs://dll-data-bucket-885979867746/parquet-cleansed/part-00001-8bcf9116-1cdb-4434-bdf7-4b9d35bcc2d1-c000.snappy.parquet\n",
      "\n",
      "gs://dll-data-bucket-885979867746/parquet-consumable/:\n",
      "gs://dll-data-bucket-885979867746/parquet-consumable/\n",
      "gs://dll-data-bucket-885979867746/parquet-consumable/_SUCCESS\n",
      "gs://dll-data-bucket-885979867746/parquet-consumable/part-00000-26dd9a0e-265e-4fe1-9d8b-479d12df30a1-c000.snappy.parquet\n",
      "\n",
      "gs://dll-data-bucket-885979867746/parquet-source/:\n",
      "gs://dll-data-bucket-885979867746/parquet-source/loans_raw_1.snappy.parquet\n",
      "gs://dll-data-bucket-885979867746/parquet-source/loans_raw_2.snappy.parquet\n",
      "gs://dll-data-bucket-885979867746/parquet-source/loans_raw_3.snappy.parquet\n"
     ]
    }
   ],
   "source": [
    "!gsutil ls -r $DATA_LAKE_ROOT_PATH"
   ]
  },
  {
   "cell_type": "markdown",
   "id": "6c4df240-5ff1-433b-92ed-cf311dbef082",
   "metadata": {},
   "source": [
    "### THIS CONCLUDES THIS UNIT. PROCEED TO THE NEXT NOTEBOOK"
   ]
  }
 ],
 "metadata": {
  "language_info": {
   "codemirror_mode": {
    "name": "ipython",
    "version": 3
   },
   "file_extension": ".py",
   "mimetype": "text/x-python",
   "name": "python",
   "nbconvert_exporter": "python",
   "pygments_lexer": "ipython3",
   "version": "3.10.6"
  },
  "serverless_spark": "{\"name\":\"projects/delta-lake-lab/locations/us-central1/sessions/delta-lake-lab-17718\",\"uuid\":\"cb959c82-1002-4915-aed8-85c83d4e81f4\",\"createTime\":\"2022-10-22T17:30:32.565848Z\",\"jupyterSession\":{},\"spark\":{},\"runtimeInfo\":{\"endpoints\":{\"Spark History Server\":\"https://smmei2wdurb7nptroshcbbgeda-dot-us-central1.dataproc.googleusercontent.com/sparkhistory/\"}},\"state\":\"ACTIVE\",\"stateTime\":\"2022-10-22T17:32:38.942362Z\",\"creator\":\"admin@akhanolkar.altostrat.com\",\"runtimeConfig\":{\"version\":\"2.0\",\"properties\":{\"spark:spark.jars.packages\":\"io.delta:delta-core_2.13:2.1.0\",\"spark:spark.sql.catalog.spark_catalog\":\"org.apache.spark.sql.delta.catalog.DeltaCatalog\",\"spark:spark.sql.extensions\":\"io.delta.sql.DeltaSparkSessionExtension\",\"spark:spark.executor.instances\":\"2\",\"spark:spark.driver.cores\":\"4\",\"spark:spark.executor.cores\":\"4\",\"spark:spark.dynamicAllocation.executorAllocationRatio\":\"0.3\",\"spark:spark.eventLog.dir\":\"gs://dll-sphs-bucket-885979867746/cb959c82-1002-4915-aed8-85c83d4e81f4/spark-job-history\"}},\"environmentConfig\":{\"executionConfig\":{\"serviceAccount\":\"dll-lab-sa@delta-lake-lab.iam.gserviceaccount.com\",\"subnetworkUri\":\"spark-snet\",\"idleTtl\":\"14400s\"},\"peripheralsConfig\":{\"metastoreService\":\"projects/delta-lake-lab/locations/us-central1/services/dll-hms-885979867746\",\"sparkHistoryServerConfig\":{\"dataprocCluster\":\"projects/delta-lake-lab/regions/us-central1/clusters/dll-sphs-885979867746\"}}},\"stateHistory\":[{\"state\":\"CREATING\",\"stateStartTime\":\"2022-10-22T17:30:32.565848Z\"}]}",
  "serverless_spark_kernel_name": "remote-19c93264a411c8234417320a-pyspark",
  "vscode": {
   "interpreter": {
    "hash": "aee8b7b246df8f9039afb4144a1f6fd8d2ca17a180786b69acc140d282b71a49"
   }
  }
 },
 "nbformat": 4,
 "nbformat_minor": 5
}
