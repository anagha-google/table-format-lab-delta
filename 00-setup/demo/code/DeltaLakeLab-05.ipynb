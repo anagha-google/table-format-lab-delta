{
 "cells": [
  {
   "cell_type": "markdown",
   "id": "4529a790-8425-4600-841a-4b094b82eaa8",
   "metadata": {},
   "source": [
    "# Delta Lake Lab \n",
    "## Unit 5: Schema Enforcement & Evolution\n",
    "\n",
    "In the previous unit, we -\n",
    "1. Did a delete operation on the base delta table and learned what happens to the underlying parquet and reviewed the transaction log\n",
    "2. Did an insert operation on the base delta table and learned what happens to the underlying parquet and reviewed the transaction log\n",
    "3. Did an update operation on the base delta table and learned what happens to the underlying parquet and reviewed the transaction log\n",
    "4. Did a merge (upsert) operation on the base delta table and learned what happens to the underlying parquet and reviewed the transaction log\n",
    "\n",
    "In this unit, we will -\n",
    "1. Study schema enforcement\n",
    "2. And schema evolution possible with delta lake\n"
   ]
  },
  {
   "cell_type": "markdown",
   "id": "1a31c4fd-d465-4f52-8e56-3775bf499abc",
   "metadata": {},
   "source": [
    "### 1. Imports"
   ]
  },
  {
   "cell_type": "code",
   "execution_count": 1,
   "id": "1321bce9-178c-4065-8187-0a5728c1a370",
   "metadata": {},
   "outputs": [],
   "source": [
    "import pandas as pd\n",
    "\n",
    "from pyspark.sql.functions import month, date_format\n",
    "from pyspark.sql.types import IntegerType\n",
    "from pyspark.sql import SparkSession\n",
    "\n",
    "from delta.tables import *\n",
    "\n",
    "import warnings\n",
    "warnings.filterwarnings('ignore')"
   ]
  },
  {
   "cell_type": "markdown",
   "id": "ed295a74-ed1d-4b5d-831a-1b5dcf73c36f",
   "metadata": {},
   "source": [
    "### 2. Create a Spark session powered by Cloud Dataproc "
   ]
  },
  {
   "cell_type": "code",
   "execution_count": 2,
   "id": "b383d5ab-a0b9-45ab-a232-34d88f2a0065",
   "metadata": {},
   "outputs": [
    {
     "name": "stderr",
     "output_type": "stream",
     "text": [
      "23/12/02 23:44:09 WARN SparkSession: Using an existing Spark session; only runtime SQL configurations will take effect.\n"
     ]
    },
    {
     "data": {
      "text/html": [
       "\n",
       "            <div>\n",
       "                <p><b>SparkSession - hive</b></p>\n",
       "                \n",
       "        <div>\n",
       "            <p><b>SparkContext</b></p>\n",
       "\n",
       "            <p><a href=\"http://gdpic-srvls-session-7496b9aa-c1b2-4af0-b19a-eed494ea3479-m.us-central1-c.c.delta-lake-diy-lab.internal:4040\">Spark UI</a></p>\n",
       "\n",
       "            <dl>\n",
       "              <dt>Version</dt>\n",
       "                <dd><code>v3.4.0</code></dd>\n",
       "              <dt>Master</dt>\n",
       "                <dd><code>spark://gdpic-srvls-session-7496b9aa-c1b2-4af0-b19a-eed494ea3479-m:7077</code></dd>\n",
       "              <dt>AppName</dt>\n",
       "                <dd><code>PySparkShell</code></dd>\n",
       "            </dl>\n",
       "        </div>\n",
       "        \n",
       "            </div>\n",
       "        "
      ],
      "text/plain": [
       "<pyspark.sql.session.SparkSession at 0x7fb46025a7d0>"
      ]
     },
     "execution_count": 2,
     "metadata": {},
     "output_type": "execute_result"
    }
   ],
   "source": [
    "spark = SparkSession.builder.appName('Loan Analysis').getOrCreate()\n",
    "spark"
   ]
  },
  {
   "cell_type": "markdown",
   "id": "63cd13e6-f3f5-4f2c-b4fc-d7e2660c6206",
   "metadata": {},
   "source": [
    "### 3. Declare variables"
   ]
  },
  {
   "cell_type": "code",
   "execution_count": 3,
   "id": "5596e31b-749a-4702-8879-6f05f9ff0c2d",
   "metadata": {},
   "outputs": [
    {
     "name": "stdout",
     "output_type": "stream",
     "text": [
      "PROJECT_ID:  delta-lake-diy-lab\n"
     ]
    }
   ],
   "source": [
    "project_id_output = !gcloud config list --format \"value(core.project)\" 2>/dev/null\n",
    "PROJECT_ID = project_id_output[0]\n",
    "print(\"PROJECT_ID: \", PROJECT_ID)"
   ]
  },
  {
   "cell_type": "code",
   "execution_count": 4,
   "id": "471c6743-a058-462b-851a-f34323f36243",
   "metadata": {},
   "outputs": [
    {
     "name": "stdout",
     "output_type": "stream",
     "text": [
      "PROJECT_NAME:  delta-lake-diy-lab\n"
     ]
    }
   ],
   "source": [
    "project_name_output = !gcloud projects describe $PROJECT_ID | grep name | cut -d':' -f2 | xargs\n",
    "PROJECT_NAME = project_name_output[0]\n",
    "print(\"PROJECT_NAME: \", PROJECT_NAME)"
   ]
  },
  {
   "cell_type": "code",
   "execution_count": 5,
   "id": "61929dc6-a083-433c-8a13-3d39d9c4a4a1",
   "metadata": {},
   "outputs": [
    {
     "name": "stdout",
     "output_type": "stream",
     "text": [
      "PROJECT_NUMBER:  11002190840\n"
     ]
    }
   ],
   "source": [
    "project_number_output = !gcloud projects describe $PROJECT_ID | grep projectNumber | cut -d':' -f2 | xargs\n",
    "PROJECT_NUMBER = project_number_output[0]\n",
    "print(\"PROJECT_NUMBER: \", PROJECT_NUMBER)"
   ]
  },
  {
   "cell_type": "code",
   "execution_count": 6,
   "id": "f8b79fd2-5243-41a4-ae87-e7f9dd87cf20",
   "metadata": {},
   "outputs": [],
   "source": [
    "DATA_LAKE_ROOT_PATH= f\"gs://dll-data-bucket-{PROJECT_NUMBER}\"\n",
    "DELTA_LAKE_DIR_ROOT = f\"{DATA_LAKE_ROOT_PATH}/delta-consumable\""
   ]
  },
  {
   "cell_type": "code",
   "execution_count": 7,
   "id": "97b70135-a0e3-4f5b-a917-086775bc2d49",
   "metadata": {},
   "outputs": [
    {
     "name": "stdout",
     "output_type": "stream",
     "text": [
      "gs://dll-data-bucket-11002190840/delta-consumable/:\n",
      "gs://dll-data-bucket-11002190840/delta-consumable/part-00000-18ffd7b0-964d-4f1e-a648-0892a1d4373d-c000.snappy.parquet\n",
      "gs://dll-data-bucket-11002190840/delta-consumable/part-00000-55d5ffb4-6b4a-4ead-8591-983dc631339f-c000.snappy.parquet\n",
      "gs://dll-data-bucket-11002190840/delta-consumable/part-00000-6486345e-6c92-4216-b9ed-ffb413e41b4d-c000.snappy.parquet\n",
      "gs://dll-data-bucket-11002190840/delta-consumable/part-00000-83d6b120-d178-4ac4-8c8e-f8d590f5f050-c000.snappy.parquet\n",
      "gs://dll-data-bucket-11002190840/delta-consumable/part-00000-af39e13d-1030-4881-965c-406884eb9420-c000.snappy.parquet\n",
      "gs://dll-data-bucket-11002190840/delta-consumable/part-00000-fe2f9136-6d38-4d3e-8090-bd41da49fe18-c000.snappy.parquet\n",
      "\n",
      "gs://dll-data-bucket-11002190840/delta-consumable/_delta_log/:\n",
      "gs://dll-data-bucket-11002190840/delta-consumable/_delta_log/\n",
      "gs://dll-data-bucket-11002190840/delta-consumable/_delta_log/00000000000000000000.json\n",
      "gs://dll-data-bucket-11002190840/delta-consumable/_delta_log/00000000000000000001.json\n",
      "gs://dll-data-bucket-11002190840/delta-consumable/_delta_log/00000000000000000002.json\n",
      "gs://dll-data-bucket-11002190840/delta-consumable/_delta_log/00000000000000000003.json\n",
      "gs://dll-data-bucket-11002190840/delta-consumable/_delta_log/00000000000000000004.json\n",
      "gs://dll-data-bucket-11002190840/delta-consumable/_delta_log/00000000000000000005.json\n",
      "\n",
      "gs://dll-data-bucket-11002190840/delta-consumable/_symlink_format_manifest/:\n",
      "gs://dll-data-bucket-11002190840/delta-consumable/_symlink_format_manifest/\n",
      "gs://dll-data-bucket-11002190840/delta-consumable/_symlink_format_manifest/manifest\n"
     ]
    }
   ],
   "source": [
    "!gsutil ls -r $DELTA_LAKE_DIR_ROOT"
   ]
  },
  {
   "cell_type": "code",
   "execution_count": 8,
   "id": "12a27c3e-a834-4d65-9b0e-ad0ab37ef49c",
   "metadata": {},
   "outputs": [
    {
     "name": "stdout",
     "output_type": "stream",
     "text": [
      "6\n"
     ]
    }
   ],
   "source": [
    "!gsutil ls -r $DELTA_LAKE_DIR_ROOT/part* | wc -l"
   ]
  },
  {
   "cell_type": "code",
   "execution_count": 9,
   "id": "45aea5bf-543e-47ce-95e9-5d79d769e743",
   "metadata": {},
   "outputs": [
    {
     "name": "stdout",
     "output_type": "stream",
     "text": [
      "6\n"
     ]
    }
   ],
   "source": [
    "!gsutil ls -r $DELTA_LAKE_DIR_ROOT/_delta_log/*.json | wc -l"
   ]
  },
  {
   "cell_type": "markdown",
   "id": "ed74d358-e90b-46d0-b81c-1e29c25ccac5",
   "metadata": {},
   "source": [
    "### 4. Existing schema"
   ]
  },
  {
   "cell_type": "code",
   "execution_count": 10,
   "id": "0bcc3cf8-6ecf-4efe-855d-b564401317bc",
   "metadata": {},
   "outputs": [
    {
     "name": "stderr",
     "output_type": "stream",
     "text": [
      "ivysettings.xml file not found in HIVE_HOME or HIVE_CONF_DIR,/etc/spark/conf/ivysettings.xml will be used\n",
      "                                                                                \r"
     ]
    },
    {
     "name": "stdout",
     "output_type": "stream",
     "text": [
      "+----------------------------+---------------------------------------------------+-------+\n",
      "|col_name                    |data_type                                          |comment|\n",
      "+----------------------------+---------------------------------------------------+-------+\n",
      "|addr_state                  |string                                             |null   |\n",
      "|count                       |bigint                                             |null   |\n",
      "|                            |                                                   |       |\n",
      "|# Detailed Table Information|                                                   |       |\n",
      "|Name                        |spark_catalog.loan_db.loans_by_state_delta         |       |\n",
      "|Type                        |EXTERNAL                                           |       |\n",
      "|Location                    |gs://dll-data-bucket-11002190840/delta-consumable  |       |\n",
      "|Provider                    |delta                                              |       |\n",
      "|Owner                       |spark                                              |       |\n",
      "|Table Properties            |[delta.minReaderVersion=1,delta.minWriterVersion=2]|       |\n",
      "+----------------------------+---------------------------------------------------+-------+\n",
      "\n"
     ]
    }
   ],
   "source": [
    "spark.sql(\"DESCRIBE FORMATTED loan_db.loans_by_state_delta\").show(truncate=False)"
   ]
  },
  {
   "cell_type": "markdown",
   "id": "17581b81-035f-43b6-a4fa-48b55ce28c8c",
   "metadata": {},
   "source": [
    "### 5. Attempt to modify the schema"
   ]
  },
  {
   "cell_type": "code",
   "execution_count": 11,
   "id": "da4f7939-4668-4015-83eb-90209251ea03",
   "metadata": {},
   "outputs": [
    {
     "name": "stderr",
     "output_type": "stream",
     "text": [
      "23/12/02 23:44:32 WARN package: Truncated the string representation of a plan since it was too large. This behavior can be adjusted by setting 'spark.sql.debug.maxToStringFields'.\n",
      "[Stage 9:>                                                          (0 + 1) / 1]\r"
     ]
    },
    {
     "name": "stdout",
     "output_type": "stream",
     "text": [
      "+----------+-----+-----------------+\n",
      "|addr_state|count| collateral_value|\n",
      "+----------+-----+-----------------+\n",
      "|        AK|    0|1709.497137955568|\n",
      "|        AL|    0|8051.143958005459|\n",
      "|        AR|    0|5775.925576589018|\n",
      "+----------+-----+-----------------+\n",
      "only showing top 3 rows\n",
      "\n"
     ]
    },
    {
     "name": "stderr",
     "output_type": "stream",
     "text": [
      "                                                                                \r"
     ]
    }
   ],
   "source": [
    "# Add a column called collateral_value\n",
    "schemaEvolvedDF = sql(\"select addr_state, cast(rand(10)*count as bigint) as count, cast(rand(10) * 10000 * count as double) as collateral_value from loan_db.loans_by_state_delta\")\n",
    "schemaEvolvedDF.show(3)"
   ]
  },
  {
   "cell_type": "code",
   "execution_count": 12,
   "id": "e98a313e-98cf-43a6-b000-626c5f3672e1",
   "metadata": {},
   "outputs": [
    {
     "ename": "AnalysisException",
     "evalue": "A schema mismatch detected when writing to the Delta table (Table ID: 347aa570-3d50-4d3a-8aba-02dcf5b8bcee).\nTo enable schema migration using DataFrameWriter or DataStreamWriter, please set:\n'.option(\"mergeSchema\", \"true\")'.\nFor other operations, set the session configuration\nspark.databricks.delta.schema.autoMerge.enabled to \"true\". See the documentation\nspecific to the operation for details.\n\nTable schema:\nroot\n-- addr_state: string (nullable = true)\n-- count: long (nullable = true)\n\n\nData schema:\nroot\n-- addr_state: string (nullable = true)\n-- count: long (nullable = true)\n-- collateral_value: double (nullable = true)\n\n         ",
     "output_type": "error",
     "traceback": [
      "\u001b[0;31m---------------------------------------------------------------------------\u001b[0m",
      "\u001b[0;31mAnalysisException\u001b[0m                         Traceback (most recent call last)",
      "Cell \u001b[0;32mIn[12], line 2\u001b[0m\n\u001b[1;32m      1\u001b[0m \u001b[38;5;66;03m# Attempt to append to the table\u001b[39;00m\n\u001b[0;32m----> 2\u001b[0m \u001b[43mschemaEvolvedDF\u001b[49m\u001b[38;5;241;43m.\u001b[39;49m\u001b[43mwrite\u001b[49m\u001b[38;5;241;43m.\u001b[39;49m\u001b[43mformat\u001b[49m\u001b[43m(\u001b[49m\u001b[38;5;124;43m\"\u001b[39;49m\u001b[38;5;124;43mdelta\u001b[39;49m\u001b[38;5;124;43m\"\u001b[39;49m\u001b[43m)\u001b[49m\u001b[38;5;241;43m.\u001b[39;49m\u001b[43mmode\u001b[49m\u001b[43m(\u001b[49m\u001b[38;5;124;43m\"\u001b[39;49m\u001b[38;5;124;43mappend\u001b[39;49m\u001b[38;5;124;43m\"\u001b[39;49m\u001b[43m)\u001b[49m\u001b[38;5;241;43m.\u001b[39;49m\u001b[43msave\u001b[49m\u001b[43m(\u001b[49m\u001b[43mDELTA_LAKE_DIR_ROOT\u001b[49m\u001b[43m)\u001b[49m\n",
      "File \u001b[0;32m/usr/lib/spark/python/pyspark/sql/readwriter.py:1398\u001b[0m, in \u001b[0;36mDataFrameWriter.save\u001b[0;34m(self, path, format, mode, partitionBy, **options)\u001b[0m\n\u001b[1;32m   1396\u001b[0m     \u001b[38;5;28mself\u001b[39m\u001b[38;5;241m.\u001b[39m_jwrite\u001b[38;5;241m.\u001b[39msave()\n\u001b[1;32m   1397\u001b[0m \u001b[38;5;28;01melse\u001b[39;00m:\n\u001b[0;32m-> 1398\u001b[0m     \u001b[38;5;28;43mself\u001b[39;49m\u001b[38;5;241;43m.\u001b[39;49m\u001b[43m_jwrite\u001b[49m\u001b[38;5;241;43m.\u001b[39;49m\u001b[43msave\u001b[49m\u001b[43m(\u001b[49m\u001b[43mpath\u001b[49m\u001b[43m)\u001b[49m\n",
      "File \u001b[0;32m/usr/lib/spark/python/lib/py4j-0.10.9.7-src.zip/py4j/java_gateway.py:1322\u001b[0m, in \u001b[0;36mJavaMember.__call__\u001b[0;34m(self, *args)\u001b[0m\n\u001b[1;32m   1316\u001b[0m command \u001b[38;5;241m=\u001b[39m proto\u001b[38;5;241m.\u001b[39mCALL_COMMAND_NAME \u001b[38;5;241m+\u001b[39m\\\n\u001b[1;32m   1317\u001b[0m     \u001b[38;5;28mself\u001b[39m\u001b[38;5;241m.\u001b[39mcommand_header \u001b[38;5;241m+\u001b[39m\\\n\u001b[1;32m   1318\u001b[0m     args_command \u001b[38;5;241m+\u001b[39m\\\n\u001b[1;32m   1319\u001b[0m     proto\u001b[38;5;241m.\u001b[39mEND_COMMAND_PART\n\u001b[1;32m   1321\u001b[0m answer \u001b[38;5;241m=\u001b[39m \u001b[38;5;28mself\u001b[39m\u001b[38;5;241m.\u001b[39mgateway_client\u001b[38;5;241m.\u001b[39msend_command(command)\n\u001b[0;32m-> 1322\u001b[0m return_value \u001b[38;5;241m=\u001b[39m \u001b[43mget_return_value\u001b[49m\u001b[43m(\u001b[49m\n\u001b[1;32m   1323\u001b[0m \u001b[43m    \u001b[49m\u001b[43manswer\u001b[49m\u001b[43m,\u001b[49m\u001b[43m \u001b[49m\u001b[38;5;28;43mself\u001b[39;49m\u001b[38;5;241;43m.\u001b[39;49m\u001b[43mgateway_client\u001b[49m\u001b[43m,\u001b[49m\u001b[43m \u001b[49m\u001b[38;5;28;43mself\u001b[39;49m\u001b[38;5;241;43m.\u001b[39;49m\u001b[43mtarget_id\u001b[49m\u001b[43m,\u001b[49m\u001b[43m \u001b[49m\u001b[38;5;28;43mself\u001b[39;49m\u001b[38;5;241;43m.\u001b[39;49m\u001b[43mname\u001b[49m\u001b[43m)\u001b[49m\n\u001b[1;32m   1325\u001b[0m \u001b[38;5;28;01mfor\u001b[39;00m temp_arg \u001b[38;5;129;01min\u001b[39;00m temp_args:\n\u001b[1;32m   1326\u001b[0m     \u001b[38;5;28;01mif\u001b[39;00m \u001b[38;5;28mhasattr\u001b[39m(temp_arg, \u001b[38;5;124m\"\u001b[39m\u001b[38;5;124m_detach\u001b[39m\u001b[38;5;124m\"\u001b[39m):\n",
      "File \u001b[0;32m/usr/lib/spark/python/pyspark/errors/exceptions/captured.py:175\u001b[0m, in \u001b[0;36mcapture_sql_exception.<locals>.deco\u001b[0;34m(*a, **kw)\u001b[0m\n\u001b[1;32m    171\u001b[0m converted \u001b[38;5;241m=\u001b[39m convert_exception(e\u001b[38;5;241m.\u001b[39mjava_exception)\n\u001b[1;32m    172\u001b[0m \u001b[38;5;28;01mif\u001b[39;00m \u001b[38;5;129;01mnot\u001b[39;00m \u001b[38;5;28misinstance\u001b[39m(converted, UnknownException):\n\u001b[1;32m    173\u001b[0m     \u001b[38;5;66;03m# Hide where the exception came from that shows a non-Pythonic\u001b[39;00m\n\u001b[1;32m    174\u001b[0m     \u001b[38;5;66;03m# JVM exception message.\u001b[39;00m\n\u001b[0;32m--> 175\u001b[0m     \u001b[38;5;28;01mraise\u001b[39;00m converted \u001b[38;5;28;01mfrom\u001b[39;00m \u001b[38;5;28;01mNone\u001b[39;00m\n\u001b[1;32m    176\u001b[0m \u001b[38;5;28;01melse\u001b[39;00m:\n\u001b[1;32m    177\u001b[0m     \u001b[38;5;28;01mraise\u001b[39;00m\n",
      "\u001b[0;31mAnalysisException\u001b[0m: A schema mismatch detected when writing to the Delta table (Table ID: 347aa570-3d50-4d3a-8aba-02dcf5b8bcee).\nTo enable schema migration using DataFrameWriter or DataStreamWriter, please set:\n'.option(\"mergeSchema\", \"true\")'.\nFor other operations, set the session configuration\nspark.databricks.delta.schema.autoMerge.enabled to \"true\". See the documentation\nspecific to the operation for details.\n\nTable schema:\nroot\n-- addr_state: string (nullable = true)\n-- count: long (nullable = true)\n\n\nData schema:\nroot\n-- addr_state: string (nullable = true)\n-- count: long (nullable = true)\n-- collateral_value: double (nullable = true)\n\n         "
     ]
    }
   ],
   "source": [
    "# Attempt to append to the table\n",
    "schemaEvolvedDF.write.format(\"delta\").mode(\"append\").save(DELTA_LAKE_DIR_ROOT)"
   ]
  },
  {
   "cell_type": "markdown",
   "id": "4b6cc873-426e-43e6-be17-545e667f2e87",
   "metadata": {},
   "source": [
    "### 6. Supply \"mergeSchema\" option"
   ]
  },
  {
   "cell_type": "code",
   "execution_count": 13,
   "id": "c7be418e-1d41-431f-8a82-b6943f764e8d",
   "metadata": {},
   "outputs": [
    {
     "name": "stdout",
     "output_type": "stream",
     "text": [
      "6\n"
     ]
    }
   ],
   "source": [
    "# Data file count\n",
    "!gsutil ls -r $DELTA_LAKE_DIR_ROOT/part* | wc -l"
   ]
  },
  {
   "cell_type": "code",
   "execution_count": 14,
   "id": "b97d025e-6744-450f-bb6a-f37ecc7a724c",
   "metadata": {},
   "outputs": [
    {
     "name": "stdout",
     "output_type": "stream",
     "text": [
      "6\n"
     ]
    }
   ],
   "source": [
    "# Delta log count\n",
    "!gsutil ls -r $DELTA_LAKE_DIR_ROOT/_delta_log/*.json | wc -l"
   ]
  },
  {
   "cell_type": "code",
   "execution_count": 15,
   "id": "16dcf766-cf76-4210-aa26-519fd91b9207",
   "metadata": {},
   "outputs": [
    {
     "name": "stderr",
     "output_type": "stream",
     "text": [
      "                                                                                \r"
     ]
    }
   ],
   "source": [
    "schemaEvolvedDF.write.option(\"mergeSchema\",True).format(\"delta\").mode(\"append\").save(DELTA_LAKE_DIR_ROOT)"
   ]
  },
  {
   "cell_type": "code",
   "execution_count": 16,
   "id": "9a56affe-a463-4835-a45a-51cbdeda8f20",
   "metadata": {},
   "outputs": [
    {
     "name": "stderr",
     "output_type": "stream",
     "text": [
      "                                                                                \r"
     ]
    },
    {
     "name": "stdout",
     "output_type": "stream",
     "text": [
      "+----------+-----+----------------+\n",
      "|addr_state|count|collateral_value|\n",
      "+----------+-----+----------------+\n",
      "|AK        |1    |null            |\n",
      "|AL        |1    |null            |\n",
      "|AR        |1    |null            |\n",
      "|AZ        |1    |null            |\n",
      "|CA        |12345|null            |\n",
      "|CO        |1    |null            |\n",
      "|CT        |1    |null            |\n",
      "|DC        |1    |null            |\n",
      "|DE        |1    |null            |\n",
      "|FL        |1    |null            |\n",
      "|GA        |1    |null            |\n",
      "|HI        |1    |null            |\n",
      "|IA        |555  |null            |\n",
      "|ID        |1    |null            |\n",
      "|IL        |1    |null            |\n",
      "|IN        |6666 |null            |\n",
      "|KS        |1    |null            |\n",
      "|KY        |1    |null            |\n",
      "|LA        |1    |null            |\n",
      "|MA        |1    |null            |\n",
      "+----------+-----+----------------+\n",
      "only showing top 20 rows\n",
      "\n"
     ]
    }
   ],
   "source": [
    "spark.sql(\"SELECT * FROM loan_db.loans_by_state_delta\").show(truncate=False)"
   ]
  },
  {
   "cell_type": "code",
   "execution_count": 17,
   "id": "381c44d3-968a-400b-afe4-25495171c1ff",
   "metadata": {},
   "outputs": [
    {
     "name": "stdout",
     "output_type": "stream",
     "text": [
      "7\n"
     ]
    }
   ],
   "source": [
    "# Data file count\n",
    "!gsutil ls -r $DELTA_LAKE_DIR_ROOT/part* | wc -l"
   ]
  },
  {
   "cell_type": "code",
   "execution_count": 18,
   "id": "e42908fb-4352-4ffd-9f4c-2b3470d10460",
   "metadata": {},
   "outputs": [
    {
     "name": "stdout",
     "output_type": "stream",
     "text": [
      "7\n"
     ]
    }
   ],
   "source": [
    "# Delta log count\n",
    "!gsutil ls -r $DELTA_LAKE_DIR_ROOT/_delta_log/*.json | wc -l"
   ]
  },
  {
   "cell_type": "code",
   "execution_count": 19,
   "id": "e62673bc-a1d8-41ff-840a-5e608a96f95f",
   "metadata": {},
   "outputs": [
    {
     "name": "stdout",
     "output_type": "stream",
     "text": [
      "gs://dll-data-bucket-11002190840/delta-consumable/:\n",
      "gs://dll-data-bucket-11002190840/delta-consumable/part-00000-18ffd7b0-964d-4f1e-a648-0892a1d4373d-c000.snappy.parquet\n",
      "gs://dll-data-bucket-11002190840/delta-consumable/part-00000-55d5ffb4-6b4a-4ead-8591-983dc631339f-c000.snappy.parquet\n",
      "gs://dll-data-bucket-11002190840/delta-consumable/part-00000-6486345e-6c92-4216-b9ed-ffb413e41b4d-c000.snappy.parquet\n",
      "gs://dll-data-bucket-11002190840/delta-consumable/part-00000-6dbd9c8a-28bb-48a7-b1a9-5304b8f16bc2-c000.snappy.parquet\n",
      "gs://dll-data-bucket-11002190840/delta-consumable/part-00000-83d6b120-d178-4ac4-8c8e-f8d590f5f050-c000.snappy.parquet\n",
      "gs://dll-data-bucket-11002190840/delta-consumable/part-00000-af39e13d-1030-4881-965c-406884eb9420-c000.snappy.parquet\n",
      "gs://dll-data-bucket-11002190840/delta-consumable/part-00000-fe2f9136-6d38-4d3e-8090-bd41da49fe18-c000.snappy.parquet\n",
      "\n",
      "gs://dll-data-bucket-11002190840/delta-consumable/_delta_log/:\n",
      "gs://dll-data-bucket-11002190840/delta-consumable/_delta_log/\n",
      "gs://dll-data-bucket-11002190840/delta-consumable/_delta_log/00000000000000000000.json\n",
      "gs://dll-data-bucket-11002190840/delta-consumable/_delta_log/00000000000000000001.json\n",
      "gs://dll-data-bucket-11002190840/delta-consumable/_delta_log/00000000000000000002.json\n",
      "gs://dll-data-bucket-11002190840/delta-consumable/_delta_log/00000000000000000003.json\n",
      "gs://dll-data-bucket-11002190840/delta-consumable/_delta_log/00000000000000000004.json\n",
      "gs://dll-data-bucket-11002190840/delta-consumable/_delta_log/00000000000000000005.json\n",
      "gs://dll-data-bucket-11002190840/delta-consumable/_delta_log/00000000000000000006.json\n",
      "\n",
      "gs://dll-data-bucket-11002190840/delta-consumable/_symlink_format_manifest/:\n",
      "gs://dll-data-bucket-11002190840/delta-consumable/_symlink_format_manifest/\n",
      "gs://dll-data-bucket-11002190840/delta-consumable/_symlink_format_manifest/manifest\n"
     ]
    }
   ],
   "source": [
    "# Lets look at our datalake and changes from the above execution\n",
    "!gsutil ls -r $DELTA_LAKE_DIR_ROOT"
   ]
  },
  {
   "cell_type": "markdown",
   "id": "3a70e7ef-f6e2-4eac-8347-2663afe8dc39",
   "metadata": {},
   "source": [
    "There is one extra parquet, containing the data with the new column, and one new transaction log\n"
   ]
  },
  {
   "cell_type": "markdown",
   "id": "b0a1c1b4-63ac-42fa-a983-b100c3b4f707",
   "metadata": {},
   "source": [
    "Lets look at the log-"
   ]
  },
  {
   "cell_type": "code",
   "execution_count": 20,
   "id": "5baabb14-1f11-42f8-ae2c-11793f4800bd",
   "metadata": {},
   "outputs": [
    {
     "name": "stdout",
     "output_type": "stream",
     "text": [
      "BucketNotFoundException: 404 gs://dll-data-bucket-885979867746 bucket does not exist.\n"
     ]
    }
   ],
   "source": [
    "!gsutil cat \"gs://dll-data-bucket-885979867746/delta-consumable/_delta_log/00000000000000000006.json\""
   ]
  },
  {
   "cell_type": "code",
   "execution_count": 21,
   "id": "6561e8e8-d991-4cbe-a13a-8b546a821a2c",
   "metadata": {},
   "outputs": [
    {
     "name": "stderr",
     "output_type": "stream",
     "text": [
      "                                                                                \r"
     ]
    },
    {
     "name": "stdout",
     "output_type": "stream",
     "text": [
      "gs://dll-data-bucket-11002190840/delta-consumable/_delta_log/:\n",
      "gs://dll-data-bucket-11002190840/delta-consumable/_delta_log/\n",
      "gs://dll-data-bucket-11002190840/delta-consumable/_delta_log/00000000000000000000.json\n",
      "gs://dll-data-bucket-11002190840/delta-consumable/_delta_log/00000000000000000001.json\n",
      "gs://dll-data-bucket-11002190840/delta-consumable/_delta_log/00000000000000000002.json\n",
      "gs://dll-data-bucket-11002190840/delta-consumable/_delta_log/00000000000000000003.json\n",
      "gs://dll-data-bucket-11002190840/delta-consumable/_delta_log/00000000000000000004.json\n",
      "gs://dll-data-bucket-11002190840/delta-consumable/_delta_log/00000000000000000005.json\n",
      "gs://dll-data-bucket-11002190840/delta-consumable/_delta_log/00000000000000000006.json\n",
      "gs://dll-data-bucket-11002190840/delta-consumable/_delta_log/00000000000000000007.json\n"
     ]
    }
   ],
   "source": [
    "# Lets add data again till we hit the 10th version of the table\n",
    "schemaEvolvedDF = sql(\"select addr_state, cast(rand(10)*count as bigint) as count, cast(rand(10) * 10000 * count as double) as collateral_value from loan_db.loans_by_state_delta\")\n",
    "schemaEvolvedDF.write.format(\"delta\").mode(\"append\").save(DELTA_LAKE_DIR_ROOT)\n",
    "!gsutil ls -r $DELTA_LAKE_DIR_ROOT/_delta_log\n"
   ]
  },
  {
   "cell_type": "code",
   "execution_count": 22,
   "id": "fe89f98b-39c5-479d-b663-b8d0eb9548ee",
   "metadata": {},
   "outputs": [
    {
     "name": "stdout",
     "output_type": "stream",
     "text": [
      "9\n"
     ]
    }
   ],
   "source": [
    "# Data file count\n",
    "!gsutil ls -r $DELTA_LAKE_DIR_ROOT/part* | wc -l"
   ]
  },
  {
   "cell_type": "code",
   "execution_count": 23,
   "id": "ddd1494b-18ff-4798-875e-9a3a32f2708c",
   "metadata": {},
   "outputs": [
    {
     "name": "stdout",
     "output_type": "stream",
     "text": [
      "8\n"
     ]
    }
   ],
   "source": [
    "# Delta log count\n",
    "!gsutil ls -r $DELTA_LAKE_DIR_ROOT/_delta_log/*.json | wc -l"
   ]
  },
  {
   "cell_type": "code",
   "execution_count": 24,
   "id": "2e07a082-186f-4185-85fb-84bd30ca8c6d",
   "metadata": {},
   "outputs": [
    {
     "name": "stderr",
     "output_type": "stream",
     "text": [
      "                                                                                \r"
     ]
    }
   ],
   "source": [
    "# Lets add data again till we hit the 10th version of the table\n",
    "schemaEvolvedDF = sql(\"select addr_state, cast(rand(10)*count as bigint) as count, cast(rand(10) * 10000 * count as double) as collateral_value from loan_db.loans_by_state_delta\")\n",
    "schemaEvolvedDF.write.format(\"delta\").mode(\"append\").save(DELTA_LAKE_DIR_ROOT)\n"
   ]
  },
  {
   "cell_type": "code",
   "execution_count": 25,
   "id": "1d0c6248-d2a1-4827-9583-adbe5d9feaf3",
   "metadata": {},
   "outputs": [
    {
     "name": "stdout",
     "output_type": "stream",
     "text": [
      "gs://dll-data-bucket-11002190840/delta-consumable/_delta_log/:\n",
      "gs://dll-data-bucket-11002190840/delta-consumable/_delta_log/\n",
      "gs://dll-data-bucket-11002190840/delta-consumable/_delta_log/00000000000000000000.json\n",
      "gs://dll-data-bucket-11002190840/delta-consumable/_delta_log/00000000000000000001.json\n",
      "gs://dll-data-bucket-11002190840/delta-consumable/_delta_log/00000000000000000002.json\n",
      "gs://dll-data-bucket-11002190840/delta-consumable/_delta_log/00000000000000000003.json\n",
      "gs://dll-data-bucket-11002190840/delta-consumable/_delta_log/00000000000000000004.json\n",
      "gs://dll-data-bucket-11002190840/delta-consumable/_delta_log/00000000000000000005.json\n",
      "gs://dll-data-bucket-11002190840/delta-consumable/_delta_log/00000000000000000006.json\n",
      "gs://dll-data-bucket-11002190840/delta-consumable/_delta_log/00000000000000000007.json\n",
      "gs://dll-data-bucket-11002190840/delta-consumable/_delta_log/00000000000000000008.json\n"
     ]
    }
   ],
   "source": [
    "!gsutil ls -r $DELTA_LAKE_DIR_ROOT/_delta_log"
   ]
  },
  {
   "cell_type": "code",
   "execution_count": 26,
   "id": "4ccc7143-b6ff-4dda-8a70-8e5d8bb98b2b",
   "metadata": {},
   "outputs": [
    {
     "name": "stdout",
     "output_type": "stream",
     "text": [
      "gs://dll-data-bucket-11002190840/delta-consumable/part-00000-18ffd7b0-964d-4f1e-a648-0892a1d4373d-c000.snappy.parquet\n",
      "gs://dll-data-bucket-11002190840/delta-consumable/part-00000-55d5ffb4-6b4a-4ead-8591-983dc631339f-c000.snappy.parquet\n",
      "gs://dll-data-bucket-11002190840/delta-consumable/part-00000-6486345e-6c92-4216-b9ed-ffb413e41b4d-c000.snappy.parquet\n",
      "gs://dll-data-bucket-11002190840/delta-consumable/part-00000-687d9651-589c-4d6c-a8fd-df5d01770e85-c000.snappy.parquet\n",
      "gs://dll-data-bucket-11002190840/delta-consumable/part-00000-6dbd9c8a-28bb-48a7-b1a9-5304b8f16bc2-c000.snappy.parquet\n",
      "gs://dll-data-bucket-11002190840/delta-consumable/part-00000-83d6b120-d178-4ac4-8c8e-f8d590f5f050-c000.snappy.parquet\n",
      "gs://dll-data-bucket-11002190840/delta-consumable/part-00000-af39e13d-1030-4881-965c-406884eb9420-c000.snappy.parquet\n",
      "gs://dll-data-bucket-11002190840/delta-consumable/part-00000-dc870c0d-50c0-48b3-9d4d-7c28af28813c-c000.snappy.parquet\n",
      "gs://dll-data-bucket-11002190840/delta-consumable/part-00000-fe2f9136-6d38-4d3e-8090-bd41da49fe18-c000.snappy.parquet\n",
      "gs://dll-data-bucket-11002190840/delta-consumable/part-00001-79e76c00-dc20-474f-bec7-a73259521925-c000.snappy.parquet\n",
      "gs://dll-data-bucket-11002190840/delta-consumable/part-00001-f6f7eeb2-8a71-471c-b861-bf00a8dc1fd5-c000.snappy.parquet\n",
      "gs://dll-data-bucket-11002190840/delta-consumable/part-00002-c863f818-d21f-42a5-8448-907a61b0b844-c000.snappy.parquet\n",
      "gs://dll-data-bucket-11002190840/delta-consumable/part-00003-06c35ac3-7eec-4bc2-8794-a6f5c8adeca5-c000.snappy.parquet\n"
     ]
    }
   ],
   "source": [
    "!gsutil ls -r $DELTA_LAKE_DIR_ROOT/part*"
   ]
  },
  {
   "cell_type": "code",
   "execution_count": 27,
   "id": "d3aff630-2c3b-449a-97e0-915639cbe9aa",
   "metadata": {},
   "outputs": [
    {
     "name": "stdout",
     "output_type": "stream",
     "text": [
      "13\n"
     ]
    }
   ],
   "source": [
    "# Data file count\n",
    "!gsutil ls -r $DELTA_LAKE_DIR_ROOT/part* | wc -l"
   ]
  },
  {
   "cell_type": "code",
   "execution_count": 28,
   "id": "bbf65a74-02d2-4695-b5f3-25eb8d53d1c5",
   "metadata": {},
   "outputs": [
    {
     "name": "stdout",
     "output_type": "stream",
     "text": [
      "9\n"
     ]
    }
   ],
   "source": [
    "# Delta log count\n",
    "!gsutil ls -r $DELTA_LAKE_DIR_ROOT/_delta_log/*.json | wc -l"
   ]
  },
  {
   "cell_type": "code",
   "execution_count": 29,
   "id": "ce35fc2d-f72d-4bf6-abe0-c0f902b7378b",
   "metadata": {},
   "outputs": [
    {
     "name": "stderr",
     "output_type": "stream",
     "text": [
      "                                                                                \r"
     ]
    },
    {
     "name": "stdout",
     "output_type": "stream",
     "text": [
      "gs://dll-data-bucket-11002190840/delta-consumable/_delta_log/:\n",
      "gs://dll-data-bucket-11002190840/delta-consumable/_delta_log/\n",
      "gs://dll-data-bucket-11002190840/delta-consumable/_delta_log/00000000000000000000.json\n",
      "gs://dll-data-bucket-11002190840/delta-consumable/_delta_log/00000000000000000001.json\n",
      "gs://dll-data-bucket-11002190840/delta-consumable/_delta_log/00000000000000000002.json\n",
      "gs://dll-data-bucket-11002190840/delta-consumable/_delta_log/00000000000000000003.json\n",
      "gs://dll-data-bucket-11002190840/delta-consumable/_delta_log/00000000000000000004.json\n",
      "gs://dll-data-bucket-11002190840/delta-consumable/_delta_log/00000000000000000005.json\n",
      "gs://dll-data-bucket-11002190840/delta-consumable/_delta_log/00000000000000000006.json\n",
      "gs://dll-data-bucket-11002190840/delta-consumable/_delta_log/00000000000000000007.json\n",
      "gs://dll-data-bucket-11002190840/delta-consumable/_delta_log/00000000000000000008.json\n",
      "gs://dll-data-bucket-11002190840/delta-consumable/_delta_log/00000000000000000009.json\n"
     ]
    }
   ],
   "source": [
    "# Lets add data again till we hit the 10th version of the table\n",
    "schemaEvolvedDF = sql(\"select addr_state, cast(rand(10)*count as bigint) as count, cast(rand(10) * 10000 * count as double) as collateral_value from loan_db.loans_by_state_delta\")\n",
    "schemaEvolvedDF.write.format(\"delta\").mode(\"append\").save(DELTA_LAKE_DIR_ROOT)\n",
    "!gsutil ls -r $DELTA_LAKE_DIR_ROOT/_delta_log"
   ]
  },
  {
   "cell_type": "code",
   "execution_count": 30,
   "id": "69e094d5-ef67-42a8-892d-65d789755c78",
   "metadata": {},
   "outputs": [
    {
     "name": "stdout",
     "output_type": "stream",
     "text": [
      "21\n"
     ]
    }
   ],
   "source": [
    "# Data file count\n",
    "!gsutil ls -r $DELTA_LAKE_DIR_ROOT/part* | wc -l"
   ]
  },
  {
   "cell_type": "code",
   "execution_count": 31,
   "id": "977a4f16-d580-422b-875d-6479f0851b10",
   "metadata": {},
   "outputs": [
    {
     "name": "stdout",
     "output_type": "stream",
     "text": [
      "10\n"
     ]
    }
   ],
   "source": [
    "# Delta log count\n",
    "!gsutil ls -r $DELTA_LAKE_DIR_ROOT/_delta_log/*.json | wc -l"
   ]
  },
  {
   "cell_type": "code",
   "execution_count": 32,
   "id": "444a5169-b3bf-4555-be6f-1cb177e73b6b",
   "metadata": {},
   "outputs": [
    {
     "name": "stderr",
     "output_type": "stream",
     "text": [
      "                                                                                \r"
     ]
    },
    {
     "name": "stdout",
     "output_type": "stream",
     "text": [
      "gs://dll-data-bucket-11002190840/delta-consumable/_delta_log/:\n",
      "gs://dll-data-bucket-11002190840/delta-consumable/_delta_log/\n",
      "gs://dll-data-bucket-11002190840/delta-consumable/_delta_log/00000000000000000000.json\n",
      "gs://dll-data-bucket-11002190840/delta-consumable/_delta_log/00000000000000000001.json\n",
      "gs://dll-data-bucket-11002190840/delta-consumable/_delta_log/00000000000000000002.json\n",
      "gs://dll-data-bucket-11002190840/delta-consumable/_delta_log/00000000000000000003.json\n",
      "gs://dll-data-bucket-11002190840/delta-consumable/_delta_log/00000000000000000004.json\n",
      "gs://dll-data-bucket-11002190840/delta-consumable/_delta_log/00000000000000000005.json\n",
      "gs://dll-data-bucket-11002190840/delta-consumable/_delta_log/00000000000000000006.json\n",
      "gs://dll-data-bucket-11002190840/delta-consumable/_delta_log/00000000000000000007.json\n",
      "gs://dll-data-bucket-11002190840/delta-consumable/_delta_log/00000000000000000008.json\n",
      "gs://dll-data-bucket-11002190840/delta-consumable/_delta_log/00000000000000000009.json\n",
      "gs://dll-data-bucket-11002190840/delta-consumable/_delta_log/00000000000000000010.checkpoint.parquet\n",
      "gs://dll-data-bucket-11002190840/delta-consumable/_delta_log/00000000000000000010.json\n",
      "gs://dll-data-bucket-11002190840/delta-consumable/_delta_log/_last_checkpoint\n"
     ]
    }
   ],
   "source": [
    "# Lets add data again till we hit the 10th version of the table\n",
    "schemaEvolvedDF = sql(\"select addr_state, cast(rand(10)*count as bigint) as count, cast(rand(10) * 10000 * count as double) as collateral_value from loan_db.loans_by_state_delta\")\n",
    "schemaEvolvedDF.write.format(\"delta\").mode(\"append\").save(DELTA_LAKE_DIR_ROOT)\n",
    "!gsutil ls -r $DELTA_LAKE_DIR_ROOT/_delta_log"
   ]
  },
  {
   "cell_type": "code",
   "execution_count": 33,
   "id": "7ac2f36e-6553-476b-b208-879e3ffbc5bf",
   "metadata": {},
   "outputs": [
    {
     "name": "stdout",
     "output_type": "stream",
     "text": [
      "29\n"
     ]
    }
   ],
   "source": [
    "# Data file count\n",
    "!gsutil ls -r $DELTA_LAKE_DIR_ROOT/part* | wc -l"
   ]
  },
  {
   "cell_type": "code",
   "execution_count": 34,
   "id": "3bedf0a3-35d1-4adc-8d5e-177478517bab",
   "metadata": {},
   "outputs": [
    {
     "name": "stdout",
     "output_type": "stream",
     "text": [
      "11\n"
     ]
    }
   ],
   "source": [
    "# Delta log count\n",
    "!gsutil ls -r $DELTA_LAKE_DIR_ROOT/_delta_log/*.json | wc -l"
   ]
  },
  {
   "cell_type": "code",
   "execution_count": 35,
   "id": "0bf33ccf-29f6-4f28-8c96-1e339387c7a1",
   "metadata": {},
   "outputs": [
    {
     "name": "stderr",
     "output_type": "stream",
     "text": [
      "                                                                                \r"
     ]
    },
    {
     "name": "stdout",
     "output_type": "stream",
     "text": [
      "gs://dll-data-bucket-11002190840/delta-consumable/_delta_log/:\n",
      "gs://dll-data-bucket-11002190840/delta-consumable/_delta_log/\n",
      "gs://dll-data-bucket-11002190840/delta-consumable/_delta_log/00000000000000000000.json\n",
      "gs://dll-data-bucket-11002190840/delta-consumable/_delta_log/00000000000000000001.json\n",
      "gs://dll-data-bucket-11002190840/delta-consumable/_delta_log/00000000000000000002.json\n",
      "gs://dll-data-bucket-11002190840/delta-consumable/_delta_log/00000000000000000003.json\n",
      "gs://dll-data-bucket-11002190840/delta-consumable/_delta_log/00000000000000000004.json\n",
      "gs://dll-data-bucket-11002190840/delta-consumable/_delta_log/00000000000000000005.json\n",
      "gs://dll-data-bucket-11002190840/delta-consumable/_delta_log/00000000000000000006.json\n",
      "gs://dll-data-bucket-11002190840/delta-consumable/_delta_log/00000000000000000007.json\n",
      "gs://dll-data-bucket-11002190840/delta-consumable/_delta_log/00000000000000000008.json\n",
      "gs://dll-data-bucket-11002190840/delta-consumable/_delta_log/00000000000000000009.json\n",
      "gs://dll-data-bucket-11002190840/delta-consumable/_delta_log/00000000000000000010.checkpoint.parquet\n",
      "gs://dll-data-bucket-11002190840/delta-consumable/_delta_log/00000000000000000010.json\n",
      "gs://dll-data-bucket-11002190840/delta-consumable/_delta_log/00000000000000000011.json\n",
      "gs://dll-data-bucket-11002190840/delta-consumable/_delta_log/_last_checkpoint\n"
     ]
    }
   ],
   "source": [
    "# Lets add data again till we hit the 10th version of the table\n",
    "schemaEvolvedDF = sql(\"select addr_state, cast(rand(10)*count as bigint) as count, cast(rand(10) * 10000 * count as double) as collateral_value from loan_db.loans_by_state_delta\")\n",
    "schemaEvolvedDF.write.format(\"delta\").mode(\"append\").save(DELTA_LAKE_DIR_ROOT)\n",
    "!gsutil ls -r $DELTA_LAKE_DIR_ROOT/_delta_log"
   ]
  },
  {
   "cell_type": "code",
   "execution_count": 36,
   "id": "14357866-ad2d-4a70-a931-40b8fa94d53f",
   "metadata": {},
   "outputs": [
    {
     "name": "stdout",
     "output_type": "stream",
     "text": [
      "37\n"
     ]
    }
   ],
   "source": [
    "# Data file count\n",
    "!gsutil ls -r $DELTA_LAKE_DIR_ROOT/part* | wc -l"
   ]
  },
  {
   "cell_type": "code",
   "execution_count": 37,
   "id": "44ec1536-cb6e-46fb-9b6a-1d942785ad23",
   "metadata": {},
   "outputs": [
    {
     "name": "stdout",
     "output_type": "stream",
     "text": [
      "12\n"
     ]
    }
   ],
   "source": [
    "# Delta log count\n",
    "!gsutil ls -r $DELTA_LAKE_DIR_ROOT/_delta_log/*.json | wc -l"
   ]
  },
  {
   "cell_type": "markdown",
   "id": "824ff198-61b3-469a-997b-d16f1f40a3de",
   "metadata": {},
   "source": [
    "Note how there is a parquet file created - this is a compacted version of table changes 0-9<br>\n",
    "Delta will load this parquet into memory, to avoid having to read too many small files<br>\n",
    "At any given point of time, delta will not read more than 10 json transaction logs, but will read all the parquet transaction logs."
   ]
  },
  {
   "cell_type": "markdown",
   "id": "676817ca-622f-4d0d-b09b-45e6dae5f2e6",
   "metadata": {},
   "source": [
    "### THIS CONCLUDES THIS UNIT. PROCEED TO THE NEXT NOTEBOOK"
   ]
  }
 ],
 "metadata": {
  "language_info": {
   "codemirror_mode": {
    "name": "ipython",
    "version": 3
   },
   "file_extension": ".py",
   "mimetype": "text/x-python",
   "name": "python",
   "nbconvert_exporter": "python",
   "pygments_lexer": "ipython3",
   "version": "3.11.0"
  },
  "serverless_spark": "{\"name\":\"projects/delta-lake-diy-lab/locations/us-central1/sessions/delta-lake-lab-17460\",\"uuid\":\"7496b9aa-c1b2-4af0-b19a-eed494ea3479\",\"createTime\":\"2023-12-02T23:10:14.351363Z\",\"jupyterSession\":{},\"runtimeInfo\":{\"endpoints\":{\"Spark History Server\":\"https://in7kggl6mfcxxdldiezehugb4i-dot-us-central1.dataproc.googleusercontent.com/sparkhistory/\",\"BYOID Spark History Server\":\"https://in7kggl6mfcxxdldiezehugb4i-dot-us-central1.dataproc.byoid.googleusercontent.com/sparkhistory/\"}},\"state\":\"ACTIVE\",\"stateTime\":\"2023-12-02T23:13:27.294546Z\",\"creator\":\"admin@akhanolkar.altostrat.com\",\"runtimeConfig\":{\"version\":\"2.1.27\",\"properties\":{\"spark:spark.jars.packages\":\"io.delta:delta-core_2.13:2.4.0\",\"spark:spark.sql.catalog.spark_catalog\":\"org.apache.spark.sql.delta.catalog.DeltaCatalog\",\"spark:spark.sql.extensions\":\"io.delta.sql.DeltaSparkSessionExtension\",\"spark:spark.executor.instances\":\"2\",\"spark:spark.driver.cores\":\"4\",\"spark:spark.driver.memory\":\"9600m\",\"spark:spark.executor.cores\":\"4\",\"spark:spark.executor.memory\":\"9600m\",\"spark:spark.dynamicAllocation.executorAllocationRatio\":\"0.3\",\"spark:spark.eventLog.dir\":\"gs://dll-sphs-bucket-11002190840/7496b9aa-c1b2-4af0-b19a-eed494ea3479/spark-job-history\"}},\"environmentConfig\":{\"executionConfig\":{\"serviceAccount\":\"dll-lab-sa@delta-lake-diy-lab.iam.gserviceaccount.com\",\"subnetworkUri\":\"spark-snet\",\"idleTtl\":\"3600s\",\"ttl\":\"86400s\"},\"peripheralsConfig\":{\"metastoreService\":\"projects/delta-lake-diy-lab/locations/us-central1/services/dll-hms-11002190840\",\"sparkHistoryServerConfig\":{\"dataprocCluster\":\"projects/delta-lake-diy-lab/regions/us-central1/clusters/dll-sphs-11002190840\"}}},\"stateHistory\":[{\"state\":\"CREATING\",\"stateStartTime\":\"2023-12-02T23:10:14.351363Z\"}]}",
  "serverless_spark_kernel_name": "remote-d973f900c0bcdc8a7fcee568-pyspark",
  "vscode": {
   "interpreter": {
    "hash": "aee8b7b246df8f9039afb4144a1f6fd8d2ca17a180786b69acc140d282b71a49"
   }
  }
 },
 "nbformat": 4,
 "nbformat_minor": 5
}
