{
 "cells": [
  {
   "cell_type": "markdown",
   "id": "4529a790-8425-4600-841a-4b094b82eaa8",
   "metadata": {},
   "source": [
    "# Delta Lake Lab \n",
    "## Unit 10: Querying Delta Lake in BigQuery UI with BigLake manifest support for Delta Lake\n",
    "\n",
    "This lab is powered by Dataproc Serverless Spark.\n",
    "\n",
    "\n",
    "In this unit, we will -\n",
    "1. Generate a manifest file each for the unpartitioned delta table & partitioned delta table - both of which we created in notebook 2\n",
    "2. Using the Python SDK for BigQuery, we will create BigLake tables for the above\n",
    "3. Using the Python SDK for BigQuery, we will query the BigLake tables\n",
    "\n",
    "You can explore the tables created in teh BigQuery UI as well."
   ]
  },
  {
   "cell_type": "markdown",
   "id": "1a31c4fd-d465-4f52-8e56-3775bf499abc",
   "metadata": {},
   "source": [
    "### 1. Imports"
   ]
  },
  {
   "cell_type": "code",
   "execution_count": 1,
   "id": "1321bce9-178c-4065-8187-0a5728c1a370",
   "metadata": {},
   "outputs": [],
   "source": [
    "import pandas as pd\n",
    "\n",
    "from pyspark.sql.functions import month, date_format\n",
    "from pyspark.sql.types import IntegerType\n",
    "from pyspark.sql import SparkSession\n",
    "\n",
    "from delta.tables import *\n",
    "\n",
    "from google.cloud.exceptions import BadRequest\n",
    "from google.cloud import bigquery\n",
    "\n",
    "import sqlparse\n",
    "import warnings\n",
    "warnings.filterwarnings('ignore')"
   ]
  },
  {
   "cell_type": "markdown",
   "id": "ed295a74-ed1d-4b5d-831a-1b5dcf73c36f",
   "metadata": {},
   "source": [
    "### 2. Create a Spark session powered by Cloud Dataproc "
   ]
  },
  {
   "cell_type": "code",
   "execution_count": 2,
   "id": "b383d5ab-a0b9-45ab-a232-34d88f2a0065",
   "metadata": {},
   "outputs": [
    {
     "name": "stderr",
     "output_type": "stream",
     "text": [
      "23/12/03 01:13:46 WARN SparkSession: Using an existing Spark session; only runtime SQL configurations will take effect.\n"
     ]
    },
    {
     "data": {
      "text/html": [
       "\n",
       "            <div>\n",
       "                <p><b>SparkSession - hive</b></p>\n",
       "                \n",
       "        <div>\n",
       "            <p><b>SparkContext</b></p>\n",
       "\n",
       "            <p><a href=\"http://gdpic-srvls-session-7496b9aa-c1b2-4af0-b19a-eed494ea3479-m.us-central1-c.c.delta-lake-diy-lab.internal:4040\">Spark UI</a></p>\n",
       "\n",
       "            <dl>\n",
       "              <dt>Version</dt>\n",
       "                <dd><code>v3.4.0</code></dd>\n",
       "              <dt>Master</dt>\n",
       "                <dd><code>spark://gdpic-srvls-session-7496b9aa-c1b2-4af0-b19a-eed494ea3479-m:7077</code></dd>\n",
       "              <dt>AppName</dt>\n",
       "                <dd><code>PySparkShell</code></dd>\n",
       "            </dl>\n",
       "        </div>\n",
       "        \n",
       "            </div>\n",
       "        "
      ],
      "text/plain": [
       "<pyspark.sql.session.SparkSession at 0x7fc620e3ca10>"
      ]
     },
     "execution_count": 2,
     "metadata": {},
     "output_type": "execute_result"
    }
   ],
   "source": [
    "spark = SparkSession.builder.appName('Loan Analysis').getOrCreate()\n",
    "spark"
   ]
  },
  {
   "cell_type": "markdown",
   "id": "63cd13e6-f3f5-4f2c-b4fc-d7e2660c6206",
   "metadata": {},
   "source": [
    "### 3. Declare variables"
   ]
  },
  {
   "cell_type": "code",
   "execution_count": 3,
   "id": "5596e31b-749a-4702-8879-6f05f9ff0c2d",
   "metadata": {},
   "outputs": [
    {
     "name": "stdout",
     "output_type": "stream",
     "text": [
      "PROJECT_ID:  delta-lake-diy-lab\n"
     ]
    }
   ],
   "source": [
    "project_id_output = !gcloud config list --format \"value(core.project)\" 2>/dev/null\n",
    "PROJECT_ID = project_id_output[0]\n",
    "print(\"PROJECT_ID: \", PROJECT_ID)"
   ]
  },
  {
   "cell_type": "code",
   "execution_count": 4,
   "id": "471c6743-a058-462b-851a-f34323f36243",
   "metadata": {},
   "outputs": [
    {
     "name": "stdout",
     "output_type": "stream",
     "text": [
      "PROJECT_NAME:  delta-lake-diy-lab\n"
     ]
    }
   ],
   "source": [
    "project_name_output = !gcloud projects describe $PROJECT_ID | grep name | cut -d':' -f2 | xargs\n",
    "PROJECT_NAME = project_name_output[0]\n",
    "print(\"PROJECT_NAME: \", PROJECT_NAME)"
   ]
  },
  {
   "cell_type": "code",
   "execution_count": 5,
   "id": "61929dc6-a083-433c-8a13-3d39d9c4a4a1",
   "metadata": {},
   "outputs": [
    {
     "name": "stdout",
     "output_type": "stream",
     "text": [
      "PROJECT_NUMBER:  11002190840\n"
     ]
    }
   ],
   "source": [
    "project_number_output = !gcloud projects describe $PROJECT_ID | grep projectNumber | cut -d':' -f2 | xargs\n",
    "PROJECT_NUMBER = project_number_output[0]\n",
    "print(\"PROJECT_NUMBER: \", PROJECT_NUMBER)"
   ]
  },
  {
   "cell_type": "code",
   "execution_count": 6,
   "id": "f8b79fd2-5243-41a4-ae87-e7f9dd87cf20",
   "metadata": {},
   "outputs": [],
   "source": [
    "DATA_LAKE_ROOT_PATH= f\"gs://dll-data-bucket-{PROJECT_NUMBER}\"\n",
    "UNPARTITIONED_DELTA_LAKE_DIR = f\"{DATA_LAKE_ROOT_PATH}/delta-consumable\"\n",
    "PARTITIONED_DELTA_LAKE_DIR = f\"{DATA_LAKE_ROOT_PATH}/delta-sample-partitioned\""
   ]
  },
  {
   "cell_type": "markdown",
   "id": "073428e0-5141-4c34-82e3-786224d7b878",
   "metadata": {},
   "source": [
    "### 4. Create a manifest file on the Delta Lake data from notebook 2\n",
    "https://docs.delta.io/latest/delta-utility.html#id8\n",
    "\n",
    "You can a generate manifest file for a Delta table that can be used by other processing engines (that is, other than Apache Spark) to read the Delta table. For example, to generate a manifest file that can be used by Presto and Athena to read a Delta table, you run the below"
   ]
  },
  {
   "cell_type": "markdown",
   "id": "085eef71-4d8c-4d1e-8380-748ac4032142",
   "metadata": {},
   "source": [
    "#### 4.1. Create a manifest file on the unpartitioned loans dataset"
   ]
  },
  {
   "cell_type": "code",
   "execution_count": 7,
   "id": "685f24f4-6569-453a-b39b-7ab1aeefad40",
   "metadata": {},
   "outputs": [
    {
     "name": "stderr",
     "output_type": "stream",
     "text": [
      "ivysettings.xml file not found in HIVE_HOME or HIVE_CONF_DIR,/etc/spark/conf/ivysettings.xml will be used\n",
      "23/12/03 01:14:01 WARN package: Truncated the string representation of a plan since it was too large. This behavior can be adjusted by setting 'spark.sql.debug.maxToStringFields'.\n",
      "                                                                                \r"
     ]
    }
   ],
   "source": [
    "unpartitionedDeltaTable = DeltaTable.forPath(spark, UNPARTITIONED_DELTA_LAKE_DIR)\n",
    "unpartitionedDeltaTable.generate(\"symlink_format_manifest\")"
   ]
  },
  {
   "cell_type": "code",
   "execution_count": 8,
   "id": "e0c7b2c6-7ae1-42ca-bf57-cfa7603757cd",
   "metadata": {},
   "outputs": [
    {
     "name": "stdout",
     "output_type": "stream",
     "text": [
      "gs://dll-data-bucket-11002190840/delta-consumable/_symlink_format_manifest/manifest\n"
     ]
    }
   ],
   "source": [
    "!gsutil ls -r $UNPARTITIONED_DELTA_LAKE_DIR | grep \"_symlink_format_manifest/manifest\""
   ]
  },
  {
   "cell_type": "code",
   "execution_count": 9,
   "id": "d4dfb0d4-342f-4651-a24c-7097fb2b13f6",
   "metadata": {},
   "outputs": [
    {
     "name": "stdout",
     "output_type": "stream",
     "text": [
      "gs://dll-data-bucket-11002190840/delta-consumable/_symlink_format_manifest/manifest\n"
     ]
    }
   ],
   "source": [
    "MANIFEST_LIST = !gsutil ls -r $UNPARTITIONED_DELTA_LAKE_DIR | grep \"_symlink_format_manifest/manifest\"\n",
    "MANIFEST_FILE = MANIFEST_LIST[0]\n",
    "print(MANIFEST_FILE)"
   ]
  },
  {
   "cell_type": "code",
   "execution_count": 10,
   "id": "678cc704-db99-4941-bfbd-af363a5f4978",
   "metadata": {},
   "outputs": [
    {
     "name": "stdout",
     "output_type": "stream",
     "text": [
      "gs://dll-data-bucket-11002190840/delta-consumable/part-00000-18ffd7b0-964d-4f1e-a648-0892a1d4373d-c000.snappy.parquet\n"
     ]
    }
   ],
   "source": [
    "!gsutil cat $MANIFEST_FILE"
   ]
  },
  {
   "cell_type": "markdown",
   "id": "f2a85df4-20f0-4829-be51-b45639b2ad5a",
   "metadata": {},
   "source": [
    "Using this manifest file, you can create an external table in BigQuery - a BigLake table on the Delta Lake Table, except it will be point in time to when the manifest was generated."
   ]
  },
  {
   "cell_type": "markdown",
   "id": "6983ac17-0e17-48d6-b6aa-6b780b6e0dde",
   "metadata": {},
   "source": [
    "#### 4.2. Create a manifest file on the partitioned loans dataset"
   ]
  },
  {
   "cell_type": "code",
   "execution_count": 11,
   "id": "d382e331-5830-49e1-ad0a-6fd58ba8e7df",
   "metadata": {},
   "outputs": [
    {
     "name": "stderr",
     "output_type": "stream",
     "text": [
      "                                                                                \r"
     ]
    }
   ],
   "source": [
    "partitionedDeltaTable = DeltaTable.forPath(spark, PARTITIONED_DELTA_LAKE_DIR)\n",
    "partitionedDeltaTable.generate(\"symlink_format_manifest\")"
   ]
  },
  {
   "cell_type": "code",
   "execution_count": 12,
   "id": "bd6693d1-8f0c-488e-99ee-57a834754aa6",
   "metadata": {},
   "outputs": [
    {
     "name": "stdout",
     "output_type": "stream",
     "text": [
      "gs://dll-data-bucket-11002190840/delta-sample-partitioned/:\n",
      "\n",
      "gs://dll-data-bucket-11002190840/delta-sample-partitioned/_delta_log/:\n",
      "gs://dll-data-bucket-11002190840/delta-sample-partitioned/_delta_log/\n",
      "gs://dll-data-bucket-11002190840/delta-sample-partitioned/_delta_log/00000000000000000000.json\n",
      "\n",
      "gs://dll-data-bucket-11002190840/delta-sample-partitioned/_symlink_format_manifest/:\n",
      "\n",
      "gs://dll-data-bucket-11002190840/delta-sample-partitioned/_symlink_format_manifest/addr_state=AK/:\n",
      "gs://dll-data-bucket-11002190840/delta-sample-partitioned/_symlink_format_manifest/addr_state=AK/\n",
      "gs://dll-data-bucket-11002190840/delta-sample-partitioned/_symlink_format_manifest/addr_state=AK/manifest\n",
      "\n",
      "gs://dll-data-bucket-11002190840/delta-sample-partitioned/_symlink_format_manifest/addr_state=AL/:\n",
      "gs://dll-data-bucket-11002190840/delta-sample-partitioned/_symlink_format_manifest/addr_state=AL/\n",
      "gs://dll-data-bucket-11002190840/delta-sample-partitioned/_symlink_format_manifest/addr_state=AL/manifest\n",
      "\n",
      "gs://dll-data-bucket-11002190840/delta-sample-partitioned/_symlink_format_manifest/addr_state=AR/:\n",
      "gs://dll-data-bucket-11002190840/delta-sample-partitioned/_symlink_format_manifest/addr_state=AR/\n",
      "gs://dll-data-bucket-11002190840/delta-sample-partitioned/_symlink_format_manifest/addr_state=AR/manifest\n",
      "\n",
      "gs://dll-data-bucket-11002190840/delta-sample-partitioned/_symlink_format_manifest/addr_state=AZ/:\n",
      "gs://dll-data-bucket-11002190840/delta-sample-partitioned/_symlink_format_manifest/addr_state=AZ/\n",
      "gs://dll-data-bucket-11002190840/delta-sample-partitioned/_symlink_format_manifest/addr_state=AZ/manifest\n",
      "\n",
      "gs://dll-data-bucket-11002190840/delta-sample-partitioned/_symlink_format_manifest/addr_state=CA/:\n",
      "gs://dll-data-bucket-11002190840/delta-sample-partitioned/_symlink_format_manifest/addr_state=CA/\n",
      "gs://dll-data-bucket-11002190840/delta-sample-partitioned/_symlink_format_manifest/addr_state=CA/manifest\n",
      "\n",
      "gs://dll-data-bucket-11002190840/delta-sample-partitioned/_symlink_format_manifest/addr_state=CO/:\n",
      "gs://dll-data-bucket-11002190840/delta-sample-partitioned/_symlink_format_manifest/addr_state=CO/\n",
      "gs://dll-data-bucket-11002190840/delta-sample-partitioned/_symlink_format_manifest/addr_state=CO/manifest\n",
      "\n",
      "gs://dll-data-bucket-11002190840/delta-sample-partitioned/_symlink_format_manifest/addr_state=CT/:\n",
      "gs://dll-data-bucket-11002190840/delta-sample-partitioned/_symlink_format_manifest/addr_state=CT/\n",
      "gs://dll-data-bucket-11002190840/delta-sample-partitioned/_symlink_format_manifest/addr_state=CT/manifest\n",
      "\n",
      "gs://dll-data-bucket-11002190840/delta-sample-partitioned/_symlink_format_manifest/addr_state=DC/:\n",
      "gs://dll-data-bucket-11002190840/delta-sample-partitioned/_symlink_format_manifest/addr_state=DC/\n",
      "gs://dll-data-bucket-11002190840/delta-sample-partitioned/_symlink_format_manifest/addr_state=DC/manifest\n",
      "\n",
      "gs://dll-data-bucket-11002190840/delta-sample-partitioned/_symlink_format_manifest/addr_state=DE/:\n",
      "gs://dll-data-bucket-11002190840/delta-sample-partitioned/_symlink_format_manifest/addr_state=DE/\n",
      "gs://dll-data-bucket-11002190840/delta-sample-partitioned/_symlink_format_manifest/addr_state=DE/manifest\n",
      "\n",
      "gs://dll-data-bucket-11002190840/delta-sample-partitioned/_symlink_format_manifest/addr_state=FL/:\n",
      "gs://dll-data-bucket-11002190840/delta-sample-partitioned/_symlink_format_manifest/addr_state=FL/\n",
      "gs://dll-data-bucket-11002190840/delta-sample-partitioned/_symlink_format_manifest/addr_state=FL/manifest\n",
      "\n",
      "gs://dll-data-bucket-11002190840/delta-sample-partitioned/_symlink_format_manifest/addr_state=GA/:\n",
      "gs://dll-data-bucket-11002190840/delta-sample-partitioned/_symlink_format_manifest/addr_state=GA/\n",
      "gs://dll-data-bucket-11002190840/delta-sample-partitioned/_symlink_format_manifest/addr_state=GA/manifest\n",
      "\n",
      "gs://dll-data-bucket-11002190840/delta-sample-partitioned/_symlink_format_manifest/addr_state=HI/:\n",
      "gs://dll-data-bucket-11002190840/delta-sample-partitioned/_symlink_format_manifest/addr_state=HI/\n",
      "gs://dll-data-bucket-11002190840/delta-sample-partitioned/_symlink_format_manifest/addr_state=HI/manifest\n",
      "\n",
      "gs://dll-data-bucket-11002190840/delta-sample-partitioned/_symlink_format_manifest/addr_state=IA/:\n",
      "gs://dll-data-bucket-11002190840/delta-sample-partitioned/_symlink_format_manifest/addr_state=IA/\n",
      "gs://dll-data-bucket-11002190840/delta-sample-partitioned/_symlink_format_manifest/addr_state=IA/manifest\n",
      "\n",
      "gs://dll-data-bucket-11002190840/delta-sample-partitioned/_symlink_format_manifest/addr_state=ID/:\n",
      "gs://dll-data-bucket-11002190840/delta-sample-partitioned/_symlink_format_manifest/addr_state=ID/\n",
      "gs://dll-data-bucket-11002190840/delta-sample-partitioned/_symlink_format_manifest/addr_state=ID/manifest\n",
      "\n",
      "gs://dll-data-bucket-11002190840/delta-sample-partitioned/_symlink_format_manifest/addr_state=IL/:\n",
      "gs://dll-data-bucket-11002190840/delta-sample-partitioned/_symlink_format_manifest/addr_state=IL/\n",
      "gs://dll-data-bucket-11002190840/delta-sample-partitioned/_symlink_format_manifest/addr_state=IL/manifest\n",
      "\n",
      "gs://dll-data-bucket-11002190840/delta-sample-partitioned/_symlink_format_manifest/addr_state=IN/:\n",
      "gs://dll-data-bucket-11002190840/delta-sample-partitioned/_symlink_format_manifest/addr_state=IN/\n",
      "gs://dll-data-bucket-11002190840/delta-sample-partitioned/_symlink_format_manifest/addr_state=IN/manifest\n",
      "\n",
      "gs://dll-data-bucket-11002190840/delta-sample-partitioned/_symlink_format_manifest/addr_state=KS/:\n",
      "gs://dll-data-bucket-11002190840/delta-sample-partitioned/_symlink_format_manifest/addr_state=KS/\n",
      "gs://dll-data-bucket-11002190840/delta-sample-partitioned/_symlink_format_manifest/addr_state=KS/manifest\n",
      "\n",
      "gs://dll-data-bucket-11002190840/delta-sample-partitioned/_symlink_format_manifest/addr_state=KY/:\n",
      "gs://dll-data-bucket-11002190840/delta-sample-partitioned/_symlink_format_manifest/addr_state=KY/\n",
      "gs://dll-data-bucket-11002190840/delta-sample-partitioned/_symlink_format_manifest/addr_state=KY/manifest\n",
      "\n",
      "gs://dll-data-bucket-11002190840/delta-sample-partitioned/_symlink_format_manifest/addr_state=LA/:\n",
      "gs://dll-data-bucket-11002190840/delta-sample-partitioned/_symlink_format_manifest/addr_state=LA/\n",
      "gs://dll-data-bucket-11002190840/delta-sample-partitioned/_symlink_format_manifest/addr_state=LA/manifest\n",
      "\n",
      "gs://dll-data-bucket-11002190840/delta-sample-partitioned/_symlink_format_manifest/addr_state=MA/:\n",
      "gs://dll-data-bucket-11002190840/delta-sample-partitioned/_symlink_format_manifest/addr_state=MA/\n",
      "gs://dll-data-bucket-11002190840/delta-sample-partitioned/_symlink_format_manifest/addr_state=MA/manifest\n",
      "\n",
      "gs://dll-data-bucket-11002190840/delta-sample-partitioned/_symlink_format_manifest/addr_state=MD/:\n",
      "gs://dll-data-bucket-11002190840/delta-sample-partitioned/_symlink_format_manifest/addr_state=MD/\n",
      "gs://dll-data-bucket-11002190840/delta-sample-partitioned/_symlink_format_manifest/addr_state=MD/manifest\n",
      "\n",
      "gs://dll-data-bucket-11002190840/delta-sample-partitioned/_symlink_format_manifest/addr_state=ME/:\n",
      "gs://dll-data-bucket-11002190840/delta-sample-partitioned/_symlink_format_manifest/addr_state=ME/\n",
      "gs://dll-data-bucket-11002190840/delta-sample-partitioned/_symlink_format_manifest/addr_state=ME/manifest\n",
      "\n",
      "gs://dll-data-bucket-11002190840/delta-sample-partitioned/_symlink_format_manifest/addr_state=MI/:\n",
      "gs://dll-data-bucket-11002190840/delta-sample-partitioned/_symlink_format_manifest/addr_state=MI/\n",
      "gs://dll-data-bucket-11002190840/delta-sample-partitioned/_symlink_format_manifest/addr_state=MI/manifest\n",
      "\n",
      "gs://dll-data-bucket-11002190840/delta-sample-partitioned/_symlink_format_manifest/addr_state=MN/:\n",
      "gs://dll-data-bucket-11002190840/delta-sample-partitioned/_symlink_format_manifest/addr_state=MN/\n",
      "gs://dll-data-bucket-11002190840/delta-sample-partitioned/_symlink_format_manifest/addr_state=MN/manifest\n",
      "\n",
      "gs://dll-data-bucket-11002190840/delta-sample-partitioned/_symlink_format_manifest/addr_state=MO/:\n",
      "gs://dll-data-bucket-11002190840/delta-sample-partitioned/_symlink_format_manifest/addr_state=MO/\n",
      "gs://dll-data-bucket-11002190840/delta-sample-partitioned/_symlink_format_manifest/addr_state=MO/manifest\n",
      "\n",
      "gs://dll-data-bucket-11002190840/delta-sample-partitioned/_symlink_format_manifest/addr_state=MS/:\n",
      "gs://dll-data-bucket-11002190840/delta-sample-partitioned/_symlink_format_manifest/addr_state=MS/\n",
      "gs://dll-data-bucket-11002190840/delta-sample-partitioned/_symlink_format_manifest/addr_state=MS/manifest\n",
      "\n",
      "gs://dll-data-bucket-11002190840/delta-sample-partitioned/_symlink_format_manifest/addr_state=MT/:\n",
      "gs://dll-data-bucket-11002190840/delta-sample-partitioned/_symlink_format_manifest/addr_state=MT/\n",
      "gs://dll-data-bucket-11002190840/delta-sample-partitioned/_symlink_format_manifest/addr_state=MT/manifest\n",
      "\n",
      "gs://dll-data-bucket-11002190840/delta-sample-partitioned/_symlink_format_manifest/addr_state=NC/:\n",
      "gs://dll-data-bucket-11002190840/delta-sample-partitioned/_symlink_format_manifest/addr_state=NC/\n",
      "gs://dll-data-bucket-11002190840/delta-sample-partitioned/_symlink_format_manifest/addr_state=NC/manifest\n",
      "\n",
      "gs://dll-data-bucket-11002190840/delta-sample-partitioned/_symlink_format_manifest/addr_state=ND/:\n",
      "gs://dll-data-bucket-11002190840/delta-sample-partitioned/_symlink_format_manifest/addr_state=ND/\n",
      "gs://dll-data-bucket-11002190840/delta-sample-partitioned/_symlink_format_manifest/addr_state=ND/manifest\n",
      "\n",
      "gs://dll-data-bucket-11002190840/delta-sample-partitioned/_symlink_format_manifest/addr_state=NE/:\n",
      "gs://dll-data-bucket-11002190840/delta-sample-partitioned/_symlink_format_manifest/addr_state=NE/\n",
      "gs://dll-data-bucket-11002190840/delta-sample-partitioned/_symlink_format_manifest/addr_state=NE/manifest\n",
      "\n",
      "gs://dll-data-bucket-11002190840/delta-sample-partitioned/_symlink_format_manifest/addr_state=NH/:\n",
      "gs://dll-data-bucket-11002190840/delta-sample-partitioned/_symlink_format_manifest/addr_state=NH/\n",
      "gs://dll-data-bucket-11002190840/delta-sample-partitioned/_symlink_format_manifest/addr_state=NH/manifest\n",
      "\n",
      "gs://dll-data-bucket-11002190840/delta-sample-partitioned/_symlink_format_manifest/addr_state=NJ/:\n",
      "gs://dll-data-bucket-11002190840/delta-sample-partitioned/_symlink_format_manifest/addr_state=NJ/\n",
      "gs://dll-data-bucket-11002190840/delta-sample-partitioned/_symlink_format_manifest/addr_state=NJ/manifest\n",
      "\n",
      "gs://dll-data-bucket-11002190840/delta-sample-partitioned/_symlink_format_manifest/addr_state=NM/:\n",
      "gs://dll-data-bucket-11002190840/delta-sample-partitioned/_symlink_format_manifest/addr_state=NM/\n",
      "gs://dll-data-bucket-11002190840/delta-sample-partitioned/_symlink_format_manifest/addr_state=NM/manifest\n",
      "\n",
      "gs://dll-data-bucket-11002190840/delta-sample-partitioned/_symlink_format_manifest/addr_state=NV/:\n",
      "gs://dll-data-bucket-11002190840/delta-sample-partitioned/_symlink_format_manifest/addr_state=NV/\n",
      "gs://dll-data-bucket-11002190840/delta-sample-partitioned/_symlink_format_manifest/addr_state=NV/manifest\n",
      "\n",
      "gs://dll-data-bucket-11002190840/delta-sample-partitioned/_symlink_format_manifest/addr_state=NY/:\n",
      "gs://dll-data-bucket-11002190840/delta-sample-partitioned/_symlink_format_manifest/addr_state=NY/\n",
      "gs://dll-data-bucket-11002190840/delta-sample-partitioned/_symlink_format_manifest/addr_state=NY/manifest\n",
      "\n",
      "gs://dll-data-bucket-11002190840/delta-sample-partitioned/_symlink_format_manifest/addr_state=OH/:\n",
      "gs://dll-data-bucket-11002190840/delta-sample-partitioned/_symlink_format_manifest/addr_state=OH/\n",
      "gs://dll-data-bucket-11002190840/delta-sample-partitioned/_symlink_format_manifest/addr_state=OH/manifest\n",
      "\n",
      "gs://dll-data-bucket-11002190840/delta-sample-partitioned/_symlink_format_manifest/addr_state=OK/:\n",
      "gs://dll-data-bucket-11002190840/delta-sample-partitioned/_symlink_format_manifest/addr_state=OK/\n",
      "gs://dll-data-bucket-11002190840/delta-sample-partitioned/_symlink_format_manifest/addr_state=OK/manifest\n",
      "\n",
      "gs://dll-data-bucket-11002190840/delta-sample-partitioned/_symlink_format_manifest/addr_state=OR/:\n",
      "gs://dll-data-bucket-11002190840/delta-sample-partitioned/_symlink_format_manifest/addr_state=OR/\n",
      "gs://dll-data-bucket-11002190840/delta-sample-partitioned/_symlink_format_manifest/addr_state=OR/manifest\n",
      "\n",
      "gs://dll-data-bucket-11002190840/delta-sample-partitioned/_symlink_format_manifest/addr_state=PA/:\n",
      "gs://dll-data-bucket-11002190840/delta-sample-partitioned/_symlink_format_manifest/addr_state=PA/\n",
      "gs://dll-data-bucket-11002190840/delta-sample-partitioned/_symlink_format_manifest/addr_state=PA/manifest\n",
      "\n",
      "gs://dll-data-bucket-11002190840/delta-sample-partitioned/_symlink_format_manifest/addr_state=RI/:\n",
      "gs://dll-data-bucket-11002190840/delta-sample-partitioned/_symlink_format_manifest/addr_state=RI/\n",
      "gs://dll-data-bucket-11002190840/delta-sample-partitioned/_symlink_format_manifest/addr_state=RI/manifest\n",
      "\n",
      "gs://dll-data-bucket-11002190840/delta-sample-partitioned/_symlink_format_manifest/addr_state=SC/:\n",
      "gs://dll-data-bucket-11002190840/delta-sample-partitioned/_symlink_format_manifest/addr_state=SC/\n",
      "gs://dll-data-bucket-11002190840/delta-sample-partitioned/_symlink_format_manifest/addr_state=SC/manifest\n",
      "\n",
      "gs://dll-data-bucket-11002190840/delta-sample-partitioned/_symlink_format_manifest/addr_state=SD/:\n",
      "gs://dll-data-bucket-11002190840/delta-sample-partitioned/_symlink_format_manifest/addr_state=SD/\n",
      "gs://dll-data-bucket-11002190840/delta-sample-partitioned/_symlink_format_manifest/addr_state=SD/manifest\n",
      "\n",
      "gs://dll-data-bucket-11002190840/delta-sample-partitioned/_symlink_format_manifest/addr_state=TN/:\n",
      "gs://dll-data-bucket-11002190840/delta-sample-partitioned/_symlink_format_manifest/addr_state=TN/\n",
      "gs://dll-data-bucket-11002190840/delta-sample-partitioned/_symlink_format_manifest/addr_state=TN/manifest\n",
      "\n",
      "gs://dll-data-bucket-11002190840/delta-sample-partitioned/_symlink_format_manifest/addr_state=TX/:\n",
      "gs://dll-data-bucket-11002190840/delta-sample-partitioned/_symlink_format_manifest/addr_state=TX/\n",
      "gs://dll-data-bucket-11002190840/delta-sample-partitioned/_symlink_format_manifest/addr_state=TX/manifest\n",
      "\n",
      "gs://dll-data-bucket-11002190840/delta-sample-partitioned/_symlink_format_manifest/addr_state=UT/:\n",
      "gs://dll-data-bucket-11002190840/delta-sample-partitioned/_symlink_format_manifest/addr_state=UT/\n",
      "gs://dll-data-bucket-11002190840/delta-sample-partitioned/_symlink_format_manifest/addr_state=UT/manifest\n",
      "\n",
      "gs://dll-data-bucket-11002190840/delta-sample-partitioned/_symlink_format_manifest/addr_state=VA/:\n",
      "gs://dll-data-bucket-11002190840/delta-sample-partitioned/_symlink_format_manifest/addr_state=VA/\n",
      "gs://dll-data-bucket-11002190840/delta-sample-partitioned/_symlink_format_manifest/addr_state=VA/manifest\n",
      "\n",
      "gs://dll-data-bucket-11002190840/delta-sample-partitioned/_symlink_format_manifest/addr_state=VT/:\n",
      "gs://dll-data-bucket-11002190840/delta-sample-partitioned/_symlink_format_manifest/addr_state=VT/\n",
      "gs://dll-data-bucket-11002190840/delta-sample-partitioned/_symlink_format_manifest/addr_state=VT/manifest\n",
      "\n",
      "gs://dll-data-bucket-11002190840/delta-sample-partitioned/_symlink_format_manifest/addr_state=WA/:\n",
      "gs://dll-data-bucket-11002190840/delta-sample-partitioned/_symlink_format_manifest/addr_state=WA/\n",
      "gs://dll-data-bucket-11002190840/delta-sample-partitioned/_symlink_format_manifest/addr_state=WA/manifest\n",
      "\n",
      "gs://dll-data-bucket-11002190840/delta-sample-partitioned/_symlink_format_manifest/addr_state=WI/:\n",
      "gs://dll-data-bucket-11002190840/delta-sample-partitioned/_symlink_format_manifest/addr_state=WI/\n",
      "gs://dll-data-bucket-11002190840/delta-sample-partitioned/_symlink_format_manifest/addr_state=WI/manifest\n",
      "\n",
      "gs://dll-data-bucket-11002190840/delta-sample-partitioned/_symlink_format_manifest/addr_state=WV/:\n",
      "gs://dll-data-bucket-11002190840/delta-sample-partitioned/_symlink_format_manifest/addr_state=WV/\n",
      "gs://dll-data-bucket-11002190840/delta-sample-partitioned/_symlink_format_manifest/addr_state=WV/manifest\n",
      "\n",
      "gs://dll-data-bucket-11002190840/delta-sample-partitioned/_symlink_format_manifest/addr_state=WY/:\n",
      "gs://dll-data-bucket-11002190840/delta-sample-partitioned/_symlink_format_manifest/addr_state=WY/\n",
      "gs://dll-data-bucket-11002190840/delta-sample-partitioned/_symlink_format_manifest/addr_state=WY/manifest\n",
      "\n",
      "gs://dll-data-bucket-11002190840/delta-sample-partitioned/addr_state=AK/:\n",
      "gs://dll-data-bucket-11002190840/delta-sample-partitioned/addr_state=AK/part-00000-c1ca7d3e-1a6f-40f7-87da-3ca1b8240dcc.c000.snappy.parquet\n",
      "\n",
      "gs://dll-data-bucket-11002190840/delta-sample-partitioned/addr_state=AL/:\n",
      "gs://dll-data-bucket-11002190840/delta-sample-partitioned/addr_state=AL/part-00000-6fef5045-3421-47c2-b805-a208a79ff853.c000.snappy.parquet\n",
      "\n",
      "gs://dll-data-bucket-11002190840/delta-sample-partitioned/addr_state=AR/:\n",
      "gs://dll-data-bucket-11002190840/delta-sample-partitioned/addr_state=AR/part-00000-197a8154-a92c-4230-88b8-a5ff3a149918.c000.snappy.parquet\n",
      "\n",
      "gs://dll-data-bucket-11002190840/delta-sample-partitioned/addr_state=AZ/:\n",
      "gs://dll-data-bucket-11002190840/delta-sample-partitioned/addr_state=AZ/part-00000-e71609fd-5310-483c-b468-53290d8d2845.c000.snappy.parquet\n",
      "\n",
      "gs://dll-data-bucket-11002190840/delta-sample-partitioned/addr_state=CA/:\n",
      "gs://dll-data-bucket-11002190840/delta-sample-partitioned/addr_state=CA/part-00000-7a19514c-324b-440b-8c21-553c3d80c992.c000.snappy.parquet\n",
      "\n",
      "gs://dll-data-bucket-11002190840/delta-sample-partitioned/addr_state=CO/:\n",
      "gs://dll-data-bucket-11002190840/delta-sample-partitioned/addr_state=CO/part-00000-4e352b67-bac2-4965-b1f7-b60507c7cb6c.c000.snappy.parquet\n",
      "\n",
      "gs://dll-data-bucket-11002190840/delta-sample-partitioned/addr_state=CT/:\n",
      "gs://dll-data-bucket-11002190840/delta-sample-partitioned/addr_state=CT/part-00000-2f0c670f-8285-48b9-8cd9-c17466908c7f.c000.snappy.parquet\n",
      "\n",
      "gs://dll-data-bucket-11002190840/delta-sample-partitioned/addr_state=DC/:\n",
      "gs://dll-data-bucket-11002190840/delta-sample-partitioned/addr_state=DC/part-00000-523e1993-0516-4cb1-88fa-a42f04cda51e.c000.snappy.parquet\n",
      "\n",
      "gs://dll-data-bucket-11002190840/delta-sample-partitioned/addr_state=DE/:\n",
      "gs://dll-data-bucket-11002190840/delta-sample-partitioned/addr_state=DE/part-00000-49bbb6cb-47db-4da9-a8a0-6292adf4ef6c.c000.snappy.parquet\n",
      "\n",
      "gs://dll-data-bucket-11002190840/delta-sample-partitioned/addr_state=FL/:\n",
      "gs://dll-data-bucket-11002190840/delta-sample-partitioned/addr_state=FL/part-00000-b190b161-6515-4990-b8ac-cf2b1f98aaa7.c000.snappy.parquet\n",
      "\n",
      "gs://dll-data-bucket-11002190840/delta-sample-partitioned/addr_state=GA/:\n",
      "gs://dll-data-bucket-11002190840/delta-sample-partitioned/addr_state=GA/part-00000-45794799-c686-4bb2-8978-62f47cee9209.c000.snappy.parquet\n",
      "\n",
      "gs://dll-data-bucket-11002190840/delta-sample-partitioned/addr_state=HI/:\n",
      "gs://dll-data-bucket-11002190840/delta-sample-partitioned/addr_state=HI/part-00000-305d6f7f-290a-46c0-acf4-d15862377052.c000.snappy.parquet\n",
      "\n",
      "gs://dll-data-bucket-11002190840/delta-sample-partitioned/addr_state=IA/:\n",
      "gs://dll-data-bucket-11002190840/delta-sample-partitioned/addr_state=IA/part-00000-159fe104-3b67-4ad6-82a3-60b92b157b38.c000.snappy.parquet\n",
      "\n",
      "gs://dll-data-bucket-11002190840/delta-sample-partitioned/addr_state=ID/:\n",
      "gs://dll-data-bucket-11002190840/delta-sample-partitioned/addr_state=ID/part-00000-1dee7fe3-86b3-427a-8e7a-351d94d357d9.c000.snappy.parquet\n",
      "\n",
      "gs://dll-data-bucket-11002190840/delta-sample-partitioned/addr_state=IL/:\n",
      "gs://dll-data-bucket-11002190840/delta-sample-partitioned/addr_state=IL/part-00000-57b250ad-e6c4-4fe0-a6ee-d50d1e4c1044.c000.snappy.parquet\n",
      "\n",
      "gs://dll-data-bucket-11002190840/delta-sample-partitioned/addr_state=IN/:\n",
      "gs://dll-data-bucket-11002190840/delta-sample-partitioned/addr_state=IN/part-00000-9c1ee1c6-cc36-48a3-8546-8c9a750b9fe6.c000.snappy.parquet\n",
      "\n",
      "gs://dll-data-bucket-11002190840/delta-sample-partitioned/addr_state=KS/:\n",
      "gs://dll-data-bucket-11002190840/delta-sample-partitioned/addr_state=KS/part-00000-19ceac6f-c786-45c4-be99-bcdee6fbf347.c000.snappy.parquet\n",
      "\n",
      "gs://dll-data-bucket-11002190840/delta-sample-partitioned/addr_state=KY/:\n",
      "gs://dll-data-bucket-11002190840/delta-sample-partitioned/addr_state=KY/part-00000-89c20e5d-459e-4f8c-837c-5301c807f36a.c000.snappy.parquet\n",
      "\n",
      "gs://dll-data-bucket-11002190840/delta-sample-partitioned/addr_state=LA/:\n",
      "gs://dll-data-bucket-11002190840/delta-sample-partitioned/addr_state=LA/part-00000-46d76a57-c932-4e10-9592-6ef970514cec.c000.snappy.parquet\n",
      "\n",
      "gs://dll-data-bucket-11002190840/delta-sample-partitioned/addr_state=MA/:\n",
      "gs://dll-data-bucket-11002190840/delta-sample-partitioned/addr_state=MA/part-00000-acc9d235-476f-43f1-80b6-92ef64c601da.c000.snappy.parquet\n",
      "\n",
      "gs://dll-data-bucket-11002190840/delta-sample-partitioned/addr_state=MD/:\n",
      "gs://dll-data-bucket-11002190840/delta-sample-partitioned/addr_state=MD/part-00000-99c6c6c5-6259-4745-8a3f-2bc79aa9ef51.c000.snappy.parquet\n",
      "\n",
      "gs://dll-data-bucket-11002190840/delta-sample-partitioned/addr_state=ME/:\n",
      "gs://dll-data-bucket-11002190840/delta-sample-partitioned/addr_state=ME/part-00000-020ccc40-d592-4ef5-9d8a-de2431d01096.c000.snappy.parquet\n",
      "\n",
      "gs://dll-data-bucket-11002190840/delta-sample-partitioned/addr_state=MI/:\n",
      "gs://dll-data-bucket-11002190840/delta-sample-partitioned/addr_state=MI/part-00000-b12c4cf0-b1b7-4221-bdba-2063a98d71db.c000.snappy.parquet\n",
      "\n",
      "gs://dll-data-bucket-11002190840/delta-sample-partitioned/addr_state=MN/:\n",
      "gs://dll-data-bucket-11002190840/delta-sample-partitioned/addr_state=MN/part-00000-e5508966-0c5d-4a47-bb22-4782576e9c82.c000.snappy.parquet\n",
      "\n",
      "gs://dll-data-bucket-11002190840/delta-sample-partitioned/addr_state=MO/:\n",
      "gs://dll-data-bucket-11002190840/delta-sample-partitioned/addr_state=MO/part-00000-8b31fe3d-8bd4-4d9c-a344-8deaa730e106.c000.snappy.parquet\n",
      "\n",
      "gs://dll-data-bucket-11002190840/delta-sample-partitioned/addr_state=MS/:\n",
      "gs://dll-data-bucket-11002190840/delta-sample-partitioned/addr_state=MS/part-00000-eb47dd5d-1e52-4e94-82e7-f83e56e6ef1e.c000.snappy.parquet\n",
      "\n",
      "gs://dll-data-bucket-11002190840/delta-sample-partitioned/addr_state=MT/:\n",
      "gs://dll-data-bucket-11002190840/delta-sample-partitioned/addr_state=MT/part-00000-94803240-8152-49ed-94bc-cb762312e3b0.c000.snappy.parquet\n",
      "\n",
      "gs://dll-data-bucket-11002190840/delta-sample-partitioned/addr_state=NC/:\n",
      "gs://dll-data-bucket-11002190840/delta-sample-partitioned/addr_state=NC/part-00000-430624b5-f8a0-4924-9b79-7d51527199f2.c000.snappy.parquet\n",
      "\n",
      "gs://dll-data-bucket-11002190840/delta-sample-partitioned/addr_state=ND/:\n",
      "gs://dll-data-bucket-11002190840/delta-sample-partitioned/addr_state=ND/part-00000-7380341d-66ec-443e-a954-4d8616f9192f.c000.snappy.parquet\n",
      "\n",
      "gs://dll-data-bucket-11002190840/delta-sample-partitioned/addr_state=NE/:\n",
      "gs://dll-data-bucket-11002190840/delta-sample-partitioned/addr_state=NE/part-00000-6067e847-3fe1-4369-8ed6-d0767318b025.c000.snappy.parquet\n",
      "\n",
      "gs://dll-data-bucket-11002190840/delta-sample-partitioned/addr_state=NH/:\n",
      "gs://dll-data-bucket-11002190840/delta-sample-partitioned/addr_state=NH/part-00000-449d4968-82bc-4459-8f55-decc1664fbb7.c000.snappy.parquet\n",
      "\n",
      "gs://dll-data-bucket-11002190840/delta-sample-partitioned/addr_state=NJ/:\n",
      "gs://dll-data-bucket-11002190840/delta-sample-partitioned/addr_state=NJ/part-00000-e89ac64d-7802-49ec-8d9b-5de3cf67f7f2.c000.snappy.parquet\n",
      "\n",
      "gs://dll-data-bucket-11002190840/delta-sample-partitioned/addr_state=NM/:\n",
      "gs://dll-data-bucket-11002190840/delta-sample-partitioned/addr_state=NM/part-00000-d6ef360e-88bb-4907-930e-c435e48445d0.c000.snappy.parquet\n",
      "\n",
      "gs://dll-data-bucket-11002190840/delta-sample-partitioned/addr_state=NV/:\n",
      "gs://dll-data-bucket-11002190840/delta-sample-partitioned/addr_state=NV/part-00000-b75d3aae-af49-4d0e-b4d6-16023a87dec1.c000.snappy.parquet\n",
      "\n",
      "gs://dll-data-bucket-11002190840/delta-sample-partitioned/addr_state=NY/:\n",
      "gs://dll-data-bucket-11002190840/delta-sample-partitioned/addr_state=NY/part-00000-a7dbf3a4-f2d0-4b47-8c0a-a5429edcc169.c000.snappy.parquet\n",
      "\n",
      "gs://dll-data-bucket-11002190840/delta-sample-partitioned/addr_state=OH/:\n",
      "gs://dll-data-bucket-11002190840/delta-sample-partitioned/addr_state=OH/part-00000-d8d8da3f-d9c7-46c5-a963-5e66c20f13a3.c000.snappy.parquet\n",
      "\n",
      "gs://dll-data-bucket-11002190840/delta-sample-partitioned/addr_state=OK/:\n",
      "gs://dll-data-bucket-11002190840/delta-sample-partitioned/addr_state=OK/part-00000-948c8baa-3400-41dd-9606-02caf2031927.c000.snappy.parquet\n",
      "\n",
      "gs://dll-data-bucket-11002190840/delta-sample-partitioned/addr_state=OR/:\n",
      "gs://dll-data-bucket-11002190840/delta-sample-partitioned/addr_state=OR/part-00000-af7ed5bf-c363-47af-b2cb-8bad624cd278.c000.snappy.parquet\n",
      "\n",
      "gs://dll-data-bucket-11002190840/delta-sample-partitioned/addr_state=PA/:\n",
      "gs://dll-data-bucket-11002190840/delta-sample-partitioned/addr_state=PA/part-00000-e0e6b7aa-3ff3-4cf8-9129-079cd03850a4.c000.snappy.parquet\n",
      "\n",
      "gs://dll-data-bucket-11002190840/delta-sample-partitioned/addr_state=RI/:\n",
      "gs://dll-data-bucket-11002190840/delta-sample-partitioned/addr_state=RI/part-00000-acf3ad9a-210e-4422-8900-e4860adc706e.c000.snappy.parquet\n",
      "\n",
      "gs://dll-data-bucket-11002190840/delta-sample-partitioned/addr_state=SC/:\n",
      "gs://dll-data-bucket-11002190840/delta-sample-partitioned/addr_state=SC/part-00000-48176018-92fd-45fa-a28f-acb2fbdfe8e0.c000.snappy.parquet\n",
      "\n",
      "gs://dll-data-bucket-11002190840/delta-sample-partitioned/addr_state=SD/:\n",
      "gs://dll-data-bucket-11002190840/delta-sample-partitioned/addr_state=SD/part-00000-fb020f7a-1e97-45d4-944a-83f1bd23fb56.c000.snappy.parquet\n",
      "\n",
      "gs://dll-data-bucket-11002190840/delta-sample-partitioned/addr_state=TN/:\n",
      "gs://dll-data-bucket-11002190840/delta-sample-partitioned/addr_state=TN/part-00000-37f28e51-97ca-4e02-8559-86a36ef873f8.c000.snappy.parquet\n",
      "\n",
      "gs://dll-data-bucket-11002190840/delta-sample-partitioned/addr_state=TX/:\n",
      "gs://dll-data-bucket-11002190840/delta-sample-partitioned/addr_state=TX/part-00000-d10c65b0-3ea3-4be3-b8f7-099d781c629d.c000.snappy.parquet\n",
      "\n",
      "gs://dll-data-bucket-11002190840/delta-sample-partitioned/addr_state=UT/:\n",
      "gs://dll-data-bucket-11002190840/delta-sample-partitioned/addr_state=UT/part-00000-31495613-9a2c-4eaa-99b1-9986e1889af2.c000.snappy.parquet\n",
      "\n",
      "gs://dll-data-bucket-11002190840/delta-sample-partitioned/addr_state=VA/:\n",
      "gs://dll-data-bucket-11002190840/delta-sample-partitioned/addr_state=VA/part-00000-c03f19da-b1cc-4afa-96c5-b97a2700f0aa.c000.snappy.parquet\n",
      "\n",
      "gs://dll-data-bucket-11002190840/delta-sample-partitioned/addr_state=VT/:\n",
      "gs://dll-data-bucket-11002190840/delta-sample-partitioned/addr_state=VT/part-00000-f154e79e-eb48-4f4e-a978-9a5c9cce3de5.c000.snappy.parquet\n",
      "\n",
      "gs://dll-data-bucket-11002190840/delta-sample-partitioned/addr_state=WA/:\n",
      "gs://dll-data-bucket-11002190840/delta-sample-partitioned/addr_state=WA/part-00000-ba101355-852b-429e-a09f-dd1936c1670e.c000.snappy.parquet\n",
      "\n",
      "gs://dll-data-bucket-11002190840/delta-sample-partitioned/addr_state=WI/:\n",
      "gs://dll-data-bucket-11002190840/delta-sample-partitioned/addr_state=WI/part-00000-9b3104ac-73b0-4864-a6ce-33b0fa1bbafd.c000.snappy.parquet\n",
      "\n",
      "gs://dll-data-bucket-11002190840/delta-sample-partitioned/addr_state=WV/:\n",
      "gs://dll-data-bucket-11002190840/delta-sample-partitioned/addr_state=WV/part-00000-5c3c5e7b-aa55-48e7-8879-c7ad8af2a754.c000.snappy.parquet\n",
      "\n",
      "gs://dll-data-bucket-11002190840/delta-sample-partitioned/addr_state=WY/:\n",
      "gs://dll-data-bucket-11002190840/delta-sample-partitioned/addr_state=WY/part-00000-87222acb-335f-46d5-9d63-4d821b2804f2.c000.snappy.parquet\n"
     ]
    }
   ],
   "source": [
    "!gsutil ls -r $PARTITIONED_DELTA_LAKE_DIR "
   ]
  },
  {
   "cell_type": "markdown",
   "id": "4890619a-01f3-4fc3-b832-f3b0acde0e47",
   "metadata": {},
   "source": [
    "### 5. Function to send DDL/DML commands to BigQuery using its SDK"
   ]
  },
  {
   "cell_type": "code",
   "execution_count": 13,
   "id": "5f3e6230-3ff3-4db0-9b6d-cd23a93da400",
   "metadata": {},
   "outputs": [],
   "source": [
    "# Wrapper to use BigQuery client to run query/job, return job ID or result as DF\n",
    "def fn_execute_bq_statement(sql, show_job_id=False):\n",
    "    \"\"\"\n",
    "    Input: SQL query, as a string, to execute in BigQuery\n",
    "    Returns the query results as a pandas DataFrame, or error, if any\n",
    "    \"\"\"\n",
    "\n",
    "    # Try dry run before executing query to catch any errors\n",
    "    try:\n",
    "        job_config = bigquery.QueryJobConfig(dry_run=True, use_query_cache=False)\n",
    "\n",
    "        bq_client.query(sql, job_config=job_config)\n",
    "\n",
    "    except BadRequest as err:\n",
    "        print(err)\n",
    "        return\n",
    "\n",
    "    job_config = bigquery.QueryJobConfig()\n",
    "    client_result = bq_client.query(sql, job_config=job_config)\n",
    "\n",
    "    job_id = client_result.job_id\n",
    "\n",
    "    # Wait for query/job to finish running, then get & return data frame\n",
    "    df = client_result.result().to_dataframe()\n",
    "\n",
    "    if show_job_id:\n",
    "        print(f\"Finished job_id: {job_id}\")\n",
    "\n",
    "    return df"
   ]
  },
  {
   "cell_type": "code",
   "execution_count": 14,
   "id": "d3655128-dca9-4b76-b005-c4c4baa9ffa1",
   "metadata": {},
   "outputs": [],
   "source": [
    "# Instantiate the BigQuery client\n",
    "bq_client = bigquery.Client(project=PROJECT_ID)"
   ]
  },
  {
   "cell_type": "markdown",
   "id": "78e7c633-f34c-4da1-b7cb-250f94b5d3cc",
   "metadata": {
    "tags": []
   },
   "source": [
    "### 6. Create and query a BigLake table on the unpartitioned Delta Lake table manifest"
   ]
  },
  {
   "cell_type": "markdown",
   "id": "762705dc-a724-4b08-881c-08f7b6b560bc",
   "metadata": {},
   "source": [
    "#### 6.1. Review the dataset in Spark"
   ]
  },
  {
   "cell_type": "code",
   "execution_count": 15,
   "id": "b291a3a0-9b12-4234-9a6b-52c7f982637a",
   "metadata": {},
   "outputs": [
    {
     "name": "stderr",
     "output_type": "stream",
     "text": [
      "                                                                                \r"
     ]
    },
    {
     "name": "stdout",
     "output_type": "stream",
     "text": [
      "+----------+-----+\n",
      "|addr_state|count|\n",
      "+----------+-----+\n",
      "|AK        |1    |\n",
      "|AL        |1    |\n",
      "+----------+-----+\n",
      "\n"
     ]
    }
   ],
   "source": [
    "spark.sql(\"SELECT * FROM loan_db.loans_by_state_delta LIMIT 2\").show(truncate=False)"
   ]
  },
  {
   "cell_type": "markdown",
   "id": "b8c09661-a020-4bbb-bc3b-baef836bb867",
   "metadata": {
    "tags": []
   },
   "source": [
    "#### 6.2. Create BigLake table DDL "
   ]
  },
  {
   "cell_type": "code",
   "execution_count": 16,
   "id": "aa6fc2eb-8017-4fc6-9688-4a7414bf5369",
   "metadata": {
    "tags": []
   },
   "outputs": [
    {
     "name": "stdout",
     "output_type": "stream",
     "text": [
      "CREATE OR REPLACE EXTERNAL TABLE delta_dataset.loans_deltalake_unpartitioned WITH\n",
      "CONNECTION `us.biglake-connection`\n",
      "OPTIONS (format=\"PARQUET\", uris=[\"gs://dll-data-bucket-11002190840/delta-consumable/_symlink_format_manifest/manifest\"],file_set_spec_type = 'NEW_LINE_DELIMITED_MANIFEST',max_staleness = INTERVAL 1 DAY,metadata_cache_mode = 'AUTOMATIC');\n"
     ]
    }
   ],
   "source": [
    "DATASET = 'delta_dataset'\n",
    "CONNECTION = 'us.biglake-connection'\n",
    "TABLE_NAME = 'loans_deltalake_unpartitioned'\n",
    "URI = 'gs://dll-data-bucket-' + PROJECT_NUMBER + '/delta-consumable/_symlink_format_manifest/manifest'\n",
    "BIGLAKE_DDL = 'CREATE OR REPLACE EXTERNAL TABLE ' + DATASET + '.' + TABLE_NAME + ' ' + \\\n",
    "        'WITH CONNECTION `' +  CONNECTION + '` ' + \\\n",
    "        'OPTIONS (' + \\\n",
    "        'format=\"PARQUET\", ' + \\\n",
    "        'uris=[\"' + URI + '\"],' + \\\n",
    "        'file_set_spec_type = \\'NEW_LINE_DELIMITED_MANIFEST\\',' + \\\n",
    "        'max_staleness = INTERVAL 1 DAY,' + \\\n",
    "        'metadata_cache_mode = \\'AUTOMATIC\\'' + \\\n",
    "        ');'\n",
    "\n",
    "\n",
    "print(sqlparse.format(BIGLAKE_DDL, reindent_aligned = True, keyword_case='upper'))"
   ]
  },
  {
   "cell_type": "markdown",
   "id": "6516d10a-eb48-4f4e-8f63-e8ef0fdbe527",
   "metadata": {},
   "source": [
    "#### 6.3. Create the BigLake unpartitioned manifest based Delta Lake table"
   ]
  },
  {
   "cell_type": "code",
   "execution_count": 17,
   "id": "3bd4b5e7-0138-4cc0-9d20-e295e8215f80",
   "metadata": {},
   "outputs": [
    {
     "name": "stdout",
     "output_type": "stream",
     "text": [
      "Empty DataFrame\n",
      "Columns: []\n",
      "Index: []\n"
     ]
    }
   ],
   "source": [
    "# You can execute the SQL in the BQ UI; The following shows how to create the table using the BQ Python SDK; Returns a Pandas dataframe\n",
    "PDF = fn_execute_bq_statement(BIGLAKE_DDL)\n",
    "print(PDF)"
   ]
  },
  {
   "cell_type": "markdown",
   "id": "b163a11e-8070-44e1-8c92-0fb6fa7b056f",
   "metadata": {
    "tags": []
   },
   "source": [
    "#### 6.4. Run a query against the BigLake unpartitioned Delta Lake table using the BigQuery Python SDK"
   ]
  },
  {
   "cell_type": "code",
   "execution_count": 18,
   "id": "0d3ca03d-8e31-4e14-b4e9-0fdceca8aa16",
   "metadata": {},
   "outputs": [
    {
     "name": "stdout",
     "output_type": "stream",
     "text": [
      "   addr_state  count\n",
      "0          AK      1\n",
      "1          AL      1\n",
      "2          AR      1\n",
      "3          AZ      1\n",
      "4          CA  12345\n",
      "5          CO      1\n",
      "6          CT      1\n",
      "7          DC      1\n",
      "8          DE      1\n",
      "9          FL      1\n",
      "10         GA      1\n",
      "11         HI      1\n",
      "12         IA    555\n",
      "13         ID      1\n",
      "14         IL      1\n",
      "15         IN   6666\n",
      "16         KS      1\n",
      "17         KY      1\n",
      "18         LA      1\n",
      "19         MA      1\n",
      "20         MD      1\n",
      "21         ME      1\n",
      "22         MI      1\n",
      "23         MN      1\n",
      "24         MO      1\n",
      "25         MS      1\n",
      "26         MT      1\n",
      "27         NC      1\n",
      "28         ND      1\n",
      "29         NE      1\n",
      "30         NH      1\n",
      "31         NJ      1\n",
      "32         NM      1\n",
      "33         NV      1\n",
      "34         NY      1\n",
      "35         OH      1\n",
      "36         OK      1\n",
      "37         OR      1\n",
      "38         PA      1\n",
      "39         RI      1\n",
      "40         SC      1\n",
      "41         SD      1\n",
      "42         TN      1\n",
      "43         TX      1\n",
      "44         UT      1\n",
      "45         VA      1\n",
      "46         VT      1\n",
      "47         WA      1\n",
      "48         WI      1\n",
      "49         WV      1\n",
      "50         WY      1\n"
     ]
    }
   ],
   "source": [
    "BIGLAKE_SELECT_SQL = 'select addr_state,count from '  + DATASET + '.' + TABLE_NAME + ' order by addr_state ASC;'\n",
    "PDF = fn_execute_bq_statement(BIGLAKE_SELECT_SQL)\n",
    "print(PDF)"
   ]
  },
  {
   "cell_type": "markdown",
   "id": "250d3d40-b52c-41d4-86fe-f40db0b69522",
   "metadata": {},
   "source": [
    "### 7. Create and query a BigLake table on the partitioned Delta Lake table manifest"
   ]
  },
  {
   "cell_type": "markdown",
   "id": "2f1b21e2-b7d1-455a-b75f-c320b8065096",
   "metadata": {},
   "source": [
    "#### 7.1. Create an external table in Spark on the data and explore it"
   ]
  },
  {
   "cell_type": "code",
   "execution_count": 19,
   "id": "c44fb756-1fbb-45b0-85f2-6f77da69a82a",
   "metadata": {},
   "outputs": [
    {
     "name": "stdout",
     "output_type": "stream",
     "text": [
      "++\n",
      "||\n",
      "++\n",
      "++\n",
      "\n"
     ]
    },
    {
     "name": "stderr",
     "output_type": "stream",
     "text": [
      "23/12/03 01:15:26 WARN HiveExternalCatalog: Couldn't find corresponding Hive SerDe for data source provider delta. Persisting data source table `spark_catalog`.`loan_db`.`loans_by_state_delta_partitioned` into Hive metastore in Spark SQL specific format, which is NOT compatible with Hive.\n",
      "23/12/03 01:15:27 WARN SessionState: METASTORE_FILTER_HOOK will be ignored, since hive.security.authorization.manager is set to instance of HiveAuthorizerFactory.\n"
     ]
    },
    {
     "name": "stdout",
     "output_type": "stream",
     "text": [
      "++\n",
      "||\n",
      "++\n",
      "++\n",
      "\n",
      "+---------+----------------------------------+-----------+\n",
      "|namespace|tableName                         |isTemporary|\n",
      "+---------+----------------------------------+-----------+\n",
      "|loan_db  |loans_by_state_delta              |false      |\n",
      "|loan_db  |loans_by_state_delta_clone_shallow|false      |\n",
      "|loan_db  |loans_by_state_delta_partitioned  |false      |\n",
      "|loan_db  |loans_by_state_parquet            |false      |\n",
      "|loan_db  |loans_cleansed_parquet            |false      |\n",
      "+---------+----------------------------------+-----------+\n",
      "\n"
     ]
    }
   ],
   "source": [
    "# Define external delta table definition\n",
    "spark.sql(\"DROP TABLE IF EXISTS loan_db.loans_by_state_delta_partitioned;\").show(truncate=False)\n",
    "spark.sql(f\"CREATE TABLE loan_db.loans_by_state_delta_partitioned USING delta LOCATION \\\"{PARTITIONED_DELTA_LAKE_DIR}\\\"\").show(truncate=False)\n",
    "spark.sql(\"SHOW TABLES IN loan_db\").show(truncate=False)"
   ]
  },
  {
   "cell_type": "markdown",
   "id": "77b75231-0408-4041-8423-9d76806d1a03",
   "metadata": {},
   "source": [
    "#### 7.2. Explore the table data in Spark"
   ]
  },
  {
   "cell_type": "code",
   "execution_count": 20,
   "id": "c7e0fce0-c23d-4a97-9d5b-f73e8d7a1b34",
   "metadata": {},
   "outputs": [
    {
     "name": "stderr",
     "output_type": "stream",
     "text": [
      "                                                                                \r"
     ]
    },
    {
     "name": "stdout",
     "output_type": "stream",
     "text": [
      "+----------+-----+\n",
      "|addr_state|count|\n",
      "+----------+-----+\n",
      "|ME        |1    |\n",
      "|KY        |1    |\n",
      "|AK        |1    |\n",
      "|NM        |1    |\n",
      "|IN        |1    |\n",
      "+----------+-----+\n",
      "\n"
     ]
    }
   ],
   "source": [
    "spark.sql(f\"SELECT * FROM loan_db.loans_by_state_delta_partitioned LIMIT 5\").show(truncate=False)"
   ]
  },
  {
   "cell_type": "markdown",
   "id": "47c4b87e-7aa2-4eb3-bfb9-f2c4aaba7224",
   "metadata": {
    "tags": []
   },
   "source": [
    "#### 7.3. Create a BigLake table defintion"
   ]
  },
  {
   "cell_type": "code",
   "execution_count": 24,
   "id": "93fb8dc1-4a76-4a6c-acf5-a60cebb9436d",
   "metadata": {},
   "outputs": [
    {
     "name": "stdout",
     "output_type": "stream",
     "text": [
      "CREATE OR REPLACE EXTERNAL TABLE delta_dataset.loans_deltalake_partitioned WITH\n",
      "PARTITION COLUMNS(addr_state STRING) WITH\n",
      "CONNECTION `us.biglake-connection`\n",
      "OPTIONS (format=\"PARQUET\", hive_partition_uri_prefix=\"gs://dll-data-bucket-11002190840/delta-sample-partitioned\", uris=[\"gs://dll-data-bucket-11002190840/delta-sample-partitioned/_symlink_format_manifest/*/manifest\"],file_set_spec_type = 'NEW_LINE_DELIMITED_MANIFEST',max_staleness = INTERVAL 1 DAY,metadata_cache_mode = 'AUTOMATIC');\n"
     ]
    }
   ],
   "source": [
    "DATASET = 'delta_dataset'\n",
    "CONNECTION = 'us.biglake-connection'\n",
    "TABLE_NAME = 'loans_deltalake_partitioned'\n",
    "URI = 'gs://dll-data-bucket-' + PROJECT_NUMBER + '/delta-sample-partitioned/_symlink_format_manifest/*/manifest'\n",
    "BIGLAKE_PARTITIONED_TABLE_DDL = 'CREATE OR REPLACE EXTERNAL TABLE ' + DATASET + '.' + TABLE_NAME + ' ' + \\\n",
    "        'WITH PARTITION COLUMNS(addr_state STRING)' + ' ' + \\\n",
    "        'WITH CONNECTION `' +  CONNECTION + '` ' + \\\n",
    "        'OPTIONS (' + \\\n",
    "        'format=\"PARQUET\", ' + \\\n",
    "        'hive_partition_uri_prefix=\"' + PARTITIONED_DELTA_LAKE_DIR + '\", ' + \\\n",
    "        'uris=[\"' + URI + '\"],' + \\\n",
    "        'file_set_spec_type = \\'NEW_LINE_DELIMITED_MANIFEST\\',' + \\\n",
    "        'max_staleness = INTERVAL 1 DAY,' + \\\n",
    "        'metadata_cache_mode = \\'AUTOMATIC\\'' + \\\n",
    "        ');'\n",
    "\n",
    "\n",
    "\n",
    "print(sqlparse.format(BIGLAKE_PARTITIONED_TABLE_DDL, reindent_aligned = True, keyword_case='upper'))"
   ]
  },
  {
   "cell_type": "markdown",
   "id": "1b00c367-f445-4b48-82ef-c155ae547049",
   "metadata": {},
   "source": [
    "#### 7.4. Create the BigLake partitioned manifest based Delta Lake table"
   ]
  },
  {
   "cell_type": "code",
   "execution_count": 25,
   "id": "d16b50e9-8ed6-4a99-a2d2-7dbe87e8e4c4",
   "metadata": {},
   "outputs": [
    {
     "name": "stdout",
     "output_type": "stream",
     "text": [
      "Empty DataFrame\n",
      "Columns: []\n",
      "Index: []\n"
     ]
    }
   ],
   "source": [
    "# You can execute the SQL in the BQ UI; The following shows how to create the table using the BQ Python SDK; Returns a Pandas dataframe\n",
    "PDF = fn_execute_bq_statement(BIGLAKE_PARTITIONED_TABLE_DDL)\n",
    "print(PDF)"
   ]
  },
  {
   "cell_type": "markdown",
   "id": "a0705c82-df38-4719-ba1f-9c9b41f0f3fa",
   "metadata": {
    "tags": []
   },
   "source": [
    "#### 7.5. Run a query against the BigLake partitioned Delta Lake table using the BigQuery Python SDK"
   ]
  },
  {
   "cell_type": "code",
   "execution_count": 26,
   "id": "75278b60-d8b6-4b39-b7ed-a0fe70d2d919",
   "metadata": {},
   "outputs": [
    {
     "name": "stdout",
     "output_type": "stream",
     "text": [
      "select addr_state,count from delta_dataset.loans_deltalake_partitioned LIMIT 5;\n",
      "  addr_state  count\n",
      "0         AR      1\n",
      "1         AZ      1\n",
      "2         CO      1\n",
      "3         AK      1\n",
      "4         CA      1\n"
     ]
    }
   ],
   "source": [
    "BIGLAKE_SELECT_SQL = 'select addr_state,count from '  + DATASET + '.' + TABLE_NAME + ' LIMIT 5;'\n",
    "print(BIGLAKE_SELECT_SQL)\n",
    "PDF = fn_execute_bq_statement(BIGLAKE_SELECT_SQL)\n",
    "print(PDF)"
   ]
  },
  {
   "cell_type": "markdown",
   "id": "e3e82375-f053-458b-bd5a-c4414b832f29",
   "metadata": {},
   "source": [
    "### THIS CONCLUDES THIS UNIT. PROCEED TO THE NEXT NOTEBOOK"
   ]
  }
 ],
 "metadata": {
  "language_info": {
   "codemirror_mode": {
    "name": "ipython",
    "version": 3
   },
   "file_extension": ".py",
   "mimetype": "text/x-python",
   "name": "python",
   "nbconvert_exporter": "python",
   "pygments_lexer": "ipython3",
   "version": "3.11.0"
  },
  "serverless_spark": "{\"name\":\"projects/delta-lake-diy-lab/locations/us-central1/sessions/delta-lake-lab-17460\",\"uuid\":\"7496b9aa-c1b2-4af0-b19a-eed494ea3479\",\"createTime\":\"2023-12-02T23:10:14.351363Z\",\"jupyterSession\":{},\"runtimeInfo\":{\"endpoints\":{\"Spark History Server\":\"https://in7kggl6mfcxxdldiezehugb4i-dot-us-central1.dataproc.googleusercontent.com/sparkhistory/\",\"BYOID Spark History Server\":\"https://in7kggl6mfcxxdldiezehugb4i-dot-us-central1.dataproc.byoid.googleusercontent.com/sparkhistory/\"}},\"state\":\"ACTIVE\",\"stateTime\":\"2023-12-02T23:13:27.294546Z\",\"creator\":\"admin@akhanolkar.altostrat.com\",\"runtimeConfig\":{\"version\":\"2.1.27\",\"properties\":{\"spark:spark.jars.packages\":\"io.delta:delta-core_2.13:2.4.0\",\"spark:spark.sql.catalog.spark_catalog\":\"org.apache.spark.sql.delta.catalog.DeltaCatalog\",\"spark:spark.sql.extensions\":\"io.delta.sql.DeltaSparkSessionExtension\",\"spark:spark.executor.instances\":\"2\",\"spark:spark.driver.cores\":\"4\",\"spark:spark.driver.memory\":\"9600m\",\"spark:spark.executor.cores\":\"4\",\"spark:spark.executor.memory\":\"9600m\",\"spark:spark.dynamicAllocation.executorAllocationRatio\":\"0.3\",\"spark:spark.eventLog.dir\":\"gs://dll-sphs-bucket-11002190840/7496b9aa-c1b2-4af0-b19a-eed494ea3479/spark-job-history\"}},\"environmentConfig\":{\"executionConfig\":{\"serviceAccount\":\"dll-lab-sa@delta-lake-diy-lab.iam.gserviceaccount.com\",\"subnetworkUri\":\"spark-snet\",\"idleTtl\":\"3600s\",\"ttl\":\"86400s\"},\"peripheralsConfig\":{\"metastoreService\":\"projects/delta-lake-diy-lab/locations/us-central1/services/dll-hms-11002190840\",\"sparkHistoryServerConfig\":{\"dataprocCluster\":\"projects/delta-lake-diy-lab/regions/us-central1/clusters/dll-sphs-11002190840\"}}},\"stateHistory\":[{\"state\":\"CREATING\",\"stateStartTime\":\"2023-12-02T23:10:14.351363Z\"}]}",
  "serverless_spark_kernel_name": "remote-d973f900c0bcdc8a7fcee568-pyspark",
  "vscode": {
   "interpreter": {
    "hash": "aee8b7b246df8f9039afb4144a1f6fd8d2ca17a180786b69acc140d282b71a49"
   }
  }
 },
 "nbformat": 4,
 "nbformat_minor": 5
}
